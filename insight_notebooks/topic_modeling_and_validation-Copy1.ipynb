{
 "cells": [
  {
   "cell_type": "code",
   "execution_count": 1,
   "metadata": {},
   "outputs": [
    {
     "name": "stderr",
     "output_type": "stream",
     "text": [
      "[nltk_data] Downloading package punkt to /home/clutch/nltk_data...\n",
      "[nltk_data]   Package punkt is already up-to-date!\n",
      "/home/clutch/anaconda3/envs/insight/lib/python3.7/site-packages/sqlalchemy/sql/functions.py:68: SAWarning: The GenericFunction 'array_agg' is already registered and is going to be overriden.\n",
      "  \"is going to be overriden.\".format(identifier))\n"
     ]
    }
   ],
   "source": [
    "%matplotlib inline\n",
    "\n",
    "import os\n",
    "import re\n",
    "import numpy as np\n",
    "import pandas as pd\n",
    "import gensim\n",
    "from collections import Counter\n",
    "from nltk.corpus import stopwords\n",
    "import nltk\n",
    "nltk.download('punkt')\n",
    "from gensim.corpora import Dictionary\n",
    "from sklearn.preprocessing import LabelEncoder\n",
    "from sklearn.feature_extraction.text import TfidfVectorizer\n",
    "from sklearn.feature_selection import chi2\n",
    "from sklearn.model_selection import cross_val_score\n",
    "\n",
    "# modeling imports\n",
    "from gensim.models.ldamulticore import LdaMulticore\n",
    "from gensim.models.word2vec import Word2Vec\n",
    "from sklearn.ensemble import RandomForestClassifier\n",
    "from sklearn.linear_model import LogisticRegression\n",
    "from sklearn.svm import SVC\n",
    "from sklearn.model_selection import GridSearchCV\n",
    "from sklearn.pipeline import Pipeline\n",
    "\n",
    "from sklearn.model_selection import train_test_split\n",
    "from sklearn.feature_extraction.text import CountVectorizer\n",
    "from sklearn.feature_extraction.text import TfidfTransformer\n",
    "from sklearn.naive_bayes import MultinomialNB\n",
    "\n",
    "from sklearn import metrics\n",
    "\n",
    "# store models\n",
    "import pickle\n",
    "\n",
    "# visualization imports\n",
    "from sklearn.metrics import confusion_matrix\n",
    "from IPython.display import display\n",
    "import seaborn as sns\n",
    "import matplotlib.pyplot as plt\n",
    "import matplotlib.image as mpimg\n",
    "import base64\n",
    "sns.set()\n",
    "\n",
    "# database imports\n",
    "from sqlalchemy import create_engine\n",
    "from sqlalchemy_utils import create_database, database_exists, drop_database\n",
    "import psycopg2\n",
    "from psycopg2.extensions import ISOLATION_LEVEL_AUTOCOMMIT"
   ]
  },
  {
   "cell_type": "markdown",
   "metadata": {},
   "source": [
    "### Locate PostgreSQL Key and Connect to DB"
   ]
  },
  {
   "cell_type": "code",
   "execution_count": 2,
   "metadata": {},
   "outputs": [],
   "source": [
    "# # using function from \"Keeping API Keys Secret.ipynb\"\n",
    "# # by https://github.com/dylburger\n",
    "# def get_file_contents(filename):\n",
    "#     \"\"\" \n",
    "#     Given a filename,\n",
    "#     return the contents of that file\n",
    "#     \"\"\"\n",
    "#     try:\n",
    "#         with open(filename, 'r') as f:\n",
    "#             # assumed file is a single line with key\n",
    "#             return f.read().strip()\n",
    "#     except FileNotFoundError:\n",
    "#         print(\"'%s' file not found\" % filename)"
   ]
  },
  {
   "cell_type": "code",
   "execution_count": 3,
   "metadata": {},
   "outputs": [],
   "source": [
    "# # define a database name (we're using a dataset on births, so we'll call it birth_db)\n",
    "# # Set your postgres username\n",
    "# dbname = 'insight_db'\n",
    "# username = 'postgres' # change this to your username\n",
    "# password = get_file_contents('../keys/psql_key')"
   ]
  },
  {
   "cell_type": "code",
   "execution_count": 4,
   "metadata": {},
   "outputs": [],
   "source": [
    "# # 'engine' is a connection to a database\n",
    "# engine = create_engine('postgres://%s:%s@localhost/%s'%(username,password,dbname))\n",
    "# # load sql_magic so we can write SQL in Jupyter Notebooks\n",
    "# %load_ext sql_magic\n",
    "\n",
    "# # setup SQL connection to the postgreSQL engine we created\n",
    "# %config SQL.conn_name = 'engine'\n",
    "# print(engine.url)"
   ]
  },
  {
   "cell_type": "code",
   "execution_count": 5,
   "metadata": {},
   "outputs": [],
   "source": [
    "# # connect to make queries using psycopg2\n",
    "# con = psycopg2.connect(database = dbname, host = 'localhost', user = username, password = password)\n",
    "# con.set_isolation_level(ISOLATION_LEVEL_AUTOCOMMIT)"
   ]
  },
  {
   "cell_type": "code",
   "execution_count": 6,
   "metadata": {},
   "outputs": [],
   "source": [
    "# # load data from videos table into dataframe\n",
    "# data_df = pd.read_sql('SELECT * from videos', con=con)\n",
    "# data_df.drop(columns=['id', 'upload_date', 'duration', \n",
    "#                       'view_count', 'likes', 'dislikes', \n",
    "#                       'video', 'thumbnail'], inplace=True)\n",
    "# #data_df.groupby('primary_category').video_id.count()"
   ]
  },
  {
   "cell_type": "code",
   "execution_count": 7,
   "metadata": {},
   "outputs": [],
   "source": [
    "from_csv_filename = 'data/csv_files/summarized_with_tools.csv'"
   ]
  },
  {
   "cell_type": "code",
   "execution_count": 8,
   "metadata": {},
   "outputs": [],
   "source": [
    "data_df = pd.read_csv(from_csv_filename, sep=',')"
   ]
  },
  {
   "cell_type": "code",
   "execution_count": 9,
   "metadata": {},
   "outputs": [
    {
     "data": {
      "text/html": [
       "<div>\n",
       "<style scoped>\n",
       "    .dataframe tbody tr th:only-of-type {\n",
       "        vertical-align: middle;\n",
       "    }\n",
       "\n",
       "    .dataframe tbody tr th {\n",
       "        vertical-align: top;\n",
       "    }\n",
       "\n",
       "    .dataframe thead th {\n",
       "        text-align: right;\n",
       "    }\n",
       "</style>\n",
       "<table border=\"1\" class=\"dataframe\">\n",
       "  <thead>\n",
       "    <tr style=\"text-align: right;\">\n",
       "      <th></th>\n",
       "      <th>video_id</th>\n",
       "      <th>title</th>\n",
       "      <th>subtitles</th>\n",
       "      <th>primary_category</th>\n",
       "      <th>text</th>\n",
       "      <th>txt_len</th>\n",
       "      <th>summary</th>\n",
       "      <th>summary_len</th>\n",
       "      <th>prcnt_reduce</th>\n",
       "      <th>mentioned_tools</th>\n",
       "      <th>recommended_tools</th>\n",
       "    </tr>\n",
       "  </thead>\n",
       "  <tbody>\n",
       "    <tr>\n",
       "      <th>0</th>\n",
       "      <td>0Aip_xxpia4</td>\n",
       "      <td>How to install carpet tiles</td>\n",
       "      <td>were going to replace this tired old wall-to-w...</td>\n",
       "      <td>carpet_flooring</td>\n",
       "      <td>Interface do a product called tactiles which a...</td>\n",
       "      <td>2183</td>\n",
       "      <td>If you're able to :), use a mover disc for fuc...</td>\n",
       "      <td>398</td>\n",
       "      <td>81.768209</td>\n",
       "      <td>['chalk', 'square']</td>\n",
       "      <td>['duckbill napping shears', 'carpet knife', 's...</td>\n",
       "    </tr>\n",
       "    <tr>\n",
       "      <th>1</th>\n",
       "      <td>1rAg4wW8ta0</td>\n",
       "      <td>How to carpet van interior panels - diy van ca...</td>\n",
       "      <td>all right well today Im going to be covering t...</td>\n",
       "      <td>carpet_flooring</td>\n",
       "      <td>Just shows you don't need a fancy arsed worksh...</td>\n",
       "      <td>2711</td>\n",
       "      <td>How did you fix the panels, 🤙, screwed through...</td>\n",
       "      <td>476</td>\n",
       "      <td>82.441903</td>\n",
       "      <td>['square']</td>\n",
       "      <td>['duckbill napping shears', 'carpet knife', 's...</td>\n",
       "    </tr>\n",
       "    <tr>\n",
       "      <th>2</th>\n",
       "      <td>2qAqFuo801U</td>\n",
       "      <td>Honda accord carpet removal install</td>\n",
       "      <td>whats going on guys today in my 1999 Accord Se...</td>\n",
       "      <td>carpet_flooring</td>\n",
       "      <td>The green stuff is sound dampening stuff., A l...</td>\n",
       "      <td>3825</td>\n",
       "      <td>It fits and is the modern honda \"h\", i never n...</td>\n",
       "      <td>711</td>\n",
       "      <td>81.411765</td>\n",
       "      <td>['punch']</td>\n",
       "      <td>['duckbill napping shears', 'carpet knife', 's...</td>\n",
       "    </tr>\n",
       "    <tr>\n",
       "      <th>3</th>\n",
       "      <td>3-3gmCZm34E</td>\n",
       "      <td>Diy jon boat interior boat carpet on a budget</td>\n",
       "      <td>hey guys Anthony Jones here with the Top Gun J...</td>\n",
       "      <td>carpet_flooring</td>\n",
       "      <td>Pretty Jon., I appreciate it greatly!, I subcr...</td>\n",
       "      <td>20949</td>\n",
       "      <td>\" im ded, u alreedy kno cuzin, \"subcribe\", max...</td>\n",
       "      <td>536</td>\n",
       "      <td>97.441405</td>\n",
       "      <td>['hammer', 'square']</td>\n",
       "      <td>['duckbill napping shears', 'carpet knife', 's...</td>\n",
       "    </tr>\n",
       "    <tr>\n",
       "      <th>4</th>\n",
       "      <td>3jvAV5TanIM</td>\n",
       "      <td>How to install laminate flooring laying your f...</td>\n",
       "      <td>are you installing your own laminate flooring ...</td>\n",
       "      <td>carpet_flooring</td>\n",
       "      <td>, Why did u high 5 your wife. She did nothing ...</td>\n",
       "      <td>13879</td>\n",
       "      <td>Can you lay timber flooring on top of timber f...</td>\n",
       "      <td>558</td>\n",
       "      <td>95.979537</td>\n",
       "      <td>['pencil', 'jigsaw', 'spacers', 'square', 'saw...</td>\n",
       "      <td>['heavy weight carpet roller', 'work gloves', ...</td>\n",
       "    </tr>\n",
       "  </tbody>\n",
       "</table>\n",
       "</div>"
      ],
      "text/plain": [
       "      video_id                                              title  \\\n",
       "0  0Aip_xxpia4                        How to install carpet tiles   \n",
       "1  1rAg4wW8ta0  How to carpet van interior panels - diy van ca...   \n",
       "2  2qAqFuo801U                Honda accord carpet removal install   \n",
       "3  3-3gmCZm34E      Diy jon boat interior boat carpet on a budget   \n",
       "4  3jvAV5TanIM  How to install laminate flooring laying your f...   \n",
       "\n",
       "                                           subtitles primary_category  \\\n",
       "0  were going to replace this tired old wall-to-w...  carpet_flooring   \n",
       "1  all right well today Im going to be covering t...  carpet_flooring   \n",
       "2  whats going on guys today in my 1999 Accord Se...  carpet_flooring   \n",
       "3  hey guys Anthony Jones here with the Top Gun J...  carpet_flooring   \n",
       "4  are you installing your own laminate flooring ...  carpet_flooring   \n",
       "\n",
       "                                                text  txt_len  \\\n",
       "0  Interface do a product called tactiles which a...     2183   \n",
       "1  Just shows you don't need a fancy arsed worksh...     2711   \n",
       "2  The green stuff is sound dampening stuff., A l...     3825   \n",
       "3  Pretty Jon., I appreciate it greatly!, I subcr...    20949   \n",
       "4  , Why did u high 5 your wife. She did nothing ...    13879   \n",
       "\n",
       "                                             summary  summary_len  \\\n",
       "0  If you're able to :), use a mover disc for fuc...          398   \n",
       "1  How did you fix the panels, 🤙, screwed through...          476   \n",
       "2  It fits and is the modern honda \"h\", i never n...          711   \n",
       "3  \" im ded, u alreedy kno cuzin, \"subcribe\", max...          536   \n",
       "4  Can you lay timber flooring on top of timber f...          558   \n",
       "\n",
       "   prcnt_reduce                                    mentioned_tools  \\\n",
       "0     81.768209                                ['chalk', 'square']   \n",
       "1     82.441903                                         ['square']   \n",
       "2     81.411765                                          ['punch']   \n",
       "3     97.441405                               ['hammer', 'square']   \n",
       "4     95.979537  ['pencil', 'jigsaw', 'spacers', 'square', 'saw...   \n",
       "\n",
       "                                   recommended_tools  \n",
       "0  ['duckbill napping shears', 'carpet knife', 's...  \n",
       "1  ['duckbill napping shears', 'carpet knife', 's...  \n",
       "2  ['duckbill napping shears', 'carpet knife', 's...  \n",
       "3  ['duckbill napping shears', 'carpet knife', 's...  \n",
       "4  ['heavy weight carpet roller', 'work gloves', ...  "
      ]
     },
     "execution_count": 9,
     "metadata": {},
     "output_type": "execute_result"
    }
   ],
   "source": [
    "data_df.head()"
   ]
  },
  {
   "cell_type": "code",
   "execution_count": 10,
   "metadata": {},
   "outputs": [
    {
     "data": {
      "text/plain": [
       "1037"
      ]
     },
     "execution_count": 10,
     "metadata": {},
     "output_type": "execute_result"
    }
   ],
   "source": [
    "data_df.video_id.count()"
   ]
  },
  {
   "cell_type": "markdown",
   "metadata": {},
   "source": [
    "## Use Term Frequency, Inverse Document Frequency (TF-IDF) to extract features"
   ]
  },
  {
   "cell_type": "code",
   "execution_count": 11,
   "metadata": {},
   "outputs": [],
   "source": [
    "cols = ['primary_category', 'title']\n",
    "df = data_df[cols].copy()"
   ]
  },
  {
   "cell_type": "code",
   "execution_count": 12,
   "metadata": {},
   "outputs": [],
   "source": [
    "#df.drop_duplicates(subset='title', keep=\"last\", inplace=True)"
   ]
  },
  {
   "cell_type": "code",
   "execution_count": 13,
   "metadata": {},
   "outputs": [],
   "source": [
    "df['category_id'] = df['primary_category'].factorize()[0]"
   ]
  },
  {
   "cell_type": "code",
   "execution_count": 14,
   "metadata": {},
   "outputs": [],
   "source": [
    "category_id_df = df[['primary_category', 'category_id']].drop_duplicates().sort_values('category_id')"
   ]
  },
  {
   "cell_type": "code",
   "execution_count": 15,
   "metadata": {},
   "outputs": [],
   "source": [
    "category_to_id = dict(category_id_df.values)"
   ]
  },
  {
   "cell_type": "code",
   "execution_count": 16,
   "metadata": {},
   "outputs": [],
   "source": [
    "id_to_category = dict(category_id_df[['category_id', 'primary_category']].values)"
   ]
  },
  {
   "cell_type": "code",
   "execution_count": 17,
   "metadata": {},
   "outputs": [
    {
     "data": {
      "text/html": [
       "<div>\n",
       "<style scoped>\n",
       "    .dataframe tbody tr th:only-of-type {\n",
       "        vertical-align: middle;\n",
       "    }\n",
       "\n",
       "    .dataframe tbody tr th {\n",
       "        vertical-align: top;\n",
       "    }\n",
       "\n",
       "    .dataframe thead th {\n",
       "        text-align: right;\n",
       "    }\n",
       "</style>\n",
       "<table border=\"1\" class=\"dataframe\">\n",
       "  <thead>\n",
       "    <tr style=\"text-align: right;\">\n",
       "      <th></th>\n",
       "      <th>primary_category</th>\n",
       "      <th>title</th>\n",
       "      <th>category_id</th>\n",
       "    </tr>\n",
       "  </thead>\n",
       "  <tbody>\n",
       "    <tr>\n",
       "      <th>0</th>\n",
       "      <td>carpet_flooring</td>\n",
       "      <td>How to install carpet tiles</td>\n",
       "      <td>0</td>\n",
       "    </tr>\n",
       "    <tr>\n",
       "      <th>1</th>\n",
       "      <td>carpet_flooring</td>\n",
       "      <td>How to carpet van interior panels - diy van ca...</td>\n",
       "      <td>0</td>\n",
       "    </tr>\n",
       "    <tr>\n",
       "      <th>2</th>\n",
       "      <td>carpet_flooring</td>\n",
       "      <td>Honda accord carpet removal install</td>\n",
       "      <td>0</td>\n",
       "    </tr>\n",
       "    <tr>\n",
       "      <th>3</th>\n",
       "      <td>carpet_flooring</td>\n",
       "      <td>Diy jon boat interior boat carpet on a budget</td>\n",
       "      <td>0</td>\n",
       "    </tr>\n",
       "    <tr>\n",
       "      <th>4</th>\n",
       "      <td>carpet_flooring</td>\n",
       "      <td>How to install laminate flooring laying your f...</td>\n",
       "      <td>0</td>\n",
       "    </tr>\n",
       "  </tbody>\n",
       "</table>\n",
       "</div>"
      ],
      "text/plain": [
       "  primary_category                                              title  \\\n",
       "0  carpet_flooring                        How to install carpet tiles   \n",
       "1  carpet_flooring  How to carpet van interior panels - diy van ca...   \n",
       "2  carpet_flooring                Honda accord carpet removal install   \n",
       "3  carpet_flooring      Diy jon boat interior boat carpet on a budget   \n",
       "4  carpet_flooring  How to install laminate flooring laying your f...   \n",
       "\n",
       "   category_id  \n",
       "0            0  \n",
       "1            0  \n",
       "2            0  \n",
       "3            0  \n",
       "4            0  "
      ]
     },
     "execution_count": 17,
     "metadata": {},
     "output_type": "execute_result"
    }
   ],
   "source": [
    "df.head()"
   ]
  },
  {
   "cell_type": "code",
   "execution_count": 35,
   "metadata": {},
   "outputs": [
    {
     "data": {
      "image/png": "[encoded data removed]",
      "text/plain": [
       "<Figure size 720x504 with 1 Axes>"
      ]
     },
     "metadata": {
      "needs_background": "light"
     },
     "output_type": "display_data"
    }
   ],
   "source": [
    "import matplotlib\n",
    "font = {'family' : 'normal',\n",
    "        'size'   : 25}\n",
    "\n",
    "matplotlib.rc('font', **font)\n",
    "fig = plt.figure(figsize=(8,6))\n",
    "df.groupby('primary_category').title.count().plot.bar(ylim=0)\n",
    "plt.xlabel('Topics', fontsize=20,fontweight=\"bold\")\n",
    "plt.ylabel('Videos', fontsize=20,fontweight=\"bold\")\n",
    "plt.yticks(fontsize=15)\n",
    "plt.xticks(rotation=45, fontsize=15)\n",
    "plt.tight_layout()\n",
    "fig.set_size_inches(10, 7)\n",
    "fig.savefig('data/topic_model_counts.png', dpi=200)\n",
    "plt.show()"
   ]
  },
  {
   "cell_type": "code",
   "execution_count": 36,
   "metadata": {},
   "outputs": [],
   "source": [
    "tfidf = TfidfVectorizer(sublinear_tf=True, min_df=5, norm='l2', encoding='UTF-8', \n",
    "                        ngram_range=(1, 2), stop_words='english')"
   ]
  },
  {
   "cell_type": "code",
   "execution_count": 37,
   "metadata": {},
   "outputs": [
    {
     "data": {
      "text/plain": [
       "(1037, 314)"
      ]
     },
     "execution_count": 37,
     "metadata": {},
     "output_type": "execute_result"
    }
   ],
   "source": [
    "features = tfidf.fit_transform(df.title).toarray()\n",
    "labels = df.category_id\n",
    "features.shape"
   ]
  },
  {
   "cell_type": "markdown",
   "metadata": {},
   "source": [
    "### Find terms that are most correlated with each of the Primary Categories"
   ]
  },
  {
   "cell_type": "code",
   "execution_count": 38,
   "metadata": {},
   "outputs": [
    {
     "name": "stdout",
     "output_type": "stream",
     "text": [
      "# 'build_deck':\n",
      "  . Most correlated unigrams:\n",
      ". build\n",
      ". deck\n",
      "  . Most correlated bigrams:\n",
      ". deck building\n",
      ". build deck\n",
      "# 'carpet_flooring':\n",
      "  . Most correlated unigrams:\n",
      ". transition\n",
      ". carpet\n",
      "  . Most correlated bigrams:\n",
      ". carpet installation\n",
      ". install carpet\n",
      "# 'drywall_repair':\n",
      "  . Most correlated unigrams:\n",
      ". repair\n",
      ". drywall\n",
      "  . Most correlated bigrams:\n",
      ". repair drywall\n",
      ". drywall repair\n",
      "# 'laminate_flooring':\n",
      "  . Most correlated unigrams:\n",
      ". flooring\n",
      ". laminate\n",
      "  . Most correlated bigrams:\n",
      ". install laminate\n",
      ". laminate flooring\n",
      "# 'repair_wood_fence':\n",
      "  . Most correlated unigrams:\n",
      ". post\n",
      ". fence\n",
      "  . Most correlated bigrams:\n",
      ". wood fence\n",
      ". fence post\n"
     ]
    }
   ],
   "source": [
    "N = 2\n",
    "for primary_category, category_id in sorted(category_to_id.items()):\n",
    "    features_chi2 = chi2(features, labels == category_id)\n",
    "    indices = np.argsort(features_chi2[0])\n",
    "    feature_names = np.array(tfidf.get_feature_names())[indices]\n",
    "    unigrams = [v for v in feature_names if len(v.split(' ')) == 1]\n",
    "    bigrams = [v for v in feature_names if len(v.split(' ')) == 2]\n",
    "    print(\"# '{}':\".format(primary_category))\n",
    "    print(\"  . Most correlated unigrams:\\n. {}\".format('\\n. '.join(unigrams[-N:])))\n",
    "    print(\"  . Most correlated bigrams:\\n. {}\".format('\\n. '.join(bigrams[-N:])))"
   ]
  },
  {
   "cell_type": "markdown",
   "metadata": {},
   "source": [
    "### Train supervised classifier: transform titles into vector of numbers using TF-IDF weighted vectors"
   ]
  },
  {
   "cell_type": "code",
   "execution_count": 39,
   "metadata": {},
   "outputs": [],
   "source": [
    "X_train, X_test, y_train, y_test = train_test_split(df['title'], df['primary_category'], random_state = 42)\n",
    "count_vect = CountVectorizer()\n",
    "X_train_counts = count_vect.fit_transform(X_train)\n",
    "tfidf_transformer = TfidfTransformer()\n",
    "X_train_tfidf = tfidf_transformer.fit_transform(X_train_counts)\n",
    "clf = MultinomialNB().fit(X_train_tfidf, y_train)"
   ]
  },
  {
   "cell_type": "code",
   "execution_count": 40,
   "metadata": {},
   "outputs": [
    {
     "name": "stdout",
     "output_type": "stream",
     "text": [
      "['laminate_flooring']\n"
     ]
    }
   ],
   "source": [
    "print(clf.predict(count_vect.transform([\"How to install laminate flooring.\"])))"
   ]
  },
  {
   "cell_type": "code",
   "execution_count": 41,
   "metadata": {},
   "outputs": [
    {
     "name": "stdout",
     "output_type": "stream",
     "text": [
      "['laminate_flooring']\n"
     ]
    }
   ],
   "source": [
    "print(clf.predict(count_vect.transform([\"How to remove carpet and install laminate flooring.\"])))"
   ]
  },
  {
   "cell_type": "markdown",
   "metadata": {},
   "source": [
    "### Model Selection"
   ]
  },
  {
   "cell_type": "code",
   "execution_count": 42,
   "metadata": {},
   "outputs": [],
   "source": [
    "models = [\n",
    "    RandomForestClassifier(n_estimators=200, max_depth=3, random_state=0),\n",
    "    SVC(probability=True, gamma='auto'),\n",
    "    MultinomialNB(alpha=0.5, fit_prior=True),\n",
    "    LogisticRegression(random_state=42, solver='lbfgs', multi_class='auto'),\n",
    "]\n",
    "CV = 5\n",
    "cv_df = pd.DataFrame(index=range(CV * len(models)))\n",
    "entries = []"
   ]
  },
  {
   "cell_type": "code",
   "execution_count": 43,
   "metadata": {},
   "outputs": [
    {
     "name": "stdout",
     "output_type": "stream",
     "text": [
      "<class 'pandas.core.frame.DataFrame'>\n",
      "RangeIndex: 20 entries, 0 to 19\n",
      "Empty DataFrame"
     ]
    }
   ],
   "source": [
    "cv_df.info()"
   ]
  },
  {
   "cell_type": "code",
   "execution_count": 44,
   "metadata": {},
   "outputs": [],
   "source": [
    "for model in models:\n",
    "    model_name = model.__class__.__name__\n",
    "    log_losses = cross_val_score(model, features, labels, scoring='neg_log_loss', cv=CV)\n",
    "    for fold_idx, log_loss in enumerate(log_losses):\n",
    "        entries.append((model_name, fold_idx, log_loss))\n",
    "cv_df = pd.DataFrame(entries, columns=['model_name', 'fold_idx', 'neg_log_loss'])"
   ]
  },
  {
   "cell_type": "code",
   "execution_count": null,
   "metadata": {},
   "outputs": [],
   "source": []
  },
  {
   "cell_type": "code",
   "execution_count": 45,
   "metadata": {},
   "outputs": [
    {
     "name": "stderr",
     "output_type": "stream",
     "text": [
      "findfont: Font family ['normal'] not found. Falling back to DejaVu Sans.\n",
      "findfont: Font family ['normal'] not found. Falling back to DejaVu Sans.\n"
     ]
    },
    {
     "data": {
      "image/png": "[encoded data removed]",
      "text/plain": [
       "<Figure size 720x720 with 1 Axes>"
      ]
     },
     "metadata": {
      "needs_background": "light"
     },
     "output_type": "display_data"
    }
   ],
   "source": [
    "import matplotlib\n",
    "font = {'family' : 'normal',\n",
    "        'weight' : 'bold',\n",
    "        'size'   : 15}\n",
    "\n",
    "matplotlib.rc('font', **font)\n",
    "\n",
    "fig, ax = plt.subplots(figsize=(10,10))\n",
    "sns.boxplot(x='model_name', y='neg_log_loss', data=cv_df)\n",
    "sns.stripplot(x='model_name', y='neg_log_loss', data=cv_df, \n",
    "              size=8, jitter=True, edgecolor=\"gray\", linewidth=2)\n",
    "sns.set(font_scale=1.25)\n",
    "plt.xticks(rotation=35, fontsize=15, ha='right')\n",
    "sns.set_style(\"whitegrid\")\n",
    "plt.ylabel('Neg Log Loss', fontsize=20, fontweight=\"bold\")\n",
    "plt.xlabel('Model Name', fontsize=20, fontweight=\"bold\")\n",
    "plt.tight_layout()\n",
    "fig.set_size_inches(10, 10)\n",
    "fig.savefig('data/classification_model_selection.png', dpi=100)\n",
    "plt.show()"
   ]
  },
  {
   "cell_type": "code",
   "execution_count": 46,
   "metadata": {},
   "outputs": [
    {
     "data": {
      "text/plain": [
       "model_name\n",
       "LogisticRegression       -0.528314\n",
       "MultinomialNB            -0.484710\n",
       "RandomForestClassifier   -1.164369\n",
       "SVC                      -0.709058\n",
       "Name: neg_log_loss, dtype: float64"
      ]
     },
     "execution_count": 46,
     "metadata": {},
     "output_type": "execute_result"
    }
   ],
   "source": [
    "cv_df.groupby('model_name').neg_log_loss.mean()"
   ]
  },
  {
   "cell_type": "code",
   "execution_count": 55,
   "metadata": {},
   "outputs": [],
   "source": [
    "model = MultinomialNB(alpha=0.5, fit_prior=True)\n",
    "#model = LogisticRegression(random_state=42, solver='lbfgs', multi_class='auto')\n",
    "X_train, X_test, y_train, y_test, indices_train, indices_test = train_test_split(features, \n",
    "                                                                                 labels, \n",
    "                                                                                 df.index, \n",
    "                                                                                 test_size=0.33, \n",
    "                                                                                 random_state=0)\n",
    "model.fit(X_train, y_train)\n",
    "y_pred = model.predict(X_test)"
   ]
  },
  {
   "cell_type": "code",
   "execution_count": 56,
   "metadata": {
    "scrolled": false
   },
   "outputs": [
    {
     "data": {
      "image/png": "[encoded data removed]",
      "text/plain": [
       "<Figure size 720x720 with 2 Axes>"
      ]
     },
     "metadata": {},
     "output_type": "display_data"
    }
   ],
   "source": [
    "conf_mat = confusion_matrix(y_test, y_pred)\n",
    "\n",
    "fig, ax = plt.subplots(figsize=(10,10))\n",
    "sns.heatmap(conf_mat, annot=True, fmt='d', cmap=\"Reds\", linecolor='Black', linewidths=.5,\n",
    "            xticklabels=category_id_df.primary_category.values, yticklabels=category_id_df.primary_category.values)\n",
    "sns.set(font_scale=.95)\n",
    "sns.set_style(\"white\")\n",
    "\n",
    "\n",
    "plt.ylabel('Actual', fontsize=20, fontweight=\"bold\")\n",
    "plt.xlabel('Predicted', fontsize=20, fontweight=\"bold\")\n",
    "plt.xticks(rotation=35, fontsize=15, ha='right')\n",
    "plt.yticks(rotation=360, fontsize=15)\n",
    "plt.tight_layout()\n",
    "fig.set_size_inches(10, 10)\n",
    "plt.savefig('data/topic_modeling_classification.png', dpi=200)\n",
    "plt.show()"
   ]
  },
  {
   "cell_type": "code",
   "execution_count": 57,
   "metadata": {},
   "outputs": [
    {
     "name": "stdout",
     "output_type": "stream",
     "text": [
      "'laminate_flooring' predicted as 'carpet_flooring' : 12 examples.\n"
     ]
    },
    {
     "data": {
      "text/html": [
       "<div>\n",
       "<style scoped>\n",
       "    .dataframe tbody tr th:only-of-type {\n",
       "        vertical-align: middle;\n",
       "    }\n",
       "\n",
       "    .dataframe tbody tr th {\n",
       "        vertical-align: top;\n",
       "    }\n",
       "\n",
       "    .dataframe thead th {\n",
       "        text-align: right;\n",
       "    }\n",
       "</style>\n",
       "<table border=\"1\" class=\"dataframe\">\n",
       "  <thead>\n",
       "    <tr style=\"text-align: right;\">\n",
       "      <th></th>\n",
       "      <th>primary_category</th>\n",
       "      <th>title</th>\n",
       "    </tr>\n",
       "  </thead>\n",
       "  <tbody>\n",
       "    <tr>\n",
       "      <th>330</th>\n",
       "      <td>laminate_flooring</td>\n",
       "      <td>How to install vinyl flooring</td>\n",
       "    </tr>\n",
       "    <tr>\n",
       "      <th>200</th>\n",
       "      <td>laminate_flooring</td>\n",
       "      <td>Diy rv reflooring with a flush slide-out</td>\n",
       "    </tr>\n",
       "    <tr>\n",
       "      <th>299</th>\n",
       "      <td>laminate_flooring</td>\n",
       "      <td>How to install vinyl floor sheet vinyl. easy h...</td>\n",
       "    </tr>\n",
       "    <tr>\n",
       "      <th>312</th>\n",
       "      <td>laminate_flooring</td>\n",
       "      <td>How not to install wood floor</td>\n",
       "    </tr>\n",
       "    <tr>\n",
       "      <th>196</th>\n",
       "      <td>laminate_flooring</td>\n",
       "      <td>How install vinyl plank from home depot hd eng...</td>\n",
       "    </tr>\n",
       "    <tr>\n",
       "      <th>202</th>\n",
       "      <td>laminate_flooring</td>\n",
       "      <td>D.i.y. install underlayment for vinyl flooring...</td>\n",
       "    </tr>\n",
       "    <tr>\n",
       "      <th>247</th>\n",
       "      <td>laminate_flooring</td>\n",
       "      <td>Newbies install vinyl snap-in flooring</td>\n",
       "    </tr>\n",
       "    <tr>\n",
       "      <th>264</th>\n",
       "      <td>laminate_flooring</td>\n",
       "      <td>How to install vinyl flooring simple steps to ...</td>\n",
       "    </tr>\n",
       "    <tr>\n",
       "      <th>240</th>\n",
       "      <td>laminate_flooring</td>\n",
       "      <td>How to install a wood floor on top of carpet</td>\n",
       "    </tr>\n",
       "    <tr>\n",
       "      <th>320</th>\n",
       "      <td>laminate_flooring</td>\n",
       "      <td>How to install wood flooring - doorways room t...</td>\n",
       "    </tr>\n",
       "    <tr>\n",
       "      <th>193</th>\n",
       "      <td>laminate_flooring</td>\n",
       "      <td>How to lay flooring part 4 - laying tongue gro...</td>\n",
       "    </tr>\n",
       "    <tr>\n",
       "      <th>181</th>\n",
       "      <td>laminate_flooring</td>\n",
       "      <td>Weekend bathroom remodel part 2 - laying vinyl...</td>\n",
       "    </tr>\n",
       "  </tbody>\n",
       "</table>\n",
       "</div>"
      ],
      "text/plain": [
       "      primary_category                                              title\n",
       "330  laminate_flooring                      How to install vinyl flooring\n",
       "200  laminate_flooring           Diy rv reflooring with a flush slide-out\n",
       "299  laminate_flooring  How to install vinyl floor sheet vinyl. easy h...\n",
       "312  laminate_flooring                      How not to install wood floor\n",
       "196  laminate_flooring  How install vinyl plank from home depot hd eng...\n",
       "202  laminate_flooring  D.i.y. install underlayment for vinyl flooring...\n",
       "247  laminate_flooring             Newbies install vinyl snap-in flooring\n",
       "264  laminate_flooring  How to install vinyl flooring simple steps to ...\n",
       "240  laminate_flooring       How to install a wood floor on top of carpet\n",
       "320  laminate_flooring  How to install wood flooring - doorways room t...\n",
       "193  laminate_flooring  How to lay flooring part 4 - laying tongue gro...\n",
       "181  laminate_flooring  Weekend bathroom remodel part 2 - laying vinyl..."
      ]
     },
     "metadata": {},
     "output_type": "display_data"
    },
    {
     "name": "stdout",
     "output_type": "stream",
     "text": [
      "\n",
      "'carpet_flooring' predicted as 'laminate_flooring' : 8 examples.\n"
     ]
    },
    {
     "data": {
      "text/html": [
       "<div>\n",
       "<style scoped>\n",
       "    .dataframe tbody tr th:only-of-type {\n",
       "        vertical-align: middle;\n",
       "    }\n",
       "\n",
       "    .dataframe tbody tr th {\n",
       "        vertical-align: top;\n",
       "    }\n",
       "\n",
       "    .dataframe thead th {\n",
       "        text-align: right;\n",
       "    }\n",
       "</style>\n",
       "<table border=\"1\" class=\"dataframe\">\n",
       "  <thead>\n",
       "    <tr style=\"text-align: right;\">\n",
       "      <th></th>\n",
       "      <th>primary_category</th>\n",
       "      <th>title</th>\n",
       "    </tr>\n",
       "  </thead>\n",
       "  <tbody>\n",
       "    <tr>\n",
       "      <th>103</th>\n",
       "      <td>carpet_flooring</td>\n",
       "      <td>Diy rv laminate flooring install custom mods ~...</td>\n",
       "    </tr>\n",
       "    <tr>\n",
       "      <th>27</th>\n",
       "      <td>carpet_flooring</td>\n",
       "      <td>Learn how to install hardwood floors diy projects</td>\n",
       "    </tr>\n",
       "    <tr>\n",
       "      <th>45</th>\n",
       "      <td>carpet_flooring</td>\n",
       "      <td>Laminate over carpet rental friendly</td>\n",
       "    </tr>\n",
       "    <tr>\n",
       "      <th>144</th>\n",
       "      <td>carpet_flooring</td>\n",
       "      <td>Floor make-over for under 100 decor it yourself</td>\n",
       "    </tr>\n",
       "    <tr>\n",
       "      <th>5</th>\n",
       "      <td>carpet_flooring</td>\n",
       "      <td>How to level a wooden floor</td>\n",
       "    </tr>\n",
       "    <tr>\n",
       "      <th>37</th>\n",
       "      <td>carpet_flooring</td>\n",
       "      <td>Rv vinyl peel and stick floor install diy</td>\n",
       "    </tr>\n",
       "    <tr>\n",
       "      <th>38</th>\n",
       "      <td>carpet_flooring</td>\n",
       "      <td>Peel and stick vinyl floor install- araceli ch...</td>\n",
       "    </tr>\n",
       "    <tr>\n",
       "      <th>68</th>\n",
       "      <td>carpet_flooring</td>\n",
       "      <td>Installing electric floor heating under a floa...</td>\n",
       "    </tr>\n",
       "  </tbody>\n",
       "</table>\n",
       "</div>"
      ],
      "text/plain": [
       "    primary_category                                              title\n",
       "103  carpet_flooring  Diy rv laminate flooring install custom mods ~...\n",
       "27   carpet_flooring  Learn how to install hardwood floors diy projects\n",
       "45   carpet_flooring               Laminate over carpet rental friendly\n",
       "144  carpet_flooring    Floor make-over for under 100 decor it yourself\n",
       "5    carpet_flooring                        How to level a wooden floor\n",
       "37   carpet_flooring          Rv vinyl peel and stick floor install diy\n",
       "38   carpet_flooring  Peel and stick vinyl floor install- araceli ch...\n",
       "68   carpet_flooring  Installing electric floor heating under a floa..."
      ]
     },
     "metadata": {},
     "output_type": "display_data"
    },
    {
     "name": "stdout",
     "output_type": "stream",
     "text": [
      "\n",
      "'build_deck' predicted as 'repair_wood_fence' : 7 examples.\n"
     ]
    },
    {
     "data": {
      "text/html": [
       "<div>\n",
       "<style scoped>\n",
       "    .dataframe tbody tr th:only-of-type {\n",
       "        vertical-align: middle;\n",
       "    }\n",
       "\n",
       "    .dataframe tbody tr th {\n",
       "        vertical-align: top;\n",
       "    }\n",
       "\n",
       "    .dataframe thead th {\n",
       "        text-align: right;\n",
       "    }\n",
       "</style>\n",
       "<table border=\"1\" class=\"dataframe\">\n",
       "  <thead>\n",
       "    <tr style=\"text-align: right;\">\n",
       "      <th></th>\n",
       "      <th>primary_category</th>\n",
       "      <th>title</th>\n",
       "    </tr>\n",
       "  </thead>\n",
       "  <tbody>\n",
       "    <tr>\n",
       "      <th>545</th>\n",
       "      <td>build_deck</td>\n",
       "      <td>How to attach a ledger board for a deck</td>\n",
       "    </tr>\n",
       "    <tr>\n",
       "      <th>720</th>\n",
       "      <td>build_deck</td>\n",
       "      <td>Hog-wire deck and fence</td>\n",
       "    </tr>\n",
       "    <tr>\n",
       "      <th>682</th>\n",
       "      <td>build_deck</td>\n",
       "      <td>Mtg - the new player s guide to drafting magic...</td>\n",
       "    </tr>\n",
       "    <tr>\n",
       "      <th>733</th>\n",
       "      <td>build_deck</td>\n",
       "      <td>Diy circular saw track saw guide limited tools</td>\n",
       "    </tr>\n",
       "    <tr>\n",
       "      <th>538</th>\n",
       "      <td>build_deck</td>\n",
       "      <td>Hog wire deck rail installation</td>\n",
       "    </tr>\n",
       "    <tr>\n",
       "      <th>678</th>\n",
       "      <td>build_deck</td>\n",
       "      <td>How to clad concrete steps in stone - this old...</td>\n",
       "    </tr>\n",
       "    <tr>\n",
       "      <th>546</th>\n",
       "      <td>build_deck</td>\n",
       "      <td>How to build a pergola mitre 10 easy as</td>\n",
       "    </tr>\n",
       "  </tbody>\n",
       "</table>\n",
       "</div>"
      ],
      "text/plain": [
       "    primary_category                                              title\n",
       "545       build_deck            How to attach a ledger board for a deck\n",
       "720       build_deck                            Hog-wire deck and fence\n",
       "682       build_deck  Mtg - the new player s guide to drafting magic...\n",
       "733       build_deck     Diy circular saw track saw guide limited tools\n",
       "538       build_deck                    Hog wire deck rail installation\n",
       "678       build_deck  How to clad concrete steps in stone - this old...\n",
       "546       build_deck            How to build a pergola mitre 10 easy as"
      ]
     },
     "metadata": {},
     "output_type": "display_data"
    },
    {
     "name": "stdout",
     "output_type": "stream",
     "text": [
      "\n",
      "'repair_wood_fence' predicted as 'build_deck' : 9 examples.\n"
     ]
    },
    {
     "data": {
      "text/html": [
       "<div>\n",
       "<style scoped>\n",
       "    .dataframe tbody tr th:only-of-type {\n",
       "        vertical-align: middle;\n",
       "    }\n",
       "\n",
       "    .dataframe tbody tr th {\n",
       "        vertical-align: top;\n",
       "    }\n",
       "\n",
       "    .dataframe thead th {\n",
       "        text-align: right;\n",
       "    }\n",
       "</style>\n",
       "<table border=\"1\" class=\"dataframe\">\n",
       "  <thead>\n",
       "    <tr style=\"text-align: right;\">\n",
       "      <th></th>\n",
       "      <th>primary_category</th>\n",
       "      <th>title</th>\n",
       "    </tr>\n",
       "  </thead>\n",
       "  <tbody>\n",
       "    <tr>\n",
       "      <th>486</th>\n",
       "      <td>repair_wood_fence</td>\n",
       "      <td>Build with roman - how to lay a paver patio</td>\n",
       "    </tr>\n",
       "    <tr>\n",
       "      <th>511</th>\n",
       "      <td>repair_wood_fence</td>\n",
       "      <td>How to build a simple garden fence</td>\n",
       "    </tr>\n",
       "    <tr>\n",
       "      <th>352</th>\n",
       "      <td>repair_wood_fence</td>\n",
       "      <td>Problems with uneven ground and straight fence...</td>\n",
       "    </tr>\n",
       "    <tr>\n",
       "      <th>367</th>\n",
       "      <td>repair_wood_fence</td>\n",
       "      <td>How to build a deck gate</td>\n",
       "    </tr>\n",
       "    <tr>\n",
       "      <th>489</th>\n",
       "      <td>repair_wood_fence</td>\n",
       "      <td>How to install handrail and stair spindles sta...</td>\n",
       "    </tr>\n",
       "    <tr>\n",
       "      <th>451</th>\n",
       "      <td>repair_wood_fence</td>\n",
       "      <td>How to make outdoor concrete and wood bench</td>\n",
       "    </tr>\n",
       "    <tr>\n",
       "      <th>366</th>\n",
       "      <td>repair_wood_fence</td>\n",
       "      <td>Diy modern outdoor kitchen and bar modern buil...</td>\n",
       "    </tr>\n",
       "    <tr>\n",
       "      <th>409</th>\n",
       "      <td>repair_wood_fence</td>\n",
       "      <td>14 custom cedar driveway swing gate</td>\n",
       "    </tr>\n",
       "    <tr>\n",
       "      <th>484</th>\n",
       "      <td>repair_wood_fence</td>\n",
       "      <td>Wooden deck cleaning part 2 oxalic acid the tr...</td>\n",
       "    </tr>\n",
       "  </tbody>\n",
       "</table>\n",
       "</div>"
      ],
      "text/plain": [
       "      primary_category                                              title\n",
       "486  repair_wood_fence        Build with roman - how to lay a paver patio\n",
       "511  repair_wood_fence                 How to build a simple garden fence\n",
       "352  repair_wood_fence  Problems with uneven ground and straight fence...\n",
       "367  repair_wood_fence                           How to build a deck gate\n",
       "489  repair_wood_fence  How to install handrail and stair spindles sta...\n",
       "451  repair_wood_fence        How to make outdoor concrete and wood bench\n",
       "366  repair_wood_fence  Diy modern outdoor kitchen and bar modern buil...\n",
       "409  repair_wood_fence                14 custom cedar driveway swing gate\n",
       "484  repair_wood_fence  Wooden deck cleaning part 2 oxalic acid the tr..."
      ]
     },
     "metadata": {},
     "output_type": "display_data"
    },
    {
     "name": "stdout",
     "output_type": "stream",
     "text": [
      "\n",
      "'repair_wood_fence' predicted as 'drywall_repair' : 8 examples.\n"
     ]
    },
    {
     "data": {
      "text/html": [
       "<div>\n",
       "<style scoped>\n",
       "    .dataframe tbody tr th:only-of-type {\n",
       "        vertical-align: middle;\n",
       "    }\n",
       "\n",
       "    .dataframe tbody tr th {\n",
       "        vertical-align: top;\n",
       "    }\n",
       "\n",
       "    .dataframe thead th {\n",
       "        text-align: right;\n",
       "    }\n",
       "</style>\n",
       "<table border=\"1\" class=\"dataframe\">\n",
       "  <thead>\n",
       "    <tr style=\"text-align: right;\">\n",
       "      <th></th>\n",
       "      <th>primary_category</th>\n",
       "      <th>title</th>\n",
       "    </tr>\n",
       "  </thead>\n",
       "  <tbody>\n",
       "    <tr>\n",
       "      <th>418</th>\n",
       "      <td>repair_wood_fence</td>\n",
       "      <td>How to use drooping string to create arch in f...</td>\n",
       "    </tr>\n",
       "    <tr>\n",
       "      <th>436</th>\n",
       "      <td>repair_wood_fence</td>\n",
       "      <td>Fix stripped screw holes - 3 minute fix</td>\n",
       "    </tr>\n",
       "    <tr>\n",
       "      <th>399</th>\n",
       "      <td>repair_wood_fence</td>\n",
       "      <td>How to repair a sagging gate door</td>\n",
       "    </tr>\n",
       "    <tr>\n",
       "      <th>416</th>\n",
       "      <td>repair_wood_fence</td>\n",
       "      <td>Summer tabletop vignette decorating an old doo...</td>\n",
       "    </tr>\n",
       "    <tr>\n",
       "      <th>361</th>\n",
       "      <td>repair_wood_fence</td>\n",
       "      <td>The fancy triple trim wall experiment 007</td>\n",
       "    </tr>\n",
       "    <tr>\n",
       "      <th>453</th>\n",
       "      <td>repair_wood_fence</td>\n",
       "      <td>Rotted sink cabinet floor--how to fix</td>\n",
       "    </tr>\n",
       "    <tr>\n",
       "      <th>462</th>\n",
       "      <td>repair_wood_fence</td>\n",
       "      <td>How to build a rustic cooler -- by home repair...</td>\n",
       "    </tr>\n",
       "    <tr>\n",
       "      <th>380</th>\n",
       "      <td>repair_wood_fence</td>\n",
       "      <td>Subscriber submitted woodworking tips and tric...</td>\n",
       "    </tr>\n",
       "  </tbody>\n",
       "</table>\n",
       "</div>"
      ],
      "text/plain": [
       "      primary_category                                              title\n",
       "418  repair_wood_fence  How to use drooping string to create arch in f...\n",
       "436  repair_wood_fence            Fix stripped screw holes - 3 minute fix\n",
       "399  repair_wood_fence                  How to repair a sagging gate door\n",
       "416  repair_wood_fence  Summer tabletop vignette decorating an old doo...\n",
       "361  repair_wood_fence          The fancy triple trim wall experiment 007\n",
       "453  repair_wood_fence              Rotted sink cabinet floor--how to fix\n",
       "462  repair_wood_fence  How to build a rustic cooler -- by home repair...\n",
       "380  repair_wood_fence  Subscriber submitted woodworking tips and tric..."
      ]
     },
     "metadata": {},
     "output_type": "display_data"
    },
    {
     "name": "stdout",
     "output_type": "stream",
     "text": [
      "\n"
     ]
    }
   ],
   "source": [
    "from IPython.display import display\n",
    "for predicted in category_id_df.category_id:\n",
    "    for actual in category_id_df.category_id:\n",
    "        if predicted != actual and conf_mat[actual, predicted] > 5:\n",
    "            print(\"'{}' predicted as '{}' : {} examples.\".format(id_to_category[actual], id_to_category[predicted], conf_mat[actual, predicted]))\n",
    "            display(df.loc[indices_test[(y_test == actual) & (y_pred == predicted)]][['primary_category', 'title']])\n",
    "            print('')"
   ]
  },
  {
   "cell_type": "code",
   "execution_count": 58,
   "metadata": {},
   "outputs": [
    {
     "name": "stdout",
     "output_type": "stream",
     "text": [
      "# 'build_deck':\n",
      "  . Top unigrams:\n",
      "       . deck\n",
      "       . build\n",
      "  . Top bigrams:\n",
      "       . build deck\n",
      "       . deck building\n",
      "# 'carpet_flooring':\n",
      "  . Top unigrams:\n",
      "       . carpet\n",
      "       . install\n",
      "  . Top bigrams:\n",
      "       . install carpet\n",
      "       . carpet installation\n",
      "# 'drywall_repair':\n",
      "  . Top unigrams:\n",
      "       . drywall\n",
      "       . repair\n",
      "  . Top bigrams:\n",
      "       . drywall repair\n",
      "       . repair drywall\n",
      "# 'laminate_flooring':\n",
      "  . Top unigrams:\n",
      "       . laminate\n",
      "       . flooring\n",
      "  . Top bigrams:\n",
      "       . laminate flooring\n",
      "       . install laminate\n",
      "# 'repair_wood_fence':\n",
      "  . Top unigrams:\n",
      "       . fence\n",
      "       . post\n",
      "  . Top bigrams:\n",
      "       . fence post\n",
      "       . wood fence\n"
     ]
    }
   ],
   "source": [
    "model.fit(features, labels)\n",
    "N = 2\n",
    "for primary_category, category_id in sorted(category_to_id.items()):\n",
    "    indices = np.argsort(model.coef_[category_id])\n",
    "    feature_names = np.array(tfidf.get_feature_names())[indices]\n",
    "    unigrams = [v for v in reversed(feature_names) if len(v.split(' ')) == 1][:N]\n",
    "    bigrams = [v for v in reversed(feature_names) if len(v.split(' ')) == 2][:N]\n",
    "    print(\"# '{}':\".format(primary_category))\n",
    "    print(\"  . Top unigrams:\\n       . {}\".format('\\n       . '.join(unigrams)))\n",
    "    print(\"  . Top bigrams:\\n       . {}\".format('\\n       . '.join(bigrams)))"
   ]
  },
  {
   "cell_type": "code",
   "execution_count": 59,
   "metadata": {},
   "outputs": [
    {
     "name": "stdout",
     "output_type": "stream",
     "text": [
      "                   precision    recall  f1-score   support\n",
      "\n",
      "  carpet_flooring       0.65      0.70      0.67        43\n",
      "laminate_flooring       0.84      0.80      0.82        61\n",
      "repair_wood_fence       0.84      0.75      0.79        71\n",
      "       build_deck       0.82      0.85      0.84        72\n",
      "   drywall_repair       0.89      0.95      0.92        96\n",
      "\n",
      "         accuracy                           0.83       343\n",
      "        macro avg       0.81      0.81      0.81       343\n",
      "     weighted avg       0.83      0.83      0.83       343\n",
      "\n"
     ]
    }
   ],
   "source": [
    "print(metrics.classification_report(y_test, y_pred, target_names=df['primary_category'].unique()))"
   ]
  },
  {
   "cell_type": "code",
   "execution_count": null,
   "metadata": {},
   "outputs": [],
   "source": []
  },
  {
   "cell_type": "code",
   "execution_count": null,
   "metadata": {},
   "outputs": [],
   "source": []
  },
  {
   "cell_type": "markdown",
   "metadata": {},
   "source": [
    "### Split Data into Training Set and Test Set\n",
    "\n",
    "#### Training Data Selection"
   ]
  },
  {
   "cell_type": "code",
   "execution_count": 60,
   "metadata": {},
   "outputs": [],
   "source": [
    "# remove underscores from title and create new feature\n",
    "# with title and description combined\n",
    "# data_df['title'] = data_df['title'].str.replace('_',' ')\n",
    "#data_df['title_and_descr'] = data_df.title + '. ' + data_df.description"
   ]
  },
  {
   "cell_type": "code",
   "execution_count": 61,
   "metadata": {},
   "outputs": [],
   "source": [
    "# randomly select subset of 70% rows for each class to train models\n",
    "random_state = 42\n",
    "deck_df = data_df[data_df['primary_category']=='build_deck'].sample(n=144, random_state=random_state)\n",
    "carpet_df = data_df[data_df['primary_category']=='carpet_flooring'].sample(n=100, random_state=random_state)\n",
    "drywall_df = data_df[data_df['primary_category']=='drywall_repair'].sample(n=203, random_state=random_state)\n",
    "laminate_df = data_df[data_df['primary_category']=='laminate_flooring'].sample(n=116, random_state=random_state)\n",
    "fence_df = data_df[data_df['primary_category']=='repair_wood_fence'].sample(n=138, random_state=random_state)"
   ]
  },
  {
   "cell_type": "code",
   "execution_count": 62,
   "metadata": {},
   "outputs": [],
   "source": [
    "# concatenate the different training dataframes\n",
    "training_df = pd.concat([deck_df, carpet_df, drywall_df, laminate_df, fence_df])"
   ]
  },
  {
   "cell_type": "markdown",
   "metadata": {},
   "source": [
    "#### Testing Data Selection"
   ]
  },
  {
   "cell_type": "code",
   "execution_count": 63,
   "metadata": {},
   "outputs": [],
   "source": [
    "# select remaining data as testing set\n",
    "common_df = training_df.merge(data_df,on=['video_id'])\n",
    "testing_df = data_df[(~data_df.video_id.isin(common_df.video_id))]"
   ]
  },
  {
   "cell_type": "code",
   "execution_count": 64,
   "metadata": {},
   "outputs": [
    {
     "data": {
      "text/plain": [
       "701"
      ]
     },
     "execution_count": 64,
     "metadata": {},
     "output_type": "execute_result"
    }
   ],
   "source": [
    "training_df.video_id.count()"
   ]
  },
  {
   "cell_type": "code",
   "execution_count": 65,
   "metadata": {},
   "outputs": [
    {
     "name": "stdout",
     "output_type": "stream",
     "text": [
      "144\n",
      "100\n",
      "203\n",
      "116\n",
      "138\n"
     ]
    }
   ],
   "source": [
    "print(training_df[training_df['primary_category']=='build_deck'].video_id.count())\n",
    "print(training_df[training_df['primary_category']=='carpet_flooring'].video_id.count())\n",
    "print(training_df[training_df['primary_category']=='drywall_repair'].video_id.count())\n",
    "print(training_df[training_df['primary_category']=='laminate_flooring'].video_id.count())\n",
    "print(training_df[training_df['primary_category']=='repair_wood_fence'].video_id.count())"
   ]
  },
  {
   "cell_type": "code",
   "execution_count": 66,
   "metadata": {},
   "outputs": [
    {
     "data": {
      "text/plain": [
       "308"
      ]
     },
     "execution_count": 66,
     "metadata": {},
     "output_type": "execute_result"
    }
   ],
   "source": [
    "testing_df.video_id.count()"
   ]
  },
  {
   "cell_type": "code",
   "execution_count": 67,
   "metadata": {},
   "outputs": [
    {
     "name": "stdout",
     "output_type": "stream",
     "text": [
      "60\n",
      "45\n",
      "87\n",
      "55\n",
      "61\n"
     ]
    }
   ],
   "source": [
    "print(testing_df[testing_df['primary_category']=='build_deck'].video_id.count())\n",
    "print(testing_df[testing_df['primary_category']=='carpet_flooring'].video_id.count())\n",
    "print(testing_df[testing_df['primary_category']=='drywall_repair'].video_id.count())\n",
    "print(testing_df[testing_df['primary_category']=='laminate_flooring'].video_id.count())\n",
    "print(testing_df[testing_df['primary_category']=='repair_wood_fence'].video_id.count())"
   ]
  },
  {
   "cell_type": "code",
   "execution_count": null,
   "metadata": {},
   "outputs": [],
   "source": []
  },
  {
   "cell_type": "markdown",
   "metadata": {},
   "source": [
    "## Train LDA and Word2Vec Models for Classification"
   ]
  },
  {
   "cell_type": "code",
   "execution_count": 68,
   "metadata": {},
   "outputs": [
    {
     "data": {
      "text/plain": [
       "Index(['drywall_repair', 'build_deck', 'repair_wood_fence',\n",
       "       'laminate_flooring', 'carpet_flooring'],\n",
       "      dtype='object')"
      ]
     },
     "execution_count": 68,
     "metadata": {},
     "output_type": "execute_result"
    }
   ],
   "source": [
    "# check if all classes are represented in training data\n",
    "training_df.primary_category.value_counts().index"
   ]
  },
  {
   "cell_type": "markdown",
   "metadata": {},
   "source": [
    "#### Clean Data"
   ]
  },
  {
   "cell_type": "code",
   "execution_count": 69,
   "metadata": {},
   "outputs": [],
   "source": [
    "# column in dataset to attempt to predict labels ('primary_category')\n",
    "column_to_analyze = 'title'"
   ]
  },
  {
   "cell_type": "code",
   "execution_count": 70,
   "metadata": {},
   "outputs": [],
   "source": [
    "# function to remove punctuation and bad characters\n",
    "def get_good_tokens(sentence):\n",
    "    replaced_punctation = list(map(lambda token: re.sub('[^0-9A-Za-z!?]+', '', token), sentence))\n",
    "    removed_punctation = list(filter(lambda token: token, replaced_punctation))\n",
    "    return removed_punctation"
   ]
  },
  {
   "cell_type": "code",
   "execution_count": 71,
   "metadata": {},
   "outputs": [],
   "source": [
    "# here we get transform the documents into sentences for the word2vecmodel\n",
    "# we made a function such that later on when we make the submission, we don't need to write duplicate code\n",
    "def w2v_preprocessing(df):\n",
    "    \"\"\" All the preprocessing steps for word2vec are done in this function.\n",
    "    All mutations are done on the dataframe itself. So this function returns\n",
    "    nothing.\n",
    "    \"\"\"\n",
    "    df[column_to_analyze] = df[column_to_analyze].str.lower()\n",
    "    df['document_sentences'] = df[column_to_analyze].str.split('.')  # split texts into individual sentences\n",
    "    df['tokenized_sentences'] = list(map(lambda sentences:\n",
    "                                         list(map(nltk.word_tokenize, sentences)),\n",
    "                                         df.document_sentences))  # tokenize sentences\n",
    "    df['tokenized_sentences'] = list(map(lambda sentences:\n",
    "                                         list(map(get_good_tokens, sentences)),\n",
    "                                         df.tokenized_sentences))  # remove unwanted characters\n",
    "    df['tokenized_sentences'] = list(map(lambda sentences:\n",
    "                                         list(filter(lambda lst: lst, sentences)),\n",
    "                                         df.tokenized_sentences))  # remove empty lists\n",
    "\n",
    "# call to w2v function \n",
    "# commented out here to run later in notebook\n",
    "#w2v_preprocessing(training_df)"
   ]
  },
  {
   "cell_type": "code",
   "execution_count": 72,
   "metadata": {},
   "outputs": [],
   "source": [
    "#training_df.head(3)"
   ]
  },
  {
   "cell_type": "markdown",
   "metadata": {},
   "source": [
    "#### LDA preprocessing"
   ]
  },
  {
   "cell_type": "code",
   "execution_count": 73,
   "metadata": {},
   "outputs": [],
   "source": [
    "def lda_get_good_tokens(df):\n",
    "    df[column_to_analyze] = df[column_to_analyze].str.lower()\n",
    "    df['tokenized_text'] = list(map(nltk.word_tokenize, df[column_to_analyze]))\n",
    "    df['tokenized_text'] = list(map(get_good_tokens, df.tokenized_text))\n",
    "\n",
    "# call to lda version of cleaning punctuation    \n",
    "#lda_get_good_tokens(training_df)"
   ]
  },
  {
   "cell_type": "code",
   "execution_count": 74,
   "metadata": {},
   "outputs": [],
   "source": [
    "#training_df.head(3)"
   ]
  },
  {
   "cell_type": "markdown",
   "metadata": {},
   "source": [
    "### Remove words with little value"
   ]
  },
  {
   "cell_type": "code",
   "execution_count": 75,
   "metadata": {},
   "outputs": [],
   "source": [
    "def remove_stopwords(df):\n",
    "    \"\"\" Removes stopwords based on a known set of stopwords\n",
    "    available in the nltk package. In addition, we include our\n",
    "    made up word in here.\n",
    "    \"\"\"\n",
    "    # nltk used to remove stopwords from the texts\n",
    "    stopwords = nltk.corpus.stopwords.words('english')\n",
    "    # uncomment to add additional stop words\n",
    "    #stopwords.append(LIST_OF_WORDS_GOES_HERE)\n",
    "\n",
    "    df['stopwords_removed'] = list(map(lambda doc:\n",
    "                                       [word for word in doc if word not in stopwords],\n",
    "                                       df['tokenized_text']))\n",
    "# call to lda remove stopwords\n",
    "#remove_stopwords(training_df)"
   ]
  },
  {
   "cell_type": "code",
   "execution_count": 76,
   "metadata": {},
   "outputs": [],
   "source": [
    "#training_df.head(3)"
   ]
  },
  {
   "cell_type": "markdown",
   "metadata": {},
   "source": [
    "### Lemmatization and Stemming"
   ]
  },
  {
   "cell_type": "code",
   "execution_count": 77,
   "metadata": {},
   "outputs": [],
   "source": [
    "# function to lemmatize and stem words for lda\n",
    "def stem_words(df):\n",
    "    lemm = nltk.stem.WordNetLemmatizer()\n",
    "    df['lemmatized_text'] = list(map(lambda sentence:\n",
    "                                     list(map(lemm.lemmatize, sentence)),\n",
    "                                     df.stopwords_removed))\n",
    "\n",
    "    p_stemmer = nltk.stem.porter.PorterStemmer()\n",
    "    df['stemmed_text'] = list(map(lambda sentence:\n",
    "                                  list(map(p_stemmer.stem, sentence)),\n",
    "                                  df.lemmatized_text))\n",
    "# call to function\n",
    "#stem_words(training_df)"
   ]
  },
  {
   "cell_type": "code",
   "execution_count": 78,
   "metadata": {},
   "outputs": [],
   "source": [
    "#training_df.head(3)"
   ]
  },
  {
   "cell_type": "markdown",
   "metadata": {},
   "source": [
    "### Create a Bag-of-words (BOW)"
   ]
  },
  {
   "cell_type": "code",
   "execution_count": 79,
   "metadata": {},
   "outputs": [],
   "source": [
    "# make a BOW for every document\n",
    "def document_to_bow(df, dictionary):\n",
    "    df['bow'] = list(map(lambda doc: dictionary.doc2bow(doc), df.stemmed_text))\n",
    "\n",
    "# call to function\n",
    "#document_to_bow(training_df)"
   ]
  },
  {
   "cell_type": "code",
   "execution_count": 80,
   "metadata": {},
   "outputs": [],
   "source": [
    "#training_df.head(3)"
   ]
  },
  {
   "cell_type": "markdown",
   "metadata": {},
   "source": [
    "## Run Training Dataframe through LDA and Word2Vec Preprocessing Functions"
   ]
  },
  {
   "cell_type": "code",
   "execution_count": 81,
   "metadata": {},
   "outputs": [],
   "source": [
    "# we make a function such that later on when we make the submission, we don't need to write duplicate code\n",
    "def lda_preprocessing(df):\n",
    "    \"\"\" All the preprocessing steps for LDA are combined in this function.\n",
    "    All mutations are done on the dataframe itself. So this function returns\n",
    "    nothing.\n",
    "    \"\"\"\n",
    "    lda_get_good_tokens(df)\n",
    "    remove_stopwords(df)\n",
    "    stem_words(df)\n",
    "    dictionary = vectorize_words(df)\n",
    "    document_to_bow(df, dictionary)\n",
    "    return dictionary"
   ]
  },
  {
   "cell_type": "markdown",
   "metadata": {},
   "source": [
    "### Vectorize words -- using gensim.corpora.Dictionary"
   ]
  },
  {
   "cell_type": "code",
   "execution_count": 82,
   "metadata": {},
   "outputs": [],
   "source": [
    "# check total number of words found\n",
    "def vectorize_words(df):\n",
    "    dictionary = Dictionary(documents=df.stemmed_text.values)\n",
    "    #print(\"Found {} words.\".format(len(dictionary.values())))\n",
    "    \n",
    "    # filter the top 20% of words present and \n",
    "    # titles with less than 3 words to normalize data\n",
    "    dictionary.filter_extremes(no_above=0.8, no_below=3)\n",
    "    dictionary.compactify()  # reindexes the remaining words after filtering\n",
    "    #print(\"Left with {} words.\".format(len(dictionary.values())))\n",
    "    return dictionary\n",
    "\n"
   ]
  },
  {
   "cell_type": "code",
   "execution_count": 83,
   "metadata": {},
   "outputs": [],
   "source": [
    "# preprocess training data for lda\n",
    "dictionary = lda_preprocessing(training_df)\n",
    "# preprossec training data for word2vec\n",
    "w2v_preprocessing(training_df)"
   ]
  },
  {
   "cell_type": "markdown",
   "metadata": {},
   "source": [
    "####"
   ]
  },
  {
   "cell_type": "markdown",
   "metadata": {},
   "source": [
    "# Train Model(s)"
   ]
  },
  {
   "cell_type": "markdown",
   "metadata": {},
   "source": [
    "### LDA"
   ]
  },
  {
   "cell_type": "code",
   "execution_count": 84,
   "metadata": {},
   "outputs": [],
   "source": [
    "# build corpus from bag of words\n",
    "corpus = training_df.bow"
   ]
  },
  {
   "cell_type": "code",
   "execution_count": 85,
   "metadata": {},
   "outputs": [
    {
     "name": "stderr",
     "output_type": "stream",
     "text": [
      "/home/clutch/anaconda3/envs/insight/lib/python3.7/site-packages/gensim/models/ldamodel.py:775: RuntimeWarning: divide by zero encountered in log\n",
      "  diff = np.log(self.expElogbeta)\n"
     ]
    },
    {
     "name": "stdout",
     "output_type": "stream",
     "text": [
      "CPU times: user 3.99 s, sys: 125 ms, total: 4.11 s\n",
      "Wall time: 3.06 s\n"
     ]
    }
   ],
   "source": [
    "%%time\n",
    "num_topics = 150\n",
    "# multicore approach to decrease training time\n",
    "LDAmodel = LdaMulticore(corpus=corpus,\n",
    "                        id2word=dictionary,\n",
    "                        num_topics=num_topics,\n",
    "                        workers=4,\n",
    "                        chunksize=4000,\n",
    "                        passes=7,\n",
    "                        alpha='asymmetric')"
   ]
  },
  {
   "cell_type": "code",
   "execution_count": 86,
   "metadata": {},
   "outputs": [],
   "source": [
    "# function to convert BOW to lda features\n",
    "def document_to_lda_features(lda_model, document):\n",
    "    \"\"\" Transforms a bag of words document to features.\n",
    "    It returns the proportion of how much each topic was\n",
    "    present in the document.\n",
    "    \"\"\"\n",
    "    topic_importances = LDAmodel.get_document_topics(document, minimum_probability=0)\n",
    "    topic_importances = np.array(topic_importances)\n",
    "    return topic_importances[:,1]\n",
    "\n",
    "training_df['lda_features'] = list(map(lambda doc: \n",
    "                                       document_to_lda_features(LDAmodel, doc), \n",
    "                                       training_df.bow))"
   ]
  },
  {
   "cell_type": "code",
   "execution_count": 87,
   "metadata": {},
   "outputs": [],
   "source": [
    "#training_df.head(3)"
   ]
  },
  {
   "cell_type": "markdown",
   "metadata": {},
   "source": [
    "-------------------\n",
    "#### Visualizations for LDA -- not needed for training model -- START"
   ]
  },
  {
   "cell_type": "code",
   "execution_count": 88,
   "metadata": {},
   "outputs": [],
   "source": [
    "# compute mean for lda features for visualization\n",
    "deck_topic_dist = training_df.loc[training_df.primary_category == \n",
    "                                  'build_deck', 'lda_features'].mean()\n",
    "fence_topic_dist = training_df.loc[training_df.primary_category == \n",
    "                                   'repair_wood_fence', 'lda_features'].mean()\n",
    "laminate_topic_dist = training_df.loc[training_df.primary_category == \n",
    "                                      'laminate_flooring', 'lda_features'].mean()\n",
    "carpet_topic_dist = training_df.loc[training_df.primary_category == \n",
    "                                    'carpet_flooring', 'lda_features'].mean()\n",
    "drywall_topic_dist = training_df.loc[training_df.primary_category == \n",
    "                                     'drywall_repair', 'lda_features'].mean()"
   ]
  },
  {
   "cell_type": "code",
   "execution_count": 89,
   "metadata": {},
   "outputs": [
    {
     "name": "stderr",
     "output_type": "stream",
     "text": [
      "/home/clutch/anaconda3/envs/insight/lib/python3.7/site-packages/ipykernel_launcher.py:35: UserWarning: Tight layout not applied. tight_layout cannot make axes height small enough to accommodate all axes decorations\n"
     ]
    },
    {
     "data": {
      "image/png": "[encoded data removed]",
      "text/plain": [
       "<Figure size 1800x1800 with 5 Axes>"
      ]
     },
     "metadata": {},
     "output_type": "display_data"
    }
   ],
   "source": [
    "# visualize distribution plots for topics\n",
    "fig, [ax1,ax2,ax3, ax4, ax5] = plt.subplots(5,1,figsize=(25,25))\n",
    "\n",
    "nr_top_bars = 5\n",
    "\n",
    "ax1.set_title(\"Deck topic distributions\", fontsize=16)\n",
    "ax2.set_title(\"Fence topic distributions\", fontsize=16)\n",
    "ax3.set_title(\"Laminate topic distributions\", fontsize=16)\n",
    "ax4.set_title(\"Carpet topic distributions\", fontsize=16)\n",
    "ax5.set_title(\"Drywall topic distributions\", fontsize=16)\n",
    "ax5.text(-10, 0.04, \"Average Probability of Topic\", fontsize=30, ha=\"center\", va=\"center\",\n",
    "         rotation=\"vertical\")\n",
    "\n",
    "for ax, distribution, color in zip([ax1,ax2,ax3,ax4,ax5],\n",
    "                                   [deck_topic_dist,\n",
    "                                    fence_topic_dist,\n",
    "                                    laminate_topic_dist,\n",
    "                                    carpet_topic_dist,\n",
    "                                    drywall_topic_dist],\n",
    "                                   ['b','g','r','y','skyblue']):\n",
    "    # Individual distribution barplots\n",
    "    ax.bar(range(len(distribution)), distribution, alpha=0.7)\n",
    "    rects = ax.patches\n",
    "    for i in np.argsort(distribution)[-nr_top_bars:]:\n",
    "        rects[i].set_color(color)\n",
    "        rects[i].set_alpha(1)\n",
    "    # General plotting adjustments\n",
    "    ax.set_xlim(-1, 150)\n",
    "    ax.set_xticks(range(20,149,20))\n",
    "    ax.set_xticklabels(range(20,149,20), fontsize=16)\n",
    "    ax.set_ylim(0,0.02)\n",
    "    ax.set_yticks([0,0.01,0.02])\n",
    "    ax.set_yticklabels([0,0.01,0.02], fontsize=16)\n",
    "\n",
    "fig.tight_layout(h_pad=1.)"
   ]
  },
  {
   "cell_type": "markdown",
   "metadata": {},
   "source": [
    "#### Look at words the top topics contain"
   ]
  },
  {
   "cell_type": "code",
   "execution_count": 90,
   "metadata": {},
   "outputs": [],
   "source": [
    "# function to gather the top topics for lda features\n",
    "def get_topic_top_words(lda_model, topic_id, nr_top_words=5):\n",
    "    \"\"\" Returns the top words for topic_id from lda_model.\n",
    "    \"\"\"\n",
    "    id_tuples = lda_model.get_topic_terms(topic_id, topn=nr_top_words)\n",
    "    word_ids = np.array(id_tuples)[:,0]\n",
    "    words = map(lambda id_: lda_model.id2word[id_], word_ids)\n",
    "    return words"
   ]
  },
  {
   "cell_type": "code",
   "execution_count": 91,
   "metadata": {},
   "outputs": [
    {
     "name": "stdout",
     "output_type": "stream",
     "text": [
      "Looking up top words from top topics from Deck.\n",
      "For topic 11, the top words are: frame, backyard, tool, deck, diy.\n",
      "For topic 19, the top words are: outdoor, idea, home, great, make.\n",
      "For topic 29, the top words are: deck, build, diy, guid, step.\n",
      "For topic 34, the top words are: part, 1, rail, 2, build.\n",
      "For topic 56, the top words are: build, deck, 5, design, 6.\n",
      "\n",
      "Looking up top words from top topics from Fence.\n",
      "For topic 1, the top words are: gate, fenc, patio, diy, hang.\n",
      "For topic 6, the top words are: 4, fenc, panel, wooden, 10.\n",
      "For topic 10, the top words are: post, fenc, easi, fast, cheap.\n",
      "For topic 24, the top words are: wood, build, diy, chair, modern.\n",
      "For topic 25, the top words are: fenc, make, new, old, look.\n",
      "\n",
      "Looking up top words from top topics from Laminate.\n",
      "For topic 8, the top words are: instal, video, lamin, trim, howto.\n",
      "For topic 12, the top words are: floor, instal, vinyl, hardwood, stain.\n",
      "For topic 16, the top words are: floor, lamin, instal, diy, plywood.\n",
      "For topic 141, the top words are: tile, floor, transit, instal, mryoucandoityourself.\n",
      "For topic 147, the top words are: vinyl, plank, instal, lamin, 1.\n",
      "\n",
      "Looking up top words from top topics from Carpet.\n",
      "For topic 12, the top words are: floor, instal, vinyl, hardwood, stain.\n",
      "For topic 16, the top words are: floor, lamin, instal, diy, plywood.\n",
      "For topic 64, the top words are: floor, diy, apart, marbl, wood.\n",
      "For topic 124, the top words are: carpet, instal, concret, strip, mender.\n",
      "For topic 141, the top words are: tile, floor, transit, instal, mryoucandoityourself.\n",
      "\n",
      "Looking up top words from top topics from Drywall.\n",
      "For topic 4, the top words are: replac, repair, drywal, corner, rot.\n",
      "For topic 37, the top words are: drywal, repair, crack, diy, ceil.\n",
      "For topic 68, the top words are: wall, drywal, repair, coat, skim.\n",
      "For topic 81, the top words are: textur, drywal, repair, use, match.\n",
      "For topic 86, the top words are: drywal, patch, hole, pro, mud.\n",
      "\n"
     ]
    }
   ],
   "source": [
    "# output the top topics\n",
    "for category, distribution in zip(['Deck', 'Fence', 'Laminate', 'Carpet', 'Drywall'], \n",
    "                                  [deck_topic_dist,\n",
    "                                   fence_topic_dist,\n",
    "                                   laminate_topic_dist,\n",
    "                                   carpet_topic_dist,\n",
    "                                   drywall_topic_dist]):\n",
    "    print(\"Looking up top words from top topics from {}.\".format(category))\n",
    "    for x in sorted(np.argsort(distribution)[-5:]):\n",
    "        top_words = get_topic_top_words(LDAmodel, x)\n",
    "        print(\"For topic {}, the top words are: {}.\".format(x, \", \".join(top_words)))\n",
    "    print(\"\")"
   ]
  },
  {
   "cell_type": "markdown",
   "metadata": {},
   "source": [
    "#### Visualizations for LDA -- not needed for training model -- END\n",
    "-----------------"
   ]
  },
  {
   "cell_type": "markdown",
   "metadata": {},
   "source": [
    "## Word2Vec"
   ]
  },
  {
   "cell_type": "markdown",
   "metadata": {},
   "source": [
    "### Train"
   ]
  },
  {
   "cell_type": "code",
   "execution_count": 92,
   "metadata": {},
   "outputs": [
    {
     "name": "stdout",
     "output_type": "stream",
     "text": [
      "Number of sentences: 761.\n",
      "Number of texts: 701.\n"
     ]
    }
   ],
   "source": [
    "# show number of sentences and texts for w2v\n",
    "sentences = []\n",
    "for sentence_group in training_df.tokenized_sentences:\n",
    "    sentences.extend(sentence_group)\n",
    "\n",
    "print(\"Number of sentences: {}.\".format(len(sentences)))\n",
    "print(\"Number of texts: {}.\".format(len(training_df)))"
   ]
  },
  {
   "cell_type": "code",
   "execution_count": 93,
   "metadata": {},
   "outputs": [
    {
     "name": "stdout",
     "output_type": "stream",
     "text": [
      "CPU times: user 93.2 ms, sys: 0 ns, total: 93.2 ms\n",
      "Wall time: 97.4 ms\n"
     ]
    }
   ],
   "source": [
    "%%time\n",
    "# set values for various parameters\n",
    "num_features = 200    # Word vector dimensionality\n",
    "min_word_count = 2    # Minimum word count\n",
    "num_workers = 4       # Number of threads to run in parallel\n",
    "context = 6           # Context window size\n",
    "downsampling = 1e-3   # Downsample setting for frequent words\n",
    "\n",
    "# initialize and train the model\n",
    "W2Vmodel = Word2Vec(sentences=sentences,\n",
    "                    sg=1,\n",
    "                    hs=0,\n",
    "                    workers=num_workers,\n",
    "                    size=num_features,\n",
    "                    min_count=min_word_count,\n",
    "                    window=context,\n",
    "                    sample=downsampling,\n",
    "                    negative=5,\n",
    "                    iter=6)"
   ]
  },
  {
   "cell_type": "code",
   "execution_count": 94,
   "metadata": {},
   "outputs": [
    {
     "name": "stderr",
     "output_type": "stream",
     "text": [
      "/home/clutch/anaconda3/envs/insight/lib/python3.7/site-packages/ipykernel_launcher.py:19: DeprecationWarning: Call to deprecated `__getitem__` (Method will be removed in 4.0.0, use self.wv.__getitem__() instead).\n"
     ]
    }
   ],
   "source": [
    "# function to convert a list of lists of words \n",
    "# to a feature vector for Word2Vec\n",
    "def get_w2v_features(w2v_model, sentence_group):\n",
    "    \"\"\" Transform a sentence_group (containing multiple lists\n",
    "    of words) into a feature vector. It averages out all the\n",
    "    word vectors of the sentence_group.\n",
    "    \"\"\"\n",
    "    words = np.concatenate(sentence_group)  # words in text\n",
    "    index2word_set = set(w2v_model.wv.vocab.keys())  # words known to model\n",
    "    \n",
    "    featureVec = np.zeros(w2v_model.vector_size, dtype=\"float32\")\n",
    "    \n",
    "    # initialize a counter for number of words in a review\n",
    "    nwords = 0\n",
    "    # loop over each word in the comment and, if it is in the model's \n",
    "    # vocabulary, add its feature vector to the total\n",
    "    for word in words:\n",
    "        if word in index2word_set: \n",
    "            featureVec = np.add(featureVec, w2v_model[word])\n",
    "            nwords += 1.\n",
    "\n",
    "    # divide the result by the number of words to get the average\n",
    "    if nwords > 0:\n",
    "        featureVec = np.divide(featureVec, nwords)\n",
    "    return featureVec\n",
    "\n",
    "training_df['w2v_features'] = list(map(lambda sen_group: \n",
    "                                     get_w2v_features(W2Vmodel, sen_group),\n",
    "                                     training_df.tokenized_sentences))"
   ]
  },
  {
   "cell_type": "code",
   "execution_count": 95,
   "metadata": {},
   "outputs": [],
   "source": [
    "#training_df.head(3)"
   ]
  },
  {
   "cell_type": "markdown",
   "metadata": {},
   "source": [
    "-----------------\n",
    "#### Visualizations for Word2Vec -- not needed for training model -- START"
   ]
  },
  {
   "cell_type": "code",
   "execution_count": 96,
   "metadata": {},
   "outputs": [],
   "source": [
    "# compute mean of word2vec features for training data\n",
    "deck_w2v_dist = training_df.loc[training_df.primary_category == \n",
    "                                'build_deck', 'w2v_features'].mean()\n",
    "\n",
    "fence_w2v_dist = training_df.loc[training_df.primary_category == \n",
    "                                 'repair_wood_fence', 'w2v_features'].mean()\n",
    "\n",
    "laminate_w2v_dist = training_df.loc[training_df.primary_category == \n",
    "                                    'laminate_flooring', 'w2v_features'].mean()\n",
    "\n",
    "carpet_w2v_dist = training_df.loc[training_df.primary_category == \n",
    "                                  'carpet_flooring', 'w2v_features'].mean()\n",
    "\n",
    "drywall_w2v_dist = training_df.loc[training_df.primary_category == \n",
    "                                   'drywall_repair', 'w2v_features'].mean()"
   ]
  },
  {
   "cell_type": "code",
   "execution_count": 97,
   "metadata": {},
   "outputs": [
    {
     "name": "stderr",
     "output_type": "stream",
     "text": [
      "/home/clutch/anaconda3/envs/insight/lib/python3.7/site-packages/ipykernel_launcher.py:35: UserWarning: Tight layout not applied. tight_layout cannot make axes height small enough to accommodate all axes decorations\n"
     ]
    },
    {
     "data": {
      "image/png": "[encoded data removed]",
      "text/plain": [
       "<Figure size 1800x1800 with 5 Axes>"
      ]
     },
     "metadata": {},
     "output_type": "display_data"
    }
   ],
   "source": [
    "# visualize the distributions\n",
    "fig, [ax1,ax2,ax3, ax4, ax5] = plt.subplots(5,1,figsize=(25,25))\n",
    "\n",
    "nr_top_bars = 5\n",
    "\n",
    "ax1.set_title(\"Deck w2v distributions\", fontsize=16)\n",
    "ax2.set_title(\"Fence w2v distributions\", fontsize=16)\n",
    "ax3.set_title(\"Laminate w2v distributions\", fontsize=16)\n",
    "ax4.set_title(\"Carpet w2v distributions\", fontsize=16)\n",
    "ax5.set_title(\"Drywall w2v distributions\", fontsize=16)\n",
    "ax5.text(-10, 0.04, \"Average Feature Vectors\", fontsize=30, ha=\"center\", va=\"center\",\n",
    "         rotation=\"vertical\")\n",
    "\n",
    "for ax, distribution, color in zip([ax1,ax2,ax3,ax4,ax5],\n",
    "                                   [deck_w2v_dist,\n",
    "                                    fence_w2v_dist,\n",
    "                                    laminate_w2v_dist,\n",
    "                                    carpet_w2v_dist,\n",
    "                                    drywall_w2v_dist],\n",
    "                                   ['b','g','r','y','skyblue']):\n",
    "    # individual distribution barplots\n",
    "    ax.bar(range(len(distribution)), distribution, alpha=0.7)\n",
    "    rects = ax.patches\n",
    "    for i in np.argsort(distribution)[-nr_top_bars:]:\n",
    "        rects[i].set_color(color)\n",
    "        rects[i].set_alpha(1)\n",
    "    # general plotting adjustments\n",
    "    ax.set_xlim(-1, 150)\n",
    "    ax.set_xticks(range(20,149,20))\n",
    "    ax.set_xticklabels(range(20,149,20), fontsize=16)\n",
    "    ax.set_ylim(0,0.02)\n",
    "    ax.set_yticks([0,0.01,0.02])\n",
    "    ax.set_yticklabels([0,0.01,0.02], fontsize=16)\n",
    "\n",
    "fig.tight_layout(h_pad=1.)"
   ]
  },
  {
   "cell_type": "markdown",
   "metadata": {},
   "source": [
    "#### Visualizations for Word2Vec -- not needed for training model -- END\n",
    "-----------------"
   ]
  },
  {
   "cell_type": "markdown",
   "metadata": {},
   "source": [
    "### Classification and Hyperparameter Tuning"
   ]
  },
  {
   "cell_type": "code",
   "execution_count": 98,
   "metadata": {},
   "outputs": [],
   "source": [
    "# encode the labels from e.g., 'drywall_repair' --> 0\n",
    "label_encoder = LabelEncoder()\n",
    "\n",
    "label_encoder.fit(training_df.primary_category)\n",
    "training_df['category_id'] = label_encoder.transform(training_df.primary_category)"
   ]
  },
  {
   "cell_type": "code",
   "execution_count": 99,
   "metadata": {},
   "outputs": [],
   "source": [
    "#training_df.tail(3)"
   ]
  },
  {
   "cell_type": "code",
   "execution_count": 100,
   "metadata": {},
   "outputs": [],
   "source": [
    "# create first pipeline for base without reducing features\n",
    "pipe = Pipeline([('classifier' , RandomForestClassifier())])\n",
    "\n",
    "# create param grid.\n",
    "param_grid = [{'classifier' : [LogisticRegression()], \n",
    "               'classifier__penalty' : ['l1', 'l2'],\n",
    "               'classifier__C' : np.logspace(-4, 4, 20)},\n",
    "              {'classifier' : [RandomForestClassifier()],\n",
    "               'classifier__n_estimators' : list(range(10,101,10)),\n",
    "               'classifier__max_features' : list(range(6,32,5))}]"
   ]
  },
  {
   "cell_type": "code",
   "execution_count": 101,
   "metadata": {},
   "outputs": [],
   "source": [
    "# function to perform exhaustive cross validation and \n",
    "# identify the best model based on 'log_loss'\n",
    "def get_cross_validated_model(model, param_grid, X, y, nr_folds=5):\n",
    "    \"\"\" Trains a model by doing a grid search combined with cross validation.\n",
    "    args:\n",
    "        model: your model\n",
    "        param_grid: dict of parameter values for the grid search\n",
    "    returns:\n",
    "        Model trained on entire dataset with hyperparameters chosen from best results in the grid search.\n",
    "    \"\"\"\n",
    "    # train the model (since the evaluation is based on the logloss, we'll use neg_log_loss here)\n",
    "    grid_cv = GridSearchCV(model, param_grid=param_grid, scoring='neg_log_loss', \n",
    "                           cv=nr_folds, n_jobs=-1, verbose=True)\n",
    "    \n",
    "    best_model = grid_cv.fit(X, y)\n",
    "    \n",
    "    # show top models with parameter values\n",
    "    result_df = pd.DataFrame(best_model.cv_results_)\n",
    "    show_columns = ['mean_test_score', 'rank_test_score']\n",
    "    \n",
    "    for col in result_df.columns:\n",
    "        if col.startswith('param_'):\n",
    "            show_columns.append(col)\n",
    "    display(result_df[show_columns].sort_values(by='rank_test_score').head())\n",
    "    return best_model"
   ]
  },
  {
   "cell_type": "code",
   "execution_count": 102,
   "metadata": {},
   "outputs": [],
   "source": [
    "# training_df['lda_features'] and training_df['w2v_features'] don't \n",
    "# have the needed shape and type yet, need to transform every entry\n",
    "X_train_lda = np.array(list(map(np.array, training_df.lda_features)))\n",
    "X_train_w2v = np.array(list(map(np.array, training_df.w2v_features)))\n",
    "X_train_combined = np.append(X_train_lda, X_train_w2v, axis=1)"
   ]
  },
  {
   "cell_type": "code",
   "execution_count": 103,
   "metadata": {},
   "outputs": [],
   "source": [
    "# store all models in a dictionary\n",
    "models = dict()"
   ]
  },
  {
   "cell_type": "markdown",
   "metadata": {},
   "source": [
    "## Logistic Regression -- because working with log loss which requires predict_proba( )"
   ]
  },
  {
   "cell_type": "code",
   "execution_count": 104,
   "metadata": {},
   "outputs": [],
   "source": [
    "## commented out because the model does not perform well enough\n",
    "\n",
    "# # get best lda model\n",
    "# best_lda = get_cross_validated_model(pipe, param_grid, X_train_lda, training_df.category_id)\n",
    "\n",
    "# #models['best_lr_lda'] = best_lr_lda\n",
    "# models['best_lda'] = best_lda"
   ]
  },
  {
   "cell_type": "code",
   "execution_count": 105,
   "metadata": {
    "scrolled": false
   },
   "outputs": [
    {
     "name": "stdout",
     "output_type": "stream",
     "text": [
      "Fitting 5 folds for each of 100 candidates, totalling 500 fits\n"
     ]
    },
    {
     "name": "stderr",
     "output_type": "stream",
     "text": [
      "[Parallel(n_jobs=-1)]: Using backend LokyBackend with 4 concurrent workers.\n",
      "[Parallel(n_jobs=-1)]: Done 222 tasks      | elapsed:   23.8s\n",
      "[Parallel(n_jobs=-1)]: Done 420 tasks      | elapsed:  1.3min\n",
      "[Parallel(n_jobs=-1)]: Done 500 out of 500 | elapsed:  6.0min finished\n",
      "/home/clutch/anaconda3/envs/insight/lib/python3.7/site-packages/sklearn/model_selection/_search.py:813: DeprecationWarning: The default of the `iid` parameter will change from True to False in version 0.22 and will be removed in 0.24. This will change numeric results when test-set sizes are unequal.\n",
      "  DeprecationWarning)\n",
      "/home/clutch/anaconda3/envs/insight/lib/python3.7/site-packages/sklearn/linear_model/logistic.py:432: FutureWarning: Default solver will be changed to 'lbfgs' in 0.22. Specify a solver to silence this warning.\n",
      "  FutureWarning)\n",
      "/home/clutch/anaconda3/envs/insight/lib/python3.7/site-packages/sklearn/linear_model/logistic.py:469: FutureWarning: Default multi_class will be changed to 'auto' in 0.22. Specify the multi_class option to silence this warning.\n",
      "  \"this warning.\", FutureWarning)\n"
     ]
    },
    {
     "data": {
      "text/html": [
       "<div>\n",
       "<style scoped>\n",
       "    .dataframe tbody tr th:only-of-type {\n",
       "        vertical-align: middle;\n",
       "    }\n",
       "\n",
       "    .dataframe tbody tr th {\n",
       "        vertical-align: top;\n",
       "    }\n",
       "\n",
       "    .dataframe thead th {\n",
       "        text-align: right;\n",
       "    }\n",
       "</style>\n",
       "<table border=\"1\" class=\"dataframe\">\n",
       "  <thead>\n",
       "    <tr style=\"text-align: right;\">\n",
       "      <th></th>\n",
       "      <th>mean_test_score</th>\n",
       "      <th>rank_test_score</th>\n",
       "      <th>param_classifier</th>\n",
       "      <th>param_classifier__C</th>\n",
       "      <th>param_classifier__penalty</th>\n",
       "      <th>param_classifier__max_features</th>\n",
       "      <th>param_classifier__n_estimators</th>\n",
       "    </tr>\n",
       "  </thead>\n",
       "  <tbody>\n",
       "    <tr>\n",
       "      <th>32</th>\n",
       "      <td>-0.552988</td>\n",
       "      <td>1</td>\n",
       "      <td>LogisticRegression(C=545.5594781168514, class_...</td>\n",
       "      <td>545.559</td>\n",
       "      <td>l1</td>\n",
       "      <td>NaN</td>\n",
       "      <td>NaN</td>\n",
       "    </tr>\n",
       "    <tr>\n",
       "      <th>34</th>\n",
       "      <td>-0.592149</td>\n",
       "      <td>2</td>\n",
       "      <td>LogisticRegression(C=545.5594781168514, class_...</td>\n",
       "      <td>1438.45</td>\n",
       "      <td>l1</td>\n",
       "      <td>NaN</td>\n",
       "      <td>NaN</td>\n",
       "    </tr>\n",
       "    <tr>\n",
       "      <th>30</th>\n",
       "      <td>-0.603340</td>\n",
       "      <td>3</td>\n",
       "      <td>LogisticRegression(C=545.5594781168514, class_...</td>\n",
       "      <td>206.914</td>\n",
       "      <td>l1</td>\n",
       "      <td>NaN</td>\n",
       "      <td>NaN</td>\n",
       "    </tr>\n",
       "    <tr>\n",
       "      <th>39</th>\n",
       "      <td>-0.688385</td>\n",
       "      <td>4</td>\n",
       "      <td>LogisticRegression(C=545.5594781168514, class_...</td>\n",
       "      <td>10000</td>\n",
       "      <td>l2</td>\n",
       "      <td>NaN</td>\n",
       "      <td>NaN</td>\n",
       "    </tr>\n",
       "    <tr>\n",
       "      <th>36</th>\n",
       "      <td>-0.717659</td>\n",
       "      <td>5</td>\n",
       "      <td>LogisticRegression(C=545.5594781168514, class_...</td>\n",
       "      <td>3792.69</td>\n",
       "      <td>l1</td>\n",
       "      <td>NaN</td>\n",
       "      <td>NaN</td>\n",
       "    </tr>\n",
       "  </tbody>\n",
       "</table>\n",
       "</div>"
      ],
      "text/plain": [
       "    mean_test_score  rank_test_score  \\\n",
       "32        -0.552988                1   \n",
       "34        -0.592149                2   \n",
       "30        -0.603340                3   \n",
       "39        -0.688385                4   \n",
       "36        -0.717659                5   \n",
       "\n",
       "                                     param_classifier param_classifier__C  \\\n",
       "32  LogisticRegression(C=545.5594781168514, class_...             545.559   \n",
       "34  LogisticRegression(C=545.5594781168514, class_...             1438.45   \n",
       "30  LogisticRegression(C=545.5594781168514, class_...             206.914   \n",
       "39  LogisticRegression(C=545.5594781168514, class_...               10000   \n",
       "36  LogisticRegression(C=545.5594781168514, class_...             3792.69   \n",
       "\n",
       "   param_classifier__penalty param_classifier__max_features  \\\n",
       "32                        l1                            NaN   \n",
       "34                        l1                            NaN   \n",
       "30                        l1                            NaN   \n",
       "39                        l2                            NaN   \n",
       "36                        l1                            NaN   \n",
       "\n",
       "   param_classifier__n_estimators  \n",
       "32                            NaN  \n",
       "34                            NaN  \n",
       "30                            NaN  \n",
       "39                            NaN  \n",
       "36                            NaN  "
      ]
     },
     "metadata": {},
     "output_type": "display_data"
    }
   ],
   "source": [
    "## model with best classification performance\n",
    "\n",
    "# get best w2v model\n",
    "best_w2v = get_cross_validated_model(pipe, param_grid, X_train_w2v, training_df.category_id)\n",
    "\n",
    "#models['best_lr_w2v'] = best_lr_w2v\n",
    "models['best_w2v'] = best_w2v"
   ]
  },
  {
   "cell_type": "code",
   "execution_count": 106,
   "metadata": {},
   "outputs": [],
   "source": [
    "## commented out because the model does not perform well enough\n",
    "\n",
    "# # get best lda and w2v models combined\n",
    "# best_combined = get_cross_validated_model(pipe, param_grid, X_train_combined, training_df.category_id)\n",
    "\n",
    "# #models['best_lr_combined'] = best_lr_combined\n",
    "# models['best_combined'] = best_combined"
   ]
  },
  {
   "cell_type": "code",
   "execution_count": 107,
   "metadata": {},
   "outputs": [
    {
     "name": "stdout",
     "output_type": "stream",
     "text": [
      "Model best_w2v has a test score of: -0.5530\n"
     ]
    }
   ],
   "source": [
    "# output each models best score\n",
    "for name, model in models.items():\n",
    "    print(\"Model {} has a test score of: {:0.4f}\".format(name, float(model.best_score_)))"
   ]
  },
  {
   "cell_type": "markdown",
   "metadata": {},
   "source": [
    "## Save best models"
   ]
  },
  {
   "cell_type": "code",
   "execution_count": 108,
   "metadata": {},
   "outputs": [],
   "source": [
    "# save the model to disk\n",
    "#lda_file = 'models/best_lda_model.pkl'\n",
    "w2v_file = 'models/best_w2v_model_alt.pkl'\n",
    "#combined_file = 'models/best_combined_model.sav'"
   ]
  },
  {
   "cell_type": "code",
   "execution_count": 109,
   "metadata": {},
   "outputs": [],
   "source": [
    "#pickle.dump(models['best_lda'], open(lda_file, 'wb'))\n",
    "pickle.dump(best_w2v, open(w2v_file, 'wb'))\n",
    "#pickle.dump(models['best_combined'], open(combined_file, 'wb'))"
   ]
  },
  {
   "cell_type": "markdown",
   "metadata": {},
   "source": [
    "----------------------\n",
    "# Test Unseen Dataset and Validate Results\n",
    "\n",
    "### Create new Dataframe of unseen data to Test model"
   ]
  },
  {
   "cell_type": "code",
   "execution_count": 110,
   "metadata": {},
   "outputs": [
    {
     "name": "stderr",
     "output_type": "stream",
     "text": [
      "/home/clutch/anaconda3/envs/insight/lib/python3.7/site-packages/ipykernel_launcher.py:2: SettingWithCopyWarning: \n",
      "A value is trying to be set on a copy of a slice from a DataFrame.\n",
      "Try using .loc[row_indexer,col_indexer] = value instead\n",
      "\n",
      "See the caveats in the documentation: http://pandas.pydata.org/pandas-docs/stable/indexing.html#indexing-view-versus-copy\n",
      "  \n",
      "/home/clutch/anaconda3/envs/insight/lib/python3.7/site-packages/ipykernel_launcher.py:3: SettingWithCopyWarning: \n",
      "A value is trying to be set on a copy of a slice from a DataFrame.\n",
      "Try using .loc[row_indexer,col_indexer] = value instead\n",
      "\n",
      "See the caveats in the documentation: http://pandas.pydata.org/pandas-docs/stable/indexing.html#indexing-view-versus-copy\n",
      "  This is separate from the ipykernel package so we can avoid doing imports until\n",
      "/home/clutch/anaconda3/envs/insight/lib/python3.7/site-packages/ipykernel_launcher.py:4: SettingWithCopyWarning: \n",
      "A value is trying to be set on a copy of a slice from a DataFrame.\n",
      "Try using .loc[row_indexer,col_indexer] = value instead\n",
      "\n",
      "See the caveats in the documentation: http://pandas.pydata.org/pandas-docs/stable/indexing.html#indexing-view-versus-copy\n",
      "  after removing the cwd from sys.path.\n",
      "/home/clutch/anaconda3/envs/insight/lib/python3.7/site-packages/ipykernel_launcher.py:13: SettingWithCopyWarning: \n",
      "A value is trying to be set on a copy of a slice from a DataFrame.\n",
      "Try using .loc[row_indexer,col_indexer] = value instead\n",
      "\n",
      "See the caveats in the documentation: http://pandas.pydata.org/pandas-docs/stable/indexing.html#indexing-view-versus-copy\n",
      "  del sys.path[0]\n",
      "/home/clutch/anaconda3/envs/insight/lib/python3.7/site-packages/ipykernel_launcher.py:6: SettingWithCopyWarning: \n",
      "A value is trying to be set on a copy of a slice from a DataFrame.\n",
      "Try using .loc[row_indexer,col_indexer] = value instead\n",
      "\n",
      "See the caveats in the documentation: http://pandas.pydata.org/pandas-docs/stable/indexing.html#indexing-view-versus-copy\n",
      "  \n",
      "/home/clutch/anaconda3/envs/insight/lib/python3.7/site-packages/ipykernel_launcher.py:11: SettingWithCopyWarning: \n",
      "A value is trying to be set on a copy of a slice from a DataFrame.\n",
      "Try using .loc[row_indexer,col_indexer] = value instead\n",
      "\n",
      "See the caveats in the documentation: http://pandas.pydata.org/pandas-docs/stable/indexing.html#indexing-view-versus-copy\n",
      "  # This is added back by InteractiveShellApp.init_path()\n",
      "/home/clutch/anaconda3/envs/insight/lib/python3.7/site-packages/ipykernel_launcher.py:8: SettingWithCopyWarning: \n",
      "A value is trying to be set on a copy of a slice from a DataFrame.\n",
      "Try using .loc[row_indexer,col_indexer] = value instead\n",
      "\n",
      "See the caveats in the documentation: http://pandas.pydata.org/pandas-docs/stable/indexing.html#indexing-view-versus-copy\n",
      "  \n",
      "/home/clutch/anaconda3/envs/insight/lib/python3.7/site-packages/ipykernel_launcher.py:9: SettingWithCopyWarning: \n",
      "A value is trying to be set on a copy of a slice from a DataFrame.\n",
      "Try using .loc[row_indexer,col_indexer] = value instead\n",
      "\n",
      "See the caveats in the documentation: http://pandas.pydata.org/pandas-docs/stable/indexing.html#indexing-view-versus-copy\n",
      "  if __name__ == '__main__':\n",
      "/home/clutch/anaconda3/envs/insight/lib/python3.7/site-packages/ipykernel_launcher.py:12: SettingWithCopyWarning: \n",
      "A value is trying to be set on a copy of a slice from a DataFrame.\n",
      "Try using .loc[row_indexer,col_indexer] = value instead\n",
      "\n",
      "See the caveats in the documentation: http://pandas.pydata.org/pandas-docs/stable/indexing.html#indexing-view-versus-copy\n",
      "  if sys.path[0] == '':\n",
      "/home/clutch/anaconda3/envs/insight/lib/python3.7/site-packages/ipykernel_launcher.py:15: SettingWithCopyWarning: \n",
      "A value is trying to be set on a copy of a slice from a DataFrame.\n",
      "Try using .loc[row_indexer,col_indexer] = value instead\n",
      "\n",
      "See the caveats in the documentation: http://pandas.pydata.org/pandas-docs/stable/indexing.html#indexing-view-versus-copy\n",
      "  from ipykernel import kernelapp as app\n",
      "/home/clutch/anaconda3/envs/insight/lib/python3.7/site-packages/ipykernel_launcher.py:18: SettingWithCopyWarning: \n",
      "A value is trying to be set on a copy of a slice from a DataFrame.\n",
      "Try using .loc[row_indexer,col_indexer] = value instead\n",
      "\n",
      "See the caveats in the documentation: http://pandas.pydata.org/pandas-docs/stable/indexing.html#indexing-view-versus-copy\n"
     ]
    }
   ],
   "source": [
    "# preprocess test data\n",
    "lda_preprocessing(testing_df)\n",
    "w2v_preprocessing(testing_df)"
   ]
  },
  {
   "cell_type": "code",
   "execution_count": 111,
   "metadata": {},
   "outputs": [
    {
     "data": {
      "text/html": [
       "<div>\n",
       "<style scoped>\n",
       "    .dataframe tbody tr th:only-of-type {\n",
       "        vertical-align: middle;\n",
       "    }\n",
       "\n",
       "    .dataframe tbody tr th {\n",
       "        vertical-align: top;\n",
       "    }\n",
       "\n",
       "    .dataframe thead th {\n",
       "        text-align: right;\n",
       "    }\n",
       "</style>\n",
       "<table border=\"1\" class=\"dataframe\">\n",
       "  <thead>\n",
       "    <tr style=\"text-align: right;\">\n",
       "      <th></th>\n",
       "      <th>video_id</th>\n",
       "      <th>title</th>\n",
       "      <th>subtitles</th>\n",
       "      <th>primary_category</th>\n",
       "      <th>text</th>\n",
       "      <th>txt_len</th>\n",
       "      <th>summary</th>\n",
       "      <th>summary_len</th>\n",
       "      <th>prcnt_reduce</th>\n",
       "      <th>mentioned_tools</th>\n",
       "      <th>recommended_tools</th>\n",
       "      <th>tokenized_text</th>\n",
       "      <th>stopwords_removed</th>\n",
       "      <th>lemmatized_text</th>\n",
       "      <th>stemmed_text</th>\n",
       "      <th>bow</th>\n",
       "      <th>document_sentences</th>\n",
       "      <th>tokenized_sentences</th>\n",
       "    </tr>\n",
       "  </thead>\n",
       "  <tbody>\n",
       "    <tr>\n",
       "      <th>1</th>\n",
       "      <td>1rAg4wW8ta0</td>\n",
       "      <td>how to carpet van interior panels - diy van ca...</td>\n",
       "      <td>all right well today Im going to be covering t...</td>\n",
       "      <td>carpet_flooring</td>\n",
       "      <td>Just shows you don't need a fancy arsed worksh...</td>\n",
       "      <td>2711</td>\n",
       "      <td>How did you fix the panels, 🤙, screwed through...</td>\n",
       "      <td>476</td>\n",
       "      <td>82.441903</td>\n",
       "      <td>['square']</td>\n",
       "      <td>['duckbill napping shears', 'carpet knife', 's...</td>\n",
       "      <td>[how, to, carpet, van, interior, panels, diy, ...</td>\n",
       "      <td>[carpet, van, interior, panels, diy, van, carp...</td>\n",
       "      <td>[carpet, van, interior, panel, diy, van, carpe...</td>\n",
       "      <td>[carpet, van, interior, panel, diy, van, carpe...</td>\n",
       "      <td>[(0, 2), (1, 1), (2, 1), (3, 1)]</td>\n",
       "      <td>[how to carpet van interior panels - diy van c...</td>\n",
       "      <td>[[how, to, carpet, van, interior, panels, diy,...</td>\n",
       "    </tr>\n",
       "  </tbody>\n",
       "</table>\n",
       "</div>"
      ],
      "text/plain": [
       "      video_id                                              title  \\\n",
       "1  1rAg4wW8ta0  how to carpet van interior panels - diy van ca...   \n",
       "\n",
       "                                           subtitles primary_category  \\\n",
       "1  all right well today Im going to be covering t...  carpet_flooring   \n",
       "\n",
       "                                                text  txt_len  \\\n",
       "1  Just shows you don't need a fancy arsed worksh...     2711   \n",
       "\n",
       "                                             summary  summary_len  \\\n",
       "1  How did you fix the panels, 🤙, screwed through...          476   \n",
       "\n",
       "   prcnt_reduce mentioned_tools  \\\n",
       "1     82.441903      ['square']   \n",
       "\n",
       "                                   recommended_tools  \\\n",
       "1  ['duckbill napping shears', 'carpet knife', 's...   \n",
       "\n",
       "                                      tokenized_text  \\\n",
       "1  [how, to, carpet, van, interior, panels, diy, ...   \n",
       "\n",
       "                                   stopwords_removed  \\\n",
       "1  [carpet, van, interior, panels, diy, van, carp...   \n",
       "\n",
       "                                     lemmatized_text  \\\n",
       "1  [carpet, van, interior, panel, diy, van, carpe...   \n",
       "\n",
       "                                        stemmed_text  \\\n",
       "1  [carpet, van, interior, panel, diy, van, carpe...   \n",
       "\n",
       "                                bow  \\\n",
       "1  [(0, 2), (1, 1), (2, 1), (3, 1)]   \n",
       "\n",
       "                                  document_sentences  \\\n",
       "1  [how to carpet van interior panels - diy van c...   \n",
       "\n",
       "                                 tokenized_sentences  \n",
       "1  [[how, to, carpet, van, interior, panels, diy,...  "
      ]
     },
     "execution_count": 111,
     "metadata": {},
     "output_type": "execute_result"
    }
   ],
   "source": [
    "testing_df.head(1)"
   ]
  },
  {
   "cell_type": "code",
   "execution_count": 112,
   "metadata": {},
   "outputs": [
    {
     "name": "stderr",
     "output_type": "stream",
     "text": [
      "/home/clutch/anaconda3/envs/insight/lib/python3.7/site-packages/ipykernel_launcher.py:19: DeprecationWarning: Call to deprecated `__getitem__` (Method will be removed in 4.0.0, use self.wv.__getitem__() instead).\n",
      "/home/clutch/anaconda3/envs/insight/lib/python3.7/site-packages/ipykernel_launcher.py:7: SettingWithCopyWarning: \n",
      "A value is trying to be set on a copy of a slice from a DataFrame.\n",
      "Try using .loc[row_indexer,col_indexer] = value instead\n",
      "\n",
      "See the caveats in the documentation: http://pandas.pydata.org/pandas-docs/stable/indexing.html#indexing-view-versus-copy\n",
      "  import sys\n"
     ]
    }
   ],
   "source": [
    "# testing_df['lda_features'] = list(map(lambda doc:\n",
    "#                                      document_to_lda_features(LDAmodel, doc),\n",
    "#                                      testing_df.bow.copy()))\n",
    "\n",
    "testing_df['w2v_features'] = list(map(lambda sen_group:\n",
    "                                     get_w2v_features(W2Vmodel, sen_group),\n",
    "                                     testing_df.tokenized_sentences.copy()))"
   ]
  },
  {
   "cell_type": "code",
   "execution_count": 113,
   "metadata": {},
   "outputs": [
    {
     "data": {
      "text/html": [
       "<div>\n",
       "<style scoped>\n",
       "    .dataframe tbody tr th:only-of-type {\n",
       "        vertical-align: middle;\n",
       "    }\n",
       "\n",
       "    .dataframe tbody tr th {\n",
       "        vertical-align: top;\n",
       "    }\n",
       "\n",
       "    .dataframe thead th {\n",
       "        text-align: right;\n",
       "    }\n",
       "</style>\n",
       "<table border=\"1\" class=\"dataframe\">\n",
       "  <thead>\n",
       "    <tr style=\"text-align: right;\">\n",
       "      <th></th>\n",
       "      <th>video_id</th>\n",
       "      <th>title</th>\n",
       "      <th>subtitles</th>\n",
       "      <th>primary_category</th>\n",
       "      <th>text</th>\n",
       "      <th>txt_len</th>\n",
       "      <th>summary</th>\n",
       "      <th>summary_len</th>\n",
       "      <th>prcnt_reduce</th>\n",
       "      <th>mentioned_tools</th>\n",
       "      <th>recommended_tools</th>\n",
       "      <th>tokenized_text</th>\n",
       "      <th>stopwords_removed</th>\n",
       "      <th>lemmatized_text</th>\n",
       "      <th>stemmed_text</th>\n",
       "      <th>bow</th>\n",
       "      <th>document_sentences</th>\n",
       "      <th>tokenized_sentences</th>\n",
       "      <th>w2v_features</th>\n",
       "    </tr>\n",
       "  </thead>\n",
       "  <tbody>\n",
       "    <tr>\n",
       "      <th>1</th>\n",
       "      <td>1rAg4wW8ta0</td>\n",
       "      <td>how to carpet van interior panels - diy van ca...</td>\n",
       "      <td>all right well today Im going to be covering t...</td>\n",
       "      <td>carpet_flooring</td>\n",
       "      <td>Just shows you don't need a fancy arsed worksh...</td>\n",
       "      <td>2711</td>\n",
       "      <td>How did you fix the panels, 🤙, screwed through...</td>\n",
       "      <td>476</td>\n",
       "      <td>82.441903</td>\n",
       "      <td>['square']</td>\n",
       "      <td>['duckbill napping shears', 'carpet knife', 's...</td>\n",
       "      <td>[how, to, carpet, van, interior, panels, diy, ...</td>\n",
       "      <td>[carpet, van, interior, panels, diy, van, carp...</td>\n",
       "      <td>[carpet, van, interior, panel, diy, van, carpe...</td>\n",
       "      <td>[carpet, van, interior, panel, diy, van, carpe...</td>\n",
       "      <td>[(0, 2), (1, 1), (2, 1), (3, 1)]</td>\n",
       "      <td>[how to carpet van interior panels - diy van c...</td>\n",
       "      <td>[[how, to, carpet, van, interior, panels, diy,...</td>\n",
       "      <td>[0.011102308, -0.012431706, 0.04290495, -0.021...</td>\n",
       "    </tr>\n",
       "  </tbody>\n",
       "</table>\n",
       "</div>"
      ],
      "text/plain": [
       "      video_id                                              title  \\\n",
       "1  1rAg4wW8ta0  how to carpet van interior panels - diy van ca...   \n",
       "\n",
       "                                           subtitles primary_category  \\\n",
       "1  all right well today Im going to be covering t...  carpet_flooring   \n",
       "\n",
       "                                                text  txt_len  \\\n",
       "1  Just shows you don't need a fancy arsed worksh...     2711   \n",
       "\n",
       "                                             summary  summary_len  \\\n",
       "1  How did you fix the panels, 🤙, screwed through...          476   \n",
       "\n",
       "   prcnt_reduce mentioned_tools  \\\n",
       "1     82.441903      ['square']   \n",
       "\n",
       "                                   recommended_tools  \\\n",
       "1  ['duckbill napping shears', 'carpet knife', 's...   \n",
       "\n",
       "                                      tokenized_text  \\\n",
       "1  [how, to, carpet, van, interior, panels, diy, ...   \n",
       "\n",
       "                                   stopwords_removed  \\\n",
       "1  [carpet, van, interior, panels, diy, van, carp...   \n",
       "\n",
       "                                     lemmatized_text  \\\n",
       "1  [carpet, van, interior, panel, diy, van, carpe...   \n",
       "\n",
       "                                        stemmed_text  \\\n",
       "1  [carpet, van, interior, panel, diy, van, carpe...   \n",
       "\n",
       "                                bow  \\\n",
       "1  [(0, 2), (1, 1), (2, 1), (3, 1)]   \n",
       "\n",
       "                                  document_sentences  \\\n",
       "1  [how to carpet van interior panels - diy van c...   \n",
       "\n",
       "                                 tokenized_sentences  \\\n",
       "1  [[how, to, carpet, van, interior, panels, diy,...   \n",
       "\n",
       "                                        w2v_features  \n",
       "1  [0.011102308, -0.012431706, 0.04290495, -0.021...  "
      ]
     },
     "execution_count": 113,
     "metadata": {},
     "output_type": "execute_result"
    }
   ],
   "source": [
    "testing_df.head(1)"
   ]
  },
  {
   "cell_type": "code",
   "execution_count": 114,
   "metadata": {},
   "outputs": [],
   "source": [
    "testing_df.reset_index(inplace=True, drop=True)"
   ]
  },
  {
   "cell_type": "code",
   "execution_count": 115,
   "metadata": {},
   "outputs": [
    {
     "data": {
      "text/html": [
       "<div>\n",
       "<style scoped>\n",
       "    .dataframe tbody tr th:only-of-type {\n",
       "        vertical-align: middle;\n",
       "    }\n",
       "\n",
       "    .dataframe tbody tr th {\n",
       "        vertical-align: top;\n",
       "    }\n",
       "\n",
       "    .dataframe thead th {\n",
       "        text-align: right;\n",
       "    }\n",
       "</style>\n",
       "<table border=\"1\" class=\"dataframe\">\n",
       "  <thead>\n",
       "    <tr style=\"text-align: right;\">\n",
       "      <th></th>\n",
       "      <th>video_id</th>\n",
       "      <th>primary_category</th>\n",
       "      <th>w2v_features</th>\n",
       "    </tr>\n",
       "  </thead>\n",
       "  <tbody>\n",
       "    <tr>\n",
       "      <th>0</th>\n",
       "      <td>1rAg4wW8ta0</td>\n",
       "      <td>carpet_flooring</td>\n",
       "      <td>[0.011102308, -0.012431706, 0.04290495, -0.021...</td>\n",
       "    </tr>\n",
       "    <tr>\n",
       "      <th>1</th>\n",
       "      <td>2qAqFuo801U</td>\n",
       "      <td>carpet_flooring</td>\n",
       "      <td>[0.011766241, -0.011496131, 0.038528517, -0.01...</td>\n",
       "    </tr>\n",
       "    <tr>\n",
       "      <th>2</th>\n",
       "      <td>3-3gmCZm34E</td>\n",
       "      <td>carpet_flooring</td>\n",
       "      <td>[0.010759739, -0.01153224, 0.03908579, -0.0191...</td>\n",
       "    </tr>\n",
       "    <tr>\n",
       "      <th>3</th>\n",
       "      <td>4gUW-IhSMBc</td>\n",
       "      <td>carpet_flooring</td>\n",
       "      <td>[0.012692319, -0.016277144, 0.050641395, -0.02...</td>\n",
       "    </tr>\n",
       "    <tr>\n",
       "      <th>4</th>\n",
       "      <td>8AGMJGkbMSM</td>\n",
       "      <td>carpet_flooring</td>\n",
       "      <td>[0.013985188, -0.01512159, 0.04951886, -0.0233...</td>\n",
       "    </tr>\n",
       "  </tbody>\n",
       "</table>\n",
       "</div>"
      ],
      "text/plain": [
       "      video_id primary_category  \\\n",
       "0  1rAg4wW8ta0  carpet_flooring   \n",
       "1  2qAqFuo801U  carpet_flooring   \n",
       "2  3-3gmCZm34E  carpet_flooring   \n",
       "3  4gUW-IhSMBc  carpet_flooring   \n",
       "4  8AGMJGkbMSM  carpet_flooring   \n",
       "\n",
       "                                        w2v_features  \n",
       "0  [0.011102308, -0.012431706, 0.04290495, -0.021...  \n",
       "1  [0.011766241, -0.011496131, 0.038528517, -0.01...  \n",
       "2  [0.010759739, -0.01153224, 0.03908579, -0.0191...  \n",
       "3  [0.012692319, -0.016277144, 0.050641395, -0.02...  \n",
       "4  [0.013985188, -0.01512159, 0.04951886, -0.0233...  "
      ]
     },
     "execution_count": 115,
     "metadata": {},
     "output_type": "execute_result"
    }
   ],
   "source": [
    "testing_df[['video_id','primary_category','w2v_features']].head()"
   ]
  },
  {
   "cell_type": "code",
   "execution_count": 116,
   "metadata": {},
   "outputs": [],
   "source": [
    "for feat in testing_df[testing_df.index == 256]['w2v_features']:\n",
    "    #print(feat)\n",
    "    continue"
   ]
  },
  {
   "cell_type": "code",
   "execution_count": 117,
   "metadata": {},
   "outputs": [],
   "source": [
    "t_test = list(map(np.array, testing_df['w2v_features']))"
   ]
  },
  {
   "cell_type": "code",
   "execution_count": 118,
   "metadata": {},
   "outputs": [
    {
     "data": {
      "text/plain": [
       "array([[ 0.01110231, -0.01243171,  0.04290495, ...,  0.02433202,\n",
       "         0.0053365 ,  0.09363226],\n",
       "       [ 0.01176624, -0.01149613,  0.03852852, ...,  0.02104439,\n",
       "         0.00375232,  0.08502045],\n",
       "       [ 0.01075974, -0.01153224,  0.03908579, ...,  0.02188788,\n",
       "         0.00482663,  0.08689846],\n",
       "       ...,\n",
       "       [ 0.0148427 , -0.01527947,  0.04979928, ...,  0.02867531,\n",
       "         0.00695665,  0.10898177],\n",
       "       [ 0.0104244 , -0.01116752,  0.03883331, ...,  0.02235884,\n",
       "         0.00500909,  0.08461171],\n",
       "       [ 0.01248786, -0.01332258,  0.04486423, ...,  0.02461758,\n",
       "         0.00639711,  0.09877115]], dtype=float32)"
      ]
     },
     "execution_count": 118,
     "metadata": {},
     "output_type": "execute_result"
    }
   ],
   "source": [
    "np.array(t_test)"
   ]
  },
  {
   "cell_type": "code",
   "execution_count": 119,
   "metadata": {},
   "outputs": [],
   "source": [
    "# training_df['lda_features'] and training_df['w2v_features'] don't \n",
    "# have the needed shape and type yet, need to transform every entry\n",
    "#X_test_lda = np.array(list(map(np.array, test_data.lda_features)))\n",
    "X_test_w2v = np.array(list(map(np.array, testing_df.w2v_features)))\n",
    "#X_test_combined = np.append(X_test_lda, X_test_w2v, axis=1)"
   ]
  },
  {
   "cell_type": "code",
   "execution_count": 120,
   "metadata": {},
   "outputs": [
    {
     "data": {
      "text/plain": [
       "0.011102308"
      ]
     },
     "execution_count": 120,
     "metadata": {},
     "output_type": "execute_result"
    }
   ],
   "source": [
    "testing_df.w2v_features[0][0]"
   ]
  },
  {
   "cell_type": "code",
   "execution_count": 121,
   "metadata": {},
   "outputs": [
    {
     "data": {
      "text/plain": [
       "array([[ 0.01110231, -0.01243171,  0.04290495, ...,  0.02433202,\n",
       "         0.0053365 ,  0.09363226],\n",
       "       [ 0.01176624, -0.01149613,  0.03852852, ...,  0.02104439,\n",
       "         0.00375232,  0.08502045],\n",
       "       [ 0.01075974, -0.01153224,  0.03908579, ...,  0.02188788,\n",
       "         0.00482663,  0.08689846],\n",
       "       ...,\n",
       "       [ 0.0148427 , -0.01527947,  0.04979928, ...,  0.02867531,\n",
       "         0.00695665,  0.10898177],\n",
       "       [ 0.0104244 , -0.01116752,  0.03883331, ...,  0.02235884,\n",
       "         0.00500909,  0.08461171],\n",
       "       [ 0.01248786, -0.01332258,  0.04486423, ...,  0.02461758,\n",
       "         0.00639711,  0.09877115]], dtype=float32)"
      ]
     },
     "execution_count": 121,
     "metadata": {},
     "output_type": "execute_result"
    }
   ],
   "source": [
    "X_test_w2v"
   ]
  },
  {
   "cell_type": "code",
   "execution_count": 122,
   "metadata": {},
   "outputs": [
    {
     "name": "stderr",
     "output_type": "stream",
     "text": [
      "/home/clutch/anaconda3/envs/insight/lib/python3.7/site-packages/ipykernel_launcher.py:1: SettingWithCopyWarning: \n",
      "A value is trying to be set on a copy of a slice from a DataFrame.\n",
      "Try using .loc[row_indexer,col_indexer] = value instead\n",
      "\n",
      "See the caveats in the documentation: http://pandas.pydata.org/pandas-docs/stable/indexing.html#indexing-view-versus-copy\n",
      "  \"\"\"Entry point for launching an IPython kernel.\n"
     ]
    }
   ],
   "source": [
    "testing_df['category_id'] = label_encoder.transform(testing_df.primary_category.copy())\n",
    "#testing_df.head(3)"
   ]
  },
  {
   "cell_type": "code",
   "execution_count": 123,
   "metadata": {},
   "outputs": [
    {
     "data": {
      "text/html": [
       "<div>\n",
       "<style scoped>\n",
       "    .dataframe tbody tr th:only-of-type {\n",
       "        vertical-align: middle;\n",
       "    }\n",
       "\n",
       "    .dataframe tbody tr th {\n",
       "        vertical-align: top;\n",
       "    }\n",
       "\n",
       "    .dataframe thead th {\n",
       "        text-align: right;\n",
       "    }\n",
       "</style>\n",
       "<table border=\"1\" class=\"dataframe\">\n",
       "  <thead>\n",
       "    <tr style=\"text-align: right;\">\n",
       "      <th></th>\n",
       "      <th>video_id</th>\n",
       "      <th>title</th>\n",
       "      <th>subtitles</th>\n",
       "      <th>primary_category</th>\n",
       "      <th>text</th>\n",
       "      <th>txt_len</th>\n",
       "      <th>summary</th>\n",
       "      <th>summary_len</th>\n",
       "      <th>prcnt_reduce</th>\n",
       "      <th>mentioned_tools</th>\n",
       "      <th>recommended_tools</th>\n",
       "      <th>tokenized_text</th>\n",
       "      <th>stopwords_removed</th>\n",
       "      <th>lemmatized_text</th>\n",
       "      <th>stemmed_text</th>\n",
       "      <th>bow</th>\n",
       "      <th>document_sentences</th>\n",
       "      <th>tokenized_sentences</th>\n",
       "      <th>w2v_features</th>\n",
       "      <th>category_id</th>\n",
       "    </tr>\n",
       "  </thead>\n",
       "  <tbody>\n",
       "    <tr>\n",
       "      <th>0</th>\n",
       "      <td>1rAg4wW8ta0</td>\n",
       "      <td>how to carpet van interior panels - diy van ca...</td>\n",
       "      <td>all right well today Im going to be covering t...</td>\n",
       "      <td>carpet_flooring</td>\n",
       "      <td>Just shows you don't need a fancy arsed worksh...</td>\n",
       "      <td>2711</td>\n",
       "      <td>How did you fix the panels, 🤙, screwed through...</td>\n",
       "      <td>476</td>\n",
       "      <td>82.441903</td>\n",
       "      <td>['square']</td>\n",
       "      <td>['duckbill napping shears', 'carpet knife', 's...</td>\n",
       "      <td>[how, to, carpet, van, interior, panels, diy, ...</td>\n",
       "      <td>[carpet, van, interior, panels, diy, van, carp...</td>\n",
       "      <td>[carpet, van, interior, panel, diy, van, carpe...</td>\n",
       "      <td>[carpet, van, interior, panel, diy, van, carpe...</td>\n",
       "      <td>[(0, 2), (1, 1), (2, 1), (3, 1)]</td>\n",
       "      <td>[how to carpet van interior panels - diy van c...</td>\n",
       "      <td>[[how, to, carpet, van, interior, panels, diy,...</td>\n",
       "      <td>[0.011102308, -0.012431706, 0.04290495, -0.021...</td>\n",
       "      <td>1</td>\n",
       "    </tr>\n",
       "  </tbody>\n",
       "</table>\n",
       "</div>"
      ],
      "text/plain": [
       "      video_id                                              title  \\\n",
       "0  1rAg4wW8ta0  how to carpet van interior panels - diy van ca...   \n",
       "\n",
       "                                           subtitles primary_category  \\\n",
       "0  all right well today Im going to be covering t...  carpet_flooring   \n",
       "\n",
       "                                                text  txt_len  \\\n",
       "0  Just shows you don't need a fancy arsed worksh...     2711   \n",
       "\n",
       "                                             summary  summary_len  \\\n",
       "0  How did you fix the panels, 🤙, screwed through...          476   \n",
       "\n",
       "   prcnt_reduce mentioned_tools  \\\n",
       "0     82.441903      ['square']   \n",
       "\n",
       "                                   recommended_tools  \\\n",
       "0  ['duckbill napping shears', 'carpet knife', 's...   \n",
       "\n",
       "                                      tokenized_text  \\\n",
       "0  [how, to, carpet, van, interior, panels, diy, ...   \n",
       "\n",
       "                                   stopwords_removed  \\\n",
       "0  [carpet, van, interior, panels, diy, van, carp...   \n",
       "\n",
       "                                     lemmatized_text  \\\n",
       "0  [carpet, van, interior, panel, diy, van, carpe...   \n",
       "\n",
       "                                        stemmed_text  \\\n",
       "0  [carpet, van, interior, panel, diy, van, carpe...   \n",
       "\n",
       "                                bow  \\\n",
       "0  [(0, 2), (1, 1), (2, 1), (3, 1)]   \n",
       "\n",
       "                                  document_sentences  \\\n",
       "0  [how to carpet van interior panels - diy van c...   \n",
       "\n",
       "                                 tokenized_sentences  \\\n",
       "0  [[how, to, carpet, van, interior, panels, diy,...   \n",
       "\n",
       "                                        w2v_features  category_id  \n",
       "0  [0.011102308, -0.012431706, 0.04290495, -0.021...            1  "
      ]
     },
     "execution_count": 123,
     "metadata": {},
     "output_type": "execute_result"
    }
   ],
   "source": [
    "testing_df.head(1)"
   ]
  },
  {
   "cell_type": "code",
   "execution_count": 124,
   "metadata": {},
   "outputs": [
    {
     "data": {
      "text/plain": [
       "array(['build_deck', 'carpet_flooring', 'drywall_repair',\n",
       "       'laminate_flooring', 'repair_wood_fence'], dtype=object)"
      ]
     },
     "execution_count": 124,
     "metadata": {},
     "output_type": "execute_result"
    }
   ],
   "source": [
    "label_encoder.classes_"
   ]
  },
  {
   "cell_type": "code",
   "execution_count": 125,
   "metadata": {},
   "outputs": [],
   "source": [
    "#best_lda.predict_proba(X_test_lda)"
   ]
  },
  {
   "cell_type": "code",
   "execution_count": 126,
   "metadata": {},
   "outputs": [],
   "source": [
    "predictions = best_w2v.predict_proba(X_test_w2v)"
   ]
  },
  {
   "cell_type": "code",
   "execution_count": 127,
   "metadata": {},
   "outputs": [
    {
     "data": {
      "text/plain": [
       "array([[1.58438658e-01, 7.84333487e-01, 3.13882962e-02, 1.11169548e-02,\n",
       "        1.47226041e-02],\n",
       "       [4.69545318e-04, 8.87904212e-01, 3.74663205e-03, 1.07693236e-01,\n",
       "        1.86374386e-04],\n",
       "       [2.04323790e-01, 5.48105808e-01, 1.14314349e-01, 1.29660745e-01,\n",
       "        3.59530793e-03],\n",
       "       ...,\n",
       "       [1.89958233e-03, 8.64863855e-06, 9.96473590e-01, 1.60538715e-03,\n",
       "        1.27922975e-05],\n",
       "       [2.84279819e-02, 4.03228471e-02, 8.72312141e-01, 1.55196285e-02,\n",
       "        4.34174018e-02],\n",
       "       [8.82601561e-03, 1.00213465e-02, 9.17319806e-01, 3.86963478e-03,\n",
       "        5.99631969e-02]])"
      ]
     },
     "execution_count": 127,
     "metadata": {},
     "output_type": "execute_result"
    }
   ],
   "source": [
    "predictions"
   ]
  },
  {
   "cell_type": "code",
   "execution_count": 128,
   "metadata": {},
   "outputs": [],
   "source": [
    "idx = testing_df.index[testing_df['video_id'] == '0jhqbnM-5XQ'].tolist()"
   ]
  },
  {
   "cell_type": "code",
   "execution_count": 129,
   "metadata": {},
   "outputs": [
    {
     "data": {
      "text/plain": [
       "array([[0.21781831, 0.490904  , 0.0333988 , 0.06915321, 0.18872568]])"
      ]
     },
     "execution_count": 129,
     "metadata": {},
     "output_type": "execute_result"
    }
   ],
   "source": [
    "predictions[idx]"
   ]
  },
  {
   "cell_type": "code",
   "execution_count": 130,
   "metadata": {},
   "outputs": [],
   "source": [
    "#best_combined.predict_proba(X_test_combined)"
   ]
  },
  {
   "cell_type": "markdown",
   "metadata": {},
   "source": [
    "## Output Training and Testing Data"
   ]
  },
  {
   "cell_type": "code",
   "execution_count": 131,
   "metadata": {},
   "outputs": [],
   "source": [
    "# train_to_pkl_filename = 'data/csv_files/train_data.pkl'\n",
    "# test_to_pkl_filename = 'data/csv_files/test_data.pkl'\n",
    "# training_df.to_pickle(train_to_pkl_filename)\n",
    "# testing_df.to_pickle(test_to_pkl_filename)"
   ]
  },
  {
   "cell_type": "code",
   "execution_count": 132,
   "metadata": {},
   "outputs": [],
   "source": [
    "train_to_csv_filename = 'data/csv_files/train_data_alt.csv'\n",
    "test_to_csv_filename = 'data/csv_files/test_data_alt.csv'\n",
    "training_df.to_csv(train_to_csv_filename, sep=',')\n",
    "testing_df.to_csv(test_to_csv_filename, sep=',')"
   ]
  },
  {
   "cell_type": "code",
   "execution_count": 133,
   "metadata": {},
   "outputs": [],
   "source": [
    "train_to_pkl_filename = 'data/csv_files/train_data_alt.pkl'\n",
    "test_to_pkl_filename = 'data/csv_files/test_data_alt.pkl'\n",
    "training_df.to_pickle(train_to_pkl_filename)\n",
    "testing_df.to_pickle(test_to_pkl_filename)"
   ]
  },
  {
   "cell_type": "code",
   "execution_count": null,
   "metadata": {},
   "outputs": [],
   "source": []
  },
  {
   "cell_type": "markdown",
   "metadata": {},
   "source": [
    "## START ATTEMPT TO LOCATE TOOLS IN SUBTITLES"
   ]
  },
  {
   "cell_type": "code",
   "execution_count": 1,
   "metadata": {},
   "outputs": [],
   "source": [
    "%matplotlib inline\n",
    "\n",
    "import os\n",
    "import re\n",
    "import numpy as np\n",
    "import pandas as pd"
   ]
  },
  {
   "cell_type": "code",
   "execution_count": 2,
   "metadata": {},
   "outputs": [],
   "source": [
    "import spacy\n",
    "nlp = spacy.load('en_core_web_lg')"
   ]
  },
  {
   "cell_type": "code",
   "execution_count": 3,
   "metadata": {},
   "outputs": [],
   "source": [
    "from spacy.matcher import Matcher"
   ]
  },
  {
   "cell_type": "code",
   "execution_count": 4,
   "metadata": {},
   "outputs": [],
   "source": [
    "m_tool = Matcher(nlp.vocab)"
   ]
  },
  {
   "cell_type": "code",
   "execution_count": 5,
   "metadata": {},
   "outputs": [
    {
     "data": {
      "text/html": [
       "<div>\n",
       "<style scoped>\n",
       "    .dataframe tbody tr th:only-of-type {\n",
       "        vertical-align: middle;\n",
       "    }\n",
       "\n",
       "    .dataframe tbody tr th {\n",
       "        vertical-align: top;\n",
       "    }\n",
       "\n",
       "    .dataframe thead th {\n",
       "        text-align: right;\n",
       "    }\n",
       "</style>\n",
       "<table border=\"1\" class=\"dataframe\">\n",
       "  <thead>\n",
       "    <tr style=\"text-align: right;\">\n",
       "      <th></th>\n",
       "      <th>video_id</th>\n",
       "      <th>title</th>\n",
       "      <th>subtitles</th>\n",
       "      <th>primary_category</th>\n",
       "      <th>text</th>\n",
       "      <th>txt_len</th>\n",
       "      <th>summary</th>\n",
       "      <th>summary_len</th>\n",
       "      <th>prcnt_reduce</th>\n",
       "    </tr>\n",
       "  </thead>\n",
       "  <tbody>\n",
       "    <tr>\n",
       "      <th>0</th>\n",
       "      <td>09Q4JQ3p8yg</td>\n",
       "      <td>How to remove popcorn stipple ceiling</td>\n",
       "      <td>hi Shannon here from health improvements and t...</td>\n",
       "      <td>drywall_repair</td>\n",
       "      <td>asmr **, I love you, Im here from Instagram lm...</td>\n",
       "      <td>90480</td>\n",
       "      <td>Ines rivera meeeeeee, me, 🙋‍♀️guilty, me, ines...</td>\n",
       "      <td>656</td>\n",
       "      <td>99.274978</td>\n",
       "    </tr>\n",
       "    <tr>\n",
       "      <th>1</th>\n",
       "      <td>0Aip_xxpia4</td>\n",
       "      <td>How to install carpet tiles</td>\n",
       "      <td>were going to replace this tired old wall-to-w...</td>\n",
       "      <td>carpet_flooring</td>\n",
       "      <td>Interface do a product called tactiles which a...</td>\n",
       "      <td>2183</td>\n",
       "      <td>If you're able to :), use a mover disc for fuc...</td>\n",
       "      <td>398</td>\n",
       "      <td>81.768209</td>\n",
       "    </tr>\n",
       "    <tr>\n",
       "      <th>2</th>\n",
       "      <td>0COOF3BwgKI</td>\n",
       "      <td>Fix small nail holes in walls fast and make th...</td>\n",
       "      <td>so you like to hang pictures on your wall if y...</td>\n",
       "      <td>drywall_repair</td>\n",
       "      <td>Glad I could help then.  Be sure and subscribe...</td>\n",
       "      <td>8009</td>\n",
       "      <td>We have drywall hanging tools, finishing tools...</td>\n",
       "      <td>658</td>\n",
       "      <td>91.784243</td>\n",
       "    </tr>\n",
       "    <tr>\n",
       "      <th>3</th>\n",
       "      <td>0J8q_Lsh4fU</td>\n",
       "      <td>Hog wire deck rail installation</td>\n",
       "      <td>hi im paul from Elkins diy.com today Im going ...</td>\n",
       "      <td>build_deck</td>\n",
       "      <td>Thanks Naegling, off topic but where are u get...</td>\n",
       "      <td>8102</td>\n",
       "      <td>Silicone in the crevices is a great idea, 사랑합니...</td>\n",
       "      <td>522</td>\n",
       "      <td>93.557146</td>\n",
       "    </tr>\n",
       "    <tr>\n",
       "      <th>4</th>\n",
       "      <td>0RuwaSU71rY</td>\n",
       "      <td>Replacing a section of drywall after a pipe leak</td>\n",
       "      <td>hi Im Mike Thompson last night was a bit of an...</td>\n",
       "      <td>drywall_repair</td>\n",
       "      <td>Great Job , Mike Thompson, good instructional ...</td>\n",
       "      <td>4012</td>\n",
       "      <td>Great job , mike thompson, good instructional ...</td>\n",
       "      <td>623</td>\n",
       "      <td>84.471585</td>\n",
       "    </tr>\n",
       "  </tbody>\n",
       "</table>\n",
       "</div>"
      ],
      "text/plain": [
       "      video_id                                              title  \\\n",
       "0  09Q4JQ3p8yg              How to remove popcorn stipple ceiling   \n",
       "1  0Aip_xxpia4                        How to install carpet tiles   \n",
       "2  0COOF3BwgKI  Fix small nail holes in walls fast and make th...   \n",
       "3  0J8q_Lsh4fU                    Hog wire deck rail installation   \n",
       "4  0RuwaSU71rY   Replacing a section of drywall after a pipe leak   \n",
       "\n",
       "                                           subtitles primary_category  \\\n",
       "0  hi Shannon here from health improvements and t...   drywall_repair   \n",
       "1  were going to replace this tired old wall-to-w...  carpet_flooring   \n",
       "2  so you like to hang pictures on your wall if y...   drywall_repair   \n",
       "3  hi im paul from Elkins diy.com today Im going ...       build_deck   \n",
       "4  hi Im Mike Thompson last night was a bit of an...   drywall_repair   \n",
       "\n",
       "                                                text  txt_len  \\\n",
       "0  asmr **, I love you, Im here from Instagram lm...    90480   \n",
       "1  Interface do a product called tactiles which a...     2183   \n",
       "2  Glad I could help then.  Be sure and subscribe...     8009   \n",
       "3  Thanks Naegling, off topic but where are u get...     8102   \n",
       "4  Great Job , Mike Thompson, good instructional ...     4012   \n",
       "\n",
       "                                             summary  summary_len  \\\n",
       "0  Ines rivera meeeeeee, me, 🙋‍♀️guilty, me, ines...          656   \n",
       "1  If you're able to :), use a mover disc for fuc...          398   \n",
       "2  We have drywall hanging tools, finishing tools...          658   \n",
       "3  Silicone in the crevices is a great idea, 사랑합니...          522   \n",
       "4  Great job , mike thompson, good instructional ...          623   \n",
       "\n",
       "   prcnt_reduce  \n",
       "0     99.274978  \n",
       "1     81.768209  \n",
       "2     91.784243  \n",
       "3     93.557146  \n",
       "4     84.471585  "
      ]
     },
     "execution_count": 5,
     "metadata": {},
     "output_type": "execute_result"
    }
   ],
   "source": [
    "from_csv_filename = 'data/csv_files/summarized_data.csv'\n",
    "data_df = pd.read_csv(from_csv_filename, sep=',')\n",
    "data_df.head()"
   ]
  },
  {
   "cell_type": "code",
   "execution_count": 6,
   "metadata": {},
   "outputs": [],
   "source": [
    "p1=[{'LOWER':'duckbill napping shears'},{'LOWER':'duck bill'},{'LOWER':'napping'},{'LOWER':'shear'}]\n",
    "p2=[{'LOWER':'heavy weight carpet roller'},{'LOWER':'carpet roller'},{'LOWER':'roller'}]\n",
    "p3=[{'LOWER':'ear plug'},{'LOWER':'ear'},{'LOWER':'plug'}]\n",
    "p4=[{'LOWER':'dust mask'},{'LOWER':'dust'},{'LOWER':'mask'}]\n",
    "p5=[{'LOWER':'tongue & groove plier'},{'LOWER':'wrench'}]\n",
    "p6=[{'LOWER':'gloves'},{'LOWER':'work gloves'}]\n",
    "p7=[{'LOWER':'vise'},{'LOWER':'trimmer'}]\n",
    "p8=[{'LOWER':'tapping block'},{'LOWER':'tongue and groove'}]\n",
    "p9=[{'LOWER':'measuring tape'},{'LOWER':'tape measure'}]\n",
    "p10=[{'LOWER':'power stretcher'},{'LOWER':'stretcher'}]\n",
    "p11=[{'LOWER':'scissors'},{'LOWER':'screwdriver'}]\n",
    "p12=[{'LOWER':'belt sander'},{'LOWER':'sander'}]\n",
    "p13=[{'LOWER':'pry bar'},{'LOWER':'pry'}]\n",
    "p14=[{'LOWER':'knee pad'},{'LOWER':'pad'}]\n",
    "p15=[{'LOWER':'rubber mallet'},{'LOWER':'mallet'}]\n",
    "p16=[{'LOWER':'post hole digger'},{'LOWER':'hole digger'}]\n",
    "p17=[{'LOWER':'dead blow hammer'},{'LOWER':'dead bolt'}]\n",
    "p18=[{'LOWER':'air compressor'},{'LOWER':'compressor'}]\n",
    "p19=[{'LOWER':'wire stripper'}]\n",
    "p20=[{'LOWER':'wall trimmer'}]\n",
    "p21=[{'LOWER':'veneer cutter'}]\n",
    "p22=[{'LOWER':'utility knife'}]\n",
    "p23=[{'LOWER':'trowel'}]\n",
    "p24=[{'LOWER':'torque wrench'}]\n",
    "p25=[{'LOWER':'taping knife'}]\n",
    "p26=[{'LOWER':'tap'}]\n",
    "p27=[{'LOWER':'table saw'}]\n",
    "p28=[{'LOWER':'stud finder'}]\n",
    "p29=[{'LOWER':'stapler'}]\n",
    "p30=[{'LOWER':'stair tool'}]\n",
    "p31=[{'LOWER':'square'}]\n",
    "p32=[{'LOWER':'sponge'}]\n",
    "p33=[{'LOWER':'spatula'}]\n",
    "p34=[{'LOWER':'spacers'}]\n",
    "p35=[{'LOWER':'socket'}]\n",
    "p36=[{'LOWER':'snips'}]\n",
    "p37=[{'LOWER':'snap ring plier'}]\n",
    "p38=[{'LOWER':'slip joint plier'}]\n",
    "p39=[{'LOWER':'sledge hammer'}]\n",
    "p40=[{'LOWER':'shovel'}]\n",
    "p41=[{'LOWER':'seaming iron'}]\n",
    "p42=[{'LOWER':'seam roller'}]\n",
    "p43=[{'LOWER':'screw driver'}]\n",
    "p44=[{'LOWER':'saws-all'}]\n",
    "p45=[{'LOWER':'saw'}]\n",
    "p46=[{'LOWER':'sand paper'}]\n",
    "p47=[{'LOWER':'safety glasses'}]\n",
    "p48=[{'LOWER':'router'}]\n",
    "p49=[{'LOWER':'rotary hammer'}]\n",
    "p50=[{'LOWER':'rivet tool'}]\n",
    "p51=[{'LOWER':'right angle drill'}]\n",
    "p52=[{'LOWER':'reciprocating saw'}]\n",
    "p53=[{'LOWER':'ratchet'}]\n",
    "p54=[{'LOWER':'putty knife'}]\n",
    "p55=[{'LOWER':'punch'}]\n",
    "p56=[{'LOWER':'power drill'}]\n",
    "p57=[{'LOWER':'plumb bob'}]\n",
    "p58=[{'LOWER':'plumb and square'}]\n",
    "p59=[{'LOWER':'plier'}]\n",
    "p60=[{'LOWER':'pipe wrench'}]\n",
    "p61=[{'LOWER':'pencil'}]\n",
    "p62=[{'LOWER':'panel saw'}]\n",
    "p63=[{'LOWER':'oscillating saw'}]\n",
    "p64=[{'LOWER':'orbital sander'}]\n",
    "p65=[{'LOWER':'needle nose plier'}]\n",
    "p66=[{'LOWER':'nail puller'}]\n",
    "p67=[{'LOWER':'nail gun'}]\n",
    "p68=[{'LOWER':'nail driver'}]\n",
    "p69=[{'LOWER':'mud pan'}]\n",
    "p70=[{'LOWER':'miter saw'}]\n",
    "p71=[{'LOWER':'metal snips'}]\n",
    "p72=[{'LOWER':'maul'}]\n",
    "p73=[{'LOWER':'mason line'}]\n",
    "p74=[{'LOWER':'machete'}]\n",
    "p75=[{'LOWER':'linoleum knife'}]\n",
    "p76=[{'LOWER':'lineman plier'}]\n",
    "p77=[{'LOWER':'level'}]\n",
    "p78=[{'LOWER':'knee kicker'}]\n",
    "p79=[{'LOWER':'joint knife'}]\n",
    "p80=[{'LOWER':'jigsaw'}]\n",
    "p81=[{'LOWER':'jig'}]\n",
    "p82=[{'LOWER':'jamb saw'}]\n",
    "p83=[{'LOWER':'impact socket'}]\n",
    "p84=[{'LOWER':'hex key'}]\n",
    "p85=[{'LOWER':'hatchet'}]\n",
    "p86=[{'LOWER':'hand saw'}]\n",
    "p87=[{'LOWER':'hammer'}]\n",
    "p88=[{'LOWER':'hammer staple'}]\n",
    "p89=[{'LOWER':'hammer drill'}]\n",
    "p90=[{'LOWER':'hack saw'}]\n",
    "p91=[{'LOWER':'grommet'}]\n",
    "p92=[{'LOWER':'glue gun'}]\n",
    "p93=[{'LOWER':'glass cutter'}]\n",
    "p94=[{'LOWER':'floor scraper'}]\n",
    "p95=[{'LOWER':'file'}]\n",
    "p96=[{'LOWER':'electric staple gun'}]\n",
    "p97=[{'LOWER':'drilling hammer'}]\n",
    "p98=[{'LOWER':'drill'}]\n",
    "p99=[{'LOWER':'dividers'}]\n",
    "p100=[{'LOWER':'deck screws'}]\n",
    "p101=[{'LOWER':'cutting plier'}]\n",
    "p102=[{'LOWER':'crimper'}]\n",
    "p103=[{'LOWER':'clamp'}]\n",
    "p104=[{'LOWER':'circular saw'}]\n",
    "p105=[{'LOWER':'chop saw'}]\n",
    "p106=[{'LOWER':'chalk'}]\n",
    "p107=[{'LOWER':'chalk line'}]\n",
    "p108=[{'LOWER':'caulking gun'}]\n",
    "p109=[{'LOWER':'carpet tucker'}]\n",
    "p110=[{'LOWER':'carpet row cutter'}]\n",
    "p111=[{'LOWER':'carpet knife'}]\n",
    "p112=[{'LOWER':'breaker bar'}]\n",
    "p113=[{'LOWER':'bolt cutter'}]\n",
    "p114=[{'LOWER':'band saw'}]\n",
    "p115=[{'LOWER':'axe'}]\n",
    "p116=[{'LOWER':'awl'}]\n",
    "p117=[{'LOWER': 'side'}, {'LOWER': 'cutters'}]\n",
    "p118=[{'LOWER': 'electrical'}, {'LOWER': 'tape'}]\n",
    "p119=[{'LOWER': 'drill bit'}]\n",
    "p120=[{'LOWER': 'paper towel'}, {'LOWER': 'papertowel'}]"
   ]
  },
  {
   "cell_type": "code",
   "execution_count": 7,
   "metadata": {},
   "outputs": [],
   "source": [
    "m_tool.add('QBF',  None,  p1, p2, p3, p4, p5, p6, p7, p8, p9, p10, p11, \n",
    "           p12, p13, p14, p15, p16, p17, p18, p19, p20, p21, p22, p23, \n",
    "           p24, p25, p26, p27, p28, p29, p30, p31, p32, p33, p34, p35, \n",
    "           p36, p37, p38, p39, p40, p41, p42, p43, p44, p45, p46, p47, \n",
    "           p48, p49, p50, p51, p52, p53, p54, p55, p56, p57, p58, p59, \n",
    "           p60, p61, p62, p63, p64, p65, p66, p67, p68, p69, p70, p71, \n",
    "           p72, p73, p74, p75, p76, p77, p78, p79, p80, p81, p82, p83, \n",
    "           p84, p85, p86, p87, p88, p89, p90, p91, p92, p93, p94, p95, \n",
    "           p96, p97, p98, p99, p100, p101, p102, p103, p104, p105, p106, \n",
    "           p107, p108, p109, p110, p111, p112, p113, p114, p115, p116, \n",
    "           p117, p118, p119, p120)"
   ]
  },
  {
   "cell_type": "code",
   "execution_count": 8,
   "metadata": {},
   "outputs": [],
   "source": [
    "sentence = nlp(data_df.subtitles[100])"
   ]
  },
  {
   "cell_type": "code",
   "execution_count": 9,
   "metadata": {},
   "outputs": [],
   "source": [
    "#data_df.title[200]"
   ]
  },
  {
   "cell_type": "code",
   "execution_count": 10,
   "metadata": {},
   "outputs": [],
   "source": [
    "#data_df.subtitles[200]"
   ]
  },
  {
   "cell_type": "code",
   "execution_count": 11,
   "metadata": {},
   "outputs": [
    {
     "name": "stdout",
     "output_type": "stream",
     "text": [
      "[(12825528024649263697, 35, 36), (12825528024649263697, 37, 39), (12825528024649263697, 42, 44), (12825528024649263697, 55, 56), (12825528024649263697, 279, 281)]\n"
     ]
    }
   ],
   "source": [
    "phrase_matches = m_tool(sentence)  \n",
    "print(phrase_matches )"
   ]
  },
  {
   "cell_type": "code",
   "execution_count": 14,
   "metadata": {},
   "outputs": [],
   "source": [
    "def check_tools(subtitles):\n",
    "    list_of_tools = []\n",
    "    sentence = nlp(subtitles)\n",
    "    phrase_matches = m_tool(sentence)\n",
    "    for match_id, start, end in phrase_matches:\n",
    "        string_id = nlp.vocab.strings[match_id]\n",
    "        span = sentence[start:end]\n",
    "        list_of_tools.append(span.text)\n",
    "    return list(set(list_of_tools))\n",
    "    #print(match_id, string_id, start, end, span.text)"
   ]
  },
  {
   "cell_type": "code",
   "execution_count": 17,
   "metadata": {},
   "outputs": [],
   "source": [
    "data_df['mentioned_tools'] = [check_tools(s.lower()) for s in data_df.subtitles]"
   ]
  },
  {
   "cell_type": "code",
   "execution_count": 18,
   "metadata": {},
   "outputs": [
    {
     "data": {
      "text/html": [
       "<div>\n",
       "<style scoped>\n",
       "    .dataframe tbody tr th:only-of-type {\n",
       "        vertical-align: middle;\n",
       "    }\n",
       "\n",
       "    .dataframe tbody tr th {\n",
       "        vertical-align: top;\n",
       "    }\n",
       "\n",
       "    .dataframe thead th {\n",
       "        text-align: right;\n",
       "    }\n",
       "</style>\n",
       "<table border=\"1\" class=\"dataframe\">\n",
       "  <thead>\n",
       "    <tr style=\"text-align: right;\">\n",
       "      <th></th>\n",
       "      <th>video_id</th>\n",
       "      <th>title</th>\n",
       "      <th>subtitles</th>\n",
       "      <th>primary_category</th>\n",
       "      <th>text</th>\n",
       "      <th>txt_len</th>\n",
       "      <th>summary</th>\n",
       "      <th>summary_len</th>\n",
       "      <th>prcnt_reduce</th>\n",
       "      <th>mentioned_tools</th>\n",
       "    </tr>\n",
       "  </thead>\n",
       "  <tbody>\n",
       "    <tr>\n",
       "      <th>0</th>\n",
       "      <td>09Q4JQ3p8yg</td>\n",
       "      <td>How to remove popcorn stipple ceiling</td>\n",
       "      <td>hi Shannon here from health improvements and t...</td>\n",
       "      <td>drywall_repair</td>\n",
       "      <td>asmr **, I love you, Im here from Instagram lm...</td>\n",
       "      <td>90480</td>\n",
       "      <td>Ines rivera meeeeeee, me, 🙋‍♀️guilty, me, ines...</td>\n",
       "      <td>656</td>\n",
       "      <td>99.274978</td>\n",
       "      <td>[square]</td>\n",
       "    </tr>\n",
       "    <tr>\n",
       "      <th>1</th>\n",
       "      <td>0Aip_xxpia4</td>\n",
       "      <td>How to install carpet tiles</td>\n",
       "      <td>were going to replace this tired old wall-to-w...</td>\n",
       "      <td>carpet_flooring</td>\n",
       "      <td>Interface do a product called tactiles which a...</td>\n",
       "      <td>2183</td>\n",
       "      <td>If you're able to :), use a mover disc for fuc...</td>\n",
       "      <td>398</td>\n",
       "      <td>81.768209</td>\n",
       "      <td>[chalk, square]</td>\n",
       "    </tr>\n",
       "    <tr>\n",
       "      <th>2</th>\n",
       "      <td>0COOF3BwgKI</td>\n",
       "      <td>Fix small nail holes in walls fast and make th...</td>\n",
       "      <td>so you like to hang pictures on your wall if y...</td>\n",
       "      <td>drywall_repair</td>\n",
       "      <td>Glad I could help then.  Be sure and subscribe...</td>\n",
       "      <td>8009</td>\n",
       "      <td>We have drywall hanging tools, finishing tools...</td>\n",
       "      <td>658</td>\n",
       "      <td>91.784243</td>\n",
       "      <td>[level, sponge]</td>\n",
       "    </tr>\n",
       "    <tr>\n",
       "      <th>3</th>\n",
       "      <td>0J8q_Lsh4fU</td>\n",
       "      <td>Hog wire deck rail installation</td>\n",
       "      <td>hi im paul from Elkins diy.com today Im going ...</td>\n",
       "      <td>build_deck</td>\n",
       "      <td>Thanks Naegling, off topic but where are u get...</td>\n",
       "      <td>8102</td>\n",
       "      <td>Silicone in the crevices is a great idea, 사랑합니...</td>\n",
       "      <td>522</td>\n",
       "      <td>93.557146</td>\n",
       "      <td>[square, tap, saw, drill, pencil, hammer]</td>\n",
       "    </tr>\n",
       "    <tr>\n",
       "      <th>4</th>\n",
       "      <td>0RuwaSU71rY</td>\n",
       "      <td>Replacing a section of drywall after a pipe leak</td>\n",
       "      <td>hi Im Mike Thompson last night was a bit of an...</td>\n",
       "      <td>drywall_repair</td>\n",
       "      <td>Great Job , Mike Thompson, good instructional ...</td>\n",
       "      <td>4012</td>\n",
       "      <td>Great job , mike thompson, good instructional ...</td>\n",
       "      <td>623</td>\n",
       "      <td>84.471585</td>\n",
       "      <td>[saw]</td>\n",
       "    </tr>\n",
       "  </tbody>\n",
       "</table>\n",
       "</div>"
      ],
      "text/plain": [
       "      video_id                                              title  \\\n",
       "0  09Q4JQ3p8yg              How to remove popcorn stipple ceiling   \n",
       "1  0Aip_xxpia4                        How to install carpet tiles   \n",
       "2  0COOF3BwgKI  Fix small nail holes in walls fast and make th...   \n",
       "3  0J8q_Lsh4fU                    Hog wire deck rail installation   \n",
       "4  0RuwaSU71rY   Replacing a section of drywall after a pipe leak   \n",
       "\n",
       "                                           subtitles primary_category  \\\n",
       "0  hi Shannon here from health improvements and t...   drywall_repair   \n",
       "1  were going to replace this tired old wall-to-w...  carpet_flooring   \n",
       "2  so you like to hang pictures on your wall if y...   drywall_repair   \n",
       "3  hi im paul from Elkins diy.com today Im going ...       build_deck   \n",
       "4  hi Im Mike Thompson last night was a bit of an...   drywall_repair   \n",
       "\n",
       "                                                text  txt_len  \\\n",
       "0  asmr **, I love you, Im here from Instagram lm...    90480   \n",
       "1  Interface do a product called tactiles which a...     2183   \n",
       "2  Glad I could help then.  Be sure and subscribe...     8009   \n",
       "3  Thanks Naegling, off topic but where are u get...     8102   \n",
       "4  Great Job , Mike Thompson, good instructional ...     4012   \n",
       "\n",
       "                                             summary  summary_len  \\\n",
       "0  Ines rivera meeeeeee, me, 🙋‍♀️guilty, me, ines...          656   \n",
       "1  If you're able to :), use a mover disc for fuc...          398   \n",
       "2  We have drywall hanging tools, finishing tools...          658   \n",
       "3  Silicone in the crevices is a great idea, 사랑합니...          522   \n",
       "4  Great job , mike thompson, good instructional ...          623   \n",
       "\n",
       "   prcnt_reduce                            mentioned_tools  \n",
       "0     99.274978                                   [square]  \n",
       "1     81.768209                            [chalk, square]  \n",
       "2     91.784243                            [level, sponge]  \n",
       "3     93.557146  [square, tap, saw, drill, pencil, hammer]  \n",
       "4     84.471585                                      [saw]  "
      ]
     },
     "execution_count": 18,
     "metadata": {},
     "output_type": "execute_result"
    }
   ],
   "source": [
    "data_df.head()"
   ]
  },
  {
   "cell_type": "code",
   "execution_count": 19,
   "metadata": {},
   "outputs": [],
   "source": [
    "complete_list_of_mentioned_tools = [tools for tools in data_df.mentioned_tools]"
   ]
  },
  {
   "cell_type": "code",
   "execution_count": 20,
   "metadata": {},
   "outputs": [
    {
     "name": "stdout",
     "output_type": "stream",
     "text": [
      "Number of videos where tools NOT Mentioned: 217\n",
      "Number of videos where tools ARE Mentioned: 820\n"
     ]
    }
   ],
   "source": [
    "i=0\n",
    "j=0\n",
    "for t in complete_list_of_mentioned_tools:\n",
    "    if len(t)==0:\n",
    "        i+=1\n",
    "    else:\n",
    "        j+=1\n",
    "print(\"Number of videos where tools NOT Mentioned: {}\".format(i))\n",
    "print(\"Number of videos where tools ARE Mentioned: {}\".format(j))"
   ]
  },
  {
   "cell_type": "code",
   "execution_count": 21,
   "metadata": {},
   "outputs": [
    {
     "data": {
      "text/html": [
       "<div>\n",
       "<style scoped>\n",
       "    .dataframe tbody tr th:only-of-type {\n",
       "        vertical-align: middle;\n",
       "    }\n",
       "\n",
       "    .dataframe tbody tr th {\n",
       "        vertical-align: top;\n",
       "    }\n",
       "\n",
       "    .dataframe thead th {\n",
       "        text-align: right;\n",
       "    }\n",
       "</style>\n",
       "<table border=\"1\" class=\"dataframe\">\n",
       "  <thead>\n",
       "    <tr style=\"text-align: right;\">\n",
       "      <th></th>\n",
       "      <th>video_id</th>\n",
       "      <th>title</th>\n",
       "      <th>subtitles</th>\n",
       "      <th>primary_category</th>\n",
       "      <th>text</th>\n",
       "      <th>txt_len</th>\n",
       "      <th>summary</th>\n",
       "      <th>summary_len</th>\n",
       "      <th>prcnt_reduce</th>\n",
       "      <th>mentioned_tools</th>\n",
       "    </tr>\n",
       "  </thead>\n",
       "  <tbody>\n",
       "    <tr>\n",
       "      <th>0</th>\n",
       "      <td>09Q4JQ3p8yg</td>\n",
       "      <td>How to remove popcorn stipple ceiling</td>\n",
       "      <td>hi Shannon here from health improvements and t...</td>\n",
       "      <td>drywall_repair</td>\n",
       "      <td>asmr **, I love you, Im here from Instagram lm...</td>\n",
       "      <td>90480</td>\n",
       "      <td>Ines rivera meeeeeee, me, 🙋‍♀️guilty, me, ines...</td>\n",
       "      <td>656</td>\n",
       "      <td>99.274978</td>\n",
       "      <td>[square]</td>\n",
       "    </tr>\n",
       "    <tr>\n",
       "      <th>1</th>\n",
       "      <td>0Aip_xxpia4</td>\n",
       "      <td>How to install carpet tiles</td>\n",
       "      <td>were going to replace this tired old wall-to-w...</td>\n",
       "      <td>carpet_flooring</td>\n",
       "      <td>Interface do a product called tactiles which a...</td>\n",
       "      <td>2183</td>\n",
       "      <td>If you're able to :), use a mover disc for fuc...</td>\n",
       "      <td>398</td>\n",
       "      <td>81.768209</td>\n",
       "      <td>[chalk, square]</td>\n",
       "    </tr>\n",
       "    <tr>\n",
       "      <th>2</th>\n",
       "      <td>0COOF3BwgKI</td>\n",
       "      <td>Fix small nail holes in walls fast and make th...</td>\n",
       "      <td>so you like to hang pictures on your wall if y...</td>\n",
       "      <td>drywall_repair</td>\n",
       "      <td>Glad I could help then.  Be sure and subscribe...</td>\n",
       "      <td>8009</td>\n",
       "      <td>We have drywall hanging tools, finishing tools...</td>\n",
       "      <td>658</td>\n",
       "      <td>91.784243</td>\n",
       "      <td>[level, sponge]</td>\n",
       "    </tr>\n",
       "    <tr>\n",
       "      <th>3</th>\n",
       "      <td>0J8q_Lsh4fU</td>\n",
       "      <td>Hog wire deck rail installation</td>\n",
       "      <td>hi im paul from Elkins diy.com today Im going ...</td>\n",
       "      <td>build_deck</td>\n",
       "      <td>Thanks Naegling, off topic but where are u get...</td>\n",
       "      <td>8102</td>\n",
       "      <td>Silicone in the crevices is a great idea, 사랑합니...</td>\n",
       "      <td>522</td>\n",
       "      <td>93.557146</td>\n",
       "      <td>[square, tap, saw, drill, pencil, hammer]</td>\n",
       "    </tr>\n",
       "    <tr>\n",
       "      <th>4</th>\n",
       "      <td>0RuwaSU71rY</td>\n",
       "      <td>Replacing a section of drywall after a pipe leak</td>\n",
       "      <td>hi Im Mike Thompson last night was a bit of an...</td>\n",
       "      <td>drywall_repair</td>\n",
       "      <td>Great Job , Mike Thompson, good instructional ...</td>\n",
       "      <td>4012</td>\n",
       "      <td>Great job , mike thompson, good instructional ...</td>\n",
       "      <td>623</td>\n",
       "      <td>84.471585</td>\n",
       "      <td>[saw]</td>\n",
       "    </tr>\n",
       "  </tbody>\n",
       "</table>\n",
       "</div>"
      ],
      "text/plain": [
       "      video_id                                              title  \\\n",
       "0  09Q4JQ3p8yg              How to remove popcorn stipple ceiling   \n",
       "1  0Aip_xxpia4                        How to install carpet tiles   \n",
       "2  0COOF3BwgKI  Fix small nail holes in walls fast and make th...   \n",
       "3  0J8q_Lsh4fU                    Hog wire deck rail installation   \n",
       "4  0RuwaSU71rY   Replacing a section of drywall after a pipe leak   \n",
       "\n",
       "                                           subtitles primary_category  \\\n",
       "0  hi Shannon here from health improvements and t...   drywall_repair   \n",
       "1  were going to replace this tired old wall-to-w...  carpet_flooring   \n",
       "2  so you like to hang pictures on your wall if y...   drywall_repair   \n",
       "3  hi im paul from Elkins diy.com today Im going ...       build_deck   \n",
       "4  hi Im Mike Thompson last night was a bit of an...   drywall_repair   \n",
       "\n",
       "                                                text  txt_len  \\\n",
       "0  asmr **, I love you, Im here from Instagram lm...    90480   \n",
       "1  Interface do a product called tactiles which a...     2183   \n",
       "2  Glad I could help then.  Be sure and subscribe...     8009   \n",
       "3  Thanks Naegling, off topic but where are u get...     8102   \n",
       "4  Great Job , Mike Thompson, good instructional ...     4012   \n",
       "\n",
       "                                             summary  summary_len  \\\n",
       "0  Ines rivera meeeeeee, me, 🙋‍♀️guilty, me, ines...          656   \n",
       "1  If you're able to :), use a mover disc for fuc...          398   \n",
       "2  We have drywall hanging tools, finishing tools...          658   \n",
       "3  Silicone in the crevices is a great idea, 사랑합니...          522   \n",
       "4  Great job , mike thompson, good instructional ...          623   \n",
       "\n",
       "   prcnt_reduce                            mentioned_tools  \n",
       "0     99.274978                                   [square]  \n",
       "1     81.768209                            [chalk, square]  \n",
       "2     91.784243                            [level, sponge]  \n",
       "3     93.557146  [square, tap, saw, drill, pencil, hammer]  \n",
       "4     84.471585                                      [saw]  "
      ]
     },
     "execution_count": 21,
     "metadata": {},
     "output_type": "execute_result"
    }
   ],
   "source": [
    "data_df.head()"
   ]
  },
  {
   "cell_type": "code",
   "execution_count": 16,
   "metadata": {},
   "outputs": [
    {
     "data": {
      "text/plain": [
       "['electrical tape', 'drill', 'side cutters']"
      ]
     },
     "execution_count": 16,
     "metadata": {},
     "output_type": "execute_result"
    }
   ],
   "source": [
    "data_df.mentioned_tools[100]"
   ]
  },
  {
   "cell_type": "markdown",
   "metadata": {},
   "source": [
    "### Create Recommended Tools by Subtracting Sets"
   ]
  },
  {
   "cell_type": "code",
   "execution_count": 17,
   "metadata": {},
   "outputs": [],
   "source": [
    "carpet_tools = ['carpet knife','carpet row cutter','carpet tucker','duckbill napping shears',\n",
    "                'electric staple gun','floor scraper','hammer staple','heavy weight carpet roller',\n",
    "                'knee kicker','knee pads','linoleum knife','measuring tape','pencil','power stretcher',\n",
    "                'seam roller','seaming iron','stair tool','stapler','wall trimmer','work gloves']\n",
    "\n",
    "laminate_tools = ['chalk line','circular saw','dead blow hammer','dividers','drill','floor scraper',\n",
    "                  'hammer','hand saw','jigsaw','knee pads','level','measuring tape','miter saw',\n",
    "                  'pencil','pull bar','router','spacers','square','table saw','tapping block',\n",
    "                  'utility knife','work gloves','ear plug','tapping block','rubber mallet']\n",
    "\n",
    "deck_tools = ['air compressor','belt sander','chalk line','chop saw','circular saw','clamps','deck screws',\n",
    "              'drill','hammer','hand saw','jigsaw','level','measuring tape','nail gun','nail puller',\n",
    "              'oscillating saw','pencil','pliers','plumb and square','post hole digger','pry bar',\n",
    "              'reciprocating saw','router','safety glasses','shovel','square','table saw',\n",
    "              'utility knife','work gloves','wrench']\n",
    "\n",
    "fence_tools = ['air compressor','chalk','circular saw','deck screws','drill','hammer','level',\n",
    "               'mason line','measuring tape','miter saw','plumb bob','post hole digger',\n",
    "               'safety glasses','screwdriver','shovel','sledge hammer','table saw','work gloves']\n",
    "\n",
    "drywall_tools = ['drill','drywall tape','dust mask','hammer','joint knife','measuring tape','mud pan',\n",
    "                 'pencil','putty knife','safety glasses','sand paper','screwdriver','sponge','square',\n",
    "                 'taping knife','utility knife','work gloves']"
   ]
  },
  {
   "cell_type": "code",
   "execution_count": 18,
   "metadata": {},
   "outputs": [
    {
     "data": {
      "text/plain": [
       "'Laminate flooring repair to fix soft spot for uneven underlayment'"
      ]
     },
     "execution_count": 18,
     "metadata": {},
     "output_type": "execute_result"
    }
   ],
   "source": [
    "data_df.title[100]"
   ]
  },
  {
   "cell_type": "code",
   "execution_count": 19,
   "metadata": {},
   "outputs": [
    {
     "data": {
      "text/plain": [
       "{'drill', 'electrical tape', 'side cutters'}"
      ]
     },
     "execution_count": 19,
     "metadata": {},
     "output_type": "execute_result"
    }
   ],
   "source": [
    "test_set = set(data_df.mentioned_tools[100])\n",
    "test_set"
   ]
  },
  {
   "cell_type": "code",
   "execution_count": 20,
   "metadata": {},
   "outputs": [],
   "source": [
    "laminate_set = set(laminate_tools)\n",
    "#laminate_set"
   ]
  },
  {
   "cell_type": "code",
   "execution_count": 21,
   "metadata": {},
   "outputs": [],
   "source": [
    "recommend_set = laminate_set - test_set\n",
    "#recommend_set"
   ]
  },
  {
   "cell_type": "code",
   "execution_count": 22,
   "metadata": {},
   "outputs": [
    {
     "data": {
      "text/plain": [
       "151"
      ]
     },
     "execution_count": 22,
     "metadata": {},
     "output_type": "execute_result"
    }
   ],
   "source": [
    "carpet_df = data_df[data_df.primary_category=='carpet_flooring'].copy()\n",
    "len(carpet_df)"
   ]
  },
  {
   "cell_type": "code",
   "execution_count": 23,
   "metadata": {},
   "outputs": [
    {
     "data": {
      "text/plain": [
       "186"
      ]
     },
     "execution_count": 23,
     "metadata": {},
     "output_type": "execute_result"
    }
   ],
   "source": [
    "laminate_df = data_df[data_df.primary_category=='laminate_flooring'].copy()\n",
    "len(laminate_df)"
   ]
  },
  {
   "cell_type": "code",
   "execution_count": 24,
   "metadata": {},
   "outputs": [
    {
     "data": {
      "text/plain": [
       "201"
      ]
     },
     "execution_count": 24,
     "metadata": {},
     "output_type": "execute_result"
    }
   ],
   "source": [
    "fence_df = data_df[data_df.primary_category=='repair_wood_fence'].copy()\n",
    "len(fence_df)"
   ]
  },
  {
   "cell_type": "code",
   "execution_count": 25,
   "metadata": {},
   "outputs": [
    {
     "data": {
      "text/plain": [
       "209"
      ]
     },
     "execution_count": 25,
     "metadata": {},
     "output_type": "execute_result"
    }
   ],
   "source": [
    "deck_df = data_df[data_df.primary_category=='build_deck'].copy()\n",
    "len(deck_df)"
   ]
  },
  {
   "cell_type": "code",
   "execution_count": 26,
   "metadata": {},
   "outputs": [
    {
     "data": {
      "text/plain": [
       "290"
      ]
     },
     "execution_count": 26,
     "metadata": {},
     "output_type": "execute_result"
    }
   ],
   "source": [
    "drywall_df = data_df[data_df.primary_category=='drywall_repair'].copy()\n",
    "len(drywall_df)"
   ]
  },
  {
   "cell_type": "code",
   "execution_count": 27,
   "metadata": {},
   "outputs": [],
   "source": [
    "carpet_df['recommended_tools'] = [list(set(carpet_tools)-set(mt)) for mt in carpet_df.mentioned_tools]"
   ]
  },
  {
   "cell_type": "code",
   "execution_count": 28,
   "metadata": {},
   "outputs": [],
   "source": [
    "laminate_df['recommended_tools'] = [list(set(laminate_tools)-set(mt)) for mt in laminate_df.mentioned_tools]"
   ]
  },
  {
   "cell_type": "code",
   "execution_count": 29,
   "metadata": {},
   "outputs": [],
   "source": [
    "fence_df['recommended_tools'] = [list(set(fence_tools)-set(mt)) for mt in fence_df.mentioned_tools]"
   ]
  },
  {
   "cell_type": "code",
   "execution_count": 30,
   "metadata": {},
   "outputs": [],
   "source": [
    "deck_df['recommended_tools'] = [list(set(deck_tools)-set(mt)) for mt in deck_df.mentioned_tools]"
   ]
  },
  {
   "cell_type": "code",
   "execution_count": 31,
   "metadata": {},
   "outputs": [],
   "source": [
    "drywall_df['recommended_tools'] = [list(set(drywall_tools)-set(mt)) for mt in drywall_df.mentioned_tools]"
   ]
  },
  {
   "cell_type": "code",
   "execution_count": 35,
   "metadata": {},
   "outputs": [],
   "source": [
    "result_df = pd.concat([carpet_df, laminate_df, fence_df, deck_df, drywall_df], ignore_index=True, sort=False)"
   ]
  },
  {
   "cell_type": "code",
   "execution_count": 37,
   "metadata": {},
   "outputs": [
    {
     "ename": "AttributeError",
     "evalue": "'list' object has no attribute 'split'",
     "output_type": "error",
     "traceback": [
      "\u001b[0;31m---------------------------------------------------------------------------\u001b[0m",
      "\u001b[0;31mAttributeError\u001b[0m                            Traceback (most recent call last)",
      "\u001b[0;32m<ipython-input-37-545a9937ff39>\u001b[0m in \u001b[0;36m<module>\u001b[0;34m\u001b[0m\n\u001b[0;32m----> 1\u001b[0;31m \u001b[0mresult_df\u001b[0m\u001b[0;34m[\u001b[0m\u001b[0;34m'mentioned_tools'\u001b[0m\u001b[0;34m]\u001b[0m \u001b[0;34m=\u001b[0m \u001b[0mresult_df\u001b[0m\u001b[0;34m.\u001b[0m\u001b[0mmentioned_tools\u001b[0m\u001b[0;34m.\u001b[0m\u001b[0mapply\u001b[0m\u001b[0;34m(\u001b[0m\u001b[0;32mlambda\u001b[0m \u001b[0mx\u001b[0m\u001b[0;34m:\u001b[0m \u001b[0mx\u001b[0m\u001b[0;34m[\u001b[0m\u001b[0;36m1\u001b[0m\u001b[0;34m:\u001b[0m\u001b[0;34m-\u001b[0m\u001b[0;36m1\u001b[0m\u001b[0;34m]\u001b[0m\u001b[0;34m.\u001b[0m\u001b[0msplit\u001b[0m\u001b[0;34m(\u001b[0m\u001b[0;34m\", \"\u001b[0m\u001b[0;34m)\u001b[0m\u001b[0;34m)\u001b[0m\u001b[0;34m\u001b[0m\u001b[0;34m\u001b[0m\u001b[0m\n\u001b[0m\u001b[1;32m      2\u001b[0m \u001b[0mresult_df\u001b[0m\u001b[0;34m[\u001b[0m\u001b[0;34m'recommended_tools'\u001b[0m\u001b[0;34m]\u001b[0m \u001b[0;34m=\u001b[0m \u001b[0mresult_df\u001b[0m\u001b[0;34m.\u001b[0m\u001b[0mrecommended_tools\u001b[0m\u001b[0;34m.\u001b[0m\u001b[0mapply\u001b[0m\u001b[0;34m(\u001b[0m\u001b[0;32mlambda\u001b[0m \u001b[0mx\u001b[0m\u001b[0;34m:\u001b[0m \u001b[0mx\u001b[0m\u001b[0;34m[\u001b[0m\u001b[0;36m1\u001b[0m\u001b[0;34m:\u001b[0m\u001b[0;34m-\u001b[0m\u001b[0;36m1\u001b[0m\u001b[0;34m]\u001b[0m\u001b[0;34m.\u001b[0m\u001b[0msplit\u001b[0m\u001b[0;34m(\u001b[0m\u001b[0;34m\", \"\u001b[0m\u001b[0;34m)\u001b[0m\u001b[0;34m)\u001b[0m\u001b[0;34m\u001b[0m\u001b[0;34m\u001b[0m\u001b[0m\n",
      "\u001b[0;32m~/anaconda3/envs/insight/lib/python3.7/site-packages/pandas/core/series.py\u001b[0m in \u001b[0;36mapply\u001b[0;34m(self, func, convert_dtype, args, **kwds)\u001b[0m\n\u001b[1;32m   3589\u001b[0m             \u001b[0;32melse\u001b[0m\u001b[0;34m:\u001b[0m\u001b[0;34m\u001b[0m\u001b[0;34m\u001b[0m\u001b[0m\n\u001b[1;32m   3590\u001b[0m                 \u001b[0mvalues\u001b[0m \u001b[0;34m=\u001b[0m \u001b[0mself\u001b[0m\u001b[0;34m.\u001b[0m\u001b[0mastype\u001b[0m\u001b[0;34m(\u001b[0m\u001b[0mobject\u001b[0m\u001b[0;34m)\u001b[0m\u001b[0;34m.\u001b[0m\u001b[0mvalues\u001b[0m\u001b[0;34m\u001b[0m\u001b[0;34m\u001b[0m\u001b[0m\n\u001b[0;32m-> 3591\u001b[0;31m                 \u001b[0mmapped\u001b[0m \u001b[0;34m=\u001b[0m \u001b[0mlib\u001b[0m\u001b[0;34m.\u001b[0m\u001b[0mmap_infer\u001b[0m\u001b[0;34m(\u001b[0m\u001b[0mvalues\u001b[0m\u001b[0;34m,\u001b[0m \u001b[0mf\u001b[0m\u001b[0;34m,\u001b[0m \u001b[0mconvert\u001b[0m\u001b[0;34m=\u001b[0m\u001b[0mconvert_dtype\u001b[0m\u001b[0;34m)\u001b[0m\u001b[0;34m\u001b[0m\u001b[0;34m\u001b[0m\u001b[0m\n\u001b[0m\u001b[1;32m   3592\u001b[0m \u001b[0;34m\u001b[0m\u001b[0m\n\u001b[1;32m   3593\u001b[0m         \u001b[0;32mif\u001b[0m \u001b[0mlen\u001b[0m\u001b[0;34m(\u001b[0m\u001b[0mmapped\u001b[0m\u001b[0;34m)\u001b[0m \u001b[0;32mand\u001b[0m \u001b[0misinstance\u001b[0m\u001b[0;34m(\u001b[0m\u001b[0mmapped\u001b[0m\u001b[0;34m[\u001b[0m\u001b[0;36m0\u001b[0m\u001b[0;34m]\u001b[0m\u001b[0;34m,\u001b[0m \u001b[0mSeries\u001b[0m\u001b[0;34m)\u001b[0m\u001b[0;34m:\u001b[0m\u001b[0;34m\u001b[0m\u001b[0;34m\u001b[0m\u001b[0m\n",
      "\u001b[0;32mpandas/_libs/lib.pyx\u001b[0m in \u001b[0;36mpandas._libs.lib.map_infer\u001b[0;34m()\u001b[0m\n",
      "\u001b[0;32m<ipython-input-37-545a9937ff39>\u001b[0m in \u001b[0;36m<lambda>\u001b[0;34m(x)\u001b[0m\n\u001b[0;32m----> 1\u001b[0;31m \u001b[0mresult_df\u001b[0m\u001b[0;34m[\u001b[0m\u001b[0;34m'mentioned_tools'\u001b[0m\u001b[0;34m]\u001b[0m \u001b[0;34m=\u001b[0m \u001b[0mresult_df\u001b[0m\u001b[0;34m.\u001b[0m\u001b[0mmentioned_tools\u001b[0m\u001b[0;34m.\u001b[0m\u001b[0mapply\u001b[0m\u001b[0;34m(\u001b[0m\u001b[0;32mlambda\u001b[0m \u001b[0mx\u001b[0m\u001b[0;34m:\u001b[0m \u001b[0mx\u001b[0m\u001b[0;34m[\u001b[0m\u001b[0;36m1\u001b[0m\u001b[0;34m:\u001b[0m\u001b[0;34m-\u001b[0m\u001b[0;36m1\u001b[0m\u001b[0;34m]\u001b[0m\u001b[0;34m.\u001b[0m\u001b[0msplit\u001b[0m\u001b[0;34m(\u001b[0m\u001b[0;34m\", \"\u001b[0m\u001b[0;34m)\u001b[0m\u001b[0;34m)\u001b[0m\u001b[0;34m\u001b[0m\u001b[0;34m\u001b[0m\u001b[0m\n\u001b[0m\u001b[1;32m      2\u001b[0m \u001b[0mresult_df\u001b[0m\u001b[0;34m[\u001b[0m\u001b[0;34m'recommended_tools'\u001b[0m\u001b[0;34m]\u001b[0m \u001b[0;34m=\u001b[0m \u001b[0mresult_df\u001b[0m\u001b[0;34m.\u001b[0m\u001b[0mrecommended_tools\u001b[0m\u001b[0;34m.\u001b[0m\u001b[0mapply\u001b[0m\u001b[0;34m(\u001b[0m\u001b[0;32mlambda\u001b[0m \u001b[0mx\u001b[0m\u001b[0;34m:\u001b[0m \u001b[0mx\u001b[0m\u001b[0;34m[\u001b[0m\u001b[0;36m1\u001b[0m\u001b[0;34m:\u001b[0m\u001b[0;34m-\u001b[0m\u001b[0;36m1\u001b[0m\u001b[0;34m]\u001b[0m\u001b[0;34m.\u001b[0m\u001b[0msplit\u001b[0m\u001b[0;34m(\u001b[0m\u001b[0;34m\", \"\u001b[0m\u001b[0;34m)\u001b[0m\u001b[0;34m)\u001b[0m\u001b[0;34m\u001b[0m\u001b[0;34m\u001b[0m\u001b[0m\n",
      "\u001b[0;31mAttributeError\u001b[0m: 'list' object has no attribute 'split'"
     ]
    }
   ],
   "source": [
    "result_df['mentioned_tools'] = result_df.mentioned_tools.apply(lambda x: x[1:-1].split(\", \"))\n",
    "result_df['recommended_tools'] = result_df.recommended_tools.apply(lambda x: x[1:-1].split(\", \"))"
   ]
  },
  {
   "cell_type": "code",
   "execution_count": null,
   "metadata": {},
   "outputs": [],
   "source": [
    "to_csv_filename = 'data/csv_files/summarized_with_tools.csv'\n",
    "result_df.to_csv(to_csv_filename, sep=',', index=False)"
   ]
  },
  {
   "cell_type": "markdown",
   "metadata": {},
   "source": [
    "## END SEARCH FOR TOOLS"
   ]
  },
  {
   "cell_type": "code",
   "execution_count": null,
   "metadata": {},
   "outputs": [],
   "source": []
  },
  {
   "cell_type": "code",
   "execution_count": null,
   "metadata": {},
   "outputs": [],
   "source": []
  },
  {
   "cell_type": "markdown",
   "metadata": {},
   "source": [
    "## Search Query"
   ]
  },
  {
   "cell_type": "code",
   "execution_count": null,
   "metadata": {},
   "outputs": [],
   "source": [
    "cols = ['primary_category', 'title']\n",
    "df = data_df[cols].copy()\n",
    "df.info()"
   ]
  },
  {
   "cell_type": "code",
   "execution_count": null,
   "metadata": {},
   "outputs": [],
   "source": [
    "df[(df.primary_category=='laminate_flooring') | (df.primary_category=='carpet_flooring')].sort_values('title', ascending=True).head()"
   ]
  },
  {
   "cell_type": "code",
   "execution_count": null,
   "metadata": {},
   "outputs": [],
   "source": [
    "df.drop_duplicates(subset='title', keep=\"last\", inplace=True)"
   ]
  },
  {
   "cell_type": "code",
   "execution_count": null,
   "metadata": {},
   "outputs": [],
   "source": [
    "df.info()"
   ]
  },
  {
   "cell_type": "code",
   "execution_count": null,
   "metadata": {},
   "outputs": [],
   "source": [
    "def jaccard_similarity(query, document):\n",
    "    intersection = set(query).intersection(set(document))\n",
    "    union = set(query).union(set(document))\n",
    "    return len(intersection)/len(union)"
   ]
  },
  {
   "cell_type": "code",
   "execution_count": null,
   "metadata": {},
   "outputs": [],
   "source": [
    "def cosine_distance_countvectorizer_method(s1, s2):\n",
    "    \n",
    "    # sentences to list\n",
    "    allsentences = [s1 , s2]\n",
    "    \n",
    "    # packages\n",
    "    from sklearn.feature_extraction.text import CountVectorizer\n",
    "    from scipy.spatial import distance\n",
    "    \n",
    "    # text to vector\n",
    "    vectorizer = CountVectorizer()\n",
    "    all_sentences_to_vector = vectorizer.fit_transform(allsentences)\n",
    "    text_to_vector_v1 = all_sentences_to_vector.toarray()[0].tolist()\n",
    "    text_to_vector_v2 = all_sentences_to_vector.toarray()[1].tolist()\n",
    "    \n",
    "    # distance of similarity\n",
    "    cosine = distance.cosine(text_to_vector_v1, text_to_vector_v2)\n",
    "    #print('Similarity of two sentences are equal to ',round((1-cosine)*100,2),'%')\n",
    "    return cosine"
   ]
  },
  {
   "cell_type": "code",
   "execution_count": null,
   "metadata": {},
   "outputs": [],
   "source": []
  },
  {
   "cell_type": "code",
   "execution_count": null,
   "metadata": {},
   "outputs": [],
   "source": [
    "search = \"How to repair drywall\""
   ]
  },
  {
   "cell_type": "code",
   "execution_count": null,
   "metadata": {},
   "outputs": [],
   "source": [
    "result = jaccard_similarity(search, df.title)"
   ]
  },
  {
   "cell_type": "code",
   "execution_count": null,
   "metadata": {},
   "outputs": [],
   "source": [
    "df['cos_sim'] = [cosine_distance_countvectorizer_method(search,t) for t in df.title]"
   ]
  },
  {
   "cell_type": "code",
   "execution_count": null,
   "metadata": {},
   "outputs": [],
   "source": [
    "df.sort_values('cos_sim', ascending=False).title.head()"
   ]
  },
  {
   "cell_type": "code",
   "execution_count": null,
   "metadata": {},
   "outputs": [],
   "source": [
    "[t for t in df.title if 'mr' in t]"
   ]
  },
  {
   "cell_type": "code",
   "execution_count": null,
   "metadata": {},
   "outputs": [],
   "source": []
  },
  {
   "cell_type": "code",
   "execution_count": null,
   "metadata": {},
   "outputs": [],
   "source": []
  },
  {
   "cell_type": "code",
   "execution_count": null,
   "metadata": {},
   "outputs": [],
   "source": []
  },
  {
   "cell_type": "code",
   "execution_count": null,
   "metadata": {},
   "outputs": [],
   "source": [
    "gloveFile = \"models/glove.42B.300d.txt\"\n",
    "import numpy as np\n",
    "def loadGloveModel(gloveFile):\n",
    "    print (\"Loading Glove Model\")\n",
    "    with open(gloveFile, encoding=\"utf8\" ) as f:\n",
    "        content = f.readlines()\n",
    "    model = {}\n",
    "    for line in content:\n",
    "        splitLine = line.split()\n",
    "        word = splitLine[0]\n",
    "        embedding = np.array([float(val) for val in splitLine[1:]])\n",
    "        model[word] = embedding\n",
    "    print (\"Done.\",len(model),\" words loaded!\")\n",
    "    return model\n",
    "\n",
    "import re\n",
    "from nltk.corpus import stopwords\n",
    "from nltk.tokenize import word_tokenize\n",
    "import pandas as pd\n",
    "\n",
    "def preprocess(raw_text):\n",
    "\n",
    "    # keep only words\n",
    "    letters_only_text = re.sub(\"[^a-zA-Z]\", \" \", raw_text)\n",
    "\n",
    "    # convert to lower case and split \n",
    "    words = word_tokenize(letters_only_text.lower())\n",
    "\n",
    "    # remove stopwords\n",
    "    stop_words = stopwords.words(\"english\")\n",
    "    newStopWords = ['mryoucandoityourself', 'locksolid', 'petproof', 'tackstrip', \n",
    "                    'reflooring', 'drywallrepair', 'buildipedia', 'corefix', 'ghtl', \n",
    "                    'patreon', 'kraftmade', 'eztexture', 'renovision', 'yugipedia', \n",
    "                    'savogran', 'fibafuse', 'redbrand', 'how', 'to']\n",
    "    stop_words.extend(newStopWords)\n",
    "    stopword_set = set(stop_words)\n",
    "    \n",
    "    cleaned_words = set([w for w in words if w not in stopword_set])\n",
    "\n",
    "    return cleaned_words\n",
    "\n",
    "def cosine_distance_between_two_words(word1, word2):\n",
    "    import scipy\n",
    "    return (1- scipy.spatial.distance.cosine(model[word1], model[word2]))\n",
    "\n",
    "def calculate_heat_matrix_for_two_sentences(s1,s2):\n",
    "    s1 = preprocess(s1)\n",
    "    s2 = preprocess(s2)\n",
    "    result_list = [[cosine_distance_between_two_words(word1, word2) for word2 in s2] for word1 in s1]\n",
    "    result_df = pd.DataFrame(result_list)\n",
    "    result_df.columns = s2\n",
    "    result_df.index = s1\n",
    "    return result_df\n",
    "\n",
    "def cosine_distance_wordembedding_method(s1, s2):\n",
    "    import scipy\n",
    "    vector_1 = np.mean([model[word] for word in preprocess(s1)],axis=0)\n",
    "    vector_2 = np.mean([model[word] for word in preprocess(s2)],axis=0)\n",
    "    cosine = scipy.spatial.distance.cosine(vector_1, vector_2)\n",
    "    print('Word Embedding method with a cosine distance assess that our two sentences are similar to',round((1-cosine)*100,2),'%')\n",
    "\n",
    "def heat_map_matrix_between_two_sentences(s1,s2):\n",
    "    df = calculate_heat_matrix_for_two_sentences(s1,s2)\n",
    "    import seaborn as sns\n",
    "    import matplotlib.pyplot as plt\n",
    "    fig, ax = plt.subplots(figsize=(5,5)) \n",
    "    ax_blue = sns.heatmap(df, cmap=\"YlGnBu\")\n",
    "    # ax_red = sns.heatmap(df)\n",
    "    print(cosine_distance_wordembedding_method(s1, s2))\n",
    "    return ax_blue"
   ]
  },
  {
   "cell_type": "code",
   "execution_count": null,
   "metadata": {},
   "outputs": [],
   "source": [
    "def compute_similarity(search, title):\n",
    "    l1 =[];l2 =[]\n",
    "    s1 = preprocess(search)\n",
    "    t1 = preprocess(title)\n",
    "    # form a set containing keywords of both strings  \n",
    "    rvector = s1.union(t1)  \n",
    "    for w in rvector: \n",
    "        if w in s1: l1.append(1) # create a vector \n",
    "        else: l1.append(0) \n",
    "        if w in t1: l2.append(1) \n",
    "        else: l2.append(0) \n",
    "    c = 0\n",
    "    # cosine formula  \n",
    "    for i in range(len(rvector)): \n",
    "            c+= l1[i]*l2[i] \n",
    "    cos_sim = c / float((sum(l1)*sum(l2))**0.5) \n",
    "    return cos_sim"
   ]
  },
  {
   "cell_type": "code",
   "execution_count": null,
   "metadata": {},
   "outputs": [],
   "source": [
    "import scipy\n",
    "from sklearn.metrics.pairwise import cosine_similarity\n",
    "search = \"How to install laminate flooring\"\n",
    "df['cos_sim'] = [compute_similarity(search,t) for t in df.title]"
   ]
  },
  {
   "cell_type": "code",
   "execution_count": null,
   "metadata": {},
   "outputs": [],
   "source": [
    "df.sort_values('cos_sim', ascending=False).head(10)"
   ]
  },
  {
   "cell_type": "code",
   "execution_count": null,
   "metadata": {},
   "outputs": [],
   "source": []
  },
  {
   "cell_type": "code",
   "execution_count": null,
   "metadata": {},
   "outputs": [],
   "source": [
    "ss1 = 'How to repair a hole in the wall'\n",
    "ss2 = 'How to repair damaged drywall paper- torn drywall'\n",
    "ss3 = 'How to install laminate flooring'"
   ]
  },
  {
   "cell_type": "code",
   "execution_count": null,
   "metadata": {},
   "outputs": [],
   "source": [
    "cosine_distance_countvectorizer_method(ss1 , ss3)"
   ]
  },
  {
   "cell_type": "code",
   "execution_count": null,
   "metadata": {},
   "outputs": [],
   "source": [
    "model = loadGloveModel(gloveFile)"
   ]
  },
  {
   "cell_type": "code",
   "execution_count": null,
   "metadata": {},
   "outputs": [],
   "source": [
    "heat_map_matrix_between_two_sentences(ss1,ss3)"
   ]
  },
  {
   "cell_type": "code",
   "execution_count": null,
   "metadata": {},
   "outputs": [],
   "source": []
  },
  {
   "cell_type": "code",
   "execution_count": null,
   "metadata": {},
   "outputs": [],
   "source": []
  },
  {
   "cell_type": "code",
   "execution_count": null,
   "metadata": {},
   "outputs": [],
   "source": []
  },
  {
   "cell_type": "code",
   "execution_count": null,
   "metadata": {},
   "outputs": [],
   "source": []
  },
  {
   "cell_type": "code",
   "execution_count": null,
   "metadata": {},
   "outputs": [],
   "source": []
  }
 ],
 "metadata": {
  "kernelspec": {
   "display_name": "Python 3",
   "language": "python",
   "name": "python3"
  },
  "language_info": {
   "codemirror_mode": {
    "name": "ipython",
    "version": 3
   },
   "file_extension": ".py",
   "mimetype": "text/x-python",
   "name": "python",
   "nbconvert_exporter": "python",
   "pygments_lexer": "ipython3",
   "version": "3.7.3"
  }
 },
 "nbformat": 4,
 "nbformat_minor": 2
}
