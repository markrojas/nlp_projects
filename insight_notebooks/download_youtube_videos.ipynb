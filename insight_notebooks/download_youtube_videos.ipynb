{
 "cells": [
  {
   "cell_type": "code",
   "execution_count": 1,
   "metadata": {},
   "outputs": [],
   "source": [
    "from __future__ import unicode_literals\n",
    "import subprocess\n",
    "import os\n",
    "import re\n",
    "import youtube_dl"
   ]
  },
  {
   "cell_type": "code",
   "execution_count": 6,
   "metadata": {},
   "outputs": [],
   "source": [
    "# search criteria and where to save\n",
    "#folder = 'laminate_flooring'\n",
    "#search = 'ytsearchall:how+to+install+laminate+flooring+yourself'\n",
    "#folder = 'drywall_repair'\n",
    "#search = 'ytsearchall:how+to+repair+drywall+yourself'\n",
    "#folder = 'carpet_flooring'\n",
    "#search = 'ytsearchall:how+to+install+carpet+flooring+yourself'\n",
    "#folder = 'build_deck'\n",
    "#search = 'ytsearchall:how+to+build+a+deck+yourself'\n",
    "#folder = 'repair_wood_fence'\n",
    "\n",
    "# get subtitles, description, and \n",
    "folder = 'data/non_videos'\n",
    "search = 'ytsearchall:Do+it+Yourself+Home+Repairs'\n",
    "\n",
    "# main command\n",
    "command = 'youtube-dl'\n",
    "\n",
    "# options\n",
    "max_dls = '--max-downloads'\n",
    "subtls = '--write-auto-sub'\n",
    "sub_lang = '--sub-lang'\n",
    "playlist = '--no-playlist'\n",
    "descr = '--write-description'\n",
    "thumbnail = '--write-thumbnail'\n",
    "sleep = '--sleep-interval'\n",
    "restrict = '--restrict-filenames'\n",
    "\n",
    "# filter criteria\n",
    "min_views = '--min-views'\n",
    "mviews_num = '5000'\n",
    "match_filter = '--match-filter'\n",
    "filter_str = 'duration >= 120 & duration <=1800 & description'\n",
    "\n",
    "# verbose, no output\n",
    "# remove from subprocess when saving files\n",
    "verbose_get_filename = '--get-filename'\n",
    "\n",
    "# output template for storing files\n",
    "outfmt = ('{}/%(uploader)s/%(title)s/%(id)s_%(upload_date)s_%(duration)s_%(view_count)d'\n",
    "          '_%(like_count)d_%(dislike_count)d_%(comment_count)d'.format(folder))"
   ]
  },
  {
   "cell_type": "code",
   "execution_count": 7,
   "metadata": {},
   "outputs": [
    {
     "data": {
      "text/plain": [
       "CompletedProcess(args=['youtube-dl', 'ytsearchall:Home+Repairs+and+Home+Improvements+You+Can+Do+Yourself', '--sub-lang', 'en', '--sleep-interval', '2', '--min-views', '5000', '--match-filter', 'duration >= 120 & duration <=1800 & description', '--write-auto-sub', '--write-description', '--restrict-filenames', '--skip-download', '-o', 'data/non_videos/%(uploader)s/%(title)s/%(id)s_%(upload_date)s_%(duration)s_%(view_count)d_%(like_count)d_%(dislike_count)d_%(comment_count)d'], returncode=1)"
      ]
     },
     "execution_count": 7,
     "metadata": {},
     "output_type": "execute_result"
    }
   ],
   "source": [
    "subprocess.run([command, search, sub_lang, 'en', sleep, '2', min_views, mviews_num, match_filter, \n",
    "                filter_str, subtls, descr, restrict, '--skip-download','-o', outfmt])"
   ]
  },
  {
   "cell_type": "code",
   "execution_count": null,
   "metadata": {},
   "outputs": [],
   "source": []
  },
  {
   "cell_type": "code",
   "execution_count": null,
   "metadata": {},
   "outputs": [],
   "source": []
  },
  {
   "cell_type": "code",
   "execution_count": null,
   "metadata": {},
   "outputs": [],
   "source": []
  }
 ],
 "metadata": {
  "kernelspec": {
   "display_name": "Python 3",
   "language": "python",
   "name": "python3"
  },
  "language_info": {
   "codemirror_mode": {
    "name": "ipython",
    "version": 3
   },
   "file_extension": ".py",
   "mimetype": "text/x-python",
   "name": "python",
   "nbconvert_exporter": "python",
   "pygments_lexer": "ipython3",
   "version": "3.7.3"
  }
 },
 "nbformat": 4,
 "nbformat_minor": 2
}
