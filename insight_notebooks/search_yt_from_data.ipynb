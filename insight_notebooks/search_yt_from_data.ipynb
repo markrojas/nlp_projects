{
 "cells": [
  {
   "cell_type": "code",
   "execution_count": 2,
   "metadata": {},
   "outputs": [
    {
     "name": "stderr",
     "output_type": "stream",
     "text": [
      "[nltk_data] Downloading package punkt to /home/clutch/nltk_data...\n",
      "[nltk_data]   Package punkt is already up-to-date!\n"
     ]
    }
   ],
   "source": [
    "%matplotlib inline\n",
    "\n",
    "#import os\n",
    "#import re\n",
    "import numpy as np\n",
    "import pandas as pd\n",
    "import gensim\n",
    "from collections import Counter\n",
    "from nltk.corpus import stopwords\n",
    "import nltk\n",
    "nltk.download('punkt')\n",
    "from gensim.corpora import Dictionary\n",
    "from sklearn.preprocessing import LabelEncoder\n",
    "\n",
    "# modeling imports\n",
    "#from gensim.models.ldamulticore import LdaMulticore\n",
    "from gensim.models.word2vec import Word2Vec\n",
    "from sklearn.ensemble import RandomForestClassifier\n",
    "#from sklearn.linear_model import LogisticRegression\n",
    "#from sklearn.model_selection import GridSearchCV\n",
    "#from sklearn.pipeline import Pipeline\n",
    "\n",
    "# store models\n",
    "import pickle\n",
    "\n",
    "# visualization imports\n",
    "#from IPython.display import display\n",
    "#import seaborn as sns\n",
    "#import matplotlib.pyplot as plt\n",
    "#import matplotlib.image as mpimg\n",
    "#import base64\n",
    "#sns.set()\n",
    "\n",
    "# database imports\n",
    "#from sqlalchemy import create_engine\n",
    "#from sqlalchemy_utils import create_database, database_exists, drop_database\n",
    "#import psycopg2\n",
    "#from psycopg2.extensions import ISOLATION_LEVEL_AUTOCOMMIT"
   ]
  },
  {
   "cell_type": "markdown",
   "metadata": {},
   "source": [
    "#### Load model using pickle"
   ]
  },
  {
   "cell_type": "code",
   "execution_count": 11,
   "metadata": {},
   "outputs": [],
   "source": [
    "# path to word2vec model\n",
    "w2v_path = 'models/best_w2v_model.sav'\n",
    "\n",
    "# open a file, where you stored the pickled data\n",
    "w2v_file = open(w2v_path, 'rb')\n",
    "# dump information to that file\n",
    "w2v_model = pickle.load(w2v_file)\n",
    "# close the file\n",
    "w2v_file.close()"
   ]
  },
  {
   "cell_type": "code",
   "execution_count": 12,
   "metadata": {},
   "outputs": [],
   "source": [
    "#w2v_model.estimator"
   ]
  },
  {
   "cell_type": "markdown",
   "metadata": {},
   "source": [
    "#### Load test dataframe"
   ]
  },
  {
   "cell_type": "code",
   "execution_count": 16,
   "metadata": {},
   "outputs": [],
   "source": [
    "# test data path\n",
    "from_csv_filename = 'data/csv_files/test_data.csv'\n",
    "df = pd.read_csv(from_csv_filename, sep=',')"
   ]
  },
  {
   "cell_type": "code",
   "execution_count": 25,
   "metadata": {},
   "outputs": [],
   "source": [
    "random_state = 42\n",
    "sample_df = df.sample(n=100, random_state=random_state)"
   ]
  },
  {
   "cell_type": "code",
   "execution_count": 30,
   "metadata": {},
   "outputs": [
    {
     "data": {
      "text/html": [
       "<div>\n",
       "<style scoped>\n",
       "    .dataframe tbody tr th:only-of-type {\n",
       "        vertical-align: middle;\n",
       "    }\n",
       "\n",
       "    .dataframe tbody tr th {\n",
       "        vertical-align: top;\n",
       "    }\n",
       "\n",
       "    .dataframe thead th {\n",
       "        text-align: right;\n",
       "    }\n",
       "</style>\n",
       "<table border=\"1\" class=\"dataframe\">\n",
       "  <thead>\n",
       "    <tr style=\"text-align: right;\">\n",
       "      <th></th>\n",
       "      <th>video_id</th>\n",
       "      <th>title</th>\n",
       "      <th>subtitles</th>\n",
       "      <th>primary_category</th>\n",
       "      <th>text</th>\n",
       "      <th>txt_len</th>\n",
       "      <th>summary</th>\n",
       "    </tr>\n",
       "  </thead>\n",
       "  <tbody>\n",
       "    <tr>\n",
       "      <th>288</th>\n",
       "      <td>wzf3f7T6hfM</td>\n",
       "      <td>Diy how to remove wallpaper part 3 - drywall r...</td>\n",
       "      <td>okay so weve got enough both the front and the...</td>\n",
       "      <td>drywall_repair</td>\n",
       "      <td>Purchase My recommended Tools, Brushes, Paints...</td>\n",
       "      <td>6551</td>\n",
       "      <td>Let me know how it works out?, nice man, russ,...</td>\n",
       "    </tr>\n",
       "    <tr>\n",
       "      <th>9</th>\n",
       "      <td>2nJUzEHnrWs</td>\n",
       "      <td>How to patch drywall around an electrical box</td>\n",
       "      <td>hi Im Shannon from host improvements comm and ...</td>\n",
       "      <td>drywall_repair</td>\n",
       "      <td>Shannon, you're videos are incredibly helpful!...</td>\n",
       "      <td>4542</td>\n",
       "      <td>Won't take all day to dry either., thank you ....</td>\n",
       "    </tr>\n",
       "    <tr>\n",
       "      <th>57</th>\n",
       "      <td>Dn25J1jW3k0</td>\n",
       "      <td>How to hang drywall on walls</td>\n",
       "      <td>you were running a bead down every one of our...</td>\n",
       "      <td>drywall_repair</td>\n",
       "      <td>Hi I'm replacing  the walls in my bathroom,thi...</td>\n",
       "      <td>60986</td>\n",
       "      <td>It is flammable, good idea of the t-square, le...</td>\n",
       "    </tr>\n",
       "    <tr>\n",
       "      <th>60</th>\n",
       "      <td>FBUZYK-GT4U</td>\n",
       "      <td>Building a free-floating deck</td>\n",
       "      <td>when were all finished around here well take o...</td>\n",
       "      <td>build_deck</td>\n",
       "      <td>No stand-offs on the posts?, I bought instruct...</td>\n",
       "      <td>2386</td>\n",
       "      <td>Hey, that tongue and groove yellow pine could ...</td>\n",
       "    </tr>\n",
       "    <tr>\n",
       "      <th>25</th>\n",
       "      <td>53VkkkWIqrQ</td>\n",
       "      <td>Venting a dryer - how to properly install a dr...</td>\n",
       "      <td>today were going to install a dryer vent so wh...</td>\n",
       "      <td>drywall_repair</td>\n",
       "      <td>THANKS HOME DEPOT YALL LIT, Thank YOU 💕, Home ...</td>\n",
       "      <td>2420</td>\n",
       "      <td>😊, where do they find these generic houses for...</td>\n",
       "    </tr>\n",
       "  </tbody>\n",
       "</table>\n",
       "</div>"
      ],
      "text/plain": [
       "        video_id                                              title  \\\n",
       "288  wzf3f7T6hfM  Diy how to remove wallpaper part 3 - drywall r...   \n",
       "9    2nJUzEHnrWs      How to patch drywall around an electrical box   \n",
       "57   Dn25J1jW3k0                       How to hang drywall on walls   \n",
       "60   FBUZYK-GT4U                      Building a free-floating deck   \n",
       "25   53VkkkWIqrQ  Venting a dryer - how to properly install a dr...   \n",
       "\n",
       "                                             subtitles primary_category  \\\n",
       "288  okay so weve got enough both the front and the...   drywall_repair   \n",
       "9    hi Im Shannon from host improvements comm and ...   drywall_repair   \n",
       "57    you were running a bead down every one of our...   drywall_repair   \n",
       "60   when were all finished around here well take o...       build_deck   \n",
       "25   today were going to install a dryer vent so wh...   drywall_repair   \n",
       "\n",
       "                                                  text  txt_len  \\\n",
       "288  Purchase My recommended Tools, Brushes, Paints...     6551   \n",
       "9    Shannon, you're videos are incredibly helpful!...     4542   \n",
       "57   Hi I'm replacing  the walls in my bathroom,thi...    60986   \n",
       "60   No stand-offs on the posts?, I bought instruct...     2386   \n",
       "25   THANKS HOME DEPOT YALL LIT, Thank YOU 💕, Home ...     2420   \n",
       "\n",
       "                                               summary  \n",
       "288  Let me know how it works out?, nice man, russ,...  \n",
       "9    Won't take all day to dry either., thank you ....  \n",
       "57   It is flammable, good idea of the t-square, le...  \n",
       "60   Hey, that tongue and groove yellow pine could ...  \n",
       "25   😊, where do they find these generic houses for...  "
      ]
     },
     "execution_count": 30,
     "metadata": {},
     "output_type": "execute_result"
    }
   ],
   "source": [
    "sample_df.head()"
   ]
  },
  {
   "cell_type": "code",
   "execution_count": null,
   "metadata": {},
   "outputs": [],
   "source": []
  },
  {
   "cell_type": "code",
   "execution_count": null,
   "metadata": {},
   "outputs": [],
   "source": []
  }
 ],
 "metadata": {
  "kernelspec": {
   "display_name": "Python 3",
   "language": "python",
   "name": "python3"
  },
  "language_info": {
   "codemirror_mode": {
    "name": "ipython",
    "version": 3
   },
   "file_extension": ".py",
   "mimetype": "text/x-python",
   "name": "python",
   "nbconvert_exporter": "python",
   "pygments_lexer": "ipython3",
   "version": "3.7.3"
  }
 },
 "nbformat": 4,
 "nbformat_minor": 2
}
