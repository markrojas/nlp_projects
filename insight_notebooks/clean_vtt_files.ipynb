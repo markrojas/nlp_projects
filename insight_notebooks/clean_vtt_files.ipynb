{
 "cells": [
  {
   "cell_type": "code",
   "execution_count": 1,
   "metadata": {},
   "outputs": [
    {
     "name": "stderr",
     "output_type": "stream",
     "text": [
      "/home/clutch/anaconda3/envs/insight/lib/python3.7/site-packages/sqlalchemy/sql/functions.py:68: SAWarning: The GenericFunction 'array_agg' is already registered and is going to be overriden.\n",
      "  \"is going to be overriden.\".format(identifier))\n"
     ]
    }
   ],
   "source": [
    "import os\n",
    "import re\n",
    "import numpy as np\n",
    "import pandas as pd\n",
    "import gensim\n",
    "import collections\n",
    "from nltk.corpus import stopwords\n",
    "import nltk\n",
    "\n",
    "from sqlalchemy import create_engine\n",
    "from sqlalchemy_utils import create_database, database_exists, drop_database\n",
    "import psycopg2\n",
    "from psycopg2.extensions import ISOLATION_LEVEL_AUTOCOMMIT"
   ]
  },
  {
   "cell_type": "code",
   "execution_count": null,
   "metadata": {},
   "outputs": [],
   "source": [
    "# using function from \"Keeping API Keys Secret.ipynb\"\n",
    "# by https://github.com/dylburger\n",
    "def get_file_contents(filename):\n",
    "    \"\"\" \n",
    "    Given a filename,\n",
    "    return the contents of that file\n",
    "    \"\"\"\n",
    "    try:\n",
    "        with open(filename, 'r') as f:\n",
    "            # assumed file is a single line with key\n",
    "            return f.read().strip()\n",
    "    except FileNotFoundError:\n",
    "        print(\"'%s' file not found\" % filename)"
   ]
  },
  {
   "cell_type": "code",
   "execution_count": null,
   "metadata": {},
   "outputs": [],
   "source": [
    "# Define a database name (we're using a dataset on births, so we'll call it birth_db)\n",
    "# Set your postgres username\n",
    "dbname = 'insight_db'\n",
    "username = 'postgres' # change this to your username\n",
    "password = get_file_contents('../keys/psql_key')"
   ]
  },
  {
   "cell_type": "code",
   "execution_count": null,
   "metadata": {},
   "outputs": [],
   "source": [
    "# 'engine' is a connection to a database\n",
    "engine = create_engine('postgres://%s:%s@localhost/%s'%(username,password,dbname))\n",
    "# load sql_magic so we can write SQL in Jupyter Notebooks\n",
    "%load_ext sql_magic\n",
    "\n",
    "# setup SQL connection to the postgreSQL engine we created\n",
    "%config SQL.conn_name = 'engine'\n",
    "print(engine.url)"
   ]
  },
  {
   "cell_type": "code",
   "execution_count": null,
   "metadata": {},
   "outputs": [],
   "source": [
    "# if a PostgreSQL database with this name exists  \n",
    "# create a database (if it doesn't exist)\n",
    "if database_exists(engine.url):\n",
    "    # delete PostgreSQL database \n",
    "    drop_database(engine.url)\n",
    "    # create empty PostgreSQL database\n",
    "    create_database(engine.url)\n",
    "else:\n",
    "    # create empty PostgreSQL database\n",
    "    create_database(engine.url)\n",
    "print(database_exists(engine.url))"
   ]
  },
  {
   "cell_type": "code",
   "execution_count": null,
   "metadata": {},
   "outputs": [],
   "source": [
    "# connect to make queries using psycopg2\n",
    "con = psycopg2.connect(database = dbname, host = 'localhost', user = username, password = password)\n",
    "con.set_isolation_level(ISOLATION_LEVEL_AUTOCOMMIT)"
   ]
  },
  {
   "cell_type": "code",
   "execution_count": null,
   "metadata": {},
   "outputs": [],
   "source": [
    "sql_create_table = \"\"\"\n",
    "CREATE TABLE videos (\n",
    "    id SERIAL PRIMARY KEY, \n",
    "    video_id VARCHAR(255) NOT NULL, \n",
    "    uploader VARCHAR(255), \n",
    "    title VARCHAR(255), \n",
    "    upload_date DATE, \n",
    "    duration INT, \n",
    "    view_count INT, \n",
    "    likes INT, \n",
    "    dislikes INT, \n",
    "    video TEXT, \n",
    "    subtitles TEXT, \n",
    "    thumbnail TEXT, \n",
    "    primary_category VARCHAR(255), \n",
    "    description TEXT);\n",
    "\"\"\""
   ]
  },
  {
   "cell_type": "code",
   "execution_count": null,
   "metadata": {},
   "outputs": [],
   "source": [
    "# create a new cursor object\n",
    "cur = con.cursor()\n",
    "# execute the create table statement\n",
    "cur.execute(sql_create_table)"
   ]
  },
  {
   "cell_type": "code",
   "execution_count": null,
   "metadata": {},
   "outputs": [],
   "source": []
  },
  {
   "cell_type": "code",
   "execution_count": null,
   "metadata": {},
   "outputs": [],
   "source": [
    "#nltk.download('stopwords')"
   ]
  },
  {
   "cell_type": "code",
   "execution_count": null,
   "metadata": {},
   "outputs": [],
   "source": [
    "# function to clean vtt and description text files\n",
    "def clean_vtt(path_list):\n",
    "    \"\"\"\n",
    "    input a list of paths to text files\n",
    "    returns a list of strings without vtt formatting\n",
    "    \"\"\"\n",
    "    line_strings = []\n",
    "    for i,path in enumerate(path_list):\n",
    "        f = open(path, 'r',encoding='UTF-8')\n",
    "        lines = []\n",
    "        for line in f.readlines():\n",
    "            line = line.strip()\n",
    "            if line == '\\n':\n",
    "                continue\n",
    "            try:\n",
    "                pd.to_datetime(line.split(' ')[0])\n",
    "                continue\n",
    "            except:\n",
    "                pass\n",
    "            lines.append(re.sub('<.*?>', '', line))\n",
    "        lines = list(dict.fromkeys(lines))\n",
    "        full_string = ''\n",
    "        for line in lines:\n",
    "            full_string = full_string + line + \" \"\n",
    "        line_strings.append(full_string)\n",
    "        cleaned_line_strings = [s.replace('WEBVTT Kind: captions Language: en ', '').replace(\"'\",\"\").replace(\"NA\",'0') for s in line_strings]\n",
    "        f.close()\n",
    "    return cleaned_line_strings"
   ]
  },
  {
   "cell_type": "code",
   "execution_count": null,
   "metadata": {},
   "outputs": [],
   "source": [
    "# function to clean vtt and description text files\n",
    "def strip_path(vtt_path_list):\n",
    "    \"\"\"\n",
    "    input a list of paths for vtt files\n",
    "    returns a list paths for videos without extensions \n",
    "    \"\"\"\n",
    "    video_paths = []\n",
    "    for path in vtt_path_list:\n",
    "        video_paths.append(path[:-7])\n",
    "    return video_paths"
   ]
  },
  {
   "cell_type": "code",
   "execution_count": null,
   "metadata": {},
   "outputs": [],
   "source": [
    "# parse paths to get variables for insight_db\n",
    "def get_variables(vtt_path_list):\n",
    "    \"\"\"\n",
    "    input list of paths\n",
    "    return a list of tuples with variables for each path/file\n",
    "    \"\"\"\n",
    "    variables = []\n",
    "    # iterate vtt paths and parse into variables\n",
    "    for i, vtt_path in enumerate(vtt_path_list):\n",
    "        # split folders\n",
    "        path = vtt_path.split(sep='/')\n",
    "        vtt_fname = path.pop(-1)\n",
    "        # split features\n",
    "        uidx = vtt_fname.rfind('_')\n",
    "        vpath = vtt_fname[:uidx]\n",
    "        vtt_vals = []\n",
    "        for i in range(5):\n",
    "            uidx = vpath.rfind('_')\n",
    "            if vpath[uidx+1:] != 'NA':\n",
    "                vtt_vals.append(vpath[uidx+1:])\n",
    "            else:\n",
    "                vtt_vals.append(0)\n",
    "            vpath = vpath[:uidx]\n",
    "        vtt_vals.append(vpath[:uidx])\n",
    "        for j in range(3):\n",
    "            vtt_vals.append(path.pop(-1))\n",
    "        variables.append(vtt_vals)\n",
    "    return variables"
   ]
  },
  {
   "cell_type": "code",
   "execution_count": null,
   "metadata": {},
   "outputs": [],
   "source": [
    "# collected paths to video files\n",
    "# videos, thumbnails, descriptions, subtitles\n",
    "vtt_path_list = []\n",
    "img_path_list = []\n",
    "des_path_list = []\n",
    "\n",
    "for root, dirs, files in os.walk(\"data\"):\n",
    "    for file in files:\n",
    "        if file.endswith(\".vtt\"): # subtitles\n",
    "             vtt_path_list.append(os.path.join(root, file))\n",
    "        if file.endswith(\".jpg\"): # thumbnails\n",
    "             img_path_list.append(os.path.join(root, file))\n",
    "        if file.endswith(\".description\"): # descriptions\n",
    "             des_path_list.append(os.path.join(root, file))"
   ]
  },
  {
   "cell_type": "code",
   "execution_count": null,
   "metadata": {},
   "outputs": [],
   "source": [
    "vtt_path_list"
   ]
  },
  {
   "cell_type": "code",
   "execution_count": null,
   "metadata": {},
   "outputs": [],
   "source": [
    "# get media paths\n",
    "video_paths = strip_path(vtt_path_list)\n",
    "#video_paths[:5]"
   ]
  },
  {
   "cell_type": "code",
   "execution_count": null,
   "metadata": {},
   "outputs": [],
   "source": [
    "vtt_items = clean_vtt(vtt_path_list)\n",
    "#vtt_items[:5]"
   ]
  },
  {
   "cell_type": "code",
   "execution_count": null,
   "metadata": {
    "scrolled": true
   },
   "outputs": [],
   "source": [
    "descriptions = clean_vtt(des_path_list)\n",
    "#descriptions[:5]"
   ]
  },
  {
   "cell_type": "code",
   "execution_count": null,
   "metadata": {},
   "outputs": [],
   "source": [
    "variables = get_variables(vtt_path_list)\n",
    "#variables[:5]"
   ]
  },
  {
   "cell_type": "code",
   "execution_count": null,
   "metadata": {},
   "outputs": [],
   "source": [
    "for i, video_path in enumerate(video_paths):\n",
    "    sql_insert_into_videos = \"\"\"\n",
    "    INSERT INTO videos (video_id, uploader, title, upload_date, duration, \n",
    "                        view_count, likes, dislikes, video, subtitles, \n",
    "                        thumbnail, primary_category, description) \n",
    "    VALUES ('{}','{}','{}','{}','{}','{}','{}','{}',\n",
    "            '{}','{}','{}','{}','{}')\n",
    "    \"\"\".format(variables[i][5], variables[i][7], variables[i][6], variables[i][4], \n",
    "               variables[i][3], variables[i][2], variables[i][1], variables[i][0], \n",
    "               video_path, vtt_items[i], img_path_list[i], \n",
    "               variables[i][8], descriptions[i])\n",
    "    # create a new cursor object\n",
    "    cur = con.cursor()\n",
    "    # execute the create table statement\n",
    "    cur.execute(sql_insert_into_videos)"
   ]
  },
  {
   "cell_type": "code",
   "execution_count": null,
   "metadata": {},
   "outputs": [],
   "source": [
    "%%read_sql\n",
    "\n",
    "-- Select all records from the videos table\n",
    "SELECT * FROM videos;"
   ]
  },
  {
   "cell_type": "code",
   "execution_count": null,
   "metadata": {},
   "outputs": [],
   "source": [
    "SQL_Query = pd.read_sql_query('SELECT video_id FROM videos', con);"
   ]
  },
  {
   "cell_type": "code",
   "execution_count": null,
   "metadata": {},
   "outputs": [],
   "source": [
    "SQL_Query.to_csv(r'data/comments/list_of_video_ids.csv', index = None, header=False)"
   ]
  },
  {
   "cell_type": "code",
   "execution_count": null,
   "metadata": {},
   "outputs": [],
   "source": []
  },
  {
   "cell_type": "code",
   "execution_count": null,
   "metadata": {},
   "outputs": [],
   "source": [
    "import pandas as pd\n",
    "\n",
    "data_df = pd.read_sql('SELECT * from videos', con=con)"
   ]
  },
  {
   "cell_type": "code",
   "execution_count": null,
   "metadata": {},
   "outputs": [],
   "source": [
    "data_df['title'] = data_df['title'].str.replace('_',' ')"
   ]
  },
  {
   "cell_type": "markdown",
   "metadata": {},
   "source": [
    "## START HERE"
   ]
  },
  {
   "cell_type": "code",
   "execution_count": null,
   "metadata": {},
   "outputs": [],
   "source": [
    "from_csv_filename = 'data/csv_files/summarized_data.csv'\n",
    "data_df = pd.read_csv(from_csv_filename, sep=',')"
   ]
  },
  {
   "cell_type": "code",
   "execution_count": null,
   "metadata": {},
   "outputs": [],
   "source": [
    "data_text = data_df[['title']]"
   ]
  },
  {
   "cell_type": "code",
   "execution_count": null,
   "metadata": {},
   "outputs": [],
   "source": [
    "data_text['index'] = data_text.index\n",
    "documents = data_text"
   ]
  },
  {
   "cell_type": "code",
   "execution_count": null,
   "metadata": {},
   "outputs": [],
   "source": [
    "print(len(documents))"
   ]
  },
  {
   "cell_type": "code",
   "execution_count": null,
   "metadata": {},
   "outputs": [],
   "source": [
    "print(documents[:5])"
   ]
  },
  {
   "cell_type": "code",
   "execution_count": null,
   "metadata": {},
   "outputs": [],
   "source": [
    "# Perform Tokenization to split the text into sentences and the sentences into words. \n",
    "# Lowercase the words and remove punctuation."
   ]
  },
  {
   "cell_type": "code",
   "execution_count": null,
   "metadata": {},
   "outputs": [],
   "source": [
    "import gensim\n",
    "from gensim.utils import simple_preprocess\n",
    "from gensim.parsing.preprocessing import STOPWORDS\n",
    "from nltk.stem import WordNetLemmatizer, SnowballStemmer, StemmerI\n",
    "from nltk.stem.porter import *\n",
    "import numpy as np\n",
    "np.random.seed(2019)\n",
    "import nltk\n",
    "nltk.download('wordnet')\n",
    "\n",
    "stemmer = PorterStemmer()"
   ]
  },
  {
   "cell_type": "code",
   "execution_count": null,
   "metadata": {},
   "outputs": [],
   "source": [
    "def lemmatize_stemming(text):\n",
    "    return stemmer.stem(WordNetLemmatizer().lemmatize(text, pos='v'),)\n",
    "def preprocess(text):\n",
    "    result = []\n",
    "    for token in gensim.utils.simple_preprocess(text):\n",
    "        if token not in gensim.parsing.preprocessing.STOPWORDS and len(token) > 3:\n",
    "            result.append(lemmatize_stemming(token))\n",
    "    return result"
   ]
  },
  {
   "cell_type": "code",
   "execution_count": null,
   "metadata": {},
   "outputs": [],
   "source": [
    "doc_sample = documents[documents['index'] == 1000].values[0][0]\n",
    "print('original document: ')\n",
    "words = []\n",
    "for word in doc_sample.split(' '):\n",
    "    words.append(word)\n",
    "print(words)\n",
    "print('\\n\\n tokenized and lemmatized document: ')\n",
    "print(preprocess(doc_sample))"
   ]
  },
  {
   "cell_type": "code",
   "execution_count": null,
   "metadata": {},
   "outputs": [],
   "source": [
    "processed_docs = documents['title'].map(preprocess)\n",
    "processed_docs[:10]"
   ]
  },
  {
   "cell_type": "code",
   "execution_count": null,
   "metadata": {},
   "outputs": [],
   "source": []
  },
  {
   "cell_type": "code",
   "execution_count": null,
   "metadata": {},
   "outputs": [],
   "source": []
  },
  {
   "cell_type": "code",
   "execution_count": null,
   "metadata": {},
   "outputs": [],
   "source": []
  },
  {
   "cell_type": "code",
   "execution_count": null,
   "metadata": {},
   "outputs": [],
   "source": [
    "import pandas as pd\n",
    "import os\n",
    "\n",
    "os.chdir('..')\n",
    "\n",
    "data_df = pd.read_sql('SELECT * from videos', con=con)\n",
    "data_df.head()"
   ]
  },
  {
   "cell_type": "code",
   "execution_count": null,
   "metadata": {},
   "outputs": [],
   "source": [
    "# remove the columns\n",
    "data_df = data_df.drop(columns=['id', 'video_id', 'uploader', 'thumbnail', 'video', 'duration'], axis=1)"
   ]
  },
  {
   "cell_type": "code",
   "execution_count": null,
   "metadata": {},
   "outputs": [],
   "source": [
    "data_df.head()"
   ]
  },
  {
   "cell_type": "code",
   "execution_count": null,
   "metadata": {},
   "outputs": [],
   "source": [
    "# Load the regular expression library\n",
    "import re\n",
    "# Remove punctuation\n",
    "data_df['title_processed'] = data_df['title'].map(lambda x: re.sub('[,\\.!_?]', ' ', x))\n",
    "# Convert the titles to lowercase\n",
    "data_df['title_processed'] = data_df['title_processed'].map(lambda x: x.lower())\n",
    "# Print out the first rows of papers\n",
    "data_df['title_processed'].head()"
   ]
  },
  {
   "cell_type": "code",
   "execution_count": null,
   "metadata": {},
   "outputs": [],
   "source": [
    "# Import the wordcloud library\n",
    "from wordcloud import WordCloud\n",
    "# Join the different processed titles together.\n",
    "long_string = ','.join(list(data_df['title_processed'].values))\n",
    "# Create a WordCloud object\n",
    "wordcloud = WordCloud(background_color=\"white\", max_words=5000, contour_width=3, contour_color='steelblue')\n",
    "# Generate a word cloud\n",
    "wordcloud.generate(long_string)\n",
    "# Visualize the word cloud\n",
    "wordcloud.to_image()"
   ]
  },
  {
   "cell_type": "code",
   "execution_count": null,
   "metadata": {},
   "outputs": [],
   "source": [
    "## START OF LDA ANALYSIS"
   ]
  },
  {
   "cell_type": "code",
   "execution_count": null,
   "metadata": {},
   "outputs": [],
   "source": [
    "%matplotlib inline\n",
    "\n",
    "# Load the library with the CountVectorizer method\n",
    "from sklearn.feature_extraction.text import CountVectorizer\n",
    "import numpy as np\n",
    "import matplotlib.pyplot as plt\n",
    "import seaborn as sns\n",
    "sns.set_style('whitegrid')\n",
    "\n",
    "# Helper function\n",
    "def plot_10_most_common_words(count_data, count_vectorizer):\n",
    "    import matplotlib.pyplot as plt\n",
    "    words = count_vectorizer.get_feature_names()\n",
    "    total_counts = np.zeros(len(words))\n",
    "    for t in count_data:\n",
    "        total_counts+=t.toarray()[0]\n",
    "    \n",
    "    count_dict = (zip(words, total_counts))\n",
    "    count_dict = sorted(count_dict, key=lambda x:x[1], reverse=True)[0:10]\n",
    "    words = [w[0] for w in count_dict]\n",
    "    counts = [w[1] for w in count_dict]\n",
    "    x_pos = np.arange(len(words)) \n",
    "    \n",
    "    plt.figure(2, figsize=(12, 12/1.6180))\n",
    "    plt.subplot(title='10 most common words')\n",
    "    sns.set_context(\"notebook\", font_scale=1.25, rc={\"lines.linewidth\": 2.5})\n",
    "    sns.barplot(x_pos, counts, palette='Paired')\n",
    "    plt.xticks(x_pos, words, rotation=90) \n",
    "    plt.xlabel('words')\n",
    "    plt.ylabel('counts')\n",
    "    plt.show()\n",
    "    \n",
    "# Initialise the count vectorizer with the English stop words\n",
    "count_vectorizer = CountVectorizer(stop_words='english')\n",
    "\n",
    "# Fit and transform the processed titles\n",
    "count_data = count_vectorizer.fit_transform(data_df['title_processed'])\n",
    "\n",
    "# Visualise the 10 most common words\n",
    "plot_10_most_common_words(count_data, count_vectorizer)"
   ]
  },
  {
   "cell_type": "code",
   "execution_count": null,
   "metadata": {},
   "outputs": [],
   "source": [
    "import warnings\n",
    "warnings.simplefilter(\"ignore\", DeprecationWarning)\n",
    "# Load the LDA model from sk-learn\n",
    "from sklearn.decomposition import LatentDirichletAllocation as LDA\n",
    " \n",
    "# Helper function\n",
    "def print_topics(model, count_vectorizer, n_top_words):\n",
    "    words = count_vectorizer.get_feature_names()\n",
    "    for topic_idx, topic in enumerate(model.components_):\n",
    "        print(\"\\nTopic #%d:\" % topic_idx)\n",
    "        print(\" \".join([words[i] for i in topic.argsort()[:-n_top_words - 1:-1]]))\n",
    "        \n",
    "# Tweak the two parameters below\n",
    "number_topics = 15\n",
    "number_words = 5\n",
    "# Create and fit the LDA model\n",
    "lda = LDA(n_components=number_topics)\n",
    "lda.fit(count_data)\n",
    "# Print the topics found by the LDA model\n",
    "print(\"Topics found via LDA:\")\n",
    "print_topics(lda, count_vectorizer, number_words)"
   ]
  },
  {
   "cell_type": "code",
   "execution_count": null,
   "metadata": {},
   "outputs": [],
   "source": [
    "%%time\n",
    "from pyLDAvis import sklearn as sklearn_lda\n",
    "import pickle \n",
    "import pyLDAvis\n",
    "import pyLDAvis.gensim\n",
    "\n",
    "pyLDAvis.enable_notebook()\n",
    "\n",
    "# #LDAvis_data_filepath = os.path.join('ldavis_prepared_'+ str(number_topics))\n",
    "# # # this is a bit time consuming - make the if statement True\n",
    "# # # if you want to execute visualization prep yourself\n",
    "# if 1 == 1:\n",
    "#     LDAvis_prepared = sklearn_lda.prepare(lda, count_data, count_vectorizer)\n",
    "# #with open(LDAvis_data_filepath, 'w') as f:\n",
    "#         pickle.dump(LDAvis_prepared, f)\n",
    "        \n",
    "# # load the pre-prepared pyLDAvis data from disk\n",
    "# with open(LDAvis_data_filepath) as f:\n",
    "#     LDAvis_prepared = pickle.load(f)\n",
    "# pyLDAvis.save_html(LDAvis_prepared, 'ldavis_prepared_'+ str(number_topics) +'.html')\n",
    "\n",
    "vis = pyLDAvis.gensim.prepare(lda, count_data, count_vectorizer)"
   ]
  },
  {
   "cell_type": "code",
   "execution_count": null,
   "metadata": {},
   "outputs": [],
   "source": []
  },
  {
   "cell_type": "code",
   "execution_count": null,
   "metadata": {},
   "outputs": [],
   "source": []
  },
  {
   "cell_type": "code",
   "execution_count": null,
   "metadata": {},
   "outputs": [],
   "source": []
  },
  {
   "cell_type": "code",
   "execution_count": null,
   "metadata": {},
   "outputs": [],
   "source": []
  },
  {
   "cell_type": "code",
   "execution_count": 2,
   "metadata": {},
   "outputs": [],
   "source": [
    "%matplotlib inline\n",
    "\n",
    "import re\n",
    "import numpy as np\n",
    "import pandas as pd\n",
    "from pprint import pprint\n",
    "\n",
    "# Gensim\n",
    "import gensim\n",
    "import gensim.corpora as corpora\n",
    "from gensim.utils import simple_preprocess\n",
    "from gensim.models import CoherenceModel\n",
    "\n",
    "# spacy for lemmatization\n",
    "import spacy\n",
    "\n",
    "# Plotting tools\n",
    "import pyLDAvis\n",
    "import pyLDAvis.gensim  # don't skip this\n",
    "import matplotlib.pyplot as plt\n",
    "\n",
    "# Enable logging for gensim - optional\n",
    "import logging\n",
    "logging.basicConfig(format='%(asctime)s : %(levelname)s : %(message)s', level=logging.ERROR)\n",
    "\n",
    "import warnings\n",
    "warnings.filterwarnings(\"ignore\",category=DeprecationWarning)"
   ]
  },
  {
   "cell_type": "code",
   "execution_count": 3,
   "metadata": {},
   "outputs": [],
   "source": [
    "from nltk.corpus import stopwords\n",
    "stop_words = stopwords.words('english')\n",
    "#stop_words.extend(['from', 'subject', 're', 'edu', 'use'])"
   ]
  },
  {
   "cell_type": "code",
   "execution_count": 4,
   "metadata": {},
   "outputs": [],
   "source": [
    "from_csv_filename = 'data/csv_files/summarized_data.csv'\n",
    "data_df = pd.read_csv(from_csv_filename, sep=',')"
   ]
  },
  {
   "cell_type": "code",
   "execution_count": 5,
   "metadata": {},
   "outputs": [],
   "source": [
    "# data_df.drop_duplicates(subset='title', keep=\"last\", inplace=True)"
   ]
  },
  {
   "cell_type": "code",
   "execution_count": 6,
   "metadata": {},
   "outputs": [],
   "source": [
    "# data_df.reset_index(inplace=True)"
   ]
  },
  {
   "cell_type": "code",
   "execution_count": 7,
   "metadata": {},
   "outputs": [],
   "source": [
    "drywall_titles = data_df[data_df.primary_category=='drywall_repair'].title.values.tolist()\n",
    "carpet_titles = data_df[data_df.primary_category=='carpet_flooring'].title.values.tolist()\n",
    "laminate_titles = data_df[data_df.primary_category=='laminate_flooring'].title.values.tolist()\n",
    "fence_titles = data_df[data_df.primary_category=='repair_wood_fence'].title.values.tolist()\n",
    "deck_titles = data_df[data_df.primary_category=='build_deck'].title.values.tolist()"
   ]
  },
  {
   "cell_type": "code",
   "execution_count": 8,
   "metadata": {},
   "outputs": [],
   "source": [
    "all_titles = data_df.title.values.tolist()"
   ]
  },
  {
   "cell_type": "code",
   "execution_count": 9,
   "metadata": {},
   "outputs": [
    {
     "name": "stdout",
     "output_type": "stream",
     "text": [
      "['How to remove popcorn stipple ceiling', 'How to install carpet tiles', 'Fix small nail holes in walls fast and make them disappear', 'Hog wire deck rail installation', 'Replacing a section of drywall after a pipe leak', 'Vinyl plank flooring over tile should i do this', 'Large plaster repairs skim coating house painting', 'Diy ceiling repair - skim coat over a painted popcorn ceiling part 4', 'How to skim coat a wall', 'How to make a four season room from a porch']\n"
     ]
    }
   ],
   "source": [
    "# Remove Emails\n",
    "titles = [re.sub('[,\\.!_?]', ' ', s) for s in all_titles]\n",
    "\n",
    "print(titles[:10])"
   ]
  },
  {
   "cell_type": "code",
   "execution_count": 10,
   "metadata": {},
   "outputs": [
    {
     "name": "stdout",
     "output_type": "stream",
     "text": [
      "[['how', 'to', 'remove', 'popcorn', 'stipple', 'ceiling'], ['how', 'to', 'install', 'carpet', 'tiles'], ['fix', 'small', 'nail', 'holes', 'in', 'walls', 'fast', 'and', 'make', 'them', 'disappear'], ['hog', 'wire', 'deck', 'rail', 'installation'], ['replacing', 'section', 'of', 'drywall', 'after', 'pipe', 'leak'], ['vinyl', 'plank', 'flooring', 'over', 'tile', 'should', 'do', 'this'], ['large', 'plaster', 'repairs', 'skim', 'coating', 'house', 'painting'], ['diy', 'ceiling', 'repair', 'skim', 'coat', 'over', 'painted', 'popcorn', 'ceiling', 'part'], ['how', 'to', 'skim', 'coat', 'wall'], ['how', 'to', 'make', 'four', 'season', 'room', 'from', 'porch']]\n"
     ]
    }
   ],
   "source": [
    "def sent_to_words(sentences):\n",
    "    for sentence in sentences:\n",
    "        yield(gensim.utils.simple_preprocess(str(sentence), deacc=True))  # deacc=True removes punctuations\n",
    "\n",
    "title_words = list(sent_to_words(titles))\n",
    "\n",
    "print(title_words[:10])"
   ]
  },
  {
   "cell_type": "code",
   "execution_count": 11,
   "metadata": {},
   "outputs": [
    {
     "name": "stderr",
     "output_type": "stream",
     "text": [
      "/home/clutch/anaconda3/envs/insight/lib/python3.7/site-packages/gensim/models/phrases.py:494: UserWarning: For a faster implementation, use the gensim.models.phrases.Phraser class\n",
      "  warnings.warn(\"For a faster implementation, use the gensim.models.phrases.Phraser class\")\n"
     ]
    }
   ],
   "source": [
    "# Build the bigram and trigram models\n",
    "bigram = gensim.models.Phrases(title_words, min_count=3, threshold=20) # higher threshold fewer phrases.\n",
    "trigram = gensim.models.Phrases(bigram[title_words], threshold=10)  \n",
    "\n",
    "# Faster way to get a sentence clubbed as a trigram/bigram\n",
    "bigram_mod = gensim.models.phrases.Phraser(bigram)\n",
    "trigram_mod = gensim.models.phrases.Phraser(trigram)"
   ]
  },
  {
   "cell_type": "code",
   "execution_count": 12,
   "metadata": {},
   "outputs": [
    {
     "name": "stdout",
     "output_type": "stream",
     "text": [
      "['diy', 'deck', 'time', 'lapse', 'building', 'ground', 'level', 'deck']\n"
     ]
    }
   ],
   "source": [
    "# See trigram example\n",
    "print(trigram_mod[bigram_mod[title_words[19]]])"
   ]
  },
  {
   "cell_type": "code",
   "execution_count": 13,
   "metadata": {},
   "outputs": [],
   "source": [
    "# Define functions for stopwords, bigrams, trigrams and lemmatization\n",
    "def remove_stopwords(texts):\n",
    "    return [[word for word in simple_preprocess(str(doc)) if word not in stop_words] for doc in texts]\n",
    "\n",
    "def make_bigrams(texts):\n",
    "    return [bigram_mod[doc] for doc in texts]\n",
    "\n",
    "def make_bigrams_subs(texts):\n",
    "    return [bigram_mod_subs[doc] for doc in texts]\n",
    "\n",
    "def make_trigrams(texts):\n",
    "    return [trigram_mod[bigram_mod[doc]] for doc in texts]\n",
    "\n",
    "def make_trigrams_subs(texts):\n",
    "    return [trigram_mod_subs[bigram_mod_subs[doc]] for doc in texts]\n",
    "\n",
    "def lemmatization(texts, allowed_postags=['NOUN', 'ADJ', 'VERB', 'ADV']):\n",
    "    \"\"\"https://spacy.io/api/annotation\"\"\"\n",
    "    texts_out = []\n",
    "    for sent in texts:\n",
    "        doc = nlp(\" \".join(sent)) \n",
    "        texts_out.append([token.lemma_ for token in doc if token.pos_ in allowed_postags])\n",
    "    return texts_out"
   ]
  },
  {
   "cell_type": "code",
   "execution_count": 14,
   "metadata": {},
   "outputs": [],
   "source": [
    "# Remove Stop Words\n",
    "title_words_nostops = remove_stopwords(title_words)\n",
    "\n",
    "# Form Bigrams\n",
    "title_words_bigrams = make_bigrams(title_words_nostops)\n",
    "\n",
    "\n",
    "# Initialize spacy 'en' model, keeping only tagger component (for efficiency)\n",
    "# python3 -m spacy download en\n",
    "nlp = spacy.load('en', disable=['parser', 'ner'])\n",
    "\n",
    "# Do lemmatization keeping only noun, adj, vb, adv\n",
    "titles_lemmatized = lemmatization(title_words_bigrams, allowed_postags=['NOUN', 'ADJ', 'VERB', 'ADV'])"
   ]
  },
  {
   "cell_type": "code",
   "execution_count": 15,
   "metadata": {},
   "outputs": [
    {
     "name": "stdout",
     "output_type": "stream",
     "text": [
      "[['remove', 'popcorn', 'stipple', 'ceiling'], ['install', 'carpet', 'tile'], ['fix', 'small', 'nail', 'hole', 'wall', 'fast', 'make', 'disappear'], ['wire', 'deck', 'rail', 'installation'], ['replace', 'section', 'drywall', 'pipe', 'leak'], ['vinyl_plank', 'flooring', 'tile'], ['large', 'plaster', 'repair', 'skim_coate', 'house', 'painting'], ['diy', 'ceiling', 'repair', 'skim_coat', 'painted_popcorn', 'ceiling', 'part'], ['skim_coat', 'wall'], ['make', 'season', 'room', 'porch']]\n"
     ]
    }
   ],
   "source": [
    "print(titles_lemmatized[:10])"
   ]
  },
  {
   "cell_type": "code",
   "execution_count": 16,
   "metadata": {},
   "outputs": [],
   "source": [
    "# Create Dictionary\n",
    "id2word = corpora.Dictionary(titles_lemmatized)\n",
    "\n",
    "# Create Corpus\n",
    "texts = titles_lemmatized\n",
    "\n",
    "# Term Document Frequency\n",
    "corpus = [id2word.doc2bow(text) for text in texts]"
   ]
  },
  {
   "cell_type": "code",
   "execution_count": 17,
   "metadata": {},
   "outputs": [
    {
     "name": "stdout",
     "output_type": "stream",
     "text": [
      "[[(0, 1), (1, 1), (2, 1), (3, 1)]]\n"
     ]
    }
   ],
   "source": [
    "# View\n",
    "print(corpus[:1])"
   ]
  },
  {
   "cell_type": "code",
   "execution_count": 18,
   "metadata": {},
   "outputs": [
    {
     "data": {
      "text/plain": [
       "[[('ceiling', 1), ('popcorn', 1), ('remove', 1), ('stipple', 1)]]"
      ]
     },
     "execution_count": 18,
     "metadata": {},
     "output_type": "execute_result"
    }
   ],
   "source": [
    "# Human readable format of corpus (term-frequency)\n",
    "[[(id2word[id], freq) for id, freq in cp] for cp in corpus[:1]]"
   ]
  },
  {
   "cell_type": "code",
   "execution_count": 19,
   "metadata": {},
   "outputs": [],
   "source": [
    "# Build LDA model\n",
    "lda_model = gensim.models.ldamodel.LdaModel(corpus=corpus,\n",
    "                                           id2word=id2word,\n",
    "                                           num_topics=10, \n",
    "                                           random_state=100,\n",
    "                                           update_every=2,\n",
    "                                           chunksize=10,\n",
    "                                           passes=10,\n",
    "                                           alpha='auto',\n",
    "                                           per_word_topics=True)"
   ]
  },
  {
   "cell_type": "code",
   "execution_count": 20,
   "metadata": {},
   "outputs": [
    {
     "data": {
      "text/plain": [
       "[(0,\n",
       "  '0.188*\"floor\" + 0.137*\"laminate\" + 0.083*\"instal\" + 0.041*\"wooden\" + 0.024*\"guide\" + 0.023*\"panel\" + 0.019*\"tool\" + 0.015*\"shop\" + 0.014*\"beginner\" + 0.013*\"decor\"'),\n",
       " (1,\n",
       "  '0.114*\"part\" + 0.098*\"drywall\" + 0.088*\"repair\" + 0.059*\"diy\" + 0.036*\"door\" + 0.032*\"tape\" + 0.027*\"texture\" + 0.020*\"wall_preparation\" + 0.017*\"rail\" + 0.016*\"trick\"'),\n",
       " (2,\n",
       "  '0.102*\"easy\" + 0.056*\"transition\" + 0.055*\"gate\" + 0.053*\"stair\" + 0.032*\"strip\" + 0.029*\"cut\" + 0.026*\"home_mender\" + 0.021*\"float\" + 0.020*\"lie\" + 0.018*\"tack\"'),\n",
       " (3,\n",
       "  '0.043*\"use\" + 0.042*\"way\" + 0.040*\"project\" + 0.036*\"new\" + 0.028*\"patio\" + 0.021*\"sheet\" + 0.020*\"screw\" + 0.019*\"quick\" + 0.016*\"idea\" + 0.015*\"tapcon\"'),\n",
       " (4,\n",
       "  '0.116*\"drywall\" + 0.104*\"flooring\" + 0.096*\"repair\" + 0.086*\"wall\" + 0.070*\"fix\" + 0.053*\"patch\" + 0.051*\"ceiling\" + 0.039*\"hole\" + 0.033*\"crack\" + 0.022*\"vinyl_plank\"'),\n",
       " (5,\n",
       "  '0.133*\"make\" + 0.057*\"outdoor\" + 0.037*\"seam\" + 0.036*\"cheap\" + 0.029*\"porch\" + 0.028*\"room\" + 0.020*\"height\" + 0.017*\"outdoor_great\" + 0.016*\"home_ideas\" + 0.013*\"backyard\"'),\n",
       " (6,\n",
       "  '0.255*\"install\" + 0.128*\"carpet\" + 0.074*\"tile\" + 0.048*\"vinyl\" + 0.029*\"building\" + 0.020*\"railing\" + 0.019*\"hardwood\" + 0.017*\"stretch\" + 0.013*\"basic\" + 0.010*\"stick\"'),\n",
       " (7,\n",
       "  '0.221*\"fence\" + 0.151*\"wood\" + 0.083*\"installation\" + 0.023*\"privacy\" + 0.023*\"remove\" + 0.020*\"chain_link\" + 0.015*\"chain\" + 0.014*\"metal\" + 0.013*\"picket\" + 0.013*\"damage\"'),\n",
       " (8,\n",
       "  '0.065*\"board\" + 0.053*\"plaster\" + 0.050*\"home\" + 0.043*\"house\" + 0.030*\"home_depot\" + 0.028*\"repair_tutor\" + 0.024*\"finish\" + 0.023*\"stain\" + 0.020*\"attach\" + 0.019*\"frame\"'),\n",
       " (9,\n",
       "  '0.154*\"diy\" + 0.152*\"build\" + 0.113*\"deck\" + 0.049*\"tip\" + 0.045*\"post\" + 0.035*\"step\" + 0.029*\"concrete\" + 0.027*\"replace\" + 0.017*\"paint\" + 0.014*\"chair\"')]"
      ]
     },
     "execution_count": 20,
     "metadata": {},
     "output_type": "execute_result"
    }
   ],
   "source": [
    "# Print the Keyword in the 10 topics\n",
    "lda_model.print_topics()"
   ]
  },
  {
   "cell_type": "code",
   "execution_count": 21,
   "metadata": {},
   "outputs": [],
   "source": [
    "doc_lda = lda_model[corpus]"
   ]
  },
  {
   "cell_type": "code",
   "execution_count": 22,
   "metadata": {},
   "outputs": [
    {
     "name": "stdout",
     "output_type": "stream",
     "text": [
      "\n",
      "Perplexity:  -6.447591284217403\n",
      "\n",
      "Coherence Score:  0.5792319687952285\n"
     ]
    }
   ],
   "source": [
    "# Compute Perplexity\n",
    "print('\\nPerplexity: ', lda_model.log_perplexity(corpus))  # a measure of how good the model is. lower the better.\n",
    "\n",
    "# Compute Coherence Score\n",
    "coherence_model_lda = CoherenceModel(model=lda_model, texts=titles_lemmatized, dictionary=id2word, coherence='c_v')\n",
    "coherence_lda = coherence_model_lda.get_coherence()\n",
    "print('\\nCoherence Score: ', coherence_lda)"
   ]
  },
  {
   "cell_type": "code",
   "execution_count": 23,
   "metadata": {
    "scrolled": true
   },
   "outputs": [
    {
     "name": "stderr",
     "output_type": "stream",
     "text": [
      "/home/clutch/anaconda3/envs/insight/lib/python3.7/site-packages/pyLDAvis/_prepare.py:257: FutureWarning: Sorting because non-concatenation axis is not aligned. A future version\n",
      "of pandas will change to not sort by default.\n",
      "\n",
      "To accept the future behavior, pass 'sort=False'.\n",
      "\n",
      "To retain the current behavior and silence the warning, pass 'sort=True'.\n",
      "\n",
      "  return pd.concat([default_term_info] + list(topic_dfs))\n"
     ]
    }
   ],
   "source": [
    "# Visualize the topics\n",
    "pyLDAvis.enable_notebook()\n",
    "vis = pyLDAvis.gensim.prepare(lda_model, corpus, id2word) #sort=True not included"
   ]
  },
  {
   "cell_type": "code",
   "execution_count": 24,
   "metadata": {},
   "outputs": [
    {
     "data": {
      "text/html": [
       "\n",
       "<link rel=\"stylesheet\" type=\"text/css\" href=\"https://cdn.rawgit.com/bmabey/pyLDAvis/files/ldavis.v1.0.0.css\">\n",
       "\n",
       "\n",
       "<div id=\"ldavis_el179941401807721166648644766879\"></div>\n",
       "<script type=\"text/javascript\">\n",
       "\n",
       "var ldavis_el179941401807721166648644766879_data = {\"mdsDat\": {\"x\": [0.051697192462133536, 0.3148188590785941, 0.26364496033820345, -0.0958006072183258, -0.09661552345809989, -0.0929172988780493, -0.09676594337443153, -0.0851153351109582, -0.08325569457075807, -0.07969060926830804], \"y\": [0.3736856260915994, -0.1495562783767715, 0.02022928593487893, -0.048028555701543296, -0.04635921129848455, -0.04025741334865356, -0.03676636673706306, -0.027878352914099434, -0.024777296461483925, -0.020291437188379242], \"topics\": [1, 2, 3, 4, 5, 6, 7, 8, 9, 10], \"cluster\": [1, 1, 1, 1, 1, 1, 1, 1, 1, 1], \"Freq\": [17.21988296508789, 16.451784133911133, 11.23112678527832, 10.63131332397461, 10.629842758178711, 10.19709300994873, 7.6800055503845215, 5.875595569610596, 5.124591827392578, 4.958766937255859]}, \"tinfo\": {\"Category\": [\"Default\", \"Default\", \"Default\", \"Default\", \"Default\", \"Default\", \"Default\", \"Default\", \"Default\", \"Default\", \"Default\", \"Default\", \"Default\", \"Default\", \"Default\", \"Default\", \"Default\", \"Default\", \"Default\", \"Default\", \"Default\", \"Default\", \"Default\", \"Default\", \"Default\", \"Default\", \"Default\", \"Default\", \"Default\", \"Default\", \"Topic1\", \"Topic1\", \"Topic1\", \"Topic1\", \"Topic1\", \"Topic1\", \"Topic1\", \"Topic1\", \"Topic1\", \"Topic1\", \"Topic1\", \"Topic1\", \"Topic1\", \"Topic1\", \"Topic1\", \"Topic1\", \"Topic1\", \"Topic1\", \"Topic1\", \"Topic1\", \"Topic1\", \"Topic1\", \"Topic1\", \"Topic1\", \"Topic1\", \"Topic1\", \"Topic1\", \"Topic1\", \"Topic1\", \"Topic1\", \"Topic1\", \"Topic1\", \"Topic2\", \"Topic2\", \"Topic2\", \"Topic2\", \"Topic2\", \"Topic2\", \"Topic2\", \"Topic2\", \"Topic2\", \"Topic2\", \"Topic2\", \"Topic2\", \"Topic2\", \"Topic2\", \"Topic2\", \"Topic2\", \"Topic2\", \"Topic2\", \"Topic2\", \"Topic2\", \"Topic2\", \"Topic2\", \"Topic2\", \"Topic2\", \"Topic2\", \"Topic2\", \"Topic2\", \"Topic2\", \"Topic2\", \"Topic2\", \"Topic2\", \"Topic2\", \"Topic2\", \"Topic3\", \"Topic3\", \"Topic3\", \"Topic3\", \"Topic3\", \"Topic3\", \"Topic3\", \"Topic3\", \"Topic3\", \"Topic3\", \"Topic3\", \"Topic3\", \"Topic3\", \"Topic3\", \"Topic3\", \"Topic3\", \"Topic3\", \"Topic3\", \"Topic3\", \"Topic3\", \"Topic3\", \"Topic3\", \"Topic3\", \"Topic3\", \"Topic3\", \"Topic3\", \"Topic3\", \"Topic3\", \"Topic3\", \"Topic3\", \"Topic3\", \"Topic3\", \"Topic3\", \"Topic3\", \"Topic3\", \"Topic3\", \"Topic3\", \"Topic4\", \"Topic4\", \"Topic4\", \"Topic4\", \"Topic4\", \"Topic4\", \"Topic4\", \"Topic4\", \"Topic4\", \"Topic4\", \"Topic4\", \"Topic4\", \"Topic4\", \"Topic4\", \"Topic4\", \"Topic4\", \"Topic4\", \"Topic4\", \"Topic4\", \"Topic4\", \"Topic4\", \"Topic4\", \"Topic4\", \"Topic4\", \"Topic4\", \"Topic4\", \"Topic4\", \"Topic4\", \"Topic4\", \"Topic4\", \"Topic5\", \"Topic5\", \"Topic5\", \"Topic5\", \"Topic5\", \"Topic5\", \"Topic5\", \"Topic5\", \"Topic5\", \"Topic5\", \"Topic5\", \"Topic5\", \"Topic5\", \"Topic5\", \"Topic5\", \"Topic5\", \"Topic5\", \"Topic5\", \"Topic5\", \"Topic5\", \"Topic5\", \"Topic5\", \"Topic5\", \"Topic5\", \"Topic5\", \"Topic5\", \"Topic5\", \"Topic5\", \"Topic5\", \"Topic5\", \"Topic6\", \"Topic6\", \"Topic6\", \"Topic6\", \"Topic6\", \"Topic6\", \"Topic6\", \"Topic6\", \"Topic6\", \"Topic6\", \"Topic6\", \"Topic6\", \"Topic6\", \"Topic6\", \"Topic6\", \"Topic6\", \"Topic6\", \"Topic6\", \"Topic6\", \"Topic6\", \"Topic6\", \"Topic6\", \"Topic6\", \"Topic6\", \"Topic6\", \"Topic6\", \"Topic6\", \"Topic6\", \"Topic6\", \"Topic6\", \"Topic6\", \"Topic6\", \"Topic6\", \"Topic7\", \"Topic7\", \"Topic7\", \"Topic7\", \"Topic7\", \"Topic7\", \"Topic7\", \"Topic7\", \"Topic7\", \"Topic7\", \"Topic7\", \"Topic7\", \"Topic7\", \"Topic7\", \"Topic7\", \"Topic7\", \"Topic7\", \"Topic7\", \"Topic7\", \"Topic7\", \"Topic7\", \"Topic7\", \"Topic7\", \"Topic7\", \"Topic7\", \"Topic7\", \"Topic7\", \"Topic7\", \"Topic7\", \"Topic7\", \"Topic7\", \"Topic7\", \"Topic8\", \"Topic8\", \"Topic8\", \"Topic8\", \"Topic8\", \"Topic8\", \"Topic8\", \"Topic8\", \"Topic8\", \"Topic8\", \"Topic8\", \"Topic8\", \"Topic8\", \"Topic8\", \"Topic8\", \"Topic8\", \"Topic8\", \"Topic8\", \"Topic8\", \"Topic8\", \"Topic8\", \"Topic8\", \"Topic8\", \"Topic8\", \"Topic8\", \"Topic8\", \"Topic8\", \"Topic8\", \"Topic8\", \"Topic8\", \"Topic8\", \"Topic8\", \"Topic8\", \"Topic9\", \"Topic9\", \"Topic9\", \"Topic9\", \"Topic9\", \"Topic9\", \"Topic9\", \"Topic9\", \"Topic9\", \"Topic9\", \"Topic9\", \"Topic9\", \"Topic9\", \"Topic9\", \"Topic9\", \"Topic9\", \"Topic9\", \"Topic9\", \"Topic9\", \"Topic9\", \"Topic9\", \"Topic9\", \"Topic9\", \"Topic9\", \"Topic9\", \"Topic9\", \"Topic9\", \"Topic9\", \"Topic9\", \"Topic9\", \"Topic9\", \"Topic9\", \"Topic10\", \"Topic10\", \"Topic10\", \"Topic10\", \"Topic10\", \"Topic10\", \"Topic10\", \"Topic10\", \"Topic10\", \"Topic10\", \"Topic10\", \"Topic10\", \"Topic10\", \"Topic10\", \"Topic10\", \"Topic10\", \"Topic10\", \"Topic10\", \"Topic10\", \"Topic10\", \"Topic10\", \"Topic10\", \"Topic10\", \"Topic10\", \"Topic10\", \"Topic10\", \"Topic10\", \"Topic10\", \"Topic10\", \"Topic10\", \"Topic10\"], \"Freq\": [157.0, 136.0, 152.0, 111.0, 192.0, 175.0, 93.0, 113.0, 149.0, 81.0, 79.0, 99.0, 74.0, 82.0, 40.0, 46.0, 67.0, 51.0, 49.0, 46.0, 51.0, 49.0, 50.0, 45.0, 30.0, 22.0, 25.0, 38.0, 25.0, 24.0, 151.63546752929688, 113.1624984741211, 49.416439056396484, 45.24599075317383, 35.10404968261719, 28.481002807617188, 26.75030517578125, 16.5756778717041, 13.575836181640625, 11.849008560180664, 11.775801658630371, 10.169307708740234, 9.783392906188965, 9.40835952758789, 8.765156745910645, 8.400261878967285, 7.416536808013916, 6.622772693634033, 5.991405963897705, 5.682663917541504, 5.537839889526367, 5.2560834884643555, 4.977079391479492, 4.903111934661865, 5.509762763977051, 4.705036163330078, 4.522522449493408, 4.500604152679443, 4.426662921905518, 5.330966949462891, 153.41552734375, 5.307285308837891, 98.93661499023438, 81.65966796875, 67.18617248535156, 50.6120719909668, 48.45084762573242, 37.312618255615234, 21.277446746826172, 14.606019973754883, 14.167724609375, 13.551314353942871, 12.928812980651855, 8.805180549621582, 8.411992073059082, 6.6742024421691895, 6.319979190826416, 6.0517706871032715, 5.638312339782715, 5.010336875915527, 4.647206783294678, 4.633754730224609, 4.508148193359375, 4.27274227142334, 4.159160137176514, 3.71165132522583, 3.6450836658477783, 3.6636486053466797, 3.483503580093384, 3.3147830963134766, 3.3407883644104004, 3.3224246501922607, 31.4877872467041, 110.68912506103516, 91.52135467529297, 73.98439025878906, 23.507755279541016, 20.601274490356445, 17.702884674072266, 12.882745742797852, 11.3101167678833, 10.446171760559082, 10.099802017211914, 9.65205192565918, 9.170523643493652, 8.79455280303955, 8.741497993469238, 7.904255390167236, 7.8143768310546875, 7.6698994636535645, 7.615272521972656, 7.02701997756958, 6.5152907371521, 6.194125652313232, 5.6355485916137695, 5.39408016204834, 5.190398693084717, 5.067019939422607, 4.821868419647217, 4.649102687835693, 4.5687737464904785, 3.961251735687256, 3.772289991378784, 3.7279205322265625, 3.5483624935150146, 4.399798393249512, 4.399798393249512, 4.399798393249512, 57.201072692871094, 64.02294158935547, 38.76326370239258, 8.984525680541992, 157.0343475341797, 78.95027923583984, 45.92028045654297, 29.556123733520508, 17.60016441345215, 12.58401870727539, 11.610111236572266, 10.38523006439209, 7.8870697021484375, 6.176149845123291, 6.156292915344238, 5.482271194458008, 5.436672687530518, 5.435575008392334, 5.3895583152771, 5.29265022277832, 4.969719886779785, 4.844203472137451, 4.792965412139893, 4.146384239196777, 4.075080871582031, 3.7394871711730957, 3.6068480014801025, 3.5623397827148438, 4.5143022537231445, 4.5143022537231445, 3.4428625106811523, 3.1689491271972656, 3.137232542037964, 3.273993968963623, 136.17050170898438, 92.98372650146484, 51.031429290771484, 14.193710327148438, 14.034588813781738, 12.39255428314209, 8.978686332702637, 8.917739868164062, 7.987536430358887, 7.709325313568115, 7.395561218261719, 7.324210166931152, 7.235335350036621, 6.8772196769714355, 6.614696979522705, 6.501585960388184, 6.20461893081665, 5.562613487243652, 5.295327663421631, 5.116352081298828, 4.670872688293457, 4.842433452606201, 4.103295803070068, 4.0764031410217285, 3.979220390319824, 3.7469747066497803, 3.522104263305664, 3.5132851600646973, 3.4492814540863037, 3.1705970764160156, 111.23135375976562, 80.86262512207031, 49.15143966674805, 24.209779739379883, 14.164118766784668, 13.605246543884277, 11.346364974975586, 8.626972198486328, 8.446369171142578, 7.720322608947754, 6.912235260009766, 5.755927085876465, 6.146369457244873, 5.52686882019043, 5.5094523429870605, 5.4105730056762695, 4.974644660949707, 5.022027492523193, 5.022027492523193, 4.895876407623291, 4.22191858291626, 4.000782489776611, 4.70579195022583, 4.103753089904785, 3.4686756134033203, 4.627468109130859, 3.3318967819213867, 3.080228567123413, 3.008791446685791, 3.0876882076263428, 3.2640628814697266, 3.2640628814697266, 3.2675230503082275, 45.54634094238281, 24.807191848754883, 24.311561584472656, 23.829395294189453, 14.111015319824219, 13.016026496887207, 11.58925724029541, 9.527584075927734, 8.73342514038086, 8.099579811096191, 8.024568557739258, 6.782842636108398, 6.593907356262207, 8.195605278015137, 5.977015018463135, 4.614070415496826, 4.612372875213623, 4.702388286590576, 4.405230522155762, 4.33522367477417, 4.003399848937988, 4.003399848937988, 4.206806659698486, 3.745652914047241, 3.4860944747924805, 3.3884963989257812, 3.268803596496582, 3.268803596496582, 3.063746213912964, 2.8969101905822754, 3.986294746398926, 5.016274929046631, 22.252460479736328, 17.898880004882812, 17.195127487182617, 14.81685733795166, 10.123406410217285, 9.388455390930176, 8.021044731140137, 7.770164489746094, 6.944012641906738, 6.362622261047363, 6.24567174911499, 5.898868083953857, 4.853999137878418, 4.642655372619629, 3.7991280555725098, 3.725069284439087, 3.5278635025024414, 3.457392454147339, 3.216644525527954, 3.2915282249450684, 3.2915282249450684, 4.059850692749023, 2.930431604385376, 2.861968994140625, 2.780380964279175, 2.666515350341797, 2.6656322479248047, 2.460324287414551, 2.4480926990509033, 2.4343960285186768, 2.817124366760254, 2.817124366760254, 2.975334405899048, 39.59571075439453, 17.057275772094727, 10.892678260803223, 10.614289283752441, 8.718561172485352, 8.25689697265625, 5.055248737335205, 5.8971734046936035, 3.874680519104004, 3.8280277252197266, 3.576347589492798, 3.290574312210083, 3.2106127738952637, 2.918687582015991, 2.597259521484375, 2.5741395950317383, 2.9417788982391357, 2.9417788982391357, 2.9417788982391357, 2.460768461227417, 2.405405044555664, 2.35135817527771, 2.3236844539642334, 2.265072822570801, 2.265072822570801, 2.09501051902771, 2.5708324909210205, 2.033379554748535, 2.033379554748535, 2.033379554748535, 2.033379554748535, 4.881002902984619, 12.415112495422363, 11.980093955993652, 11.64047622680664, 10.374995231628418, 8.169792175292969, 6.060113906860352, 5.883255958557129, 5.535013675689697, 4.671555519104004, 4.369339466094971, 4.369339466094971, 3.5436439514160156, 3.487196683883667, 3.4896252155303955, 3.2823612689971924, 3.2545478343963623, 3.2144415378570557, 3.184873342514038, 3.352681875228882, 3.352681875228882, 3.352681875228882, 2.80665922164917, 2.7462170124053955, 2.581130266189575, 2.37572979927063, 2.198251247406006, 2.1522884368896484, 2.459571123123169, 1.9675400257110596, 2.62168025970459, 3.6301324367523193], \"Term\": [\"install\", \"fence\", \"build\", \"floor\", \"diy\", \"drywall\", \"wood\", \"deck\", \"repair\", \"laminate\", \"carpet\", \"flooring\", \"part\", \"wall\", \"make\", \"easy\", \"fix\", \"installation\", \"instal\", \"tile\", \"patch\", \"ceiling\", \"tip\", \"post\", \"vinyl\", \"board\", \"transition\", \"hole\", \"gate\", \"stair\", \"build\", \"deck\", \"tip\", \"post\", \"step\", \"concrete\", \"replace\", \"paint\", \"chair\", \"simple\", \"set\", \"ep\", \"tutorial\", \"garage\", \"shed\", \"replace_rotted\", \"good\", \"painting\", \"skirt\", \"decking\", \"lattice\", \"composite\", \"kitchen\", \"stone\", \"secure\", \"erect\", \"anchor\", \"lounge\", \"tiny\", \"mega\", \"diy\", \"baluster\", \"flooring\", \"wall\", \"fix\", \"patch\", \"ceiling\", \"hole\", \"vinyl_plank\", \"hang\", \"fast\", \"sheetrock\", \"minute\", \"joint\", \"compound\", \"skim_coat\", \"job\", \"small\", \"glue\", \"waterproof\", \"handyman\", \"water_damage\", \"rod\", \"nail\", \"dry\", \"method\", \"popcorn\", \"stress\", \"result\", \"dent\", \"caulk\", \"compare\", \"crack\", \"drywall\", \"repair\", \"part\", \"door\", \"tape\", \"texture\", \"wall_preparation\", \"rail\", \"trick\", \"wire\", \"renovation\", \"bad\", \"ceile\", \"hack\", \"trowel\", \"removing_old\", \"video\", \"ever\", \"open\", \"remove_wallpaper\", \"broken\", \"foot\", \"corner\", \"mud\", \"low\", \"close\", \"technique\", \"duke\", \"popcorn_ceile\", \"review\", \"towel\", \"orange_peel\", \"opener\", \"adjust\", \"gear\", \"repair\", \"drywall\", \"diy\", \"crack\", \"install\", \"carpet\", \"tile\", \"vinyl\", \"building\", \"railing\", \"hardwood\", \"stretch\", \"basic\", \"stick\", \"plywood\", \"slide\", \"peel\", \"car\", \"row\", \"weave\", \"vent\", \"cedar\", \"ceramic\", \"weekend\", \"luxury_vinyl\", \"stick_vinyl\", \"runner\", \"gripper\", \"field\", \"redbrand\", \"engineered_hardwood\", \"classic\", \"commercial\", \"isocore\", \"fence\", \"wood\", \"installation\", \"privacy\", \"remove\", \"chain_link\", \"chain\", \"metal\", \"picket\", \"damage\", \"cost\", \"subfloor\", \"top\", \"plank\", \"maintenance\", \"paper\", \"long\", \"prep\", \"sub\", \"life\", \"truck\", \"loose\", \"carpenter\", \"bottom\", \"baseboard\", \"save\", \"bathtub\", \"money\", \"dig\", \"watch\", \"floor\", \"laminate\", \"instal\", \"wooden\", \"guide\", \"panel\", \"tool\", \"shop\", \"beginner\", \"decor\", \"trim\", \"removal\", \"preparation\", \"first\", \"lvp\", \"bathroom\", \"update\", \"ment\", \"apart\", \"square\", \"fit\", \"toilet\", \"measure\", \"herringbone\", \"apartment\", \"available\", \"move\", \"pergo\", \"underlay\", \"shaw\", \"rip\", \"holder\", \"dowel\", \"easy\", \"transition\", \"gate\", \"stair\", \"strip\", \"cut\", \"home_mender\", \"float\", \"lie\", \"garden\", \"electrical\", \"custom\", \"track\", \"tack\", \"makeover\", \"doorway\", \"budget\", \"outlet\", \"side\", \"retain\", \"circular\", \"saw\", \"glass\", \"boat\", \"box\", \"allure\", \"staircase\", \"spindle\", \"guarantee\", \"gardening_great\", \"rug\", \"home_ideas\", \"board\", \"plaster\", \"home\", \"house\", \"home_depot\", \"repair_tutor\", \"finish\", \"stain\", \"attach\", \"frame\", \"tour\", \"large\", \"ledger\", \"old\", \"never\", \"exist\", \"construction\", \"treat\", \"uneven\", \"interesting\", \"invention\", \"montreal\", \"plan\", \"putty\", \"table\", \"skim\", \"see\", \"beautiful\", \"rustic\", \"safely\", \"rehange\", \"mm\", \"timer\", \"make\", \"outdoor\", \"seam\", \"cheap\", \"porch\", \"room\", \"outdoor_great\", \"height\", \"backyard\", \"dog\", \"seal\", \"window\", \"material\", \"handrail\", \"lawn\", \"pallet\", \"pecan\", \"lakeshore\", \"laminated\", \"directly\", \"proof\", \"require\", \"sofa\", \"curved\", \"steam\", \"bed\", \"dining\", \"artificial\", \"grass\", \"synthetic\", \"turf\", \"home_ideas\", \"use\", \"way\", \"project\", \"new\", \"patio\", \"sheet\", \"screw\", \"quick\", \"idea\", \"cinderblock\", \"tapcon\", \"match\", \"plastic\", \"next\", \"roll\", \"super\", \"walkway\", \"learn\", \"molding\", \"prepare\", \"crown\", \"border\", \"let\", \"mitre_easy\", \"connection\", \"block\", \"talk\", \"brick\", \"possible\", \"mailbox\", \"figure\"], \"Total\": [157.0, 136.0, 152.0, 111.0, 192.0, 175.0, 93.0, 113.0, 149.0, 81.0, 79.0, 99.0, 74.0, 82.0, 40.0, 46.0, 67.0, 51.0, 49.0, 46.0, 51.0, 49.0, 50.0, 45.0, 30.0, 22.0, 25.0, 38.0, 25.0, 24.0, 152.34718322753906, 113.87420654296875, 50.12820816040039, 45.9577522277832, 35.81576156616211, 29.192893981933594, 27.462112426757812, 17.287450790405273, 14.287508964538574, 12.560733795166016, 12.487553596496582, 10.881035804748535, 10.49539566040039, 10.120807647705078, 9.47688102722168, 9.112228393554688, 8.128446578979492, 7.33449649810791, 6.7034220695495605, 6.39432954788208, 6.285184383392334, 5.967776775360107, 5.688810348510742, 5.614864349365234, 6.310856342315674, 5.416879177093506, 5.234284400939941, 5.2129316329956055, 5.138956069946289, 6.209386348724365, 192.81100463867188, 6.2237958908081055, 99.66181182861328, 82.38475799560547, 67.91133880615234, 51.33718490600586, 49.17595291137695, 38.03770065307617, 22.002628326416016, 15.331111907958984, 14.892958641052246, 14.276406288146973, 13.654155731201172, 9.530853271484375, 9.138907432556152, 7.399270534515381, 7.045184135437012, 6.7769646644592285, 6.3636908531188965, 5.735627174377441, 5.372503280639648, 5.358865737915039, 5.233701705932617, 4.999234676361084, 4.884397983551025, 4.436767101287842, 4.370380878448486, 4.412441253662109, 4.212296009063721, 4.039860725402832, 4.0879807472229, 4.074653148651123, 41.117862701416016, 175.3576202392578, 149.3679962158203, 74.71131896972656, 24.234846115112305, 21.32811164855957, 18.429731369018555, 13.60959243774414, 12.037013053894043, 11.173158645629883, 10.827011108398438, 10.379137992858887, 9.897500038146973, 9.521380424499512, 9.468430519104004, 8.63118839263916, 8.541203498840332, 8.396849632263184, 8.342164039611816, 7.762405872344971, 7.242130279541016, 6.92130184173584, 6.364233016967773, 6.120927333831787, 5.917257785797119, 5.7944135665893555, 5.550625324249268, 5.376312732696533, 5.306887149810791, 4.688631057739258, 4.499907970428467, 4.469320774078369, 4.2751922607421875, 5.392201900482178, 5.392201900482178, 5.392201900482178, 149.3679962158203, 175.3576202392578, 192.81100463867188, 41.117862701416016, 157.75999450683594, 79.67591094970703, 46.64597702026367, 30.281721115112305, 18.325822830200195, 13.309774398803711, 12.335756301879883, 11.11092472076416, 8.612982749938965, 6.902723789215088, 6.882149696350098, 6.208336353302002, 6.162260055541992, 6.162051677703857, 6.115288734436035, 6.018421649932861, 5.707311630249023, 5.569882869720459, 5.5196213722229, 4.872091770172119, 4.80089807510376, 4.465085983276367, 4.332452297210693, 4.289597034454346, 5.459592342376709, 5.459592342376709, 4.168562412261963, 3.8976831436157227, 3.8628358840942383, 4.065554618835449, 136.8938446044922, 93.70714569091797, 51.75484085083008, 14.917038917541504, 14.7579984664917, 13.115901947021484, 9.702703475952148, 9.641154289245605, 8.711912155151367, 8.432703018188477, 8.119300842285156, 8.0476713180542, 7.958805561065674, 7.600595951080322, 7.338256359100342, 7.225130081176758, 6.928701400756836, 6.285965442657471, 6.018984794616699, 5.845520496368408, 5.394918441772461, 5.648839473724365, 4.82667350769043, 4.801075458526611, 4.702769756317139, 4.470323085784912, 4.245532989501953, 4.236652851104736, 4.172601222991943, 3.894090175628662, 111.95423126220703, 81.58543395996094, 49.87431335449219, 24.93270492553711, 14.8870210647583, 14.328092575073242, 12.069272994995117, 9.350316047668457, 9.169278144836426, 8.443243026733398, 7.635040283203125, 6.479069709777832, 6.92363166809082, 6.249703884124756, 6.233187675476074, 6.133401393890381, 5.704286575317383, 5.803432941436768, 5.803432941436768, 5.672849655151367, 4.944770812988281, 4.724746227264404, 5.613576889038086, 4.909652233123779, 4.191481113433838, 5.607041358947754, 4.05725622177124, 3.803072929382324, 3.7325408458709717, 3.8604609966278076, 4.499773979187012, 4.499773979187012, 4.538129806518555, 46.280582427978516, 25.541452407836914, 25.045757293701172, 24.56358528137207, 14.845268249511719, 13.750240325927734, 12.323535919189453, 10.261822700500488, 9.467645645141602, 8.833802223205566, 8.759974479675293, 7.5171380043029785, 7.348383903503418, 9.149864196777344, 6.711231708526611, 5.349398136138916, 5.34770393371582, 5.484509468078613, 5.14730978012085, 5.069512367248535, 4.737927436828613, 4.737927436828613, 5.009139060974121, 4.479825496673584, 4.222251892089844, 4.123239040374756, 4.00508975982666, 4.00508975982666, 3.8006482124328613, 3.631056308746338, 5.00096321105957, 10.549582481384277, 22.98589515686035, 18.632312774658203, 17.928531646728516, 15.55029296875, 10.857074737548828, 10.121837615966797, 8.754430770874023, 8.503573417663574, 7.67742919921875, 7.095996379852295, 6.98849630355835, 6.632315158843994, 5.587563514709473, 5.37606143951416, 4.532985687255859, 4.458611488342285, 4.261302471160889, 4.192371845245361, 3.950760841369629, 4.046773910522461, 4.046773910522461, 5.052407264709473, 3.6641225814819336, 3.5964949131011963, 3.514418601989746, 3.4020214080810547, 3.4018008708953857, 3.194127321243286, 3.1820805072784424, 3.2279012203216553, 3.7562203407287598, 3.7562203407287598, 4.087542533874512, 40.32029342651367, 17.78182601928711, 11.617302894592285, 11.33886432647705, 9.443103790283203, 8.98155689239502, 5.779773235321045, 6.763248920440674, 4.599247932434082, 4.552887916564941, 4.301262855529785, 4.016515254974365, 3.939103364944458, 3.644486427307129, 3.322299003601074, 3.2987000942230225, 3.7803280353546143, 3.7803280353546143, 3.7803280353546143, 3.1861839294433594, 3.1346065998077393, 3.0765604972839355, 3.0482735633850098, 3.0240976810455322, 3.0240976810455322, 2.8195502758026123, 3.5048279762268066, 2.815685749053955, 2.815685749053955, 2.815685749053955, 2.815685749053955, 10.549582481384277, 13.145282745361328, 12.710344314575195, 12.370661735534668, 11.105155944824219, 8.899958610534668, 6.790339946746826, 6.6134138107299805, 6.26639986038208, 5.401734352111816, 5.2126030921936035, 5.2126030921936035, 4.274078369140625, 4.217547416687012, 4.2314453125, 4.013002395629883, 3.9897103309631348, 3.95119047164917, 3.915137529373169, 4.203330993652344, 4.203330993652344, 4.203330993652344, 3.5370466709136963, 3.4770050048828125, 3.3112998008728027, 3.106410264968872, 2.928868532180786, 2.9034411907196045, 3.3426713943481445, 2.697685956954956, 3.6111583709716797, 5.2636518478393555], \"loglift\": [30.0, 29.0, 28.0, 27.0, 26.0, 25.0, 24.0, 23.0, 22.0, 21.0, 20.0, 19.0, 18.0, 17.0, 16.0, 15.0, 14.0, 13.0, 12.0, 11.0, 10.0, 9.0, 8.0, 7.0, 6.0, 5.0, 4.0, 3.0, 2.0, 1.0, 1.7544000148773193, 1.7527999877929688, 1.7447999715805054, 1.743499994277954, 1.7389999628067017, 1.7344000339508057, 1.732800006866455, 1.7171000242233276, 1.7079999446868896, 1.7007999420166016, 1.7003999948501587, 1.691499948501587, 1.6888999938964844, 1.6861000061035156, 1.680999994277954, 1.6778000593185425, 1.6674000024795532, 1.656999945640564, 1.6468000411987305, 1.6411000490188599, 1.6325000524520874, 1.632099986076355, 1.6253999471664429, 1.6236000061035156, 1.6233999729156494, 1.6181999444961548, 1.6129000186920166, 1.6122000217437744, 1.6098999977111816, 1.606600046157837, 1.530500054359436, 1.5997999906539917, 1.7973999977111816, 1.7958999872207642, 1.7940000295639038, 1.7905000448226929, 1.7898999452590942, 1.7855000495910645, 1.7711999416351318, 1.7562999725341797, 1.7547999620437622, 1.7525999546051025, 1.7502000331878662, 1.7254999876022339, 1.7218999862670898, 1.7015999555587769, 1.6960999965667725, 1.69159996509552, 1.6836999654769897, 1.6694999933242798, 1.6597000360488892, 1.6593999862670898, 1.655500054359436, 1.6476999521255493, 1.6440000534057617, 1.6262999773025513, 1.6232999563217163, 1.6188000440597534, 1.614799976348877, 1.6068999767303467, 1.6029000282287598, 1.600600004196167, 1.5378999710083008, 1.344599962234497, 1.3149000406265259, 2.1767001152038574, 2.1559998989105225, 2.1517999172210693, 2.146199941635132, 2.1315999031066895, 2.1242001056671143, 2.1191999912261963, 2.117000102996826, 2.1138999462127686, 2.1101999282836914, 2.107100009918213, 2.106600046157837, 2.0985000133514404, 2.0975000858306885, 2.095900058746338, 2.0952999591827393, 2.0869998931884766, 2.080699920654297, 2.075500011444092, 2.0648999214172363, 2.0601000785827637, 2.0553998947143555, 2.052299976348877, 2.0457000732421875, 2.0411999225616455, 2.0367000102996826, 2.017899990081787, 2.0100998878479004, 2.0051000118255615, 2.0000998973846436, 1.9831000566482544, 1.9831000566482544, 1.9831000566482544, 1.2266000509262085, 1.1789000034332275, 0.5821999907493591, 0.6654999852180481, 2.236799955368042, 2.2321999073028564, 2.2256999015808105, 2.217099905014038, 2.2009999752044678, 2.18530011177063, 2.1807000637054443, 2.173799991607666, 2.1533000469207764, 2.1301000118255615, 2.1298999786376953, 2.117000102996826, 2.1161000728607178, 2.1159000396728516, 2.115000009536743, 2.1129000186920166, 2.1029999256134033, 2.101799964904785, 2.1001999378204346, 2.0801000595092773, 2.077500104904175, 2.063999891281128, 2.0580999851226807, 2.0555999279022217, 2.0511999130249023, 2.0511999130249023, 2.050100088119507, 2.03439998626709, 2.0332999229431152, 2.0248000621795654, 2.2362000942230225, 2.233799934387207, 2.227400064468384, 2.191800117492676, 2.191200017929077, 2.184799909591675, 2.1640000343322754, 2.1635000705718994, 2.1547000408172607, 2.1517999172210693, 2.148099899291992, 2.1473000049591064, 2.146199941635132, 2.1414999961853027, 2.137700080871582, 2.135999917984009, 2.1310999393463135, 2.11929988861084, 2.1133999824523926, 2.108299970626831, 2.097399950027466, 2.0875000953674316, 2.0790998935699463, 2.077899932861328, 2.074399948120117, 2.065000057220459, 2.0546998977661133, 2.05430006980896, 2.051100015640259, 2.0360000133514404, 2.276599884033203, 2.274199962615967, 2.2685000896453857, 2.2535998821258545, 2.233299970626831, 2.231300115585327, 2.221299886703491, 2.2026000022888184, 2.200900077819824, 2.1935999393463135, 2.1835999488830566, 2.1647000312805176, 2.1640000343322754, 2.1602001190185547, 2.159600019454956, 2.1577000617980957, 2.146199941635132, 2.1384999752044678, 2.1384999752044678, 2.1357998847961426, 2.125, 2.1166999340057373, 2.1066999435424805, 2.103800058364868, 2.0938000679016113, 2.091099977493286, 2.0861001014709473, 2.0722999572753906, 2.067500114440918, 2.0597000122070312, 1.9620000123977661, 1.9620000123977661, 1.9545999765396118, 2.550600051879883, 2.537400007247925, 2.536799907684326, 2.5362000465393066, 2.5157999992370605, 2.511699914932251, 2.5051000118255615, 2.492300033569336, 2.48580002784729, 2.47979998588562, 2.4788999557495117, 2.4637999534606934, 2.458199977874756, 2.456399917602539, 2.450700044631958, 2.4186999797821045, 2.418600082397461, 2.4126999378204346, 2.410900115966797, 2.410099983215332, 2.398099899291992, 2.398099899291992, 2.3919999599456787, 2.3875999450683594, 2.375, 2.370300054550171, 2.3633999824523926, 2.3633999824523926, 2.3510000705718994, 2.3406999111175537, 2.3397998809814453, 1.823199987411499, 2.8018999099731445, 2.7941999435424805, 2.79259991645813, 2.7860000133514404, 2.764400005340576, 2.7590999603271484, 2.7469000816345215, 2.7441999912261963, 2.7339999675750732, 2.7253000736236572, 2.7219998836517334, 2.7172000408172607, 2.6935999393463135, 2.687700033187866, 2.6577999591827393, 2.654599905014038, 2.6454999446868896, 2.6415998935699463, 2.6287999153137207, 2.6277999877929688, 2.6277999877929688, 2.615600109100342, 2.6108999252319336, 2.6059000492095947, 2.600100040435791, 2.5908000469207764, 2.5905001163482666, 2.5732998847961426, 2.5720999240875244, 2.5522000789642334, 2.5467000007629395, 2.5467000007629395, 2.5167999267578125, 2.953000068664551, 2.929500102996826, 2.9066998958587646, 2.905100107192993, 2.8912999629974365, 2.88700008392334, 2.8371999263763428, 2.8341000080108643, 2.7997000217437744, 2.7976999282836914, 2.786600112915039, 2.7718000411987305, 2.7665998935699463, 2.749000072479248, 2.724900007247925, 2.723099946975708, 2.7202999591827393, 2.7202999591827393, 2.7202999591827393, 2.7128000259399414, 2.7063000202178955, 2.7023000717163086, 2.699700117111206, 2.6821000576019287, 2.6821000576019287, 2.674099922180176, 2.6612000465393066, 2.6456000804901123, 2.6456000804901123, 2.6456000804901123, 2.6456000804901123, 2.2004001140594482, 2.946899890899658, 2.9447999000549316, 2.94320011138916, 2.936000108718872, 2.9184000492095947, 2.890199899673462, 2.88700008392334, 2.8798999786376953, 2.858799934387207, 2.827500104904175, 2.827500104904175, 2.8166000843048096, 2.8138999938964844, 2.811300039291382, 2.802999973297119, 2.800299882888794, 2.797600030899048, 2.797600030899048, 2.777899980545044, 2.777899980545044, 2.777899980545044, 2.772700071334839, 2.7681000232696533, 2.7548999786376953, 2.73580002784729, 2.717099905014038, 2.7046000957489014, 2.697200059890747, 2.6884000301361084, 2.683799982070923, 2.632499933242798], \"logprob\": [30.0, 29.0, 28.0, 27.0, 26.0, 25.0, 24.0, 23.0, 22.0, 21.0, 20.0, 19.0, 18.0, 17.0, 16.0, 15.0, 14.0, 13.0, 12.0, 11.0, 10.0, 9.0, 8.0, 7.0, 6.0, 5.0, 4.0, 3.0, 2.0, 1.0, -1.8854000568389893, -2.177999973297119, -3.0065999031066895, -3.0947000980377197, -3.3485000133514404, -3.5576000213623047, -3.620300054550171, -4.098899841308594, -4.298600196838379, -4.434599876403809, -4.440800189971924, -4.587500095367432, -4.626200199127197, -4.665299892425537, -4.736100196838379, -4.778600215911865, -4.90310001373291, -5.016300201416016, -5.116499900817871, -5.169400215148926, -5.195199966430664, -5.247499942779541, -5.302000045776367, -5.316999912261963, -5.200300216674805, -5.3582000732421875, -5.397799968719482, -5.402599811553955, -5.4191999435424805, -5.23330020904541, -1.8737000226974487, -5.237800121307373, -2.266700029373169, -2.458699941635132, -2.6538000106811523, -2.937000036239624, -2.9807000160217285, -3.2418999671936035, -3.8036000728607178, -4.179800033569336, -4.210299968719482, -4.254700183868408, -4.301799774169922, -4.6859002113342285, -4.731599807739258, -4.9629998207092285, -5.017499923706055, -5.0609002113342285, -5.1315999031066895, -5.24970006942749, -5.324999809265137, -5.327899932861328, -5.355299949645996, -5.408999919891357, -5.4359002113342285, -5.549699783325195, -5.567800045013428, -5.56279993057251, -5.6132001876831055, -5.662799835205078, -5.65500020980835, -5.6605000495910645, -3.411600112915039, -2.1545000076293945, -2.344599962234497, -2.175600051879883, -3.3220999240875244, -3.4540998935699463, -3.6057000160217285, -3.9235999584198, -4.053800106048584, -4.133200168609619, -4.166999816894531, -4.212299823760986, -4.263500213623047, -4.305300235748291, -4.311399936676025, -4.412099838256836, -4.423500061035156, -4.442200183868408, -4.4492998123168945, -4.529699802398682, -4.605299949645996, -4.655900001525879, -4.750400066375732, -4.7941999435424805, -4.832699775695801, -4.8566999435424805, -4.906300067901611, -4.942800045013428, -4.96019983291626, -5.10290002822876, -5.151800155639648, -5.163599967956543, -5.2129998207092285, -4.997900009155273, -4.997900009155273, -4.997900009155273, -2.4328999519348145, -2.320199966430664, -2.822000026702881, -4.283999919891357, -1.3681000471115112, -2.055799961090088, -2.5977001190185547, -3.038300037384033, -3.5566999912261963, -3.892199993133545, -3.9727001190185547, -4.084199905395508, -4.359399795532227, -4.603899955749512, -4.607100009918213, -4.723100185394287, -4.731400012969971, -4.731599807739258, -4.740099906921387, -4.758299827575684, -4.821199893951416, -4.846799850463867, -4.857399940490723, -5.002399921417236, -5.019700050354004, -5.105599880218506, -5.1417999267578125, -5.154200077056885, -4.917300224304199, -4.917300224304199, -5.188300132751465, -5.271200180053711, -5.281199932098389, -5.23859977722168, -1.5104999542236328, -1.8919999599456787, -2.492000102996826, -3.771699905395508, -3.782900094985962, -3.907399892807007, -4.229599952697754, -4.236400127410889, -4.34660005569458, -4.381999969482422, -4.423600196838379, -4.433300018310547, -4.445499897003174, -4.496200084686279, -4.535200119018555, -4.5524001121521, -4.5991997718811035, -4.708399772644043, -4.757599830627441, -4.791999816894531, -4.8831000328063965, -4.8470001220703125, -5.012700080871582, -5.019199848175049, -5.043399810791016, -5.103499889373779, -5.16540002822876, -5.167900085449219, -5.186299800872803, -5.270500183105469, -1.6713000535964966, -1.9901000261306763, -2.48799991607666, -3.1960999965667725, -3.7321999073028564, -3.77239990234375, -3.9539999961853027, -4.228000164031982, -4.249199867248535, -4.339000225067139, -4.4496002197265625, -4.632699966430664, -4.566999912261963, -4.673299789428711, -4.676400184631348, -4.694499969482422, -4.778500080108643, -4.769100189208984, -4.769100189208984, -4.79449987411499, -4.942599773406982, -4.996399879455566, -4.834099769592285, -4.9710001945495605, -5.139100074768066, -4.850900173187256, -5.179299831390381, -5.257900238037109, -5.281400203704834, -5.255499839782715, -5.199900150299072, -5.199900150299072, -5.19890022277832, -2.2806999683380127, -2.8882999420166016, -2.9084999561309814, -2.928499937057495, -3.452500104904175, -3.5332000255584717, -3.6493000984191895, -3.8452000617980957, -3.9321999549865723, -4.007599830627441, -4.016900062561035, -4.184999942779541, -4.2133002281188965, -3.995800018310547, -4.311500072479248, -4.570300102233887, -4.570700168609619, -4.551300048828125, -4.616600036621094, -4.632599830627441, -4.712299823760986, -4.712299823760986, -4.662700176239014, -4.778800010681152, -4.850599765777588, -4.879000186920166, -4.914999961853027, -4.914999961853027, -4.979800224304199, -5.035799980163574, -4.7164998054504395, -4.486700057983398, -2.729099988937378, -2.946899890899658, -2.986999988555908, -3.1357998847961426, -3.516700029373169, -3.592099905014038, -3.749500036239624, -3.7813000679016113, -3.893699884414673, -3.9811999797821045, -3.9997000694274902, -4.05679988861084, -4.251800060272217, -4.296299934387207, -4.496799945831299, -4.516499996185303, -4.570899963378906, -4.591100215911865, -4.663300037384033, -4.640200138092041, -4.640200138092041, -4.4303998947143555, -4.756400108337402, -4.780099868774414, -4.809000015258789, -4.850800037384033, -4.851200103759766, -4.931300163269043, -4.936299800872803, -4.94189977645874, -4.795899868011475, -4.795899868011475, -4.741199970245361, -2.0160999298095703, -2.858299970626831, -3.3066999912261963, -3.3326001167297363, -3.529400110244751, -3.5838000774383545, -4.074399948120117, -3.9203999042510986, -4.340400218963623, -4.352499961853027, -4.420499801635742, -4.503799915313721, -4.52839994430542, -4.623700141906738, -4.7403998374938965, -4.749300003051758, -4.615799903869629, -4.615799903869629, -4.615799903869629, -4.794400215148926, -4.8171000480651855, -4.839799880981445, -4.8516998291015625, -4.877200126647949, -4.877200126647949, -4.9552998542785645, -4.7505998611450195, -4.985099792480469, -4.985099792480469, -4.985099792480469, -4.985099792480469, -4.109499931335449, -3.1429998874664307, -3.1786999702453613, -3.2074999809265137, -3.322499990463257, -3.561500072479248, -3.8601999282836914, -3.8898000717163086, -3.9507999420166016, -4.120500087738037, -4.187300205230713, -4.187300205230713, -4.3968000411987305, -4.412799835205078, -4.412199974060059, -4.473400115966797, -4.481900215148926, -4.49429988861084, -4.503499984741211, -4.452199935913086, -4.452199935913086, -4.452199935913086, -4.629899978637695, -4.651700019836426, -4.713699817657471, -4.796599864959717, -4.874300003051758, -4.895400047302246, -4.76200008392334, -4.985199928283691, -4.6981000900268555, -4.372700214385986]}, \"token.table\": {\"Topic\": [3, 7, 1, 6, 6, 9, 8, 6, 9, 3, 1, 5, 4, 6, 5, 8, 9, 6, 10, 8, 7, 10, 5, 7, 10, 3, 7, 1, 4, 4, 5, 4, 2, 4, 3, 2, 4, 5, 5, 1, 9, 10, 7, 4, 3, 4, 2, 1, 2, 1, 10, 8, 3, 5, 2, 3, 10, 9, 7, 7, 5, 1, 1, 6, 2, 5, 9, 9, 1, 3, 9, 3, 7, 6, 2, 2, 3, 3, 7, 7, 4, 1, 1, 3, 8, 2, 5, 4, 6, 10, 8, 6, 6, 2, 7, 6, 2, 3, 8, 1, 7, 7, 7, 3, 7, 2, 1, 9, 4, 7, 6, 3, 9, 2, 2, 4, 9, 6, 6, 2, 8, 8, 7, 9, 7, 8, 10, 6, 4, 5, 8, 8, 4, 2, 2, 1, 9, 6, 9, 8, 1, 9, 10, 8, 10, 7, 5, 5, 5, 1, 3, 4, 6, 10, 5, 9, 7, 10, 9, 6, 1, 6, 5, 2, 2, 10, 8, 10, 5, 8, 6, 3, 2, 8, 10, 10, 8, 3, 3, 3, 9, 9, 7, 1, 1, 9, 6, 5, 3, 2, 10, 9, 4, 6, 5, 8, 5, 8, 10, 4, 2, 3, 9, 10, 1, 5, 6, 10, 5, 10, 9, 8, 10, 3, 4, 4, 8, 6, 5, 3, 3, 3, 2, 3, 8, 1, 1, 9, 2, 7, 3, 6, 2, 10, 9, 4, 7, 4, 8, 8, 5, 7, 10, 9, 9, 1, 8, 1, 6, 1, 10, 2, 6, 7, 1, 8, 2, 1, 4, 2, 9, 7, 6, 8, 7, 7, 9, 1, 4, 4, 1, 2, 4, 7, 5, 5, 10, 9, 8, 7, 10, 10, 3, 3, 3, 4, 8, 1, 1, 6, 6, 5, 8, 3, 7, 7, 8, 3, 6, 3, 5, 9, 1, 6, 8, 6, 10, 4, 3, 4, 2, 10, 2, 3, 5, 2, 2, 10, 4, 4, 9, 3, 5, 6], \"Freq\": [0.741811990737915, 0.7275833487510681, 0.9552404284477234, 0.8615590333938599, 0.7157374620437622, 0.7103065252304077, 0.9117635488510132, 0.8917359113693237, 0.8697074055671692, 0.9093205332756042, 0.8033682703971863, 0.850562572479248, 0.9288303852081299, 0.8152083158493042, 0.9421667456626892, 0.6261491179466248, 0.7093330025672913, 0.872478723526001, 0.6828575730323792, 0.9571086764335632, 0.8928919434547424, 0.8481652140617371, 0.8331466913223267, 0.7105213403701782, 0.5983238220214844, 0.8668889403343201, 0.9349806904792786, 0.9977210760116577, 0.9822205901145935, 0.8114180564880371, 0.8287280797958374, 0.9915167689323425, 0.7338586449623108, 0.8976849317550659, 0.9452410936355591, 0.9760868549346924, 0.9058592319488525, 0.9275765419006348, 0.914919912815094, 0.9798768758773804, 0.9701147675514221, 0.7673709392547607, 0.8442509770393372, 0.7696880102157593, 0.9007993936538696, 0.7766314744949341, 0.7362589836120605, 0.8378329277038574, 0.8753781914710999, 0.959137499332428, 0.6438299417495728, 0.938680112361908, 0.8168696761131287, 0.8621432185173035, 0.7539302110671997, 0.2188829779624939, 0.7137196660041809, 0.6613543033599854, 0.9312054514884949, 0.945438027381897, 0.9486874938011169, 0.9923230409622192, 0.9383313655853271, 0.9475032091140747, 0.7425998449325562, 0.7189759612083435, 0.8559620976448059, 0.6277101635932922, 0.7935231924057007, 0.20227061212062836, 0.8785632252693176, 0.9903095960617065, 0.9346845746040344, 0.6610652804374695, 0.8189340829849243, 0.632992148399353, 0.3649684488773346, 0.9421719312667847, 0.9939373731613159, 0.9132446646690369, 0.7196725606918335, 0.9190301299095154, 0.9230406880378723, 0.9589837789535522, 0.8971402645111084, 0.9400415420532227, 0.9934705495834351, 0.9158192873001099, 0.18998217582702637, 0.7599287033081055, 0.9138229489326477, 0.9600454568862915, 0.8089353442192078, 0.986580491065979, 0.9744857549667358, 0.9914765954017639, 0.9933594465255737, 0.9427687525749207, 0.8455471992492676, 0.8892570734024048, 0.9056122899055481, 0.826205849647522, 0.958246111869812, 0.741811990737915, 0.7985404133796692, 0.9428490400314331, 0.861173152923584, 0.7103065252304077, 0.9324885010719299, 0.7893390655517578, 0.9404164552688599, 0.9505271315574646, 0.823161244392395, 0.9306648373603821, 0.9784026145935059, 0.9727818369865417, 0.8871476054191589, 0.8147216439247131, 0.6667001247406006, 0.972719132900238, 0.948209285736084, 0.9210584163665771, 0.47395241260528564, 0.47395241260528564, 0.9737464785575867, 0.9646120667457581, 0.925628662109375, 0.9824696779251099, 0.9951825737953186, 0.9854150414466858, 0.7413312792778015, 0.7413312792778015, 0.7379066944122314, 0.8516455888748169, 0.9443016052246094, 0.8789184093475342, 0.7935819029808044, 0.9928242564201355, 0.7935819029808044, 0.9046614766120911, 0.9546259045600891, 0.9029891490936279, 0.7662566304206848, 0.8948444128036499, 0.8628115057945251, 0.9506059288978577, 0.8553557991981506, 0.8659631609916687, 0.8851375579833984, 0.9591531753540039, 0.8629000782966614, 0.8331774473190308, 0.9625893235206604, 0.8307583332061768, 0.9539051055908203, 0.9920562505722046, 0.8940236568450928, 0.9358742833137512, 0.7615946531295776, 0.890697717666626, 0.8052325248718262, 0.8615590333938599, 0.933498203754425, 0.9015573263168335, 0.9520910978317261, 0.9059886336326599, 0.7986751794815063, 0.7137196660041809, 0.9441415667533875, 0.7917017936706543, 0.7394159436225891, 0.8449860215187073, 0.8001224994659424, 0.8824205994606018, 0.9004826545715332, 0.7089776396751404, 0.9300488829612732, 0.9017822742462158, 0.741811990737915, 0.9356304407119751, 0.9560322761535645, 0.8650858402252197, 0.9116585850715637, 0.9833722710609436, 0.9543941020965576, 0.9094491600990295, 0.9771014451980591, 0.9688406586647034, 0.9904791116714478, 0.9934319853782654, 0.8988806009292603, 0.7935819029808044, 0.8113906383514404, 0.7888357639312744, 0.9182829260826111, 0.8187499046325684, 0.9209803938865662, 0.9660636186599731, 0.7113139033317566, 0.8718206286430359, 0.9152520298957825, 0.8531274795532227, 0.9530764818191528, 0.7413761615753174, 0.9791601300239563, 0.9545072913169861, 0.8665972352027893, 0.7137196660041809, 0.938524067401886, 0.970037043094635, 0.6380385756492615, 0.8341454863548279, 0.9574875831604004, 0.9138479828834534, 0.9767258167266846, 0.9158192873001099, 0.7986751794815063, 0.9260588884353638, 0.9486381411552429, 0.9665664434432983, 0.9366361498832703, 0.9634711742401123, 0.6159284710884094, 0.38160786032676697, 0.8891665935516357, 0.9831727147102356, 0.8779411315917969, 0.6500766277313232, 0.7122006416320801, 0.7890305519104004, 0.8889070749282837, 0.6667001247406006, 0.9553467631340027, 0.7475699782371521, 0.890714168548584, 0.8176229000091553, 0.7998459339141846, 0.9232646226882935, 0.628519594669342, 0.6195976734161377, 0.8947899341583252, 0.8442509770393372, 0.907247006893158, 0.9299594163894653, 0.9468634724617004, 0.9507426023483276, 0.881885826587677, 0.9609568119049072, 0.7771092653274536, 0.9496795535087585, 0.8836081624031067, 0.9806389212608337, 0.9625343084335327, 0.7771049737930298, 0.9553582072257996, 0.8818286657333374, 0.9460391998291016, 0.8950652480125427, 0.8053687214851379, 0.8853521347045898, 0.656109094619751, 0.7490468621253967, 0.8813912272453308, 0.9407809376716614, 0.977056086063385, 0.7490468621253967, 0.6613543033599854, 0.9772233963012695, 0.869222104549408, 0.8958393931388855, 0.8904934525489807, 0.9065276384353638, 0.900015115737915, 0.9430614113807678, 0.8307048678398132, 0.8698168396949768, 0.751934289932251, 0.7103065252304077, 0.8536262512207031, 0.8743299245834351, 0.6888377666473389, 0.7673709392547607, 0.9846159815788269, 0.9300054311752319, 0.976682722568512, 0.9861515164375305, 0.7339373230934143, 0.7783681750297546, 0.9774935245513916, 0.8466063141822815, 0.9114053249359131, 0.8795289397239685, 0.8585537672042847, 0.8949905633926392, 0.9525904059410095, 0.9788010120391846, 0.7155853509902954, 0.8950020670890808, 0.916825532913208, 0.9268711805343628, 0.9267980456352234, 0.7103065252304077, 0.9527987837791443, 0.8037420511245728, 0.7593473792076111, 0.8765338063240051, 0.9128749966621399, 0.876069188117981, 0.9527382850646973, 0.9906966686248779, 0.954431414604187, 0.7592648267745972, 0.995329737663269, 0.9552085995674133, 0.7703981995582581, 0.933033287525177, 0.8717442750930786, 0.9441128969192505, 0.8307825922966003, 0.8210026025772095, 0.7469161152839661, 0.9236159324645996, 0.9924536347389221, 0.9625911116600037], \"Term\": [\"adjust\", \"allure\", \"anchor\", \"apart\", \"apartment\", \"artificial\", \"attach\", \"available\", \"backyard\", \"bad\", \"baluster\", \"baseboard\", \"basic\", \"bathroom\", \"bathtub\", \"beautiful\", \"bed\", \"beginner\", \"block\", \"board\", \"boat\", \"border\", \"bottom\", \"box\", \"brick\", \"broken\", \"budget\", \"build\", \"building\", \"car\", \"carpenter\", \"carpet\", \"caulk\", \"cedar\", \"ceile\", \"ceiling\", \"ceramic\", \"chain\", \"chain_link\", \"chair\", \"cheap\", \"cinderblock\", \"circular\", \"classic\", \"close\", \"commercial\", \"compare\", \"composite\", \"compound\", \"concrete\", \"connection\", \"construction\", \"corner\", \"cost\", \"crack\", \"crack\", \"crown\", \"curved\", \"custom\", \"cut\", \"damage\", \"deck\", \"decking\", \"decor\", \"dent\", \"dig\", \"dining\", \"directly\", \"diy\", \"diy\", \"dog\", \"door\", \"doorway\", \"dowel\", \"dry\", \"drywall\", \"drywall\", \"duke\", \"easy\", \"electrical\", \"engineered_hardwood\", \"ep\", \"erect\", \"ever\", \"exist\", \"fast\", \"fence\", \"field\", \"figure\", \"figure\", \"finish\", \"first\", \"fit\", \"fix\", \"float\", \"floor\", \"flooring\", \"foot\", \"frame\", \"garage\", \"garden\", \"gardening_great\", \"gate\", \"gear\", \"glass\", \"glue\", \"good\", \"grass\", \"gripper\", \"guarantee\", \"guide\", \"hack\", \"handrail\", \"handyman\", \"hang\", \"hardwood\", \"height\", \"herringbone\", \"holder\", \"hole\", \"home\", \"home_depot\", \"home_ideas\", \"home_ideas\", \"home_mender\", \"house\", \"idea\", \"instal\", \"install\", \"installation\", \"interesting\", \"invention\", \"isocore\", \"job\", \"joint\", \"kitchen\", \"lakeshore\", \"laminate\", \"laminated\", \"large\", \"lattice\", \"lawn\", \"learn\", \"ledger\", \"let\", \"lie\", \"life\", \"long\", \"loose\", \"lounge\", \"low\", \"luxury_vinyl\", \"lvp\", \"mailbox\", \"maintenance\", \"make\", \"makeover\", \"match\", \"material\", \"measure\", \"mega\", \"ment\", \"metal\", \"method\", \"minute\", \"mitre_easy\", \"mm\", \"molding\", \"money\", \"montreal\", \"move\", \"mud\", \"nail\", \"never\", \"new\", \"next\", \"old\", \"open\", \"opener\", \"orange_peel\", \"outdoor\", \"outdoor_great\", \"outlet\", \"paint\", \"painting\", \"pallet\", \"panel\", \"paper\", \"part\", \"patch\", \"patio\", \"pecan\", \"peel\", \"pergo\", \"picket\", \"plan\", \"plank\", \"plaster\", \"plastic\", \"plywood\", \"popcorn\", \"popcorn_ceile\", \"porch\", \"possible\", \"post\", \"prep\", \"preparation\", \"prepare\", \"privacy\", \"project\", \"proof\", \"putty\", \"quick\", \"rail\", \"railing\", \"redbrand\", \"rehange\", \"removal\", \"remove\", \"remove_wallpaper\", \"removing_old\", \"renovation\", \"repair\", \"repair\", \"repair_tutor\", \"replace\", \"replace_rotted\", \"require\", \"result\", \"retain\", \"review\", \"rip\", \"rod\", \"roll\", \"room\", \"row\", \"rug\", \"runner\", \"rustic\", \"safely\", \"save\", \"saw\", \"screw\", \"seal\", \"seam\", \"secure\", \"see\", \"set\", \"shaw\", \"shed\", \"sheet\", \"sheetrock\", \"shop\", \"side\", \"simple\", \"skim\", \"skim_coat\", \"skirt\", \"slide\", \"small\", \"sofa\", \"spindle\", \"square\", \"stain\", \"stair\", \"staircase\", \"steam\", \"step\", \"stick\", \"stick_vinyl\", \"stone\", \"stress\", \"stretch\", \"strip\", \"sub\", \"subfloor\", \"super\", \"synthetic\", \"table\", \"tack\", \"talk\", \"tapcon\", \"tape\", \"technique\", \"texture\", \"tile\", \"timer\", \"tiny\", \"tip\", \"toilet\", \"tool\", \"top\", \"tour\", \"towel\", \"track\", \"transition\", \"treat\", \"trick\", \"trim\", \"trowel\", \"truck\", \"turf\", \"tutorial\", \"underlay\", \"uneven\", \"update\", \"use\", \"vent\", \"video\", \"vinyl\", \"vinyl_plank\", \"walkway\", \"wall\", \"wall_preparation\", \"watch\", \"water_damage\", \"waterproof\", \"way\", \"weave\", \"weekend\", \"window\", \"wire\", \"wood\", \"wooden\"]}, \"R\": 30, \"lambda.step\": 0.01, \"plot.opts\": {\"xlab\": \"PC1\", \"ylab\": \"PC2\"}, \"topic.order\": [10, 5, 2, 7, 8, 1, 3, 9, 6, 4]};\n",
       "\n",
       "function LDAvis_load_lib(url, callback){\n",
       "  var s = document.createElement('script');\n",
       "  s.src = url;\n",
       "  s.async = true;\n",
       "  s.onreadystatechange = s.onload = callback;\n",
       "  s.onerror = function(){console.warn(\"failed to load library \" + url);};\n",
       "  document.getElementsByTagName(\"head\")[0].appendChild(s);\n",
       "}\n",
       "\n",
       "if(typeof(LDAvis) !== \"undefined\"){\n",
       "   // already loaded: just create the visualization\n",
       "   !function(LDAvis){\n",
       "       new LDAvis(\"#\" + \"ldavis_el179941401807721166648644766879\", ldavis_el179941401807721166648644766879_data);\n",
       "   }(LDAvis);\n",
       "}else if(typeof define === \"function\" && define.amd){\n",
       "   // require.js is available: use it to load d3/LDAvis\n",
       "   require.config({paths: {d3: \"https://cdnjs.cloudflare.com/ajax/libs/d3/3.5.5/d3.min\"}});\n",
       "   require([\"d3\"], function(d3){\n",
       "      window.d3 = d3;\n",
       "      LDAvis_load_lib(\"https://cdn.rawgit.com/bmabey/pyLDAvis/files/ldavis.v1.0.0.js\", function(){\n",
       "        new LDAvis(\"#\" + \"ldavis_el179941401807721166648644766879\", ldavis_el179941401807721166648644766879_data);\n",
       "      });\n",
       "    });\n",
       "}else{\n",
       "    // require.js not available: dynamically load d3 & LDAvis\n",
       "    LDAvis_load_lib(\"https://cdnjs.cloudflare.com/ajax/libs/d3/3.5.5/d3.min.js\", function(){\n",
       "         LDAvis_load_lib(\"https://cdn.rawgit.com/bmabey/pyLDAvis/files/ldavis.v1.0.0.js\", function(){\n",
       "                 new LDAvis(\"#\" + \"ldavis_el179941401807721166648644766879\", ldavis_el179941401807721166648644766879_data);\n",
       "            })\n",
       "         });\n",
       "}\n",
       "</script>"
      ],
      "text/plain": [
       "PreparedData(topic_coordinates=              x         y  topics  cluster       Freq\n",
       "topic                                                \n",
       "9      0.051697  0.373686       1        1  17.219883\n",
       "4      0.314819 -0.149556       2        1  16.451784\n",
       "1      0.263645  0.020229       3        1  11.231127\n",
       "6     -0.095801 -0.048029       4        1  10.631313\n",
       "7     -0.096616 -0.046359       5        1  10.629843\n",
       "0     -0.092917 -0.040257       6        1  10.197093\n",
       "2     -0.096766 -0.036766       7        1   7.680006\n",
       "8     -0.085115 -0.027878       8        1   5.875596\n",
       "5     -0.083256 -0.024777       9        1   5.124592\n",
       "3     -0.079691 -0.020291      10        1   4.958767, topic_info=     Category        Freq          Term       Total  loglift  logprob\n",
       "5     Default  157.000000       install  157.000000  30.0000  30.0000\n",
       "39    Default  136.000000         fence  136.000000  29.0000  29.0000\n",
       "57    Default  152.000000         build  152.000000  28.0000  28.0000\n",
       "79    Default  111.000000         floor  111.000000  27.0000  27.0000\n",
       "32    Default  192.000000           diy  192.000000  26.0000  26.0000\n",
       "19    Default  175.000000       drywall  175.000000  25.0000  25.0000\n",
       "42    Default   93.000000          wood   93.000000  24.0000  24.0000\n",
       "15    Default  113.000000          deck  113.000000  23.0000  23.0000\n",
       "30    Default  149.000000        repair  149.000000  22.0000  22.0000\n",
       "111   Default   81.000000      laminate   81.000000  21.0000  21.0000\n",
       "4     Default   79.000000        carpet   79.000000  20.0000  20.0000\n",
       "24    Default   99.000000      flooring   99.000000  19.0000  19.0000\n",
       "34    Default   74.000000          part   74.000000  18.0000  18.0000\n",
       "14    Default   82.000000          wall   82.000000  17.0000  17.0000\n",
       "11    Default   40.000000          make   40.000000  16.0000  16.0000\n",
       "101   Default   46.000000          easy   46.000000  15.0000  15.0000\n",
       "9     Default   67.000000           fix   67.000000  14.0000  14.0000\n",
       "16    Default   51.000000  installation   51.000000  13.0000  13.0000\n",
       "88    Default   49.000000        instal   49.000000  12.0000  12.0000\n",
       "6     Default   46.000000          tile   46.000000  11.0000  11.0000\n",
       "44    Default   51.000000         patch   51.000000  10.0000  10.0000\n",
       "0     Default   49.000000       ceiling   49.000000   9.0000   9.0000\n",
       "68    Default   50.000000           tip   50.000000   8.0000   8.0000\n",
       "53    Default   45.000000          post   45.000000   7.0000   7.0000\n",
       "319   Default   30.000000         vinyl   30.000000   6.0000   6.0000\n",
       "131   Default   22.000000         board   22.000000   5.0000   5.0000\n",
       "117   Default   25.000000    transition   25.000000   4.0000   4.0000\n",
       "10    Default   38.000000          hole   38.000000   3.0000   3.0000\n",
       "102   Default   25.000000          gate   25.000000   2.0000   2.0000\n",
       "215   Default   24.000000         stair   24.000000   1.0000   1.0000\n",
       "...       ...         ...           ...         ...      ...      ...\n",
       "303   Topic10   11.980094           way   12.710344   2.9448  -3.1787\n",
       "154   Topic10   11.640476       project   12.370662   2.9432  -3.2075\n",
       "157   Topic10   10.374995           new   11.105156   2.9360  -3.3225\n",
       "48    Topic10    8.169792         patio    8.899959   2.9184  -3.5615\n",
       "544   Topic10    6.060114         sheet    6.790340   2.8902  -3.8602\n",
       "543   Topic10    5.883256         screw    6.613414   2.8870  -3.8898\n",
       "299   Topic10    5.535014         quick    6.266400   2.8799  -3.9508\n",
       "536   Topic10    4.671556          idea    5.401734   2.8588  -4.1205\n",
       "1116  Topic10    4.369339   cinderblock    5.212603   2.8275  -4.1873\n",
       "1117  Topic10    4.369339        tapcon    5.212603   2.8275  -4.1873\n",
       "145   Topic10    3.543644         match    4.274078   2.8166  -4.3968\n",
       "687   Topic10    3.487197       plastic    4.217547   2.8139  -4.4128\n",
       "933   Topic10    3.489625          next    4.231445   2.8113  -4.4122\n",
       "549   Topic10    3.282361          roll    4.013002   2.8030  -4.4734\n",
       "539   Topic10    3.254548         super    3.989710   2.8003  -4.4819\n",
       "423   Topic10    3.214442       walkway    3.951190   2.7976  -4.4943\n",
       "385   Topic10    3.184873         learn    3.915138   2.7976  -4.5035\n",
       "1095  Topic10    3.352682       molding    4.203331   2.7779  -4.4522\n",
       "1096  Topic10    3.352682       prepare    4.203331   2.7779  -4.4522\n",
       "1094  Topic10    3.352682         crown    4.203331   2.7779  -4.4522\n",
       "646   Topic10    2.806659        border    3.537047   2.7727  -4.6299\n",
       "155   Topic10    2.746217           let    3.477005   2.7681  -4.6517\n",
       "137   Topic10    2.581130    mitre_easy    3.311300   2.7549  -4.7137\n",
       "770   Topic10    2.375730    connection    3.106410   2.7358  -4.7966\n",
       "545   Topic10    2.198251         block    2.928869   2.7171  -4.8743\n",
       "158   Topic10    2.152288          talk    2.903441   2.7046  -4.8954\n",
       "1065  Topic10    2.459571         brick    3.342671   2.6972  -4.7620\n",
       "624   Topic10    1.967540      possible    2.697686   2.6884  -4.9852\n",
       "1070  Topic10    2.621680       mailbox    3.611158   2.6838  -4.6981\n",
       "1110  Topic10    3.630132        figure    5.263652   2.6325  -4.3727\n",
       "\n",
       "[353 rows x 6 columns], token_table=      Topic      Freq              Term\n",
       "term                                   \n",
       "1111      3  0.741812            adjust\n",
       "95        7  0.727583            allure\n",
       "655       1  0.955240            anchor\n",
       "1050      6  0.861559             apart\n",
       "424       6  0.715737         apartment\n",
       "1017      9  0.710307        artificial\n",
       "60        8  0.911764            attach\n",
       "1108      6  0.891736         available\n",
       "222       9  0.869707          backyard\n",
       "351       3  0.909321               bad\n",
       "1109      1  0.803368          baluster\n",
       "49        5  0.850563         baseboard\n",
       "844       4  0.928830             basic\n",
       "318       6  0.815208          bathroom\n",
       "464       5  0.942167           bathtub\n",
       "773       8  0.626149         beautiful\n",
       "211       9  0.709333               bed\n",
       "603       6  0.872479          beginner\n",
       "545      10  0.682858             block\n",
       "131       8  0.957109             board\n",
       "109       7  0.892892              boat\n",
       "646      10  0.848165            border\n",
       "224       5  0.833147            bottom\n",
       "104       7  0.710521               box\n",
       "1065     10  0.598324             brick\n",
       "195       3  0.866889            broken\n",
       "110       7  0.934981            budget\n",
       "57        1  0.997721             build\n",
       "73        4  0.982221          building\n",
       "296       4  0.811418               car\n",
       "...     ...       ...               ...\n",
       "1054      7  0.952590             track\n",
       "117       7  0.978801        transition\n",
       "231       8  0.715585             treat\n",
       "167       3  0.895002             trick\n",
       "176       6  0.916826              trim\n",
       "71        3  0.926871            trowel\n",
       "901       5  0.926798             truck\n",
       "1020      9  0.710307              turf\n",
       "233       1  0.952799          tutorial\n",
       "265       6  0.803742          underlay\n",
       "190       8  0.759347            uneven\n",
       "434       6  0.876534            update\n",
       "302      10  0.912875               use\n",
       "194       4  0.876069              vent\n",
       "72        3  0.952738             video\n",
       "319       4  0.990697             vinyl\n",
       "25        2  0.954431       vinyl_plank\n",
       "423      10  0.759265           walkway\n",
       "14        2  0.995330              wall\n",
       "259       3  0.955209  wall_preparation\n",
       "674       5  0.770398             watch\n",
       "116       2  0.933033      water_damage\n",
       "606       2  0.871744        waterproof\n",
       "303      10  0.944113               way\n",
       "719       4  0.830783             weave\n",
       "320       4  0.821003           weekend\n",
       "651       9  0.746916            window\n",
       "18        3  0.923616              wire\n",
       "42        5  0.992454              wood\n",
       "139       6  0.962591            wooden\n",
       "\n",
       "[324 rows x 3 columns], R=30, lambda_step=0.01, plot_opts={'xlab': 'PC1', 'ylab': 'PC2'}, topic_order=[10, 5, 2, 7, 8, 1, 3, 9, 6, 4])"
      ]
     },
     "execution_count": 24,
     "metadata": {},
     "output_type": "execute_result"
    }
   ],
   "source": [
    "vis"
   ]
  },
  {
   "cell_type": "code",
   "execution_count": 25,
   "metadata": {},
   "outputs": [
    {
     "name": "stdout",
     "output_type": "stream",
     "text": [
      "/home/clutch/repos/insight_repo/youtube_test\r\n"
     ]
    }
   ],
   "source": [
    "!pwd"
   ]
  },
  {
   "cell_type": "code",
   "execution_count": 26,
   "metadata": {},
   "outputs": [
    {
     "name": "stderr",
     "output_type": "stream",
     "text": [
      "/home/clutch/anaconda3/envs/insight/lib/python3.7/site-packages/smart_open/smart_open_lib.py:398: UserWarning: This function is deprecated, use smart_open.open instead. See the migration notes for details: https://github.com/RaRe-Technologies/smart_open/blob/master/README.rst#migrating-to-the-new-open-function\n",
      "  'See the migration notes for details: %s' % _MIGRATION_NOTES_URL\n"
     ]
    }
   ],
   "source": [
    "# Download File: http://mallet.cs.umass.edu/dist/mallet-2.0.8.zip\n",
    "mallet_path = 'wrapper/mallet-2.0.8/bin/mallet' # update this path\n",
    "ldamallet = gensim.models.wrappers.LdaMallet(mallet_path, corpus=corpus, num_topics=15, id2word=id2word)"
   ]
  },
  {
   "cell_type": "code",
   "execution_count": 27,
   "metadata": {},
   "outputs": [
    {
     "name": "stdout",
     "output_type": "stream",
     "text": [
      "[(13, [('fence', 0.2928759894459103), ('post', 0.1424802110817942), ('gate', 0.09762532981530343), ('wooden', 0.055408970976253295), ('porch', 0.0395778364116095), ('panel', 0.0316622691292876), ('lay', 0.023746701846965697), ('chain_link', 0.021108179419525065), ('sag', 0.018469656992084433), ('wire', 0.0158311345646438)]), (9, [('diy', 0.2542857142857143), ('outdoor', 0.07714285714285714), ('home_ideas', 0.054285714285714284), ('patio', 0.054285714285714284), ('project', 0.045714285714285714), ('ep', 0.03428571428571429), ('outdoor_great', 0.03142857142857143), ('modern', 0.02857142857142857), ('renovation', 0.022857142857142857), ('learn', 0.02)]), (1, [('diy', 0.23177083333333334), ('part', 0.22395833333333334), ('ceiling', 0.15885416666666666), ('skim_coat', 0.044270833333333336), ('water_damage', 0.020833333333333332), ('small', 0.018229166666666668), ('painted_popcorn', 0.015625), ('ground', 0.013020833333333334), ('painting', 0.010416666666666666), ('dry', 0.010416666666666666)]), (10, [('drywall', 0.3541666666666667), ('repair', 0.15364583333333334), ('crack', 0.06510416666666667), ('tape', 0.057291666666666664), ('cut', 0.036458333333333336), ('corner', 0.0234375), ('paper', 0.020833333333333332), ('home_mender', 0.018229166666666668), ('ceile', 0.015625), ('removing_old', 0.013020833333333334)]), (11, [('deck', 0.3444730077120823), ('build', 0.09768637532133675), ('home', 0.06683804627249357), ('building', 0.056555269922879174), ('repair_tutor', 0.030848329048843187), ('railing', 0.028277634961439587), ('handyman', 0.017994858611825194), ('weekend', 0.015424164524421594), ('home_depot', 0.015424164524421594), ('plywood', 0.012853470437017995)]), (2, [('repair', 0.3010204081632653), ('drywall', 0.17857142857142858), ('patch', 0.10459183673469388), ('texture', 0.08163265306122448), ('wall_preparation', 0.03316326530612245), ('plaster', 0.030612244897959183), ('orange_peel', 0.02040816326530612), ('remove_wallpaper', 0.015306122448979591), ('match', 0.012755102040816327), ('spray', 0.012755102040816327)]), (12, [('wall', 0.23774509803921567), ('fix', 0.1642156862745098), ('hole', 0.10784313725490197), ('video', 0.031862745098039214), ('finish', 0.029411764705882353), ('lean', 0.01715686274509804), ('seam', 0.01715686274509804), ('easily', 0.01715686274509804), ('large', 0.014705882352941176), ('bad', 0.014705882352941176)]), (8, [('build', 0.34502923976608185), ('step', 0.09649122807017543), ('simple', 0.04678362573099415), ('plank', 0.02631578947368421), ('chair', 0.02046783625730994), ('decking', 0.02046783625730994), ('house', 0.02046783625730994), ('shed', 0.02046783625730994), ('beginner', 0.02046783625730994), ('coat', 0.017543859649122806)]), (0, [('make', 0.16042780748663102), ('diy', 0.14171122994652408), ('door', 0.0481283422459893), ('bathroom', 0.029411764705882353), ('paint', 0.029411764705882353), ('garden', 0.026737967914438502), ('trick', 0.026737967914438502), ('cheap', 0.026737967914438502), ('painting', 0.0213903743315508), ('bench', 0.0213903743315508)]), (3, [('easy', 0.1368421052631579), ('instal', 0.11842105263157894), ('remove', 0.08421052631578947), ('concrete', 0.08157894736842106), ('float', 0.04736842105263158), ('lie', 0.04736842105263158), ('fast', 0.042105263157894736), ('hang', 0.034210526315789476), ('start', 0.02368421052631579), ('tutorial', 0.021052631578947368)])]\n"
     ]
    }
   ],
   "source": [
    "# Show Topics\n",
    "print(ldamallet.show_topics(formatted=False))"
   ]
  },
  {
   "cell_type": "code",
   "execution_count": 28,
   "metadata": {},
   "outputs": [
    {
     "name": "stdout",
     "output_type": "stream",
     "text": [
      "\n",
      "Coherence Score:  0.6450984796096291\n"
     ]
    }
   ],
   "source": [
    "# Compute Coherence Score\n",
    "coherence_model_ldamallet = CoherenceModel(model=ldamallet, texts=titles_lemmatized, dictionary=id2word, coherence='c_v')\n",
    "coherence_ldamallet = coherence_model_ldamallet.get_coherence()\n",
    "print('\\nCoherence Score: ', coherence_ldamallet)"
   ]
  },
  {
   "cell_type": "code",
   "execution_count": null,
   "metadata": {},
   "outputs": [],
   "source": [
    "def compute_coherence_values(dictionary, corpus, texts, limit, start=2, step=3):\n",
    "    \"\"\"\n",
    "    Compute c_v coherence for various number of topics\n",
    "\n",
    "    Parameters:\n",
    "    ----------\n",
    "    dictionary : Gensim dictionary\n",
    "    corpus : Gensim corpus\n",
    "    texts : List of input texts\n",
    "    limit : Max num of topics\n",
    "\n",
    "    Returns:\n",
    "    -------\n",
    "    model_list : List of LDA topic models\n",
    "    coherence_values : Coherence values corresponding to the LDA model with respective number of topics\n",
    "    \"\"\"\n",
    "    coherence_values = []\n",
    "    model_list = []\n",
    "    for num_topics in range(start, limit, step):\n",
    "        model = gensim.models.wrappers.LdaMallet(mallet_path, corpus=corpus, num_topics=num_topics, id2word=id2word)\n",
    "        model_list.append(model)\n",
    "        coherencemodel = CoherenceModel(model=model, texts=texts, dictionary=dictionary, coherence='c_v')\n",
    "        coherence_values.append(coherencemodel.get_coherence())\n",
    "\n",
    "    return model_list, coherence_values"
   ]
  },
  {
   "cell_type": "code",
   "execution_count": null,
   "metadata": {
    "scrolled": true
   },
   "outputs": [],
   "source": [
    "# Can take a long time to run.\n",
    "model_list, coherence_values = compute_coherence_values(dictionary=id2word, corpus=corpus, texts=titles_lemmatized, start=2, limit=30, step=6)"
   ]
  },
  {
   "cell_type": "code",
   "execution_count": null,
   "metadata": {},
   "outputs": [],
   "source": [
    "# Show graph\n",
    "limit=30; start=2; step=6;\n",
    "x = range(start, limit, step)\n",
    "plt.plot(x, coherence_values)\n",
    "plt.xlabel(\"Num Topics\")\n",
    "plt.ylabel(\"Coherence score\")\n",
    "plt.legend((\"coherence_values\"), loc='best')\n",
    "plt.show()"
   ]
  },
  {
   "cell_type": "code",
   "execution_count": null,
   "metadata": {},
   "outputs": [],
   "source": [
    "# Print the coherence scores\n",
    "for m, cv in zip(x, coherence_values):\n",
    "    print(\"Num Topics =\", m, \" has Coherence Value of\", round(cv, 4))"
   ]
  },
  {
   "cell_type": "code",
   "execution_count": null,
   "metadata": {},
   "outputs": [],
   "source": [
    "# Select the model and print the topics\n",
    "optimal_model = model_list[3]\n",
    "model_topics = optimal_model.show_topics(formatted=False)\n",
    "\n",
    "optimal_model.print_topics(num_words=5)"
   ]
  },
  {
   "cell_type": "code",
   "execution_count": null,
   "metadata": {},
   "outputs": [],
   "source": [
    "# STEP 18 NEXT!!!"
   ]
  },
  {
   "cell_type": "code",
   "execution_count": null,
   "metadata": {},
   "outputs": [],
   "source": []
  }
 ],
 "metadata": {
  "kernelspec": {
   "display_name": "Python 3",
   "language": "python",
   "name": "python3"
  },
  "language_info": {
   "codemirror_mode": {
    "name": "ipython",
    "version": 3
   },
   "file_extension": ".py",
   "mimetype": "text/x-python",
   "name": "python",
   "nbconvert_exporter": "python",
   "pygments_lexer": "ipython3",
   "version": "3.7.3"
  }
 },
 "nbformat": 4,
 "nbformat_minor": 2
}
