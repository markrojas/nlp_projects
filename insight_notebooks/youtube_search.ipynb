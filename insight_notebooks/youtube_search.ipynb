{
 "cells": [
  {
   "cell_type": "code",
   "execution_count": 1,
   "metadata": {},
   "outputs": [],
   "source": [
    "import pandas\n",
    "import numpy"
   ]
  },
  {
   "cell_type": "code",
   "execution_count": null,
   "metadata": {},
   "outputs": [],
   "source": []
  },
  {
   "cell_type": "code",
   "execution_count": 2,
   "metadata": {},
   "outputs": [],
   "source": [
    "video_dict = {'video_id':['PfoG04-2glc','w3czHZwBfEo','Tzi7rftE7Pw'], \n",
    "              'title':['How To Install Waterproof Vinyl Plank Flooring | DIY Flooring Installation', \n",
    "                       'How to Safely Attach a Deck to a House', \n",
    "                       'How to Remove and Replace a Rotten Subfloor']}"
   ]
  },
  {
   "cell_type": "code",
   "execution_count": 9,
   "metadata": {},
   "outputs": [
    {
     "name": "stdout",
     "output_type": "stream",
     "text": [
      "PfoG04-2glc video_id\n",
      "w3czHZwBfEo video_id\n",
      "Tzi7rftE7Pw video_id\n",
      "How To Install Waterproof Vinyl Plank Flooring | DIY Flooring Installation title\n",
      "How to Safely Attach a Deck to a House title\n",
      "How to Remove and Replace a Rotten Subfloor title\n"
     ]
    }
   ],
   "source": [
    "for video in video_dict:\n",
    "    for vid in video_dict[video]:"
   ]
  },
  {
   "cell_type": "code",
   "execution_count": null,
   "metadata": {},
   "outputs": [],
   "source": []
  },
  {
   "cell_type": "code",
   "execution_count": 7,
   "metadata": {},
   "outputs": [],
   "source": [
    "videos_dict = {}"
   ]
  },
  {
   "cell_type": "code",
   "execution_count": 8,
   "metadata": {},
   "outputs": [],
   "source": [
    "video1 = {'PfoG04-2glc' : {'title':'How To Install Waterproof Vinyl Plank Flooring | DIY Flooring Installation'} }\n",
    "video2 = {'w3czHZwBfEo' : {'title':'How to Safely Attach a Deck to a House'} }\n",
    "video3 = {'Tzi7rftE7Pw' : {'title':'How to Remove and Replace a Rotten Subfloor'} }\n",
    "video4 = {'kPwVN1QDgDs' : {'title':'Carpet to Hardwood stairs | The Handyman |'} }\n",
    "video5 = {'7focJeab0pM' : {'title':'How to Fill Gaps In a Wide-Plank Wood Floor - This Old House'} }"
   ]
  },
  {
   "cell_type": "code",
   "execution_count": 9,
   "metadata": {},
   "outputs": [],
   "source": [
    "videos_dict.update(video1)\n",
    "videos_dict.update(video2)\n",
    "videos_dict.update(video3)\n",
    "videos_dict.update(video4)\n",
    "videos_dict.update(video5)"
   ]
  },
  {
   "cell_type": "code",
   "execution_count": 10,
   "metadata": {},
   "outputs": [
    {
     "data": {
      "text/plain": [
       "{'PfoG04-2glc': {'title': 'How To Install Waterproof Vinyl Plank Flooring | DIY Flooring Installation'},\n",
       " 'w3czHZwBfEo': {'title': 'How to Safely Attach a Deck to a House'},\n",
       " 'Tzi7rftE7Pw': {'title': 'How to Remove and Replace a Rotten Subfloor'},\n",
       " 'kPwVN1QDgDs': {'title': 'Carpet to Hardwood stairs | The Handyman |'},\n",
       " '7focJeab0pM': {'title': 'How to Fill Gaps In a Wide-Plank Wood Floor - This Old House'}}"
      ]
     },
     "execution_count": 10,
     "metadata": {},
     "output_type": "execute_result"
    }
   ],
   "source": [
    "videos_dict"
   ]
  },
  {
   "cell_type": "code",
   "execution_count": null,
   "metadata": {},
   "outputs": [],
   "source": []
  }
 ],
 "metadata": {
  "kernelspec": {
   "display_name": "Python 3",
   "language": "python",
   "name": "python3"
  },
  "language_info": {
   "codemirror_mode": {
    "name": "ipython",
    "version": 3
   },
   "file_extension": ".py",
   "mimetype": "text/x-python",
   "name": "python",
   "nbconvert_exporter": "python",
   "pygments_lexer": "ipython3",
   "version": "3.7.3"
  }
 },
 "nbformat": 4,
 "nbformat_minor": 2
}
