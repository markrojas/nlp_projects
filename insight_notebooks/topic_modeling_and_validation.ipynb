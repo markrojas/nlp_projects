{
 "cells": [
  {
   "cell_type": "code",
   "execution_count": 1,
   "metadata": {},
   "outputs": [
    {
     "name": "stderr",
     "output_type": "stream",
     "text": [
      "[nltk_data] Downloading package punkt to /home/clutch/nltk_data...\n",
      "[nltk_data]   Package punkt is already up-to-date!\n",
      "/home/clutch/anaconda3/envs/insight/lib/python3.7/site-packages/sqlalchemy/sql/functions.py:68: SAWarning: The GenericFunction 'array_agg' is already registered and is going to be overriden.\n",
      "  \"is going to be overriden.\".format(identifier))\n"
     ]
    }
   ],
   "source": [
    "%matplotlib inline\n",
    "\n",
    "import os\n",
    "import re\n",
    "import numpy as np\n",
    "import pandas as pd\n",
    "import gensim\n",
    "from collections import Counter\n",
    "from nltk.corpus import stopwords\n",
    "import nltk\n",
    "nltk.download('punkt')\n",
    "from gensim.corpora import Dictionary\n",
    "from sklearn.preprocessing import LabelEncoder\n",
    "\n",
    "# modeling imports\n",
    "from gensim.models.ldamulticore import LdaMulticore\n",
    "from gensim.models.word2vec import Word2Vec\n",
    "from sklearn.ensemble import RandomForestClassifier\n",
    "from sklearn.linear_model import LogisticRegression\n",
    "from sklearn.model_selection import GridSearchCV\n",
    "from sklearn.pipeline import Pipeline\n",
    "\n",
    "# store models\n",
    "import pickle\n",
    "\n",
    "# visualization imports\n",
    "from IPython.display import display\n",
    "import seaborn as sns\n",
    "import matplotlib.pyplot as plt\n",
    "import matplotlib.image as mpimg\n",
    "import base64\n",
    "sns.set()\n",
    "\n",
    "# database imports\n",
    "from sqlalchemy import create_engine\n",
    "from sqlalchemy_utils import create_database, database_exists, drop_database\n",
    "import psycopg2\n",
    "from psycopg2.extensions import ISOLATION_LEVEL_AUTOCOMMIT"
   ]
  },
  {
   "cell_type": "markdown",
   "metadata": {},
   "source": [
    "### Locate PostgreSQL Key and Connect to DB"
   ]
  },
  {
   "cell_type": "code",
   "execution_count": 2,
   "metadata": {},
   "outputs": [],
   "source": [
    "# # using function from \"Keeping API Keys Secret.ipynb\"\n",
    "# # by https://github.com/dylburger\n",
    "# def get_file_contents(filename):\n",
    "#     \"\"\" \n",
    "#     Given a filename,\n",
    "#     return the contents of that file\n",
    "#     \"\"\"\n",
    "#     try:\n",
    "#         with open(filename, 'r') as f:\n",
    "#             # assumed file is a single line with key\n",
    "#             return f.read().strip()\n",
    "#     except FileNotFoundError:\n",
    "#         print(\"'%s' file not found\" % filename)"
   ]
  },
  {
   "cell_type": "code",
   "execution_count": 3,
   "metadata": {},
   "outputs": [],
   "source": [
    "# # define a database name (we're using a dataset on births, so we'll call it birth_db)\n",
    "# # Set your postgres username\n",
    "# dbname = 'insight_db'\n",
    "# username = 'postgres' # change this to your username\n",
    "# password = get_file_contents('../keys/psql_key')"
   ]
  },
  {
   "cell_type": "code",
   "execution_count": 4,
   "metadata": {},
   "outputs": [],
   "source": [
    "# # 'engine' is a connection to a database\n",
    "# engine = create_engine('postgres://%s:%s@localhost/%s'%(username,password,dbname))\n",
    "# # load sql_magic so we can write SQL in Jupyter Notebooks\n",
    "# %load_ext sql_magic\n",
    "\n",
    "# # setup SQL connection to the postgreSQL engine we created\n",
    "# %config SQL.conn_name = 'engine'\n",
    "# print(engine.url)"
   ]
  },
  {
   "cell_type": "code",
   "execution_count": 5,
   "metadata": {},
   "outputs": [],
   "source": [
    "# # connect to make queries using psycopg2\n",
    "# con = psycopg2.connect(database = dbname, host = 'localhost', user = username, password = password)\n",
    "# con.set_isolation_level(ISOLATION_LEVEL_AUTOCOMMIT)"
   ]
  },
  {
   "cell_type": "code",
   "execution_count": 6,
   "metadata": {},
   "outputs": [],
   "source": [
    "# # load data from videos table into dataframe\n",
    "# data_df = pd.read_sql('SELECT * from videos', con=con)\n",
    "# data_df.drop(columns=['id', 'upload_date', 'duration', \n",
    "#                       'view_count', 'likes', 'dislikes', \n",
    "#                       'video', 'thumbnail'], inplace=True)\n",
    "# #data_df.groupby('primary_category').video_id.count()"
   ]
  },
  {
   "cell_type": "code",
   "execution_count": 7,
   "metadata": {},
   "outputs": [],
   "source": [
    "from_csv_filename = 'data/csv_files/summarized_data.csv'"
   ]
  },
  {
   "cell_type": "code",
   "execution_count": 8,
   "metadata": {},
   "outputs": [],
   "source": [
    "data_df = pd.read_csv(from_csv_filename, sep=',')"
   ]
  },
  {
   "cell_type": "code",
   "execution_count": 9,
   "metadata": {},
   "outputs": [
    {
     "data": {
      "text/html": [
       "<div>\n",
       "<style scoped>\n",
       "    .dataframe tbody tr th:only-of-type {\n",
       "        vertical-align: middle;\n",
       "    }\n",
       "\n",
       "    .dataframe tbody tr th {\n",
       "        vertical-align: top;\n",
       "    }\n",
       "\n",
       "    .dataframe thead th {\n",
       "        text-align: right;\n",
       "    }\n",
       "</style>\n",
       "<table border=\"1\" class=\"dataframe\">\n",
       "  <thead>\n",
       "    <tr style=\"text-align: right;\">\n",
       "      <th></th>\n",
       "      <th>video_id</th>\n",
       "      <th>title</th>\n",
       "      <th>subtitles</th>\n",
       "      <th>primary_category</th>\n",
       "      <th>text</th>\n",
       "      <th>txt_len</th>\n",
       "      <th>summary</th>\n",
       "    </tr>\n",
       "  </thead>\n",
       "  <tbody>\n",
       "    <tr>\n",
       "      <th>0</th>\n",
       "      <td>09Q4JQ3p8yg</td>\n",
       "      <td>How to remove popcorn stipple ceiling</td>\n",
       "      <td>hi Shannon here from health improvements and t...</td>\n",
       "      <td>drywall_repair</td>\n",
       "      <td>asmr **, I love you, Im here from Instagram lm...</td>\n",
       "      <td>90480</td>\n",
       "      <td>Ines rivera meeeeeee, me, 🙋‍♀️guilty, me, ines...</td>\n",
       "    </tr>\n",
       "    <tr>\n",
       "      <th>1</th>\n",
       "      <td>0Aip_xxpia4</td>\n",
       "      <td>How to install carpet tiles</td>\n",
       "      <td>were going to replace this tired old wall-to-w...</td>\n",
       "      <td>carpet_flooring</td>\n",
       "      <td>Interface do a product called tactiles which a...</td>\n",
       "      <td>2183</td>\n",
       "      <td>If you're able to :), use a mover disc for fuc...</td>\n",
       "    </tr>\n",
       "    <tr>\n",
       "      <th>2</th>\n",
       "      <td>0COOF3BwgKI</td>\n",
       "      <td>Fix small nail holes in walls fast and make th...</td>\n",
       "      <td>so you like to hang pictures on your wall if y...</td>\n",
       "      <td>drywall_repair</td>\n",
       "      <td>Glad I could help then.  Be sure and subscribe...</td>\n",
       "      <td>8009</td>\n",
       "      <td>We have drywall hanging tools, finishing tools...</td>\n",
       "    </tr>\n",
       "    <tr>\n",
       "      <th>3</th>\n",
       "      <td>0J8q_Lsh4fU</td>\n",
       "      <td>Hog wire deck rail installation</td>\n",
       "      <td>hi im paul from Elkins diy.com today Im going ...</td>\n",
       "      <td>build_deck</td>\n",
       "      <td>Thanks Naegling, off topic but where are u get...</td>\n",
       "      <td>8102</td>\n",
       "      <td>Silicone in the crevices is a great idea, 사랑합니...</td>\n",
       "    </tr>\n",
       "    <tr>\n",
       "      <th>4</th>\n",
       "      <td>0RuwaSU71rY</td>\n",
       "      <td>Replacing a section of drywall after a pipe leak</td>\n",
       "      <td>hi Im Mike Thompson last night was a bit of an...</td>\n",
       "      <td>drywall_repair</td>\n",
       "      <td>Great Job , Mike Thompson, good instructional ...</td>\n",
       "      <td>4012</td>\n",
       "      <td>Great job , mike thompson, good instructional ...</td>\n",
       "    </tr>\n",
       "  </tbody>\n",
       "</table>\n",
       "</div>"
      ],
      "text/plain": [
       "      video_id                                              title  \\\n",
       "0  09Q4JQ3p8yg              How to remove popcorn stipple ceiling   \n",
       "1  0Aip_xxpia4                        How to install carpet tiles   \n",
       "2  0COOF3BwgKI  Fix small nail holes in walls fast and make th...   \n",
       "3  0J8q_Lsh4fU                    Hog wire deck rail installation   \n",
       "4  0RuwaSU71rY   Replacing a section of drywall after a pipe leak   \n",
       "\n",
       "                                           subtitles primary_category  \\\n",
       "0  hi Shannon here from health improvements and t...   drywall_repair   \n",
       "1  were going to replace this tired old wall-to-w...  carpet_flooring   \n",
       "2  so you like to hang pictures on your wall if y...   drywall_repair   \n",
       "3  hi im paul from Elkins diy.com today Im going ...       build_deck   \n",
       "4  hi Im Mike Thompson last night was a bit of an...   drywall_repair   \n",
       "\n",
       "                                                text  txt_len  \\\n",
       "0  asmr **, I love you, Im here from Instagram lm...    90480   \n",
       "1  Interface do a product called tactiles which a...     2183   \n",
       "2  Glad I could help then.  Be sure and subscribe...     8009   \n",
       "3  Thanks Naegling, off topic but where are u get...     8102   \n",
       "4  Great Job , Mike Thompson, good instructional ...     4012   \n",
       "\n",
       "                                             summary  \n",
       "0  Ines rivera meeeeeee, me, 🙋‍♀️guilty, me, ines...  \n",
       "1  If you're able to :), use a mover disc for fuc...  \n",
       "2  We have drywall hanging tools, finishing tools...  \n",
       "3  Silicone in the crevices is a great idea, 사랑합니...  \n",
       "4  Great job , mike thompson, good instructional ...  "
      ]
     },
     "execution_count": 9,
     "metadata": {},
     "output_type": "execute_result"
    }
   ],
   "source": [
    "data_df.head()"
   ]
  },
  {
   "cell_type": "code",
   "execution_count": 12,
   "metadata": {},
   "outputs": [
    {
     "data": {
      "text/plain": [
       "1037"
      ]
     },
     "execution_count": 12,
     "metadata": {},
     "output_type": "execute_result"
    }
   ],
   "source": [
    "data_df.video_id.count()"
   ]
  },
  {
   "cell_type": "markdown",
   "metadata": {},
   "source": [
    "### Split Data into Training Set and Test Set\n",
    "\n",
    "#### Training Data Selection"
   ]
  },
  {
   "cell_type": "code",
   "execution_count": 13,
   "metadata": {},
   "outputs": [],
   "source": [
    "# remove underscores from title and create new feature\n",
    "# with title and description combined\n",
    "# data_df['title'] = data_df['title'].str.replace('_',' ')\n",
    "#data_df['title_and_descr'] = data_df.title + '. ' + data_df.description"
   ]
  },
  {
   "cell_type": "code",
   "execution_count": 14,
   "metadata": {},
   "outputs": [],
   "source": [
    "# randomly select subset of 70% rows for each class to train models\n",
    "random_state = 42\n",
    "deck_df = data_df[data_df['primary_category']=='build_deck'].sample(n=144, random_state=random_state)\n",
    "carpet_df = data_df[data_df['primary_category']=='carpet_flooring'].sample(n=100, random_state=random_state)\n",
    "drywall_df = data_df[data_df['primary_category']=='drywall_repair'].sample(n=203, random_state=random_state)\n",
    "laminate_df = data_df[data_df['primary_category']=='laminate_flooring'].sample(n=116, random_state=random_state)\n",
    "fence_df = data_df[data_df['primary_category']=='repair_wood_fence'].sample(n=138, random_state=random_state)"
   ]
  },
  {
   "cell_type": "code",
   "execution_count": 15,
   "metadata": {},
   "outputs": [],
   "source": [
    "# concatenate the different training dataframes\n",
    "training_df = pd.concat([deck_df, carpet_df, drywall_df, laminate_df, fence_df])"
   ]
  },
  {
   "cell_type": "markdown",
   "metadata": {},
   "source": [
    "#### Testing Data Selection"
   ]
  },
  {
   "cell_type": "code",
   "execution_count": 16,
   "metadata": {},
   "outputs": [],
   "source": [
    "# select remaining data as testing set\n",
    "common_df = training_df.merge(data_df,on=['video_id'])\n",
    "testing_df = data_df[(~data_df.video_id.isin(common_df.video_id))]"
   ]
  },
  {
   "cell_type": "code",
   "execution_count": 17,
   "metadata": {},
   "outputs": [
    {
     "data": {
      "text/plain": [
       "701"
      ]
     },
     "execution_count": 17,
     "metadata": {},
     "output_type": "execute_result"
    }
   ],
   "source": [
    "training_df.video_id.count()"
   ]
  },
  {
   "cell_type": "code",
   "execution_count": 18,
   "metadata": {},
   "outputs": [
    {
     "name": "stdout",
     "output_type": "stream",
     "text": [
      "144\n",
      "100\n",
      "203\n",
      "116\n",
      "138\n"
     ]
    }
   ],
   "source": [
    "print(training_df[training_df['primary_category']=='build_deck'].video_id.count())\n",
    "print(training_df[training_df['primary_category']=='carpet_flooring'].video_id.count())\n",
    "print(training_df[training_df['primary_category']=='drywall_repair'].video_id.count())\n",
    "print(training_df[training_df['primary_category']=='laminate_flooring'].video_id.count())\n",
    "print(training_df[training_df['primary_category']=='repair_wood_fence'].video_id.count())"
   ]
  },
  {
   "cell_type": "code",
   "execution_count": 19,
   "metadata": {},
   "outputs": [
    {
     "data": {
      "text/plain": [
       "308"
      ]
     },
     "execution_count": 19,
     "metadata": {},
     "output_type": "execute_result"
    }
   ],
   "source": [
    "testing_df.video_id.count()"
   ]
  },
  {
   "cell_type": "code",
   "execution_count": 20,
   "metadata": {},
   "outputs": [
    {
     "name": "stdout",
     "output_type": "stream",
     "text": [
      "60\n",
      "45\n",
      "87\n",
      "55\n",
      "61\n"
     ]
    }
   ],
   "source": [
    "print(testing_df[testing_df['primary_category']=='build_deck'].video_id.count())\n",
    "print(testing_df[testing_df['primary_category']=='carpet_flooring'].video_id.count())\n",
    "print(testing_df[testing_df['primary_category']=='drywall_repair'].video_id.count())\n",
    "print(testing_df[testing_df['primary_category']=='laminate_flooring'].video_id.count())\n",
    "print(testing_df[testing_df['primary_category']=='repair_wood_fence'].video_id.count())"
   ]
  },
  {
   "cell_type": "code",
   "execution_count": null,
   "metadata": {},
   "outputs": [],
   "source": []
  },
  {
   "cell_type": "markdown",
   "metadata": {},
   "source": [
    "## Train LDA and Word2Vec Models for Classification"
   ]
  },
  {
   "cell_type": "code",
   "execution_count": 21,
   "metadata": {},
   "outputs": [
    {
     "data": {
      "text/plain": [
       "Index(['drywall_repair', 'build_deck', 'repair_wood_fence',\n",
       "       'laminate_flooring', 'carpet_flooring'],\n",
       "      dtype='object')"
      ]
     },
     "execution_count": 21,
     "metadata": {},
     "output_type": "execute_result"
    }
   ],
   "source": [
    "# check if all classes are represented in training data\n",
    "training_df.primary_category.value_counts().index"
   ]
  },
  {
   "cell_type": "markdown",
   "metadata": {},
   "source": [
    "#### Clean Data"
   ]
  },
  {
   "cell_type": "code",
   "execution_count": 22,
   "metadata": {},
   "outputs": [],
   "source": [
    "# column in dataset to attempt to predict labels ('primary_category')\n",
    "column_to_analyze = 'title'"
   ]
  },
  {
   "cell_type": "code",
   "execution_count": 23,
   "metadata": {},
   "outputs": [],
   "source": [
    "# function to remove punctuation and bad characters\n",
    "def get_good_tokens(sentence):\n",
    "    replaced_punctation = list(map(lambda token: re.sub('[^0-9A-Za-z!?]+', '', token), sentence))\n",
    "    removed_punctation = list(filter(lambda token: token, replaced_punctation))\n",
    "    return removed_punctation"
   ]
  },
  {
   "cell_type": "code",
   "execution_count": 24,
   "metadata": {},
   "outputs": [],
   "source": [
    "# here we get transform the documents into sentences for the word2vecmodel\n",
    "# we made a function such that later on when we make the submission, we don't need to write duplicate code\n",
    "def w2v_preprocessing(df):\n",
    "    \"\"\" All the preprocessing steps for word2vec are done in this function.\n",
    "    All mutations are done on the dataframe itself. So this function returns\n",
    "    nothing.\n",
    "    \"\"\"\n",
    "    df[column_to_analyze] = df[column_to_analyze].str.lower()\n",
    "    df['document_sentences'] = df[column_to_analyze].str.split('.')  # split texts into individual sentences\n",
    "    df['tokenized_sentences'] = list(map(lambda sentences:\n",
    "                                         list(map(nltk.word_tokenize, sentences)),\n",
    "                                         df.document_sentences))  # tokenize sentences\n",
    "    df['tokenized_sentences'] = list(map(lambda sentences:\n",
    "                                         list(map(get_good_tokens, sentences)),\n",
    "                                         df.tokenized_sentences))  # remove unwanted characters\n",
    "    df['tokenized_sentences'] = list(map(lambda sentences:\n",
    "                                         list(filter(lambda lst: lst, sentences)),\n",
    "                                         df.tokenized_sentences))  # remove empty lists\n",
    "\n",
    "# call to w2v function \n",
    "# commented out here to run later in notebook\n",
    "#w2v_preprocessing(training_df)"
   ]
  },
  {
   "cell_type": "code",
   "execution_count": 25,
   "metadata": {},
   "outputs": [],
   "source": [
    "#training_df.head(3)"
   ]
  },
  {
   "cell_type": "markdown",
   "metadata": {},
   "source": [
    "#### LDA preprocessing"
   ]
  },
  {
   "cell_type": "code",
   "execution_count": 26,
   "metadata": {},
   "outputs": [],
   "source": [
    "def lda_get_good_tokens(df):\n",
    "    df[column_to_analyze] = df[column_to_analyze].str.lower()\n",
    "    df['tokenized_text'] = list(map(nltk.word_tokenize, df[column_to_analyze]))\n",
    "    df['tokenized_text'] = list(map(get_good_tokens, df.tokenized_text))\n",
    "\n",
    "# call to lda version of cleaning punctuation    \n",
    "#lda_get_good_tokens(training_df)"
   ]
  },
  {
   "cell_type": "code",
   "execution_count": 27,
   "metadata": {},
   "outputs": [],
   "source": [
    "#training_df.head(3)"
   ]
  },
  {
   "cell_type": "markdown",
   "metadata": {},
   "source": [
    "### Remove words with little value"
   ]
  },
  {
   "cell_type": "code",
   "execution_count": 28,
   "metadata": {},
   "outputs": [],
   "source": [
    "def remove_stopwords(df):\n",
    "    \"\"\" Removes stopwords based on a known set of stopwords\n",
    "    available in the nltk package. In addition, we include our\n",
    "    made up word in here.\n",
    "    \"\"\"\n",
    "    # nltk used to remove stopwords from the texts\n",
    "    stopwords = nltk.corpus.stopwords.words('english')\n",
    "    # uncomment to add additional stop words\n",
    "    #stopwords.append(LIST_OF_WORDS_GOES_HERE)\n",
    "\n",
    "    df['stopwords_removed'] = list(map(lambda doc:\n",
    "                                       [word for word in doc if word not in stopwords],\n",
    "                                       df['tokenized_text']))\n",
    "# call to lda remove stopwords\n",
    "#remove_stopwords(training_df)"
   ]
  },
  {
   "cell_type": "code",
   "execution_count": 29,
   "metadata": {},
   "outputs": [],
   "source": [
    "#training_df.head(3)"
   ]
  },
  {
   "cell_type": "markdown",
   "metadata": {},
   "source": [
    "### Lemmatization and Stemming"
   ]
  },
  {
   "cell_type": "code",
   "execution_count": 30,
   "metadata": {},
   "outputs": [],
   "source": [
    "# function to lemmatize and stem words for lda\n",
    "def stem_words(df):\n",
    "    lemm = nltk.stem.WordNetLemmatizer()\n",
    "    df['lemmatized_text'] = list(map(lambda sentence:\n",
    "                                     list(map(lemm.lemmatize, sentence)),\n",
    "                                     df.stopwords_removed))\n",
    "\n",
    "    p_stemmer = nltk.stem.porter.PorterStemmer()\n",
    "    df['stemmed_text'] = list(map(lambda sentence:\n",
    "                                  list(map(p_stemmer.stem, sentence)),\n",
    "                                  df.lemmatized_text))\n",
    "# call to function\n",
    "#stem_words(training_df)"
   ]
  },
  {
   "cell_type": "code",
   "execution_count": 31,
   "metadata": {},
   "outputs": [],
   "source": [
    "#training_df.head(3)"
   ]
  },
  {
   "cell_type": "markdown",
   "metadata": {},
   "source": [
    "### Create a Bag-of-words (BOW)"
   ]
  },
  {
   "cell_type": "code",
   "execution_count": 32,
   "metadata": {},
   "outputs": [],
   "source": [
    "# make a BOW for every document\n",
    "def document_to_bow(df, dictionary):\n",
    "    df['bow'] = list(map(lambda doc: dictionary.doc2bow(doc), df.stemmed_text))\n",
    "\n",
    "# call to function\n",
    "#document_to_bow(training_df)"
   ]
  },
  {
   "cell_type": "code",
   "execution_count": 33,
   "metadata": {},
   "outputs": [],
   "source": [
    "#training_df.head(3)"
   ]
  },
  {
   "cell_type": "markdown",
   "metadata": {},
   "source": [
    "## Run Training Dataframe through LDA and Word2Vec Preprocessing Functions"
   ]
  },
  {
   "cell_type": "code",
   "execution_count": 34,
   "metadata": {},
   "outputs": [],
   "source": [
    "# we make a function such that later on when we make the submission, we don't need to write duplicate code\n",
    "def lda_preprocessing(df):\n",
    "    \"\"\" All the preprocessing steps for LDA are combined in this function.\n",
    "    All mutations are done on the dataframe itself. So this function returns\n",
    "    nothing.\n",
    "    \"\"\"\n",
    "    lda_get_good_tokens(df)\n",
    "    remove_stopwords(df)\n",
    "    stem_words(df)\n",
    "    dictionary = vectorize_words(df)\n",
    "    document_to_bow(df, dictionary)\n",
    "    return dictionary"
   ]
  },
  {
   "cell_type": "markdown",
   "metadata": {},
   "source": [
    "### Vectorize words -- using gensim.corpora.Dictionary"
   ]
  },
  {
   "cell_type": "code",
   "execution_count": 35,
   "metadata": {},
   "outputs": [],
   "source": [
    "# check total number of words found\n",
    "def vectorize_words(df):\n",
    "    dictionary = Dictionary(documents=df.stemmed_text.values)\n",
    "    #print(\"Found {} words.\".format(len(dictionary.values())))\n",
    "    \n",
    "    # filter the top 20% of words present and \n",
    "    # titles with less than 3 words to normalize data\n",
    "    dictionary.filter_extremes(no_above=0.8, no_below=3)\n",
    "    dictionary.compactify()  # reindexes the remaining words after filtering\n",
    "    #print(\"Left with {} words.\".format(len(dictionary.values())))\n",
    "    return dictionary\n",
    "\n"
   ]
  },
  {
   "cell_type": "code",
   "execution_count": 36,
   "metadata": {},
   "outputs": [],
   "source": [
    "# preprocess training data for lda\n",
    "dictionary = lda_preprocessing(training_df)\n",
    "# preprossec training data for word2vec\n",
    "w2v_preprocessing(training_df)"
   ]
  },
  {
   "cell_type": "markdown",
   "metadata": {},
   "source": [
    "####"
   ]
  },
  {
   "cell_type": "markdown",
   "metadata": {},
   "source": [
    "# Train Model(s)"
   ]
  },
  {
   "cell_type": "markdown",
   "metadata": {},
   "source": [
    "### LDA"
   ]
  },
  {
   "cell_type": "code",
   "execution_count": 37,
   "metadata": {},
   "outputs": [],
   "source": [
    "# build corpus from bag of words\n",
    "corpus = training_df.bow"
   ]
  },
  {
   "cell_type": "code",
   "execution_count": 38,
   "metadata": {},
   "outputs": [
    {
     "name": "stderr",
     "output_type": "stream",
     "text": [
      "/home/clutch/anaconda3/envs/insight/lib/python3.7/site-packages/gensim/models/ldamodel.py:775: RuntimeWarning: divide by zero encountered in log\n",
      "  diff = np.log(self.expElogbeta)\n"
     ]
    },
    {
     "name": "stdout",
     "output_type": "stream",
     "text": [
      "CPU times: user 3.89 s, sys: 186 ms, total: 4.08 s\n",
      "Wall time: 2.85 s\n"
     ]
    }
   ],
   "source": [
    "%%time\n",
    "num_topics = 150\n",
    "# multicore approach to decrease training time\n",
    "LDAmodel = LdaMulticore(corpus=corpus,\n",
    "                        id2word=dictionary,\n",
    "                        num_topics=num_topics,\n",
    "                        workers=4,\n",
    "                        chunksize=4000,\n",
    "                        passes=7,\n",
    "                        alpha='asymmetric')"
   ]
  },
  {
   "cell_type": "code",
   "execution_count": 39,
   "metadata": {},
   "outputs": [],
   "source": [
    "# function to convert BOW to lda features\n",
    "def document_to_lda_features(lda_model, document):\n",
    "    \"\"\" Transforms a bag of words document to features.\n",
    "    It returns the proportion of how much each topic was\n",
    "    present in the document.\n",
    "    \"\"\"\n",
    "    topic_importances = LDAmodel.get_document_topics(document, minimum_probability=0)\n",
    "    topic_importances = np.array(topic_importances)\n",
    "    return topic_importances[:,1]\n",
    "\n",
    "training_df['lda_features'] = list(map(lambda doc: \n",
    "                                       document_to_lda_features(LDAmodel, doc), \n",
    "                                       training_df.bow))"
   ]
  },
  {
   "cell_type": "code",
   "execution_count": 40,
   "metadata": {},
   "outputs": [],
   "source": [
    "#training_df.head(3)"
   ]
  },
  {
   "cell_type": "markdown",
   "metadata": {},
   "source": [
    "-------------------\n",
    "#### Visualizations for LDA -- not needed for training model -- START"
   ]
  },
  {
   "cell_type": "code",
   "execution_count": 41,
   "metadata": {},
   "outputs": [],
   "source": [
    "# compute mean for lda features for visualization\n",
    "deck_topic_dist = training_df.loc[training_df.primary_category == \n",
    "                                  'build_deck', 'lda_features'].mean()\n",
    "fence_topic_dist = training_df.loc[training_df.primary_category == \n",
    "                                   'repair_wood_fence', 'lda_features'].mean()\n",
    "laminate_topic_dist = training_df.loc[training_df.primary_category == \n",
    "                                      'laminate_flooring', 'lda_features'].mean()\n",
    "carpet_topic_dist = training_df.loc[training_df.primary_category == \n",
    "                                    'carpet_flooring', 'lda_features'].mean()\n",
    "drywall_topic_dist = training_df.loc[training_df.primary_category == \n",
    "                                     'drywall_repair', 'lda_features'].mean()"
   ]
  },
  {
   "cell_type": "code",
   "execution_count": 42,
   "metadata": {},
   "outputs": [
    {
     "name": "stderr",
     "output_type": "stream",
     "text": [
      "/home/clutch/anaconda3/envs/insight/lib/python3.7/site-packages/ipykernel_launcher.py:35: UserWarning: Tight layout not applied. tight_layout cannot make axes height small enough to accommodate all axes decorations\n"
     ]
    },
    {
     "data": {
      "image/png": "[encoded data removed]",
      "text/plain": [
       "<Figure size 1800x1800 with 5 Axes>"
      ]
     },
     "metadata": {
      "needs_background": "light"
     },
     "output_type": "display_data"
    }
   ],
   "source": [
    "# visualize distribution plots for topics\n",
    "fig, [ax1,ax2,ax3, ax4, ax5] = plt.subplots(5,1,figsize=(25,25))\n",
    "\n",
    "nr_top_bars = 5\n",
    "\n",
    "ax1.set_title(\"Deck topic distributions\", fontsize=16)\n",
    "ax2.set_title(\"Fence topic distributions\", fontsize=16)\n",
    "ax3.set_title(\"Laminate topic distributions\", fontsize=16)\n",
    "ax4.set_title(\"Carpet topic distributions\", fontsize=16)\n",
    "ax5.set_title(\"Drywall topic distributions\", fontsize=16)\n",
    "ax5.text(-10, 0.04, \"Average Probability of Topic\", fontsize=30, ha=\"center\", va=\"center\",\n",
    "         rotation=\"vertical\")\n",
    "\n",
    "for ax, distribution, color in zip([ax1,ax2,ax3,ax4,ax5],\n",
    "                                   [deck_topic_dist,\n",
    "                                    fence_topic_dist,\n",
    "                                    laminate_topic_dist,\n",
    "                                    carpet_topic_dist,\n",
    "                                    drywall_topic_dist],\n",
    "                                   ['b','g','r','y','skyblue']):\n",
    "    # Individual distribution barplots\n",
    "    ax.bar(range(len(distribution)), distribution, alpha=0.7)\n",
    "    rects = ax.patches\n",
    "    for i in np.argsort(distribution)[-nr_top_bars:]:\n",
    "        rects[i].set_color(color)\n",
    "        rects[i].set_alpha(1)\n",
    "    # General plotting adjustments\n",
    "    ax.set_xlim(-1, 150)\n",
    "    ax.set_xticks(range(20,149,20))\n",
    "    ax.set_xticklabels(range(20,149,20), fontsize=16)\n",
    "    ax.set_ylim(0,0.02)\n",
    "    ax.set_yticks([0,0.01,0.02])\n",
    "    ax.set_yticklabels([0,0.01,0.02], fontsize=16)\n",
    "\n",
    "fig.tight_layout(h_pad=1.)"
   ]
  },
  {
   "cell_type": "markdown",
   "metadata": {},
   "source": [
    "#### Look at words the top topics contain"
   ]
  },
  {
   "cell_type": "code",
   "execution_count": 43,
   "metadata": {},
   "outputs": [],
   "source": [
    "# function to gather the top topics for lda features\n",
    "def get_topic_top_words(lda_model, topic_id, nr_top_words=5):\n",
    "    \"\"\" Returns the top words for topic_id from lda_model.\n",
    "    \"\"\"\n",
    "    id_tuples = lda_model.get_topic_terms(topic_id, topn=nr_top_words)\n",
    "    word_ids = np.array(id_tuples)[:,0]\n",
    "    words = map(lambda id_: lda_model.id2word[id_], word_ids)\n",
    "    return words"
   ]
  },
  {
   "cell_type": "code",
   "execution_count": 44,
   "metadata": {},
   "outputs": [
    {
     "name": "stdout",
     "output_type": "stream",
     "text": [
      "Looking up top words from top topics from Deck.\n",
      "For topic 1, the top words are: diy, stair, makeov, carpet, backyard.\n",
      "For topic 3, the top words are: outdoor, home, kitchen, bar, build.\n",
      "For topic 14, the top words are: build, deck, diy, modern, ep.\n",
      "For topic 36, the top words are: idea, home, great, outdoor, patio.\n",
      "For topic 138, the top words are: deck, use, diy, build, drywal.\n",
      "\n",
      "Looking up top words from top topics from Fence.\n",
      "For topic 22, the top words are: gate, 3, fenc, build, repair.\n",
      "For topic 24, the top words are: fenc, post, panel, instal, wooden.\n",
      "For topic 32, the top words are: post, fenc, repair, broken, joint.\n",
      "For topic 79, the top words are: wood, fenc, stain, paint, heat.\n",
      "For topic 86, the top words are: fenc, link, chain, picket, repair.\n",
      "\n",
      "Looking up top words from top topics from Laminate.\n",
      "For topic 1, the top words are: diy, stair, makeov, carpet, backyard.\n",
      "For topic 2, the top words are: vinyl, step, floor, instal, plank.\n",
      "For topic 4, the top words are: floor, lamin, instal, diy, vinyl.\n",
      "For topic 6, the top words are: floor, instal, transit, room, tile.\n",
      "For topic 78, the top words are: vinyl, floor, tile, instal, home.\n",
      "\n",
      "Looking up top words from top topics from Carpet.\n",
      "For topic 1, the top words are: diy, stair, makeov, carpet, backyard.\n",
      "For topic 2, the top words are: vinyl, step, floor, instal, plank.\n",
      "For topic 4, the top words are: floor, lamin, instal, diy, vinyl.\n",
      "For topic 6, the top words are: floor, instal, transit, room, tile.\n",
      "For topic 20, the top words are: carpet, instal, diy, floor, start.\n",
      "\n",
      "Looking up top words from top topics from Drywall.\n",
      "For topic 5, the top words are: drywal, hang, finish, repair, textur.\n",
      "For topic 16, the top words are: patch, drywal, hole, repair, 2.\n",
      "For topic 18, the top words are: ceil, textur, repair, drywal, popcorn.\n",
      "For topic 35, the top words are: repair, sheetrock, home, tutor, small.\n",
      "For topic 37, the top words are: tip, diy, drywal, coat, wall.\n",
      "\n"
     ]
    }
   ],
   "source": [
    "# output the top topics\n",
    "for category, distribution in zip(['Deck', 'Fence', 'Laminate', 'Carpet', 'Drywall'], \n",
    "                                  [deck_topic_dist,\n",
    "                                   fence_topic_dist,\n",
    "                                   laminate_topic_dist,\n",
    "                                   carpet_topic_dist,\n",
    "                                   drywall_topic_dist]):\n",
    "    print(\"Looking up top words from top topics from {}.\".format(category))\n",
    "    for x in sorted(np.argsort(distribution)[-5:]):\n",
    "        top_words = get_topic_top_words(LDAmodel, x)\n",
    "        print(\"For topic {}, the top words are: {}.\".format(x, \", \".join(top_words)))\n",
    "    print(\"\")"
   ]
  },
  {
   "cell_type": "markdown",
   "metadata": {},
   "source": [
    "#### Visualizations for LDA -- not needed for training model -- END\n",
    "-----------------"
   ]
  },
  {
   "cell_type": "markdown",
   "metadata": {},
   "source": [
    "## Word2Vec"
   ]
  },
  {
   "cell_type": "markdown",
   "metadata": {},
   "source": [
    "### Train"
   ]
  },
  {
   "cell_type": "code",
   "execution_count": 45,
   "metadata": {},
   "outputs": [
    {
     "name": "stdout",
     "output_type": "stream",
     "text": [
      "Number of sentences: 761.\n",
      "Number of texts: 701.\n"
     ]
    }
   ],
   "source": [
    "# show number of sentences and texts for w2v\n",
    "sentences = []\n",
    "for sentence_group in training_df.tokenized_sentences:\n",
    "    sentences.extend(sentence_group)\n",
    "\n",
    "print(\"Number of sentences: {}.\".format(len(sentences)))\n",
    "print(\"Number of texts: {}.\".format(len(training_df)))"
   ]
  },
  {
   "cell_type": "code",
   "execution_count": 46,
   "metadata": {},
   "outputs": [
    {
     "name": "stdout",
     "output_type": "stream",
     "text": [
      "CPU times: user 86 ms, sys: 41 µs, total: 86 ms\n",
      "Wall time: 83.4 ms\n"
     ]
    }
   ],
   "source": [
    "%%time\n",
    "# set values for various parameters\n",
    "num_features = 200    # Word vector dimensionality\n",
    "min_word_count = 2    # Minimum word count\n",
    "num_workers = 4       # Number of threads to run in parallel\n",
    "context = 6           # Context window size\n",
    "downsampling = 1e-3   # Downsample setting for frequent words\n",
    "\n",
    "# initialize and train the model\n",
    "W2Vmodel = Word2Vec(sentences=sentences,\n",
    "                    sg=1,\n",
    "                    hs=0,\n",
    "                    workers=num_workers,\n",
    "                    size=num_features,\n",
    "                    min_count=min_word_count,\n",
    "                    window=context,\n",
    "                    sample=downsampling,\n",
    "                    negative=5,\n",
    "                    iter=6)"
   ]
  },
  {
   "cell_type": "code",
   "execution_count": 47,
   "metadata": {},
   "outputs": [
    {
     "name": "stderr",
     "output_type": "stream",
     "text": [
      "/home/clutch/anaconda3/envs/insight/lib/python3.7/site-packages/ipykernel_launcher.py:19: DeprecationWarning: Call to deprecated `__getitem__` (Method will be removed in 4.0.0, use self.wv.__getitem__() instead).\n"
     ]
    }
   ],
   "source": [
    "# function to convert a list of lists of words \n",
    "# to a feature vector for Word2Vec\n",
    "def get_w2v_features(w2v_model, sentence_group):\n",
    "    \"\"\" Transform a sentence_group (containing multiple lists\n",
    "    of words) into a feature vector. It averages out all the\n",
    "    word vectors of the sentence_group.\n",
    "    \"\"\"\n",
    "    words = np.concatenate(sentence_group)  # words in text\n",
    "    index2word_set = set(w2v_model.wv.vocab.keys())  # words known to model\n",
    "    \n",
    "    featureVec = np.zeros(w2v_model.vector_size, dtype=\"float32\")\n",
    "    \n",
    "    # initialize a counter for number of words in a review\n",
    "    nwords = 0\n",
    "    # loop over each word in the comment and, if it is in the model's \n",
    "    # vocabulary, add its feature vector to the total\n",
    "    for word in words:\n",
    "        if word in index2word_set: \n",
    "            featureVec = np.add(featureVec, w2v_model[word])\n",
    "            nwords += 1.\n",
    "\n",
    "    # divide the result by the number of words to get the average\n",
    "    if nwords > 0:\n",
    "        featureVec = np.divide(featureVec, nwords)\n",
    "    return featureVec\n",
    "\n",
    "training_df['w2v_features'] = list(map(lambda sen_group: \n",
    "                                     get_w2v_features(W2Vmodel, sen_group),\n",
    "                                     training_df.tokenized_sentences))"
   ]
  },
  {
   "cell_type": "code",
   "execution_count": 48,
   "metadata": {},
   "outputs": [],
   "source": [
    "#training_df.head(3)"
   ]
  },
  {
   "cell_type": "markdown",
   "metadata": {},
   "source": [
    "-----------------\n",
    "#### Visualizations for Word2Vec -- not needed for training model -- START"
   ]
  },
  {
   "cell_type": "code",
   "execution_count": 49,
   "metadata": {},
   "outputs": [],
   "source": [
    "# compute mean of word2vec features for training data\n",
    "deck_w2v_dist = training_df.loc[training_df.primary_category == \n",
    "                                'build_deck', 'w2v_features'].mean()\n",
    "\n",
    "fence_w2v_dist = training_df.loc[training_df.primary_category == \n",
    "                                 'repair_wood_fence', 'w2v_features'].mean()\n",
    "\n",
    "laminate_w2v_dist = training_df.loc[training_df.primary_category == \n",
    "                                    'laminate_flooring', 'w2v_features'].mean()\n",
    "\n",
    "carpet_w2v_dist = training_df.loc[training_df.primary_category == \n",
    "                                  'carpet_flooring', 'w2v_features'].mean()\n",
    "\n",
    "drywall_w2v_dist = training_df.loc[training_df.primary_category == \n",
    "                                   'drywall_repair', 'w2v_features'].mean()"
   ]
  },
  {
   "cell_type": "code",
   "execution_count": 50,
   "metadata": {},
   "outputs": [
    {
     "name": "stderr",
     "output_type": "stream",
     "text": [
      "/home/clutch/anaconda3/envs/insight/lib/python3.7/site-packages/ipykernel_launcher.py:35: UserWarning: Tight layout not applied. tight_layout cannot make axes height small enough to accommodate all axes decorations\n"
     ]
    },
    {
     "data": {
      "image/png": "[encoded data removed]",
      "text/plain": [
       "<Figure size 1800x1800 with 5 Axes>"
      ]
     },
     "metadata": {
      "needs_background": "light"
     },
     "output_type": "display_data"
    }
   ],
   "source": [
    "# visualize the distributions\n",
    "fig, [ax1,ax2,ax3, ax4, ax5] = plt.subplots(5,1,figsize=(25,25))\n",
    "\n",
    "nr_top_bars = 5\n",
    "\n",
    "ax1.set_title(\"Deck w2v distributions\", fontsize=16)\n",
    "ax2.set_title(\"Fence w2v distributions\", fontsize=16)\n",
    "ax3.set_title(\"Laminate w2v distributions\", fontsize=16)\n",
    "ax4.set_title(\"Carpet w2v distributions\", fontsize=16)\n",
    "ax5.set_title(\"Drywall w2v distributions\", fontsize=16)\n",
    "ax5.text(-10, 0.04, \"Average Feature Vectors\", fontsize=30, ha=\"center\", va=\"center\",\n",
    "         rotation=\"vertical\")\n",
    "\n",
    "for ax, distribution, color in zip([ax1,ax2,ax3,ax4,ax5],\n",
    "                                   [deck_w2v_dist,\n",
    "                                    fence_w2v_dist,\n",
    "                                    laminate_w2v_dist,\n",
    "                                    carpet_w2v_dist,\n",
    "                                    drywall_w2v_dist],\n",
    "                                   ['b','g','r','y','skyblue']):\n",
    "    # individual distribution barplots\n",
    "    ax.bar(range(len(distribution)), distribution, alpha=0.7)\n",
    "    rects = ax.patches\n",
    "    for i in np.argsort(distribution)[-nr_top_bars:]:\n",
    "        rects[i].set_color(color)\n",
    "        rects[i].set_alpha(1)\n",
    "    # general plotting adjustments\n",
    "    ax.set_xlim(-1, 150)\n",
    "    ax.set_xticks(range(20,149,20))\n",
    "    ax.set_xticklabels(range(20,149,20), fontsize=16)\n",
    "    ax.set_ylim(0,0.02)\n",
    "    ax.set_yticks([0,0.01,0.02])\n",
    "    ax.set_yticklabels([0,0.01,0.02], fontsize=16)\n",
    "\n",
    "fig.tight_layout(h_pad=1.)"
   ]
  },
  {
   "cell_type": "markdown",
   "metadata": {},
   "source": [
    "#### Visualizations for Word2Vec -- not needed for training model -- END\n",
    "-----------------"
   ]
  },
  {
   "cell_type": "markdown",
   "metadata": {},
   "source": [
    "### Classification and Hyperparameter Tuning"
   ]
  },
  {
   "cell_type": "code",
   "execution_count": 51,
   "metadata": {},
   "outputs": [],
   "source": [
    "# encode the labels from e.g., 'drywall_repair' --> 0\n",
    "label_encoder = LabelEncoder()\n",
    "\n",
    "label_encoder.fit(training_df.primary_category)\n",
    "training_df['category_id'] = label_encoder.transform(training_df.primary_category)"
   ]
  },
  {
   "cell_type": "code",
   "execution_count": 52,
   "metadata": {},
   "outputs": [],
   "source": [
    "#training_df.tail(3)"
   ]
  },
  {
   "cell_type": "code",
   "execution_count": 53,
   "metadata": {},
   "outputs": [],
   "source": [
    "# create first pipeline for base without reducing features\n",
    "pipe = Pipeline([('classifier' , RandomForestClassifier())])\n",
    "\n",
    "# create param grid.\n",
    "param_grid = [{'classifier' : [LogisticRegression()], \n",
    "               'classifier__penalty' : ['l1', 'l2'],\n",
    "               'classifier__C' : np.logspace(-4, 4, 20)},\n",
    "              {'classifier' : [RandomForestClassifier()],\n",
    "               'classifier__n_estimators' : list(range(10,101,10)),\n",
    "               'classifier__max_features' : list(range(6,32,5))}]"
   ]
  },
  {
   "cell_type": "code",
   "execution_count": 54,
   "metadata": {},
   "outputs": [],
   "source": [
    "# function to perform exhaustive cross validation and \n",
    "# identify the best model based on 'log_loss'\n",
    "def get_cross_validated_model(model, param_grid, X, y, nr_folds=5):\n",
    "    \"\"\" Trains a model by doing a grid search combined with cross validation.\n",
    "    args:\n",
    "        model: your model\n",
    "        param_grid: dict of parameter values for the grid search\n",
    "    returns:\n",
    "        Model trained on entire dataset with hyperparameters chosen from best results in the grid search.\n",
    "    \"\"\"\n",
    "    # train the model (since the evaluation is based on the logloss, we'll use neg_log_loss here)\n",
    "    grid_cv = GridSearchCV(model, param_grid=param_grid, scoring='neg_log_loss', \n",
    "                           cv=nr_folds, n_jobs=-1, verbose=True)\n",
    "    \n",
    "    best_model = grid_cv.fit(X, y)\n",
    "    \n",
    "    # show top models with parameter values\n",
    "    result_df = pd.DataFrame(best_model.cv_results_)\n",
    "    show_columns = ['mean_test_score', 'rank_test_score']\n",
    "    \n",
    "    for col in result_df.columns:\n",
    "        if col.startswith('param_'):\n",
    "            show_columns.append(col)\n",
    "    display(result_df[show_columns].sort_values(by='rank_test_score').head())\n",
    "    return best_model"
   ]
  },
  {
   "cell_type": "code",
   "execution_count": 55,
   "metadata": {},
   "outputs": [],
   "source": [
    "# training_df['lda_features'] and training_df['w2v_features'] don't \n",
    "# have the needed shape and type yet, need to transform every entry\n",
    "X_train_lda = np.array(list(map(np.array, training_df.lda_features)))\n",
    "X_train_w2v = np.array(list(map(np.array, training_df.w2v_features)))\n",
    "X_train_combined = np.append(X_train_lda, X_train_w2v, axis=1)"
   ]
  },
  {
   "cell_type": "code",
   "execution_count": 56,
   "metadata": {},
   "outputs": [],
   "source": [
    "# store all models in a dictionary\n",
    "models = dict()"
   ]
  },
  {
   "cell_type": "markdown",
   "metadata": {},
   "source": [
    "## Logistic Regression -- because working with log loss which requires predict_proba( )"
   ]
  },
  {
   "cell_type": "code",
   "execution_count": 57,
   "metadata": {},
   "outputs": [],
   "source": [
    "## commented out because the model does not perform well enough\n",
    "\n",
    "# # get best lda model\n",
    "# best_lda = get_cross_validated_model(pipe, param_grid, X_train_lda, training_df.category_id)\n",
    "\n",
    "# #models['best_lr_lda'] = best_lr_lda\n",
    "# models['best_lda'] = best_lda"
   ]
  },
  {
   "cell_type": "code",
   "execution_count": 58,
   "metadata": {
    "scrolled": false
   },
   "outputs": [
    {
     "name": "stdout",
     "output_type": "stream",
     "text": [
      "Fitting 5 folds for each of 100 candidates, totalling 500 fits\n"
     ]
    },
    {
     "name": "stderr",
     "output_type": "stream",
     "text": [
      "[Parallel(n_jobs=-1)]: Using backend LokyBackend with 4 concurrent workers.\n",
      "[Parallel(n_jobs=-1)]: Done 250 tasks      | elapsed:  1.4min\n",
      "[Parallel(n_jobs=-1)]: Done 500 out of 500 | elapsed:  6.2min finished\n",
      "/home/clutch/anaconda3/envs/insight/lib/python3.7/site-packages/sklearn/model_selection/_search.py:813: DeprecationWarning: The default of the `iid` parameter will change from True to False in version 0.22 and will be removed in 0.24. This will change numeric results when test-set sizes are unequal.\n",
      "  DeprecationWarning)\n",
      "/home/clutch/anaconda3/envs/insight/lib/python3.7/site-packages/sklearn/linear_model/logistic.py:432: FutureWarning: Default solver will be changed to 'lbfgs' in 0.22. Specify a solver to silence this warning.\n",
      "  FutureWarning)\n",
      "/home/clutch/anaconda3/envs/insight/lib/python3.7/site-packages/sklearn/linear_model/logistic.py:469: FutureWarning: Default multi_class will be changed to 'auto' in 0.22. Specify the multi_class option to silence this warning.\n",
      "  \"this warning.\", FutureWarning)\n"
     ]
    },
    {
     "data": {
      "text/html": [
       "<div>\n",
       "<style scoped>\n",
       "    .dataframe tbody tr th:only-of-type {\n",
       "        vertical-align: middle;\n",
       "    }\n",
       "\n",
       "    .dataframe tbody tr th {\n",
       "        vertical-align: top;\n",
       "    }\n",
       "\n",
       "    .dataframe thead th {\n",
       "        text-align: right;\n",
       "    }\n",
       "</style>\n",
       "<table border=\"1\" class=\"dataframe\">\n",
       "  <thead>\n",
       "    <tr style=\"text-align: right;\">\n",
       "      <th></th>\n",
       "      <th>mean_test_score</th>\n",
       "      <th>rank_test_score</th>\n",
       "      <th>param_classifier</th>\n",
       "      <th>param_classifier__C</th>\n",
       "      <th>param_classifier__penalty</th>\n",
       "      <th>param_classifier__max_features</th>\n",
       "      <th>param_classifier__n_estimators</th>\n",
       "    </tr>\n",
       "  </thead>\n",
       "  <tbody>\n",
       "    <tr>\n",
       "      <th>32</th>\n",
       "      <td>-0.589491</td>\n",
       "      <td>1</td>\n",
       "      <td>LogisticRegression(C=545.5594781168514, class_...</td>\n",
       "      <td>545.559</td>\n",
       "      <td>l1</td>\n",
       "      <td>NaN</td>\n",
       "      <td>NaN</td>\n",
       "    </tr>\n",
       "    <tr>\n",
       "      <th>34</th>\n",
       "      <td>-0.638922</td>\n",
       "      <td>2</td>\n",
       "      <td>LogisticRegression(C=545.5594781168514, class_...</td>\n",
       "      <td>1438.45</td>\n",
       "      <td>l1</td>\n",
       "      <td>NaN</td>\n",
       "      <td>NaN</td>\n",
       "    </tr>\n",
       "    <tr>\n",
       "      <th>30</th>\n",
       "      <td>-0.642721</td>\n",
       "      <td>3</td>\n",
       "      <td>LogisticRegression(C=545.5594781168514, class_...</td>\n",
       "      <td>206.914</td>\n",
       "      <td>l1</td>\n",
       "      <td>NaN</td>\n",
       "      <td>NaN</td>\n",
       "    </tr>\n",
       "    <tr>\n",
       "      <th>39</th>\n",
       "      <td>-0.706973</td>\n",
       "      <td>4</td>\n",
       "      <td>LogisticRegression(C=545.5594781168514, class_...</td>\n",
       "      <td>10000</td>\n",
       "      <td>l2</td>\n",
       "      <td>NaN</td>\n",
       "      <td>NaN</td>\n",
       "    </tr>\n",
       "    <tr>\n",
       "      <th>36</th>\n",
       "      <td>-0.759461</td>\n",
       "      <td>5</td>\n",
       "      <td>LogisticRegression(C=545.5594781168514, class_...</td>\n",
       "      <td>3792.69</td>\n",
       "      <td>l1</td>\n",
       "      <td>NaN</td>\n",
       "      <td>NaN</td>\n",
       "    </tr>\n",
       "  </tbody>\n",
       "</table>\n",
       "</div>"
      ],
      "text/plain": [
       "    mean_test_score  rank_test_score  \\\n",
       "32        -0.589491                1   \n",
       "34        -0.638922                2   \n",
       "30        -0.642721                3   \n",
       "39        -0.706973                4   \n",
       "36        -0.759461                5   \n",
       "\n",
       "                                     param_classifier param_classifier__C  \\\n",
       "32  LogisticRegression(C=545.5594781168514, class_...             545.559   \n",
       "34  LogisticRegression(C=545.5594781168514, class_...             1438.45   \n",
       "30  LogisticRegression(C=545.5594781168514, class_...             206.914   \n",
       "39  LogisticRegression(C=545.5594781168514, class_...               10000   \n",
       "36  LogisticRegression(C=545.5594781168514, class_...             3792.69   \n",
       "\n",
       "   param_classifier__penalty param_classifier__max_features  \\\n",
       "32                        l1                            NaN   \n",
       "34                        l1                            NaN   \n",
       "30                        l1                            NaN   \n",
       "39                        l2                            NaN   \n",
       "36                        l1                            NaN   \n",
       "\n",
       "   param_classifier__n_estimators  \n",
       "32                            NaN  \n",
       "34                            NaN  \n",
       "30                            NaN  \n",
       "39                            NaN  \n",
       "36                            NaN  "
      ]
     },
     "metadata": {},
     "output_type": "display_data"
    }
   ],
   "source": [
    "## model with best classification performance\n",
    "\n",
    "# get best w2v model\n",
    "best_w2v = get_cross_validated_model(pipe, param_grid, X_train_w2v, training_df.category_id)\n",
    "\n",
    "#models['best_lr_w2v'] = best_lr_w2v\n",
    "models['best_w2v'] = best_w2v"
   ]
  },
  {
   "cell_type": "code",
   "execution_count": 59,
   "metadata": {},
   "outputs": [],
   "source": [
    "## commented out because the model does not perform well enough\n",
    "\n",
    "# # get best lda and w2v models combined\n",
    "# best_combined = get_cross_validated_model(pipe, param_grid, X_train_combined, training_df.category_id)\n",
    "\n",
    "# #models['best_lr_combined'] = best_lr_combined\n",
    "# models['best_combined'] = best_combined"
   ]
  },
  {
   "cell_type": "code",
   "execution_count": 60,
   "metadata": {},
   "outputs": [
    {
     "name": "stdout",
     "output_type": "stream",
     "text": [
      "Model best_w2v has a test score of: -0.5895\n"
     ]
    }
   ],
   "source": [
    "# output each models best score\n",
    "for name, model in models.items():\n",
    "    print(\"Model {} has a test score of: {:0.4f}\".format(name, float(model.best_score_)))"
   ]
  },
  {
   "cell_type": "markdown",
   "metadata": {},
   "source": [
    "## Save best models"
   ]
  },
  {
   "cell_type": "code",
   "execution_count": 130,
   "metadata": {},
   "outputs": [],
   "source": [
    "# save the model to disk\n",
    "#lda_file = 'models/best_lda_model.pkl'\n",
    "w2v_file = 'models/best_w2v_model.pkl'\n",
    "#combined_file = 'models/best_combined_model.sav'"
   ]
  },
  {
   "cell_type": "code",
   "execution_count": 131,
   "metadata": {},
   "outputs": [],
   "source": [
    "#pickle.dump(models['best_lda'], open(lda_file, 'wb'))\n",
    "pickle.dump(best_w2v, open(w2v_file, 'wb'))\n",
    "#pickle.dump(models['best_combined'], open(combined_file, 'wb'))"
   ]
  },
  {
   "cell_type": "markdown",
   "metadata": {},
   "source": [
    "----------------------\n",
    "# Test Unseen Dataset and Validate Results\n",
    "\n",
    "### Create new Dataframe of unseen data to Test model"
   ]
  },
  {
   "cell_type": "code",
   "execution_count": 63,
   "metadata": {},
   "outputs": [
    {
     "name": "stderr",
     "output_type": "stream",
     "text": [
      "/home/clutch/anaconda3/envs/insight/lib/python3.7/site-packages/ipykernel_launcher.py:2: SettingWithCopyWarning: \n",
      "A value is trying to be set on a copy of a slice from a DataFrame.\n",
      "Try using .loc[row_indexer,col_indexer] = value instead\n",
      "\n",
      "See the caveats in the documentation: http://pandas.pydata.org/pandas-docs/stable/indexing.html#indexing-view-versus-copy\n",
      "  \n",
      "/home/clutch/anaconda3/envs/insight/lib/python3.7/site-packages/ipykernel_launcher.py:3: SettingWithCopyWarning: \n",
      "A value is trying to be set on a copy of a slice from a DataFrame.\n",
      "Try using .loc[row_indexer,col_indexer] = value instead\n",
      "\n",
      "See the caveats in the documentation: http://pandas.pydata.org/pandas-docs/stable/indexing.html#indexing-view-versus-copy\n",
      "  This is separate from the ipykernel package so we can avoid doing imports until\n",
      "/home/clutch/anaconda3/envs/insight/lib/python3.7/site-packages/ipykernel_launcher.py:4: SettingWithCopyWarning: \n",
      "A value is trying to be set on a copy of a slice from a DataFrame.\n",
      "Try using .loc[row_indexer,col_indexer] = value instead\n",
      "\n",
      "See the caveats in the documentation: http://pandas.pydata.org/pandas-docs/stable/indexing.html#indexing-view-versus-copy\n",
      "  after removing the cwd from sys.path.\n",
      "/home/clutch/anaconda3/envs/insight/lib/python3.7/site-packages/ipykernel_launcher.py:13: SettingWithCopyWarning: \n",
      "A value is trying to be set on a copy of a slice from a DataFrame.\n",
      "Try using .loc[row_indexer,col_indexer] = value instead\n",
      "\n",
      "See the caveats in the documentation: http://pandas.pydata.org/pandas-docs/stable/indexing.html#indexing-view-versus-copy\n",
      "  del sys.path[0]\n",
      "/home/clutch/anaconda3/envs/insight/lib/python3.7/site-packages/ipykernel_launcher.py:6: SettingWithCopyWarning: \n",
      "A value is trying to be set on a copy of a slice from a DataFrame.\n",
      "Try using .loc[row_indexer,col_indexer] = value instead\n",
      "\n",
      "See the caveats in the documentation: http://pandas.pydata.org/pandas-docs/stable/indexing.html#indexing-view-versus-copy\n",
      "  \n",
      "/home/clutch/anaconda3/envs/insight/lib/python3.7/site-packages/ipykernel_launcher.py:11: SettingWithCopyWarning: \n",
      "A value is trying to be set on a copy of a slice from a DataFrame.\n",
      "Try using .loc[row_indexer,col_indexer] = value instead\n",
      "\n",
      "See the caveats in the documentation: http://pandas.pydata.org/pandas-docs/stable/indexing.html#indexing-view-versus-copy\n",
      "  # This is added back by InteractiveShellApp.init_path()\n",
      "/home/clutch/anaconda3/envs/insight/lib/python3.7/site-packages/ipykernel_launcher.py:8: SettingWithCopyWarning: \n",
      "A value is trying to be set on a copy of a slice from a DataFrame.\n",
      "Try using .loc[row_indexer,col_indexer] = value instead\n",
      "\n",
      "See the caveats in the documentation: http://pandas.pydata.org/pandas-docs/stable/indexing.html#indexing-view-versus-copy\n",
      "  \n",
      "/home/clutch/anaconda3/envs/insight/lib/python3.7/site-packages/ipykernel_launcher.py:9: SettingWithCopyWarning: \n",
      "A value is trying to be set on a copy of a slice from a DataFrame.\n",
      "Try using .loc[row_indexer,col_indexer] = value instead\n",
      "\n",
      "See the caveats in the documentation: http://pandas.pydata.org/pandas-docs/stable/indexing.html#indexing-view-versus-copy\n",
      "  if __name__ == '__main__':\n",
      "/home/clutch/anaconda3/envs/insight/lib/python3.7/site-packages/ipykernel_launcher.py:12: SettingWithCopyWarning: \n",
      "A value is trying to be set on a copy of a slice from a DataFrame.\n",
      "Try using .loc[row_indexer,col_indexer] = value instead\n",
      "\n",
      "See the caveats in the documentation: http://pandas.pydata.org/pandas-docs/stable/indexing.html#indexing-view-versus-copy\n",
      "  if sys.path[0] == '':\n",
      "/home/clutch/anaconda3/envs/insight/lib/python3.7/site-packages/ipykernel_launcher.py:15: SettingWithCopyWarning: \n",
      "A value is trying to be set on a copy of a slice from a DataFrame.\n",
      "Try using .loc[row_indexer,col_indexer] = value instead\n",
      "\n",
      "See the caveats in the documentation: http://pandas.pydata.org/pandas-docs/stable/indexing.html#indexing-view-versus-copy\n",
      "  from ipykernel import kernelapp as app\n",
      "/home/clutch/anaconda3/envs/insight/lib/python3.7/site-packages/ipykernel_launcher.py:18: SettingWithCopyWarning: \n",
      "A value is trying to be set on a copy of a slice from a DataFrame.\n",
      "Try using .loc[row_indexer,col_indexer] = value instead\n",
      "\n",
      "See the caveats in the documentation: http://pandas.pydata.org/pandas-docs/stable/indexing.html#indexing-view-versus-copy\n"
     ]
    }
   ],
   "source": [
    "# preprocess test data\n",
    "lda_preprocessing(testing_df)\n",
    "w2v_preprocessing(testing_df)"
   ]
  },
  {
   "cell_type": "code",
   "execution_count": 64,
   "metadata": {},
   "outputs": [
    {
     "data": {
      "text/html": [
       "<div>\n",
       "<style scoped>\n",
       "    .dataframe tbody tr th:only-of-type {\n",
       "        vertical-align: middle;\n",
       "    }\n",
       "\n",
       "    .dataframe tbody tr th {\n",
       "        vertical-align: top;\n",
       "    }\n",
       "\n",
       "    .dataframe thead th {\n",
       "        text-align: right;\n",
       "    }\n",
       "</style>\n",
       "<table border=\"1\" class=\"dataframe\">\n",
       "  <thead>\n",
       "    <tr style=\"text-align: right;\">\n",
       "      <th></th>\n",
       "      <th>video_id</th>\n",
       "      <th>title</th>\n",
       "      <th>subtitles</th>\n",
       "      <th>primary_category</th>\n",
       "      <th>text</th>\n",
       "      <th>txt_len</th>\n",
       "      <th>summary</th>\n",
       "      <th>tokenized_text</th>\n",
       "      <th>stopwords_removed</th>\n",
       "      <th>lemmatized_text</th>\n",
       "      <th>stemmed_text</th>\n",
       "      <th>bow</th>\n",
       "      <th>document_sentences</th>\n",
       "      <th>tokenized_sentences</th>\n",
       "    </tr>\n",
       "  </thead>\n",
       "  <tbody>\n",
       "    <tr>\n",
       "      <th>2</th>\n",
       "      <td>0COOF3BwgKI</td>\n",
       "      <td>fix small nail holes in walls fast and make th...</td>\n",
       "      <td>so you like to hang pictures on your wall if y...</td>\n",
       "      <td>drywall_repair</td>\n",
       "      <td>Glad I could help then.  Be sure and subscribe...</td>\n",
       "      <td>8009</td>\n",
       "      <td>We have drywall hanging tools, finishing tools...</td>\n",
       "      <td>[fix, small, nail, holes, in, walls, fast, and...</td>\n",
       "      <td>[fix, small, nail, holes, walls, fast, make, d...</td>\n",
       "      <td>[fix, small, nail, hole, wall, fast, make, dis...</td>\n",
       "      <td>[fix, small, nail, hole, wall, fast, make, dis...</td>\n",
       "      <td>[(0, 1), (1, 1), (2, 1), (3, 1), (4, 1), (5, 1)]</td>\n",
       "      <td>[fix small nail holes in walls fast and make t...</td>\n",
       "      <td>[[fix, small, nail, holes, in, walls, fast, an...</td>\n",
       "    </tr>\n",
       "  </tbody>\n",
       "</table>\n",
       "</div>"
      ],
      "text/plain": [
       "      video_id                                              title  \\\n",
       "2  0COOF3BwgKI  fix small nail holes in walls fast and make th...   \n",
       "\n",
       "                                           subtitles primary_category  \\\n",
       "2  so you like to hang pictures on your wall if y...   drywall_repair   \n",
       "\n",
       "                                                text  txt_len  \\\n",
       "2  Glad I could help then.  Be sure and subscribe...     8009   \n",
       "\n",
       "                                             summary  \\\n",
       "2  We have drywall hanging tools, finishing tools...   \n",
       "\n",
       "                                      tokenized_text  \\\n",
       "2  [fix, small, nail, holes, in, walls, fast, and...   \n",
       "\n",
       "                                   stopwords_removed  \\\n",
       "2  [fix, small, nail, holes, walls, fast, make, d...   \n",
       "\n",
       "                                     lemmatized_text  \\\n",
       "2  [fix, small, nail, hole, wall, fast, make, dis...   \n",
       "\n",
       "                                        stemmed_text  \\\n",
       "2  [fix, small, nail, hole, wall, fast, make, dis...   \n",
       "\n",
       "                                                bow  \\\n",
       "2  [(0, 1), (1, 1), (2, 1), (3, 1), (4, 1), (5, 1)]   \n",
       "\n",
       "                                  document_sentences  \\\n",
       "2  [fix small nail holes in walls fast and make t...   \n",
       "\n",
       "                                 tokenized_sentences  \n",
       "2  [[fix, small, nail, holes, in, walls, fast, an...  "
      ]
     },
     "execution_count": 64,
     "metadata": {},
     "output_type": "execute_result"
    }
   ],
   "source": [
    "testing_df.head(1)"
   ]
  },
  {
   "cell_type": "code",
   "execution_count": 65,
   "metadata": {},
   "outputs": [
    {
     "name": "stderr",
     "output_type": "stream",
     "text": [
      "/home/clutch/anaconda3/envs/insight/lib/python3.7/site-packages/ipykernel_launcher.py:19: DeprecationWarning: Call to deprecated `__getitem__` (Method will be removed in 4.0.0, use self.wv.__getitem__() instead).\n",
      "/home/clutch/anaconda3/envs/insight/lib/python3.7/site-packages/ipykernel_launcher.py:7: SettingWithCopyWarning: \n",
      "A value is trying to be set on a copy of a slice from a DataFrame.\n",
      "Try using .loc[row_indexer,col_indexer] = value instead\n",
      "\n",
      "See the caveats in the documentation: http://pandas.pydata.org/pandas-docs/stable/indexing.html#indexing-view-versus-copy\n",
      "  import sys\n"
     ]
    }
   ],
   "source": [
    "# testing_df['lda_features'] = list(map(lambda doc:\n",
    "#                                      document_to_lda_features(LDAmodel, doc),\n",
    "#                                      testing_df.bow.copy()))\n",
    "\n",
    "testing_df['w2v_features'] = list(map(lambda sen_group:\n",
    "                                     get_w2v_features(W2Vmodel, sen_group),\n",
    "                                     testing_df.tokenized_sentences.copy()))"
   ]
  },
  {
   "cell_type": "code",
   "execution_count": 66,
   "metadata": {},
   "outputs": [
    {
     "data": {
      "text/html": [
       "<div>\n",
       "<style scoped>\n",
       "    .dataframe tbody tr th:only-of-type {\n",
       "        vertical-align: middle;\n",
       "    }\n",
       "\n",
       "    .dataframe tbody tr th {\n",
       "        vertical-align: top;\n",
       "    }\n",
       "\n",
       "    .dataframe thead th {\n",
       "        text-align: right;\n",
       "    }\n",
       "</style>\n",
       "<table border=\"1\" class=\"dataframe\">\n",
       "  <thead>\n",
       "    <tr style=\"text-align: right;\">\n",
       "      <th></th>\n",
       "      <th>video_id</th>\n",
       "      <th>title</th>\n",
       "      <th>subtitles</th>\n",
       "      <th>primary_category</th>\n",
       "      <th>text</th>\n",
       "      <th>txt_len</th>\n",
       "      <th>summary</th>\n",
       "      <th>tokenized_text</th>\n",
       "      <th>stopwords_removed</th>\n",
       "      <th>lemmatized_text</th>\n",
       "      <th>stemmed_text</th>\n",
       "      <th>bow</th>\n",
       "      <th>document_sentences</th>\n",
       "      <th>tokenized_sentences</th>\n",
       "      <th>w2v_features</th>\n",
       "    </tr>\n",
       "  </thead>\n",
       "  <tbody>\n",
       "    <tr>\n",
       "      <th>2</th>\n",
       "      <td>0COOF3BwgKI</td>\n",
       "      <td>fix small nail holes in walls fast and make th...</td>\n",
       "      <td>so you like to hang pictures on your wall if y...</td>\n",
       "      <td>drywall_repair</td>\n",
       "      <td>Glad I could help then.  Be sure and subscribe...</td>\n",
       "      <td>8009</td>\n",
       "      <td>We have drywall hanging tools, finishing tools...</td>\n",
       "      <td>[fix, small, nail, holes, in, walls, fast, and...</td>\n",
       "      <td>[fix, small, nail, holes, walls, fast, make, d...</td>\n",
       "      <td>[fix, small, nail, hole, wall, fast, make, dis...</td>\n",
       "      <td>[fix, small, nail, hole, wall, fast, make, dis...</td>\n",
       "      <td>[(0, 1), (1, 1), (2, 1), (3, 1), (4, 1), (5, 1)]</td>\n",
       "      <td>[fix small nail holes in walls fast and make t...</td>\n",
       "      <td>[[fix, small, nail, holes, in, walls, fast, an...</td>\n",
       "      <td>[-0.09746495, 0.16172683, -0.043777898, 0.1052...</td>\n",
       "    </tr>\n",
       "  </tbody>\n",
       "</table>\n",
       "</div>"
      ],
      "text/plain": [
       "      video_id                                              title  \\\n",
       "2  0COOF3BwgKI  fix small nail holes in walls fast and make th...   \n",
       "\n",
       "                                           subtitles primary_category  \\\n",
       "2  so you like to hang pictures on your wall if y...   drywall_repair   \n",
       "\n",
       "                                                text  txt_len  \\\n",
       "2  Glad I could help then.  Be sure and subscribe...     8009   \n",
       "\n",
       "                                             summary  \\\n",
       "2  We have drywall hanging tools, finishing tools...   \n",
       "\n",
       "                                      tokenized_text  \\\n",
       "2  [fix, small, nail, holes, in, walls, fast, and...   \n",
       "\n",
       "                                   stopwords_removed  \\\n",
       "2  [fix, small, nail, holes, walls, fast, make, d...   \n",
       "\n",
       "                                     lemmatized_text  \\\n",
       "2  [fix, small, nail, hole, wall, fast, make, dis...   \n",
       "\n",
       "                                        stemmed_text  \\\n",
       "2  [fix, small, nail, hole, wall, fast, make, dis...   \n",
       "\n",
       "                                                bow  \\\n",
       "2  [(0, 1), (1, 1), (2, 1), (3, 1), (4, 1), (5, 1)]   \n",
       "\n",
       "                                  document_sentences  \\\n",
       "2  [fix small nail holes in walls fast and make t...   \n",
       "\n",
       "                                 tokenized_sentences  \\\n",
       "2  [[fix, small, nail, holes, in, walls, fast, an...   \n",
       "\n",
       "                                        w2v_features  \n",
       "2  [-0.09746495, 0.16172683, -0.043777898, 0.1052...  "
      ]
     },
     "execution_count": 66,
     "metadata": {},
     "output_type": "execute_result"
    }
   ],
   "source": [
    "testing_df.head(1)"
   ]
  },
  {
   "cell_type": "code",
   "execution_count": 67,
   "metadata": {},
   "outputs": [],
   "source": [
    "testing_df.reset_index(inplace=True, drop=True)"
   ]
  },
  {
   "cell_type": "code",
   "execution_count": 68,
   "metadata": {},
   "outputs": [
    {
     "data": {
      "text/html": [
       "<div>\n",
       "<style scoped>\n",
       "    .dataframe tbody tr th:only-of-type {\n",
       "        vertical-align: middle;\n",
       "    }\n",
       "\n",
       "    .dataframe tbody tr th {\n",
       "        vertical-align: top;\n",
       "    }\n",
       "\n",
       "    .dataframe thead th {\n",
       "        text-align: right;\n",
       "    }\n",
       "</style>\n",
       "<table border=\"1\" class=\"dataframe\">\n",
       "  <thead>\n",
       "    <tr style=\"text-align: right;\">\n",
       "      <th></th>\n",
       "      <th>video_id</th>\n",
       "      <th>primary_category</th>\n",
       "      <th>w2v_features</th>\n",
       "    </tr>\n",
       "  </thead>\n",
       "  <tbody>\n",
       "    <tr>\n",
       "      <th>0</th>\n",
       "      <td>0COOF3BwgKI</td>\n",
       "      <td>drywall_repair</td>\n",
       "      <td>[-0.09746495, 0.16172683, -0.043777898, 0.1052...</td>\n",
       "    </tr>\n",
       "    <tr>\n",
       "      <th>1</th>\n",
       "      <td>0UtTMhzCpZc</td>\n",
       "      <td>drywall_repair</td>\n",
       "      <td>[-0.093365714, 0.15454245, -0.041482326, 0.100...</td>\n",
       "    </tr>\n",
       "    <tr>\n",
       "      <th>2</th>\n",
       "      <td>0jhqbnM-5XQ</td>\n",
       "      <td>build_deck</td>\n",
       "      <td>[-0.102106944, 0.16907229, -0.045594733, 0.109...</td>\n",
       "    </tr>\n",
       "    <tr>\n",
       "      <th>3</th>\n",
       "      <td>1D4oA-dkwGc</td>\n",
       "      <td>drywall_repair</td>\n",
       "      <td>[-0.103342, 0.17099173, -0.04561319, 0.1122839...</td>\n",
       "    </tr>\n",
       "    <tr>\n",
       "      <th>4</th>\n",
       "      <td>1IJk16_KSfs</td>\n",
       "      <td>repair_wood_fence</td>\n",
       "      <td>[-0.11609205, 0.1899097, -0.050498206, 0.12393...</td>\n",
       "    </tr>\n",
       "  </tbody>\n",
       "</table>\n",
       "</div>"
      ],
      "text/plain": [
       "      video_id   primary_category  \\\n",
       "0  0COOF3BwgKI     drywall_repair   \n",
       "1  0UtTMhzCpZc     drywall_repair   \n",
       "2  0jhqbnM-5XQ         build_deck   \n",
       "3  1D4oA-dkwGc     drywall_repair   \n",
       "4  1IJk16_KSfs  repair_wood_fence   \n",
       "\n",
       "                                        w2v_features  \n",
       "0  [-0.09746495, 0.16172683, -0.043777898, 0.1052...  \n",
       "1  [-0.093365714, 0.15454245, -0.041482326, 0.100...  \n",
       "2  [-0.102106944, 0.16907229, -0.045594733, 0.109...  \n",
       "3  [-0.103342, 0.17099173, -0.04561319, 0.1122839...  \n",
       "4  [-0.11609205, 0.1899097, -0.050498206, 0.12393...  "
      ]
     },
     "execution_count": 68,
     "metadata": {},
     "output_type": "execute_result"
    }
   ],
   "source": [
    "testing_df[['video_id','primary_category','w2v_features']].head()"
   ]
  },
  {
   "cell_type": "code",
   "execution_count": 69,
   "metadata": {},
   "outputs": [],
   "source": [
    "for feat in testing_df[testing_df.index == 256]['w2v_features']:\n",
    "    #print(feat)\n",
    "    continue"
   ]
  },
  {
   "cell_type": "code",
   "execution_count": 70,
   "metadata": {},
   "outputs": [],
   "source": [
    "t_test = list(map(np.array, testing_df['w2v_features']))"
   ]
  },
  {
   "cell_type": "code",
   "execution_count": 71,
   "metadata": {},
   "outputs": [
    {
     "data": {
      "text/plain": [
       "array([[-0.09746495,  0.16172683, -0.0437779 , ..., -0.06190474,\n",
       "        -0.0883598 ,  0.11365314],\n",
       "       [-0.09336571,  0.15454245, -0.04148233, ..., -0.05876836,\n",
       "        -0.08473346,  0.10899695],\n",
       "       [-0.10210694,  0.16907229, -0.04559473, ..., -0.06447183,\n",
       "        -0.09235282,  0.11916456],\n",
       "       ...,\n",
       "       [-0.10783836,  0.17909724, -0.04886088, ..., -0.06926811,\n",
       "        -0.09809145,  0.12600648],\n",
       "       [-0.11194152,  0.1865675 , -0.05010909, ..., -0.07046714,\n",
       "        -0.10094476,  0.12978655],\n",
       "       [-0.12928973,  0.21578667, -0.05813219, ..., -0.08234505,\n",
       "        -0.11778636,  0.15269205]], dtype=float32)"
      ]
     },
     "execution_count": 71,
     "metadata": {},
     "output_type": "execute_result"
    }
   ],
   "source": [
    "np.array(t_test)"
   ]
  },
  {
   "cell_type": "code",
   "execution_count": 72,
   "metadata": {},
   "outputs": [],
   "source": [
    "# training_df['lda_features'] and training_df['w2v_features'] don't \n",
    "# have the needed shape and type yet, need to transform every entry\n",
    "#X_test_lda = np.array(list(map(np.array, test_data.lda_features)))\n",
    "X_test_w2v = np.array(list(map(np.array, testing_df.w2v_features)))\n",
    "#X_test_combined = np.append(X_test_lda, X_test_w2v, axis=1)"
   ]
  },
  {
   "cell_type": "code",
   "execution_count": 73,
   "metadata": {},
   "outputs": [
    {
     "data": {
      "text/plain": [
       "-0.09746495"
      ]
     },
     "execution_count": 73,
     "metadata": {},
     "output_type": "execute_result"
    }
   ],
   "source": [
    "testing_df.w2v_features[0][0]"
   ]
  },
  {
   "cell_type": "code",
   "execution_count": 128,
   "metadata": {},
   "outputs": [
    {
     "data": {
      "text/plain": [
       "array([[-0.09746495,  0.16172683, -0.0437779 , ..., -0.06190474,\n",
       "        -0.0883598 ,  0.11365314],\n",
       "       [-0.09336571,  0.15454245, -0.04148233, ..., -0.05876836,\n",
       "        -0.08473346,  0.10899695],\n",
       "       [-0.10210694,  0.16907229, -0.04559473, ..., -0.06447183,\n",
       "        -0.09235282,  0.11916456],\n",
       "       ...,\n",
       "       [-0.10783836,  0.17909724, -0.04886088, ..., -0.06926811,\n",
       "        -0.09809145,  0.12600648],\n",
       "       [-0.11194152,  0.1865675 , -0.05010909, ..., -0.07046714,\n",
       "        -0.10094476,  0.12978655],\n",
       "       [-0.12928973,  0.21578667, -0.05813219, ..., -0.08234505,\n",
       "        -0.11778636,  0.15269205]], dtype=float32)"
      ]
     },
     "execution_count": 128,
     "metadata": {},
     "output_type": "execute_result"
    }
   ],
   "source": [
    "X_test_w2v"
   ]
  },
  {
   "cell_type": "code",
   "execution_count": 75,
   "metadata": {},
   "outputs": [
    {
     "name": "stderr",
     "output_type": "stream",
     "text": [
      "/home/clutch/anaconda3/envs/insight/lib/python3.7/site-packages/ipykernel_launcher.py:1: SettingWithCopyWarning: \n",
      "A value is trying to be set on a copy of a slice from a DataFrame.\n",
      "Try using .loc[row_indexer,col_indexer] = value instead\n",
      "\n",
      "See the caveats in the documentation: http://pandas.pydata.org/pandas-docs/stable/indexing.html#indexing-view-versus-copy\n",
      "  \"\"\"Entry point for launching an IPython kernel.\n"
     ]
    }
   ],
   "source": [
    "testing_df['category_id'] = label_encoder.transform(testing_df.primary_category.copy())\n",
    "#testing_df.head(3)"
   ]
  },
  {
   "cell_type": "code",
   "execution_count": 76,
   "metadata": {},
   "outputs": [
    {
     "data": {
      "text/html": [
       "<div>\n",
       "<style scoped>\n",
       "    .dataframe tbody tr th:only-of-type {\n",
       "        vertical-align: middle;\n",
       "    }\n",
       "\n",
       "    .dataframe tbody tr th {\n",
       "        vertical-align: top;\n",
       "    }\n",
       "\n",
       "    .dataframe thead th {\n",
       "        text-align: right;\n",
       "    }\n",
       "</style>\n",
       "<table border=\"1\" class=\"dataframe\">\n",
       "  <thead>\n",
       "    <tr style=\"text-align: right;\">\n",
       "      <th></th>\n",
       "      <th>video_id</th>\n",
       "      <th>title</th>\n",
       "      <th>subtitles</th>\n",
       "      <th>primary_category</th>\n",
       "      <th>text</th>\n",
       "      <th>txt_len</th>\n",
       "      <th>summary</th>\n",
       "      <th>tokenized_text</th>\n",
       "      <th>stopwords_removed</th>\n",
       "      <th>lemmatized_text</th>\n",
       "      <th>stemmed_text</th>\n",
       "      <th>bow</th>\n",
       "      <th>document_sentences</th>\n",
       "      <th>tokenized_sentences</th>\n",
       "      <th>w2v_features</th>\n",
       "      <th>category_id</th>\n",
       "    </tr>\n",
       "  </thead>\n",
       "  <tbody>\n",
       "    <tr>\n",
       "      <th>0</th>\n",
       "      <td>0COOF3BwgKI</td>\n",
       "      <td>fix small nail holes in walls fast and make th...</td>\n",
       "      <td>so you like to hang pictures on your wall if y...</td>\n",
       "      <td>drywall_repair</td>\n",
       "      <td>Glad I could help then.  Be sure and subscribe...</td>\n",
       "      <td>8009</td>\n",
       "      <td>We have drywall hanging tools, finishing tools...</td>\n",
       "      <td>[fix, small, nail, holes, in, walls, fast, and...</td>\n",
       "      <td>[fix, small, nail, holes, walls, fast, make, d...</td>\n",
       "      <td>[fix, small, nail, hole, wall, fast, make, dis...</td>\n",
       "      <td>[fix, small, nail, hole, wall, fast, make, dis...</td>\n",
       "      <td>[(0, 1), (1, 1), (2, 1), (3, 1), (4, 1), (5, 1)]</td>\n",
       "      <td>[fix small nail holes in walls fast and make t...</td>\n",
       "      <td>[[fix, small, nail, holes, in, walls, fast, an...</td>\n",
       "      <td>[-0.09746495, 0.16172683, -0.043777898, 0.1052...</td>\n",
       "      <td>2</td>\n",
       "    </tr>\n",
       "  </tbody>\n",
       "</table>\n",
       "</div>"
      ],
      "text/plain": [
       "      video_id                                              title  \\\n",
       "0  0COOF3BwgKI  fix small nail holes in walls fast and make th...   \n",
       "\n",
       "                                           subtitles primary_category  \\\n",
       "0  so you like to hang pictures on your wall if y...   drywall_repair   \n",
       "\n",
       "                                                text  txt_len  \\\n",
       "0  Glad I could help then.  Be sure and subscribe...     8009   \n",
       "\n",
       "                                             summary  \\\n",
       "0  We have drywall hanging tools, finishing tools...   \n",
       "\n",
       "                                      tokenized_text  \\\n",
       "0  [fix, small, nail, holes, in, walls, fast, and...   \n",
       "\n",
       "                                   stopwords_removed  \\\n",
       "0  [fix, small, nail, holes, walls, fast, make, d...   \n",
       "\n",
       "                                     lemmatized_text  \\\n",
       "0  [fix, small, nail, hole, wall, fast, make, dis...   \n",
       "\n",
       "                                        stemmed_text  \\\n",
       "0  [fix, small, nail, hole, wall, fast, make, dis...   \n",
       "\n",
       "                                                bow  \\\n",
       "0  [(0, 1), (1, 1), (2, 1), (3, 1), (4, 1), (5, 1)]   \n",
       "\n",
       "                                  document_sentences  \\\n",
       "0  [fix small nail holes in walls fast and make t...   \n",
       "\n",
       "                                 tokenized_sentences  \\\n",
       "0  [[fix, small, nail, holes, in, walls, fast, an...   \n",
       "\n",
       "                                        w2v_features  category_id  \n",
       "0  [-0.09746495, 0.16172683, -0.043777898, 0.1052...            2  "
      ]
     },
     "execution_count": 76,
     "metadata": {},
     "output_type": "execute_result"
    }
   ],
   "source": [
    "testing_df.head(1)"
   ]
  },
  {
   "cell_type": "code",
   "execution_count": 77,
   "metadata": {},
   "outputs": [
    {
     "data": {
      "text/plain": [
       "array(['build_deck', 'carpet_flooring', 'drywall_repair',\n",
       "       'laminate_flooring', 'repair_wood_fence'], dtype=object)"
      ]
     },
     "execution_count": 77,
     "metadata": {},
     "output_type": "execute_result"
    }
   ],
   "source": [
    "label_encoder.classes_"
   ]
  },
  {
   "cell_type": "code",
   "execution_count": 78,
   "metadata": {},
   "outputs": [],
   "source": [
    "#best_lda.predict_proba(X_test_lda)"
   ]
  },
  {
   "cell_type": "code",
   "execution_count": 79,
   "metadata": {},
   "outputs": [],
   "source": [
    "predictions = best_w2v.predict_proba(X_test_w2v)"
   ]
  },
  {
   "cell_type": "code",
   "execution_count": 80,
   "metadata": {},
   "outputs": [
    {
     "data": {
      "text/plain": [
       "array([[1.23402149e-02, 1.13719655e-02, 8.52034690e-01, 1.01420612e-02,\n",
       "        1.14111068e-01],\n",
       "       [1.06173340e-02, 5.29113779e-02, 8.39732583e-01, 8.70243103e-02,\n",
       "        9.71439453e-03],\n",
       "       [2.12639392e-01, 2.52419594e-02, 2.88655053e-01, 2.91061829e-02,\n",
       "        4.44357413e-01],\n",
       "       ...,\n",
       "       [6.38139047e-03, 5.70227458e-01, 3.48986061e-01, 3.31437374e-02,\n",
       "        4.12613533e-02],\n",
       "       [1.53399994e-02, 3.11856698e-01, 3.12803139e-02, 2.16096735e-02,\n",
       "        6.19913315e-01],\n",
       "       [6.82549478e-04, 6.24478618e-03, 1.48163200e-02, 9.70467876e-01,\n",
       "        7.78846791e-03]])"
      ]
     },
     "execution_count": 80,
     "metadata": {},
     "output_type": "execute_result"
    }
   ],
   "source": [
    "predictions"
   ]
  },
  {
   "cell_type": "code",
   "execution_count": 81,
   "metadata": {},
   "outputs": [],
   "source": [
    "idx = testing_df.index[testing_df['video_id'] == '0jhqbnM-5XQ'].tolist()"
   ]
  },
  {
   "cell_type": "code",
   "execution_count": 82,
   "metadata": {},
   "outputs": [
    {
     "data": {
      "text/plain": [
       "array([[0.21263939, 0.02524196, 0.28865505, 0.02910618, 0.44435741]])"
      ]
     },
     "execution_count": 82,
     "metadata": {},
     "output_type": "execute_result"
    }
   ],
   "source": [
    "predictions[idx]"
   ]
  },
  {
   "cell_type": "code",
   "execution_count": null,
   "metadata": {},
   "outputs": [],
   "source": [
    "#best_combined.predict_proba(X_test_combined)"
   ]
  },
  {
   "cell_type": "code",
   "execution_count": null,
   "metadata": {},
   "outputs": [],
   "source": []
  },
  {
   "cell_type": "code",
   "execution_count": 99,
   "metadata": {},
   "outputs": [],
   "source": [
    "deck = testing_df[testing_df.primary_category=='build_deck'].copy()\n",
    "laminate = testing_df[testing_df.primary_category=='laminate_flooring'].copy()\n",
    "fence = testing_df[testing_df.primary_category=='repair_wood_fence'].copy()"
   ]
  },
  {
   "cell_type": "code",
   "execution_count": 100,
   "metadata": {},
   "outputs": [],
   "source": [
    "import random\n",
    "from datetime import datetime\n",
    "sample_deck = deck.sample(n=1, replace=False, random_state=random.seed(datetime.now()))\n",
    "sample_laminate = laminate.sample(n=1, replace=False, random_state=random.seed(datetime.now()))\n",
    "sample_fence = fence.sample(n=1, replace=False, random_state=random.seed(datetime.now()))"
   ]
  },
  {
   "cell_type": "code",
   "execution_count": 101,
   "metadata": {},
   "outputs": [],
   "source": [
    "new_df = pd.concat([sample_deck, sample_laminate, sample_fence], ignore_index=True)\n",
    "new_df.reset_index(inplace=True, drop=True)"
   ]
  },
  {
   "cell_type": "code",
   "execution_count": 102,
   "metadata": {},
   "outputs": [
    {
     "data": {
      "text/plain": [
       "LabelEncoder()"
      ]
     },
     "execution_count": 102,
     "metadata": {},
     "output_type": "execute_result"
    }
   ],
   "source": [
    "label_encoder = LabelEncoder()\n",
    "label_encoder.fit(new_df.primary_category)"
   ]
  },
  {
   "cell_type": "code",
   "execution_count": 103,
   "metadata": {},
   "outputs": [
    {
     "data": {
      "text/plain": [
       "array(['build_deck', 'laminate_flooring', 'repair_wood_fence'],\n",
       "      dtype=object)"
      ]
     },
     "execution_count": 103,
     "metadata": {},
     "output_type": "execute_result"
    }
   ],
   "source": [
    "label_encoder.classes_"
   ]
  },
  {
   "cell_type": "code",
   "execution_count": 104,
   "metadata": {},
   "outputs": [],
   "source": [
    "X_test_sample_w2v = np.array(list(map(np.array, new_df.w2v_features)))"
   ]
  },
  {
   "cell_type": "code",
   "execution_count": 105,
   "metadata": {},
   "outputs": [],
   "source": [
    "new_df['category_id'] = label_encoder.transform(new_df.primary_category.copy())"
   ]
  },
  {
   "cell_type": "code",
   "execution_count": 106,
   "metadata": {},
   "outputs": [
    {
     "data": {
      "text/html": [
       "<div>\n",
       "<style scoped>\n",
       "    .dataframe tbody tr th:only-of-type {\n",
       "        vertical-align: middle;\n",
       "    }\n",
       "\n",
       "    .dataframe tbody tr th {\n",
       "        vertical-align: top;\n",
       "    }\n",
       "\n",
       "    .dataframe thead th {\n",
       "        text-align: right;\n",
       "    }\n",
       "</style>\n",
       "<table border=\"1\" class=\"dataframe\">\n",
       "  <thead>\n",
       "    <tr style=\"text-align: right;\">\n",
       "      <th></th>\n",
       "      <th>video_id</th>\n",
       "      <th>title</th>\n",
       "      <th>subtitles</th>\n",
       "      <th>primary_category</th>\n",
       "      <th>text</th>\n",
       "      <th>txt_len</th>\n",
       "      <th>summary</th>\n",
       "      <th>tokenized_text</th>\n",
       "      <th>stopwords_removed</th>\n",
       "      <th>lemmatized_text</th>\n",
       "      <th>stemmed_text</th>\n",
       "      <th>bow</th>\n",
       "      <th>document_sentences</th>\n",
       "      <th>tokenized_sentences</th>\n",
       "      <th>w2v_features</th>\n",
       "      <th>category_id</th>\n",
       "    </tr>\n",
       "  </thead>\n",
       "  <tbody>\n",
       "    <tr>\n",
       "      <th>0</th>\n",
       "      <td>u910hpUiDGA</td>\n",
       "      <td>basic deck building explained in less than thr...</td>\n",
       "      <td>this is a suggested video someone requested it...</td>\n",
       "      <td>build_deck</td>\n",
       "      <td>Personally, I would put a row of staggered blo...</td>\n",
       "      <td>2723</td>\n",
       "      <td>Fantastic, superb and brilliant., awesome, gla...</td>\n",
       "      <td>[basic, deck, building, explained, in, less, t...</td>\n",
       "      <td>[basic, deck, building, explained, less, three...</td>\n",
       "      <td>[basic, deck, building, explained, le, three, ...</td>\n",
       "      <td>[basic, deck, build, explain, le, three, minut]</td>\n",
       "      <td>[(48, 1), (49, 1), (118, 1)]</td>\n",
       "      <td>[basic deck building explained in less than th...</td>\n",
       "      <td>[[basic, deck, building, explained, in, less, ...</td>\n",
       "      <td>[-0.10483445, 0.17372563, -0.047862668, 0.1117...</td>\n",
       "      <td>0</td>\n",
       "    </tr>\n",
       "    <tr>\n",
       "      <th>1</th>\n",
       "      <td>pA3NK5sH40k</td>\n",
       "      <td>installing 100% waterproof flooring with nucore</td>\n",
       "      <td>introducing the newest innovation in flooring ...</td>\n",
       "      <td>laminate_flooring</td>\n",
       "      <td>Water is wet, Subscribe for no reason, Thanks!...</td>\n",
       "      <td>18549</td>\n",
       "      <td>Does it have uv protection????????????????????...</td>\n",
       "      <td>[installing, 100, waterproof, flooring, with, ...</td>\n",
       "      <td>[installing, 100, waterproof, flooring, nucore]</td>\n",
       "      <td>[installing, 100, waterproof, flooring, nucore]</td>\n",
       "      <td>[instal, 100, waterproof, floor, nucor]</td>\n",
       "      <td>[(25, 1), (26, 1)]</td>\n",
       "      <td>[installing 100% waterproof flooring with nucore]</td>\n",
       "      <td>[[installing, 100, waterproof, flooring, with,...</td>\n",
       "      <td>[-0.10104628, 0.16907822, -0.04514201, 0.11001...</td>\n",
       "      <td>1</td>\n",
       "    </tr>\n",
       "    <tr>\n",
       "      <th>2</th>\n",
       "      <td>TUtu8nXLVsU</td>\n",
       "      <td>diy project - table saw extension and out feed...</td>\n",
       "      <td>hey everyone today I am building an extension ...</td>\n",
       "      <td>repair_wood_fence</td>\n",
       "      <td>Hi,izzy this idea it's so good thks., izzy swa...</td>\n",
       "      <td>25425</td>\n",
       "      <td>@michael olsen thank you michael same to you a...</td>\n",
       "      <td>[diy, project, table, saw, extension, and, out...</td>\n",
       "      <td>[diy, project, table, saw, extension, feed, ta...</td>\n",
       "      <td>[diy, project, table, saw, extension, feed, ta...</td>\n",
       "      <td>[diy, project, tabl, saw, extens, feed, tabl, ...</td>\n",
       "      <td>[(22, 1), (23, 1), (41, 1), (97, 2), (103, 1)]</td>\n",
       "      <td>[diy project - table saw extension and out fee...</td>\n",
       "      <td>[[diy, project, table, saw, extension, and, ou...</td>\n",
       "      <td>[-0.098934755, 0.16394776, -0.045036014, 0.107...</td>\n",
       "      <td>2</td>\n",
       "    </tr>\n",
       "  </tbody>\n",
       "</table>\n",
       "</div>"
      ],
      "text/plain": [
       "      video_id                                              title  \\\n",
       "0  u910hpUiDGA  basic deck building explained in less than thr...   \n",
       "1  pA3NK5sH40k    installing 100% waterproof flooring with nucore   \n",
       "2  TUtu8nXLVsU  diy project - table saw extension and out feed...   \n",
       "\n",
       "                                           subtitles   primary_category  \\\n",
       "0  this is a suggested video someone requested it...         build_deck   \n",
       "1  introducing the newest innovation in flooring ...  laminate_flooring   \n",
       "2  hey everyone today I am building an extension ...  repair_wood_fence   \n",
       "\n",
       "                                                text  txt_len  \\\n",
       "0  Personally, I would put a row of staggered blo...     2723   \n",
       "1  Water is wet, Subscribe for no reason, Thanks!...    18549   \n",
       "2  Hi,izzy this idea it's so good thks., izzy swa...    25425   \n",
       "\n",
       "                                             summary  \\\n",
       "0  Fantastic, superb and brilliant., awesome, gla...   \n",
       "1  Does it have uv protection????????????????????...   \n",
       "2  @michael olsen thank you michael same to you a...   \n",
       "\n",
       "                                      tokenized_text  \\\n",
       "0  [basic, deck, building, explained, in, less, t...   \n",
       "1  [installing, 100, waterproof, flooring, with, ...   \n",
       "2  [diy, project, table, saw, extension, and, out...   \n",
       "\n",
       "                                   stopwords_removed  \\\n",
       "0  [basic, deck, building, explained, less, three...   \n",
       "1    [installing, 100, waterproof, flooring, nucore]   \n",
       "2  [diy, project, table, saw, extension, feed, ta...   \n",
       "\n",
       "                                     lemmatized_text  \\\n",
       "0  [basic, deck, building, explained, le, three, ...   \n",
       "1    [installing, 100, waterproof, flooring, nucore]   \n",
       "2  [diy, project, table, saw, extension, feed, ta...   \n",
       "\n",
       "                                        stemmed_text  \\\n",
       "0    [basic, deck, build, explain, le, three, minut]   \n",
       "1            [instal, 100, waterproof, floor, nucor]   \n",
       "2  [diy, project, tabl, saw, extens, feed, tabl, ...   \n",
       "\n",
       "                                              bow  \\\n",
       "0                    [(48, 1), (49, 1), (118, 1)]   \n",
       "1                              [(25, 1), (26, 1)]   \n",
       "2  [(22, 1), (23, 1), (41, 1), (97, 2), (103, 1)]   \n",
       "\n",
       "                                  document_sentences  \\\n",
       "0  [basic deck building explained in less than th...   \n",
       "1  [installing 100% waterproof flooring with nucore]   \n",
       "2  [diy project - table saw extension and out fee...   \n",
       "\n",
       "                                 tokenized_sentences  \\\n",
       "0  [[basic, deck, building, explained, in, less, ...   \n",
       "1  [[installing, 100, waterproof, flooring, with,...   \n",
       "2  [[diy, project, table, saw, extension, and, ou...   \n",
       "\n",
       "                                        w2v_features  category_id  \n",
       "0  [-0.10483445, 0.17372563, -0.047862668, 0.1117...            0  \n",
       "1  [-0.10104628, 0.16907822, -0.04514201, 0.11001...            1  \n",
       "2  [-0.098934755, 0.16394776, -0.045036014, 0.107...            2  "
      ]
     },
     "execution_count": 106,
     "metadata": {},
     "output_type": "execute_result"
    }
   ],
   "source": [
    "new_df"
   ]
  },
  {
   "cell_type": "code",
   "execution_count": null,
   "metadata": {},
   "outputs": [],
   "source": []
  },
  {
   "cell_type": "code",
   "execution_count": 111,
   "metadata": {},
   "outputs": [],
   "source": [
    "predictions = best_w2v.predict_proba(X_test_sample_w2v)"
   ]
  },
  {
   "cell_type": "code",
   "execution_count": 112,
   "metadata": {},
   "outputs": [
    {
     "data": {
      "text/plain": [
       "array([[8.97746150e-01, 2.00977149e-02, 4.77766118e-03, 2.06409318e-04,\n",
       "        7.71720650e-02],\n",
       "       [1.22616439e-02, 1.05983772e-01, 4.13989747e-02, 8.39912362e-01,\n",
       "        4.43247131e-04],\n",
       "       [5.14974434e-01, 9.70741603e-02, 3.20480331e-02, 2.65023381e-02,\n",
       "        3.29401035e-01]])"
      ]
     },
     "execution_count": 112,
     "metadata": {},
     "output_type": "execute_result"
    }
   ],
   "source": [
    "predictions"
   ]
  },
  {
   "cell_type": "code",
   "execution_count": null,
   "metadata": {},
   "outputs": [],
   "source": []
  },
  {
   "cell_type": "markdown",
   "metadata": {},
   "source": [
    "## Output Training and Testing Data"
   ]
  },
  {
   "cell_type": "code",
   "execution_count": null,
   "metadata": {},
   "outputs": [],
   "source": [
    "#train_to_pkl_filename = 'data/csv_files/train_data.pkl'\n",
    "#test_to_pkl_filename = 'data/csv_files/test_data.pkl'\n",
    "#training_df.to_pickle(train_to_pkl_filename)\n",
    "#testing_df.to_pickle(test_to_pkl_filename)"
   ]
  },
  {
   "cell_type": "code",
   "execution_count": 129,
   "metadata": {},
   "outputs": [],
   "source": [
    "train_to_csv_filename = 'data/csv_files/train_data.csv'\n",
    "test_to_csv_filename = 'data/csv_files/test_data.csv'\n",
    "training_df.to_csv(train_to_csv_filename, sep=',', index=False)\n",
    "testing_df.to_csv(test_to_csv_filename, sep=',', index=False)"
   ]
  },
  {
   "cell_type": "code",
   "execution_count": null,
   "metadata": {},
   "outputs": [],
   "source": []
  },
  {
   "cell_type": "code",
   "execution_count": null,
   "metadata": {},
   "outputs": [],
   "source": []
  },
  {
   "cell_type": "code",
   "execution_count": null,
   "metadata": {},
   "outputs": [],
   "source": []
  },
  {
   "cell_type": "code",
   "execution_count": 132,
   "metadata": {},
   "outputs": [],
   "source": [
    "df_sample = pd.read_pickle('data/csv_files/test_data.pkl')"
   ]
  },
  {
   "cell_type": "code",
   "execution_count": 138,
   "metadata": {},
   "outputs": [
    {
     "data": {
      "text/plain": [
       "0      fix small nail holes in walls fast and make th...\n",
       "1      large plaster repairs skim coating house painting\n",
       "2            how to make a four season room from a porch\n",
       "3      how to repair drywall damage after baseboards ...\n",
       "4                  foam vs concrete - fence post setting\n",
       "5      diy hawk and trowel techniques for skim coat p...\n",
       "6                   how to install a floating wood floor\n",
       "7      how to carpet van interior panels - diy van ca...\n",
       "8      trafficmaster allure vinyl plank flooring inst...\n",
       "9          how to patch drywall around an electrical box\n",
       "10                   honda accord carpet removal install\n",
       "11         diy jon boat interior boat carpet on a budget\n",
       "12            fastest easiest way to remove a fence post\n",
       "13     how to repair drywall ceiling water damaged dr...\n",
       "14          how to install laminate flooring transitions\n",
       "15     wood fence bracket comparison revolution fence...\n",
       "16               how to attach a ledger board for a deck\n",
       "17               how to build a pergola mitre 10 easy as\n",
       "18     diy drywall repair - how to fix holes and dent...\n",
       "19        how to repair a water damaged ceiling...part 1\n",
       "20          double fence gate with removable center post\n",
       "21                           diy how to set a fence post\n",
       "22     how to repair squeaky floors through carpeting...\n",
       "23          how to easily build and install deck railing\n",
       "24                     cheap easy diy cable deck railing\n",
       "25     venting a dryer - how to properly install a dr...\n",
       "26            how to build a round patio with a fire pit\n",
       "27     maybe you shouldn t seal the bottom of a wood ...\n",
       "28         how to build a 2x4 outdoor sectional tutorial\n",
       "29     laminate flooring repair to fix soft spot for ...\n",
       "                             ...                        \n",
       "278    exterior wood siding painting preparation - ti...\n",
       "279                          diy 60 outdoor dining table\n",
       "280                      adding brick border under fence\n",
       "281    how to install the first rows of laminate or v...\n",
       "282    patching holes in sheet rock fast. drywall pat...\n",
       "283            building a picket fence setting the posts\n",
       "284    diy wall anchor removal and drywall repair tip...\n",
       "285      diy how to remove and install a basement window\n",
       "286               best way to paint and floor a jon boat\n",
       "287    diy how to remove wallpaper part 2 - drywall r...\n",
       "288    diy how to remove wallpaper part 3 - drywall r...\n",
       "289                      how to install chain link fence\n",
       "290       how to build wooden walkway low deck boardwalk\n",
       "291                                 how to erect a fence\n",
       "292                       how to build a wood fence gate\n",
       "293                comparing three drywall patch methods\n",
       "294                             building a house is easy\n",
       "295    how to install hardwood flooring nail down hom...\n",
       "296    diy plaster patching how to patch plaster afte...\n",
       "297             how to install redbrand wire field fence\n",
       "298                  stretching carpet over ceramic tile\n",
       "299            how to install laminate floor on concrete\n",
       "300     how to build a deck - attaching the ledger board\n",
       "301    how to transition wood floors to sliding glass...\n",
       "302    how to repair garage door opener loose chain -...\n",
       "303                          shop tour 2018 diy montreal\n",
       "304                      how to install a laminate floor\n",
       "305    how to install a carpet transition strip - eas...\n",
       "306    using tapcon concrete screws to secure wood to...\n",
       "307    laminate installation- the basics for measurin...\n",
       "Name: title, Length: 308, dtype: object"
      ]
     },
     "execution_count": 138,
     "metadata": {},
     "output_type": "execute_result"
    }
   ],
   "source": [
    "df_sample.title"
   ]
  },
  {
   "cell_type": "code",
   "execution_count": null,
   "metadata": {},
   "outputs": [],
   "source": []
  }
 ],
 "metadata": {
  "kernelspec": {
   "display_name": "Python 3",
   "language": "python",
   "name": "python3"
  },
  "language_info": {
   "codemirror_mode": {
    "name": "ipython",
    "version": 3
   },
   "file_extension": ".py",
   "mimetype": "text/x-python",
   "name": "python",
   "nbconvert_exporter": "python",
   "pygments_lexer": "ipython3",
   "version": "3.7.3"
  }
 },
 "nbformat": 4,
 "nbformat_minor": 2
}
